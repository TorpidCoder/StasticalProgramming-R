{
 "cells": [
  {
   "cell_type": "code",
   "execution_count": 4,
   "metadata": {},
   "outputs": [
    {
     "data": {
      "text/html": [
       "FALSE"
      ],
      "text/latex": [
       "FALSE"
      ],
      "text/markdown": [
       "FALSE"
      ],
      "text/plain": [
       "[1] FALSE"
      ]
     },
     "metadata": {},
     "output_type": "display_data"
    }
   ],
   "source": [
    "#a. Given a variable `x`, write a Boolean expression that evaluates to `TRUE` if the variable `x` is equal to `15743` (the numeric value).\n",
    "\n",
    "x <- 15748\n",
    "if(x==15743){\n",
    "    TRUE\n",
    "}else{\n",
    "    FALSE\n",
    "}"
   ]
  },
  {
   "cell_type": "code",
   "execution_count": 10,
   "metadata": {},
   "outputs": [
    {
     "data": {
      "text/html": [
       "TRUE"
      ],
      "text/latex": [
       "TRUE"
      ],
      "text/markdown": [
       "TRUE"
      ],
      "text/plain": [
       "[1] TRUE"
      ]
     },
     "metadata": {},
     "output_type": "display_data"
    }
   ],
   "source": [
    "#b. Given a variable `x`, write a Boolean expression that evaluates to `TRUE` if the variable `x` is *not* `NA` (i.e., is not missing).[.5 mark]\n",
    "x <- 3\n",
    "if(!is.na(x)){\n",
    "    TRUE\n",
    "}else{\n",
    "    FALSE\n",
    "}"
   ]
  },
  {
   "cell_type": "code",
   "execution_count": 14,
   "metadata": {},
   "outputs": [
    {
     "data": {
      "text/html": [
       "TRUE"
      ],
      "text/latex": [
       "TRUE"
      ],
      "text/markdown": [
       "TRUE"
      ],
      "text/plain": [
       "[1] TRUE"
      ]
     },
     "metadata": {},
     "output_type": "display_data"
    }
   ],
   "source": [
    "#c. Given `x`, write a Boolean expression that returns `TRUE` if and only if `x` is smaller than `-12` or bigger than `29`. [1 mark] \n",
    "\n",
    "x <- 30\n",
    "if(x<(-12)|x>29){\n",
    "    TRUE\n",
    "}else{\n",
    "    FALSE\n",
    "}"
   ]
  },
  {
   "cell_type": "code",
   "execution_count": 21,
   "metadata": {},
   "outputs": [
    {
     "data": {
      "text/html": [
       "TRUE"
      ],
      "text/latex": [
       "TRUE"
      ],
      "text/markdown": [
       "TRUE"
      ],
      "text/plain": [
       "[1] TRUE"
      ]
     },
     "metadata": {},
     "output_type": "display_data"
    }
   ],
   "source": [
    "#d. Given an integer number `x`, write a Boolean expression that returns `TRUE` if and only if `x` is an **odd** number between -8 and 12 (inclusive) or an **even** number between 100 and 150 (exclusive).  [2 marks]\n",
    "odd.seq <- seq(-9,12,2)\n",
    "even.seq <- seq(100,150,2)\n",
    "v <- c(odd.seq,even.seq)\n",
    "x <-(140)\n",
    "is.element(el = x , set = v)"
   ]
  },
  {
   "cell_type": "code",
   "execution_count": 33,
   "metadata": {},
   "outputs": [],
   "source": [
    "#a. Create and output a vector called `v2` which includes the numbers from `7`-`15` where the `odd` numbers each appear `3` times and the `even` numbers each appear `5` times (Note: your code doesn't need to determine which numbers of odd or even, you can do that manually) [1 mark]\n",
    "\n",
    "v1 <- c(7:15)\n",
    "for(values in v1){\n",
    "    if(values%%2==0){\n",
    "        v2 <- append(x = v2 , values = rep(x = values,5))\n",
    "    }else{\n",
    "        v2 <- append(x = v2 , values = rep(x = values ,3))\n",
    "    }\n",
    "}"
   ]
  },
  {
   "cell_type": "code",
   "execution_count": 38,
   "metadata": {},
   "outputs": [
    {
     "data": {
      "text/html": [
       "TRUE"
      ],
      "text/latex": [
       "TRUE"
      ],
      "text/markdown": [
       "TRUE"
      ],
      "text/plain": [
       "[1] TRUE"
      ]
     },
     "metadata": {},
     "output_type": "display_data"
    }
   ],
   "source": [
    "#b. Use an existing function to deterime if `bob` and `alice` have any prefences in common (at least one value is the same). This should return a single boolean value. [1 mark]\n",
    "alice.prefs <- c(\"Twitter\", \"Chrome\", \"Mac\", \"Summer\")\n",
    "bob.prefs <- c(\"Facebook\", \"Chrome\", \"PC\", \"Summer\")\n",
    "\n",
    "any(alice.prefs == bob.prefs)"
   ]
  },
  {
   "cell_type": "code",
   "execution_count": 46,
   "metadata": {},
   "outputs": [
    {
     "data": {
      "text/html": [
       "<ol class=list-inline>\n",
       "\t<li>FALSE</li>\n",
       "\t<li>TRUE</li>\n",
       "\t<li>FALSE</li>\n",
       "\t<li>FALSE</li>\n",
       "\t<li>TRUE</li>\n",
       "\t<li>FALSE</li>\n",
       "\t<li>TRUE</li>\n",
       "\t<li>TRUE</li>\n",
       "\t<li>FALSE</li>\n",
       "</ol>\n"
      ],
      "text/latex": [
       "\\begin{enumerate*}\n",
       "\\item FALSE\n",
       "\\item TRUE\n",
       "\\item FALSE\n",
       "\\item FALSE\n",
       "\\item TRUE\n",
       "\\item FALSE\n",
       "\\item TRUE\n",
       "\\item TRUE\n",
       "\\item FALSE\n",
       "\\end{enumerate*}\n"
      ],
      "text/markdown": [
       "1. FALSE\n",
       "2. TRUE\n",
       "3. FALSE\n",
       "4. FALSE\n",
       "5. TRUE\n",
       "6. FALSE\n",
       "7. TRUE\n",
       "8. TRUE\n",
       "9. FALSE\n",
       "\n",
       "\n"
      ],
      "text/plain": [
       "[1] FALSE  TRUE FALSE FALSE  TRUE FALSE  TRUE  TRUE FALSE"
      ]
     },
     "metadata": {},
     "output_type": "display_data"
    }
   ],
   "source": [
    "#c. Write a Boolean expression that checks whether each entry of `age` is missing.  Your expression should return a Boolean vector having the same length as `age`. [1 mark]\n",
    "age <- c(18, NA, 25, 71, NA, 45, NA, NA, 18)\n",
    "is.na(age)"
   ]
  },
  {
   "cell_type": "code",
   "execution_count": 47,
   "metadata": {},
   "outputs": [
    {
     "data": {
      "text/html": [
       "<ol class=list-inline>\n",
       "\t<li>2</li>\n",
       "\t<li>5</li>\n",
       "\t<li>7</li>\n",
       "\t<li>8</li>\n",
       "</ol>\n"
      ],
      "text/latex": [
       "\\begin{enumerate*}\n",
       "\\item 2\n",
       "\\item 5\n",
       "\\item 7\n",
       "\\item 8\n",
       "\\end{enumerate*}\n"
      ],
      "text/markdown": [
       "1. 2\n",
       "2. 5\n",
       "3. 7\n",
       "4. 8\n",
       "\n",
       "\n"
      ],
      "text/plain": [
       "[1] 2 5 7 8"
      ]
     },
     "metadata": {},
     "output_type": "display_data"
    }
   ],
   "source": [
    "#d. Write code that returns the indexes of `age` that are missing as a vector. [1 mark]\n",
    "which(is.na(age))"
   ]
  },
  {
   "cell_type": "code",
   "execution_count": 84,
   "metadata": {},
   "outputs": [
    {
     "data": {
      "text/html": [
       "<ol class=list-inline>\n",
       "\t<li>18</li>\n",
       "\t<li>25</li>\n",
       "\t<li>71</li>\n",
       "\t<li>45</li>\n",
       "\t<li>18</li>\n",
       "</ol>\n"
      ],
      "text/latex": [
       "\\begin{enumerate*}\n",
       "\\item 18\n",
       "\\item 25\n",
       "\\item 71\n",
       "\\item 45\n",
       "\\item 18\n",
       "\\end{enumerate*}\n"
      ],
      "text/markdown": [
       "1. 18\n",
       "2. 25\n",
       "3. 71\n",
       "4. 45\n",
       "5. 18\n",
       "\n",
       "\n"
      ],
      "text/plain": [
       "[1] 18 25 71 45 18"
      ]
     },
     "metadata": {},
     "output_type": "display_data"
    }
   ],
   "source": [
    "#d. Write code that uses negative indexes and your vector from `(f)` to return only the values of `age` that are *not* missing. (i.e., your code should result in a vector with elements: 18, 25, 71, 45, 18) [1 mark]\n",
    "filled.vals <- age[-c(2,5,7,8)]\n",
    "filled.vals\n"
   ]
  },
  {
   "cell_type": "code",
   "execution_count": 86,
   "metadata": {},
   "outputs": [
    {
     "data": {
      "text/html": [
       "<ol class=list-inline>\n",
       "\t<li>18</li>\n",
       "\t<li>25</li>\n",
       "\t<li>71</li>\n",
       "\t<li>45</li>\n",
       "\t<li>18</li>\n",
       "</ol>\n"
      ],
      "text/latex": [
       "\\begin{enumerate*}\n",
       "\\item 18\n",
       "\\item 25\n",
       "\\item 71\n",
       "\\item 45\n",
       "\\item 18\n",
       "\\end{enumerate*}\n"
      ],
      "text/markdown": [
       "1. 18\n",
       "2. 25\n",
       "3. 71\n",
       "4. 45\n",
       "5. 18\n",
       "\n",
       "\n"
      ],
      "text/plain": [
       "[1] 18 25 71 45 18"
      ]
     },
     "metadata": {},
     "output_type": "display_data"
    }
   ],
   "source": [
    "#f. Using the negation operator `!` and the `is.na()` function, write an expression that returns only the values of `age` that are *not* missing. (Should result in the same vector as `(g)`) [1 mark]\n",
    "age[!is.na(age)]"
   ]
  },
  {
   "cell_type": "code",
   "execution_count": 96,
   "metadata": {},
   "outputs": [],
   "source": [
    "#g. Generate a vector of 25 random uniform decimal numbers between `-25` and `25`.  Do the same for whole numbers. [1 marks]\n",
    "uniform.vector <- runif(25,-25,25)"
   ]
  },
  {
   "cell_type": "code",
   "execution_count": 97,
   "metadata": {},
   "outputs": [
    {
     "data": {
      "text/html": [
       "<ol class=list-inline>\n",
       "\t<li>-12.605674949009</li>\n",
       "\t<li>-7.02089441474527</li>\n",
       "\t<li>20.3909995499998</li>\n",
       "\t<li>-7.02089441474527</li>\n",
       "\t<li>24.7175216674805</li>\n",
       "\t<li>21.560425311327</li>\n",
       "\t<li>-9.65865167090669</li>\n",
       "\t<li>-9.65865167090669</li>\n",
       "\t<li>-5.33474140102044</li>\n",
       "\t<li>-5.33474140102044</li>\n",
       "</ol>\n"
      ],
      "text/latex": [
       "\\begin{enumerate*}\n",
       "\\item -12.605674949009\n",
       "\\item -7.02089441474527\n",
       "\\item 20.3909995499998\n",
       "\\item -7.02089441474527\n",
       "\\item 24.7175216674805\n",
       "\\item 21.560425311327\n",
       "\\item -9.65865167090669\n",
       "\\item -9.65865167090669\n",
       "\\item -5.33474140102044\n",
       "\\item -5.33474140102044\n",
       "\\end{enumerate*}\n"
      ],
      "text/markdown": [
       "1. -12.605674949009\n",
       "2. -7.02089441474527\n",
       "3. 20.3909995499998\n",
       "4. -7.02089441474527\n",
       "5. 24.7175216674805\n",
       "6. 21.560425311327\n",
       "7. -9.65865167090669\n",
       "8. -9.65865167090669\n",
       "9. -5.33474140102044\n",
       "10. -5.33474140102044\n",
       "\n",
       "\n"
      ],
      "text/plain": [
       " [1] -12.605675  -7.020894  20.391000  -7.020894  24.717522  21.560425\n",
       " [7]  -9.658652  -9.658652  -5.334741  -5.334741"
      ]
     },
     "metadata": {},
     "output_type": "display_data"
    }
   ],
   "source": [
    "#h. Using one of the vectors from `(i)` create a third vector containing a sample (with replacement) of `10` numbers. [1 mark]\n",
    "sample.vec <- sample(uniform.vector,size = 10 , replace = TRUE)"
   ]
  },
  {
   "cell_type": "code",
   "execution_count": 94,
   "metadata": {},
   "outputs": [
    {
     "data": {
      "text/html": [
       "-0.0663181447334693"
      ],
      "text/latex": [
       "-0.0663181447334693"
      ],
      "text/markdown": [
       "-0.0663181447334693"
      ],
      "text/plain": [
       "[1] -0.06631814"
      ]
     },
     "metadata": {},
     "output_type": "display_data"
    }
   ],
   "source": [
    "#i. Without sorting, calculate and output the mean of the vector created in `(i)` without the largest and smallest values [1 marks].\n",
    "mean.sample.vec <- mean(sample.vec)\n",
    "mean.sample.vec"
   ]
  },
  {
   "cell_type": "code",
   "execution_count": 98,
   "metadata": {},
   "outputs": [],
   "source": [
    "#a. Create the following vectors [1 marks]\n",
    "\n",
    "num <- sample(1:10,10)\n",
    "sequence <- seq(1,10,0.5)\n",
    "words <- c(\"this\", \"is\", \"super\", \"fun\")\n",
    "bool.vals <- c(TRUE, FALSE, TRUE, TRUE, FALSE, TRUE, FALSE, FALSE)"
   ]
  },
  {
   "cell_type": "code",
   "execution_count": 100,
   "metadata": {},
   "outputs": [],
   "source": [
    "stuff <-  list(num = num,sequence = sequence,words = words,bool.vals = bool.vals)"
   ]
  },
  {
   "cell_type": "code",
   "execution_count": 114,
   "metadata": {},
   "outputs": [
    {
     "data": {
      "text/html": [
       "'super'"
      ],
      "text/latex": [
       "'super'"
      ],
      "text/markdown": [
       "'super'"
      ],
      "text/plain": [
       "[1] \"super\""
      ]
     },
     "metadata": {},
     "output_type": "display_data"
    }
   ],
   "source": [
    "stuff[[\"words\"]][3]"
   ]
  },
  {
   "cell_type": "code",
   "execution_count": 116,
   "metadata": {},
   "outputs": [
    {
     "data": {
      "text/html": [
       "<table>\n",
       "<caption>A nfnGroupedData: 6 × 5</caption>\n",
       "<thead>\n",
       "\t<tr><th scope=col>Plant</th><th scope=col>Type</th><th scope=col>Treatment</th><th scope=col>conc</th><th scope=col>uptake</th></tr>\n",
       "\t<tr><th scope=col>&lt;ord&gt;</th><th scope=col>&lt;fct&gt;</th><th scope=col>&lt;fct&gt;</th><th scope=col>&lt;dbl&gt;</th><th scope=col>&lt;dbl&gt;</th></tr>\n",
       "</thead>\n",
       "<tbody>\n",
       "\t<tr><td>Qn1</td><td>Quebec</td><td>nonchilled</td><td> 95</td><td>16.0</td></tr>\n",
       "\t<tr><td>Qn1</td><td>Quebec</td><td>nonchilled</td><td>175</td><td>30.4</td></tr>\n",
       "\t<tr><td>Qn1</td><td>Quebec</td><td>nonchilled</td><td>250</td><td>34.8</td></tr>\n",
       "\t<tr><td>Qn1</td><td>Quebec</td><td>nonchilled</td><td>350</td><td>37.2</td></tr>\n",
       "\t<tr><td>Qn1</td><td>Quebec</td><td>nonchilled</td><td>500</td><td>35.3</td></tr>\n",
       "\t<tr><td>Qn1</td><td>Quebec</td><td>nonchilled</td><td>675</td><td>39.2</td></tr>\n",
       "</tbody>\n",
       "</table>\n"
      ],
      "text/latex": [
       "A nfnGroupedData: 6 × 5\n",
       "\\begin{tabular}{r|lllll}\n",
       " Plant & Type & Treatment & conc & uptake\\\\\n",
       " <ord> & <fct> & <fct> & <dbl> & <dbl>\\\\\n",
       "\\hline\n",
       "\t Qn1 & Quebec & nonchilled &  95 & 16.0\\\\\n",
       "\t Qn1 & Quebec & nonchilled & 175 & 30.4\\\\\n",
       "\t Qn1 & Quebec & nonchilled & 250 & 34.8\\\\\n",
       "\t Qn1 & Quebec & nonchilled & 350 & 37.2\\\\\n",
       "\t Qn1 & Quebec & nonchilled & 500 & 35.3\\\\\n",
       "\t Qn1 & Quebec & nonchilled & 675 & 39.2\\\\\n",
       "\\end{tabular}\n"
      ],
      "text/markdown": [
       "\n",
       "A nfnGroupedData: 6 × 5\n",
       "\n",
       "| Plant &lt;ord&gt; | Type &lt;fct&gt; | Treatment &lt;fct&gt; | conc &lt;dbl&gt; | uptake &lt;dbl&gt; |\n",
       "|---|---|---|---|---|\n",
       "| Qn1 | Quebec | nonchilled |  95 | 16.0 |\n",
       "| Qn1 | Quebec | nonchilled | 175 | 30.4 |\n",
       "| Qn1 | Quebec | nonchilled | 250 | 34.8 |\n",
       "| Qn1 | Quebec | nonchilled | 350 | 37.2 |\n",
       "| Qn1 | Quebec | nonchilled | 500 | 35.3 |\n",
       "| Qn1 | Quebec | nonchilled | 675 | 39.2 |\n",
       "\n"
      ],
      "text/plain": [
       "  Plant Type   Treatment  conc uptake\n",
       "1 Qn1   Quebec nonchilled  95  16.0  \n",
       "2 Qn1   Quebec nonchilled 175  30.4  \n",
       "3 Qn1   Quebec nonchilled 250  34.8  \n",
       "4 Qn1   Quebec nonchilled 350  37.2  \n",
       "5 Qn1   Quebec nonchilled 500  35.3  \n",
       "6 Qn1   Quebec nonchilled 675  39.2  "
      ]
     },
     "metadata": {},
     "output_type": "display_data"
    }
   ],
   "source": [
    "#a. Use the `CO2` data from the `datasets` package, and use head to view the top of the file.  [0.5 marks] \n",
    "library(datasets)\n",
    "head(CO2)"
   ]
  },
  {
   "cell_type": "code",
   "execution_count": 119,
   "metadata": {},
   "outputs": [
    {
     "data": {
      "text/html": [
       "<table>\n",
       "<caption>A nfnGroupedData: 6 × 1</caption>\n",
       "<thead>\n",
       "\t<tr><th scope=col>conc</th></tr>\n",
       "\t<tr><th scope=col>&lt;dbl&gt;</th></tr>\n",
       "</thead>\n",
       "<tbody>\n",
       "\t<tr><td> 95</td></tr>\n",
       "\t<tr><td>175</td></tr>\n",
       "\t<tr><td>250</td></tr>\n",
       "\t<tr><td>350</td></tr>\n",
       "\t<tr><td>500</td></tr>\n",
       "\t<tr><td>675</td></tr>\n",
       "</tbody>\n",
       "</table>\n"
      ],
      "text/latex": [
       "A nfnGroupedData: 6 × 1\n",
       "\\begin{tabular}{r|l}\n",
       " conc\\\\\n",
       " <dbl>\\\\\n",
       "\\hline\n",
       "\t  95\\\\\n",
       "\t 175\\\\\n",
       "\t 250\\\\\n",
       "\t 350\\\\\n",
       "\t 500\\\\\n",
       "\t 675\\\\\n",
       "\\end{tabular}\n"
      ],
      "text/markdown": [
       "\n",
       "A nfnGroupedData: 6 × 1\n",
       "\n",
       "| conc &lt;dbl&gt; |\n",
       "|---|\n",
       "|  95 |\n",
       "| 175 |\n",
       "| 250 |\n",
       "| 350 |\n",
       "| 500 |\n",
       "| 675 |\n",
       "\n"
      ],
      "text/plain": [
       "  conc\n",
       "1  95 \n",
       "2 175 \n",
       "3 250 \n",
       "4 350 \n",
       "5 500 \n",
       "6 675 "
      ]
     },
     "metadata": {},
     "output_type": "display_data"
    }
   ],
   "source": [
    "#b. Use base R, output the following subsets of the data frame\n",
    "\n",
    "#- Just the `conc` column. [0.5 mark]\n",
    "\n",
    "head(CO2[\"conc\"])"
   ]
  },
  {
   "cell_type": "code",
   "execution_count": 120,
   "metadata": {},
   "outputs": [
    {
     "data": {
      "text/html": [
       "<table>\n",
       "<caption>A nfnGroupedData: 1 × 5</caption>\n",
       "<thead>\n",
       "\t<tr><th></th><th scope=col>Plant</th><th scope=col>Type</th><th scope=col>Treatment</th><th scope=col>conc</th><th scope=col>uptake</th></tr>\n",
       "\t<tr><th></th><th scope=col>&lt;ord&gt;</th><th scope=col>&lt;fct&gt;</th><th scope=col>&lt;fct&gt;</th><th scope=col>&lt;dbl&gt;</th><th scope=col>&lt;dbl&gt;</th></tr>\n",
       "</thead>\n",
       "<tbody>\n",
       "\t<tr><th scope=row>5</th><td>Qn1</td><td>Quebec</td><td>nonchilled</td><td>500</td><td>35.3</td></tr>\n",
       "</tbody>\n",
       "</table>\n"
      ],
      "text/latex": [
       "A nfnGroupedData: 1 × 5\n",
       "\\begin{tabular}{r|lllll}\n",
       "  & Plant & Type & Treatment & conc & uptake\\\\\n",
       "  & <ord> & <fct> & <fct> & <dbl> & <dbl>\\\\\n",
       "\\hline\n",
       "\t5 & Qn1 & Quebec & nonchilled & 500 & 35.3\\\\\n",
       "\\end{tabular}\n"
      ],
      "text/markdown": [
       "\n",
       "A nfnGroupedData: 1 × 5\n",
       "\n",
       "| <!--/--> | Plant &lt;ord&gt; | Type &lt;fct&gt; | Treatment &lt;fct&gt; | conc &lt;dbl&gt; | uptake &lt;dbl&gt; |\n",
       "|---|---|---|---|---|---|\n",
       "| 5 | Qn1 | Quebec | nonchilled | 500 | 35.3 |\n",
       "\n"
      ],
      "text/plain": [
       "  Plant Type   Treatment  conc uptake\n",
       "5 Qn1   Quebec nonchilled 500  35.3  "
      ]
     },
     "metadata": {},
     "output_type": "display_data"
    }
   ],
   "source": [
    "#- Just the `fifth` row. [0.5 mark]\n",
    "CO2[5,]"
   ]
  },
  {
   "cell_type": "code",
   "execution_count": 121,
   "metadata": {},
   "outputs": [
    {
     "data": {
      "text/html": [
       "<table>\n",
       "<caption>A nfnGroupedData: 5 × 5</caption>\n",
       "<thead>\n",
       "\t<tr><th scope=col>Plant</th><th scope=col>Type</th><th scope=col>Treatment</th><th scope=col>conc</th><th scope=col>uptake</th></tr>\n",
       "\t<tr><th scope=col>&lt;ord&gt;</th><th scope=col>&lt;fct&gt;</th><th scope=col>&lt;fct&gt;</th><th scope=col>&lt;dbl&gt;</th><th scope=col>&lt;dbl&gt;</th></tr>\n",
       "</thead>\n",
       "<tbody>\n",
       "\t<tr><td>Qn1</td><td>Quebec</td><td>nonchilled</td><td> 95</td><td>16.0</td></tr>\n",
       "\t<tr><td>Qn1</td><td>Quebec</td><td>nonchilled</td><td>175</td><td>30.4</td></tr>\n",
       "\t<tr><td>Qn1</td><td>Quebec</td><td>nonchilled</td><td>250</td><td>34.8</td></tr>\n",
       "\t<tr><td>Qn1</td><td>Quebec</td><td>nonchilled</td><td>350</td><td>37.2</td></tr>\n",
       "\t<tr><td>Qn1</td><td>Quebec</td><td>nonchilled</td><td>500</td><td>35.3</td></tr>\n",
       "</tbody>\n",
       "</table>\n"
      ],
      "text/latex": [
       "A nfnGroupedData: 5 × 5\n",
       "\\begin{tabular}{r|lllll}\n",
       " Plant & Type & Treatment & conc & uptake\\\\\n",
       " <ord> & <fct> & <fct> & <dbl> & <dbl>\\\\\n",
       "\\hline\n",
       "\t Qn1 & Quebec & nonchilled &  95 & 16.0\\\\\n",
       "\t Qn1 & Quebec & nonchilled & 175 & 30.4\\\\\n",
       "\t Qn1 & Quebec & nonchilled & 250 & 34.8\\\\\n",
       "\t Qn1 & Quebec & nonchilled & 350 & 37.2\\\\\n",
       "\t Qn1 & Quebec & nonchilled & 500 & 35.3\\\\\n",
       "\\end{tabular}\n"
      ],
      "text/markdown": [
       "\n",
       "A nfnGroupedData: 5 × 5\n",
       "\n",
       "| Plant &lt;ord&gt; | Type &lt;fct&gt; | Treatment &lt;fct&gt; | conc &lt;dbl&gt; | uptake &lt;dbl&gt; |\n",
       "|---|---|---|---|---|\n",
       "| Qn1 | Quebec | nonchilled |  95 | 16.0 |\n",
       "| Qn1 | Quebec | nonchilled | 175 | 30.4 |\n",
       "| Qn1 | Quebec | nonchilled | 250 | 34.8 |\n",
       "| Qn1 | Quebec | nonchilled | 350 | 37.2 |\n",
       "| Qn1 | Quebec | nonchilled | 500 | 35.3 |\n",
       "\n"
      ],
      "text/plain": [
       "  Plant Type   Treatment  conc uptake\n",
       "1 Qn1   Quebec nonchilled  95  16.0  \n",
       "2 Qn1   Quebec nonchilled 175  30.4  \n",
       "3 Qn1   Quebec nonchilled 250  34.8  \n",
       "4 Qn1   Quebec nonchilled 350  37.2  \n",
       "5 Qn1   Quebec nonchilled 500  35.3  "
      ]
     },
     "metadata": {},
     "output_type": "display_data"
    }
   ],
   "source": [
    "# - The first `5` rows. [0.5 mark]\n",
    "CO2[1:5,]"
   ]
  },
  {
   "cell_type": "code",
   "execution_count": 122,
   "metadata": {},
   "outputs": [
    {
     "data": {
      "text/html": [
       "<table>\n",
       "<caption>A nfnGroupedData: 6 × 5</caption>\n",
       "<thead>\n",
       "\t<tr><th></th><th scope=col>Plant</th><th scope=col>Type</th><th scope=col>Treatment</th><th scope=col>conc</th><th scope=col>uptake</th></tr>\n",
       "\t<tr><th></th><th scope=col>&lt;ord&gt;</th><th scope=col>&lt;fct&gt;</th><th scope=col>&lt;fct&gt;</th><th scope=col>&lt;dbl&gt;</th><th scope=col>&lt;dbl&gt;</th></tr>\n",
       "</thead>\n",
       "<tbody>\n",
       "\t<tr><th scope=row>10</th><td>Qn2</td><td>Quebec</td><td>nonchilled</td><td> 250</td><td>37.1</td></tr>\n",
       "\t<tr><th scope=row>11</th><td>Qn2</td><td>Quebec</td><td>nonchilled</td><td> 350</td><td>41.8</td></tr>\n",
       "\t<tr><th scope=row>12</th><td>Qn2</td><td>Quebec</td><td>nonchilled</td><td> 500</td><td>40.6</td></tr>\n",
       "\t<tr><th scope=row>13</th><td>Qn2</td><td>Quebec</td><td>nonchilled</td><td> 675</td><td>41.4</td></tr>\n",
       "\t<tr><th scope=row>14</th><td>Qn2</td><td>Quebec</td><td>nonchilled</td><td>1000</td><td>44.3</td></tr>\n",
       "\t<tr><th scope=row>15</th><td>Qn3</td><td>Quebec</td><td>nonchilled</td><td>  95</td><td>16.2</td></tr>\n",
       "</tbody>\n",
       "</table>\n"
      ],
      "text/latex": [
       "A nfnGroupedData: 6 × 5\n",
       "\\begin{tabular}{r|lllll}\n",
       "  & Plant & Type & Treatment & conc & uptake\\\\\n",
       "  & <ord> & <fct> & <fct> & <dbl> & <dbl>\\\\\n",
       "\\hline\n",
       "\t10 & Qn2 & Quebec & nonchilled &  250 & 37.1\\\\\n",
       "\t11 & Qn2 & Quebec & nonchilled &  350 & 41.8\\\\\n",
       "\t12 & Qn2 & Quebec & nonchilled &  500 & 40.6\\\\\n",
       "\t13 & Qn2 & Quebec & nonchilled &  675 & 41.4\\\\\n",
       "\t14 & Qn2 & Quebec & nonchilled & 1000 & 44.3\\\\\n",
       "\t15 & Qn3 & Quebec & nonchilled &   95 & 16.2\\\\\n",
       "\\end{tabular}\n"
      ],
      "text/markdown": [
       "\n",
       "A nfnGroupedData: 6 × 5\n",
       "\n",
       "| <!--/--> | Plant &lt;ord&gt; | Type &lt;fct&gt; | Treatment &lt;fct&gt; | conc &lt;dbl&gt; | uptake &lt;dbl&gt; |\n",
       "|---|---|---|---|---|---|\n",
       "| 10 | Qn2 | Quebec | nonchilled |  250 | 37.1 |\n",
       "| 11 | Qn2 | Quebec | nonchilled |  350 | 41.8 |\n",
       "| 12 | Qn2 | Quebec | nonchilled |  500 | 40.6 |\n",
       "| 13 | Qn2 | Quebec | nonchilled |  675 | 41.4 |\n",
       "| 14 | Qn2 | Quebec | nonchilled | 1000 | 44.3 |\n",
       "| 15 | Qn3 | Quebec | nonchilled |   95 | 16.2 |\n",
       "\n"
      ],
      "text/plain": [
       "   Plant Type   Treatment  conc uptake\n",
       "10 Qn2   Quebec nonchilled  250 37.1  \n",
       "11 Qn2   Quebec nonchilled  350 41.8  \n",
       "12 Qn2   Quebec nonchilled  500 40.6  \n",
       "13 Qn2   Quebec nonchilled  675 41.4  \n",
       "14 Qn2   Quebec nonchilled 1000 44.3  \n",
       "15 Qn3   Quebec nonchilled   95 16.2  "
      ]
     },
     "metadata": {},
     "output_type": "display_data"
    }
   ],
   "source": [
    "#- Rows `10` to `15`. [0.5 mark]\n",
    "CO2[10:15,]"
   ]
  },
  {
   "cell_type": "code",
   "execution_count": 135,
   "metadata": {},
   "outputs": [
    {
     "data": {
      "text/html": [
       "<table>\n",
       "<caption>A nfnGroupedData: 84 × 2</caption>\n",
       "<thead>\n",
       "\t<tr><th scope=col>Plant</th><th scope=col>Treatment</th></tr>\n",
       "\t<tr><th scope=col>&lt;ord&gt;</th><th scope=col>&lt;fct&gt;</th></tr>\n",
       "</thead>\n",
       "<tbody>\n",
       "\t<tr><td>Qn1</td><td>nonchilled</td></tr>\n",
       "\t<tr><td>Qn1</td><td>nonchilled</td></tr>\n",
       "\t<tr><td>Qn1</td><td>nonchilled</td></tr>\n",
       "\t<tr><td>Qn1</td><td>nonchilled</td></tr>\n",
       "\t<tr><td>Qn1</td><td>nonchilled</td></tr>\n",
       "\t<tr><td>Qn1</td><td>nonchilled</td></tr>\n",
       "\t<tr><td>Qn1</td><td>nonchilled</td></tr>\n",
       "\t<tr><td>Qn2</td><td>nonchilled</td></tr>\n",
       "\t<tr><td>Qn2</td><td>nonchilled</td></tr>\n",
       "\t<tr><td>Qn2</td><td>nonchilled</td></tr>\n",
       "\t<tr><td>Qn2</td><td>nonchilled</td></tr>\n",
       "\t<tr><td>Qn2</td><td>nonchilled</td></tr>\n",
       "\t<tr><td>Qn2</td><td>nonchilled</td></tr>\n",
       "\t<tr><td>Qn2</td><td>nonchilled</td></tr>\n",
       "\t<tr><td>Qn3</td><td>nonchilled</td></tr>\n",
       "\t<tr><td>Qn3</td><td>nonchilled</td></tr>\n",
       "\t<tr><td>Qn3</td><td>nonchilled</td></tr>\n",
       "\t<tr><td>Qn3</td><td>nonchilled</td></tr>\n",
       "\t<tr><td>Qn3</td><td>nonchilled</td></tr>\n",
       "\t<tr><td>Qn3</td><td>nonchilled</td></tr>\n",
       "\t<tr><td>Qn3</td><td>nonchilled</td></tr>\n",
       "\t<tr><td>Qc1</td><td>chilled   </td></tr>\n",
       "\t<tr><td>Qc1</td><td>chilled   </td></tr>\n",
       "\t<tr><td>Qc1</td><td>chilled   </td></tr>\n",
       "\t<tr><td>Qc1</td><td>chilled   </td></tr>\n",
       "\t<tr><td>Qc1</td><td>chilled   </td></tr>\n",
       "\t<tr><td>Qc1</td><td>chilled   </td></tr>\n",
       "\t<tr><td>Qc1</td><td>chilled   </td></tr>\n",
       "\t<tr><td>Qc2</td><td>chilled   </td></tr>\n",
       "\t<tr><td>Qc2</td><td>chilled   </td></tr>\n",
       "\t<tr><td>⋮</td><td>⋮</td></tr>\n",
       "\t<tr><td>Mn2</td><td>nonchilled</td></tr>\n",
       "\t<tr><td>Mn2</td><td>nonchilled</td></tr>\n",
       "\t<tr><td>Mn3</td><td>nonchilled</td></tr>\n",
       "\t<tr><td>Mn3</td><td>nonchilled</td></tr>\n",
       "\t<tr><td>Mn3</td><td>nonchilled</td></tr>\n",
       "\t<tr><td>Mn3</td><td>nonchilled</td></tr>\n",
       "\t<tr><td>Mn3</td><td>nonchilled</td></tr>\n",
       "\t<tr><td>Mn3</td><td>nonchilled</td></tr>\n",
       "\t<tr><td>Mn3</td><td>nonchilled</td></tr>\n",
       "\t<tr><td>Mc1</td><td>chilled   </td></tr>\n",
       "\t<tr><td>Mc1</td><td>chilled   </td></tr>\n",
       "\t<tr><td>Mc1</td><td>chilled   </td></tr>\n",
       "\t<tr><td>Mc1</td><td>chilled   </td></tr>\n",
       "\t<tr><td>Mc1</td><td>chilled   </td></tr>\n",
       "\t<tr><td>Mc1</td><td>chilled   </td></tr>\n",
       "\t<tr><td>Mc1</td><td>chilled   </td></tr>\n",
       "\t<tr><td>Mc2</td><td>chilled   </td></tr>\n",
       "\t<tr><td>Mc2</td><td>chilled   </td></tr>\n",
       "\t<tr><td>Mc2</td><td>chilled   </td></tr>\n",
       "\t<tr><td>Mc2</td><td>chilled   </td></tr>\n",
       "\t<tr><td>Mc2</td><td>chilled   </td></tr>\n",
       "\t<tr><td>Mc2</td><td>chilled   </td></tr>\n",
       "\t<tr><td>Mc2</td><td>chilled   </td></tr>\n",
       "\t<tr><td>Mc3</td><td>chilled   </td></tr>\n",
       "\t<tr><td>Mc3</td><td>chilled   </td></tr>\n",
       "\t<tr><td>Mc3</td><td>chilled   </td></tr>\n",
       "\t<tr><td>Mc3</td><td>chilled   </td></tr>\n",
       "\t<tr><td>Mc3</td><td>chilled   </td></tr>\n",
       "\t<tr><td>Mc3</td><td>chilled   </td></tr>\n",
       "\t<tr><td>Mc3</td><td>chilled   </td></tr>\n",
       "</tbody>\n",
       "</table>\n"
      ],
      "text/latex": [
       "A nfnGroupedData: 84 × 2\n",
       "\\begin{tabular}{r|ll}\n",
       " Plant & Treatment\\\\\n",
       " <ord> & <fct>\\\\\n",
       "\\hline\n",
       "\t Qn1 & nonchilled\\\\\n",
       "\t Qn1 & nonchilled\\\\\n",
       "\t Qn1 & nonchilled\\\\\n",
       "\t Qn1 & nonchilled\\\\\n",
       "\t Qn1 & nonchilled\\\\\n",
       "\t Qn1 & nonchilled\\\\\n",
       "\t Qn1 & nonchilled\\\\\n",
       "\t Qn2 & nonchilled\\\\\n",
       "\t Qn2 & nonchilled\\\\\n",
       "\t Qn2 & nonchilled\\\\\n",
       "\t Qn2 & nonchilled\\\\\n",
       "\t Qn2 & nonchilled\\\\\n",
       "\t Qn2 & nonchilled\\\\\n",
       "\t Qn2 & nonchilled\\\\\n",
       "\t Qn3 & nonchilled\\\\\n",
       "\t Qn3 & nonchilled\\\\\n",
       "\t Qn3 & nonchilled\\\\\n",
       "\t Qn3 & nonchilled\\\\\n",
       "\t Qn3 & nonchilled\\\\\n",
       "\t Qn3 & nonchilled\\\\\n",
       "\t Qn3 & nonchilled\\\\\n",
       "\t Qc1 & chilled   \\\\\n",
       "\t Qc1 & chilled   \\\\\n",
       "\t Qc1 & chilled   \\\\\n",
       "\t Qc1 & chilled   \\\\\n",
       "\t Qc1 & chilled   \\\\\n",
       "\t Qc1 & chilled   \\\\\n",
       "\t Qc1 & chilled   \\\\\n",
       "\t Qc2 & chilled   \\\\\n",
       "\t Qc2 & chilled   \\\\\n",
       "\t ⋮ & ⋮\\\\\n",
       "\t Mn2 & nonchilled\\\\\n",
       "\t Mn2 & nonchilled\\\\\n",
       "\t Mn3 & nonchilled\\\\\n",
       "\t Mn3 & nonchilled\\\\\n",
       "\t Mn3 & nonchilled\\\\\n",
       "\t Mn3 & nonchilled\\\\\n",
       "\t Mn3 & nonchilled\\\\\n",
       "\t Mn3 & nonchilled\\\\\n",
       "\t Mn3 & nonchilled\\\\\n",
       "\t Mc1 & chilled   \\\\\n",
       "\t Mc1 & chilled   \\\\\n",
       "\t Mc1 & chilled   \\\\\n",
       "\t Mc1 & chilled   \\\\\n",
       "\t Mc1 & chilled   \\\\\n",
       "\t Mc1 & chilled   \\\\\n",
       "\t Mc1 & chilled   \\\\\n",
       "\t Mc2 & chilled   \\\\\n",
       "\t Mc2 & chilled   \\\\\n",
       "\t Mc2 & chilled   \\\\\n",
       "\t Mc2 & chilled   \\\\\n",
       "\t Mc2 & chilled   \\\\\n",
       "\t Mc2 & chilled   \\\\\n",
       "\t Mc2 & chilled   \\\\\n",
       "\t Mc3 & chilled   \\\\\n",
       "\t Mc3 & chilled   \\\\\n",
       "\t Mc3 & chilled   \\\\\n",
       "\t Mc3 & chilled   \\\\\n",
       "\t Mc3 & chilled   \\\\\n",
       "\t Mc3 & chilled   \\\\\n",
       "\t Mc3 & chilled   \\\\\n",
       "\\end{tabular}\n"
      ],
      "text/markdown": [
       "\n",
       "A nfnGroupedData: 84 × 2\n",
       "\n",
       "| Plant &lt;ord&gt; | Treatment &lt;fct&gt; |\n",
       "|---|---|\n",
       "| Qn1 | nonchilled |\n",
       "| Qn1 | nonchilled |\n",
       "| Qn1 | nonchilled |\n",
       "| Qn1 | nonchilled |\n",
       "| Qn1 | nonchilled |\n",
       "| Qn1 | nonchilled |\n",
       "| Qn1 | nonchilled |\n",
       "| Qn2 | nonchilled |\n",
       "| Qn2 | nonchilled |\n",
       "| Qn2 | nonchilled |\n",
       "| Qn2 | nonchilled |\n",
       "| Qn2 | nonchilled |\n",
       "| Qn2 | nonchilled |\n",
       "| Qn2 | nonchilled |\n",
       "| Qn3 | nonchilled |\n",
       "| Qn3 | nonchilled |\n",
       "| Qn3 | nonchilled |\n",
       "| Qn3 | nonchilled |\n",
       "| Qn3 | nonchilled |\n",
       "| Qn3 | nonchilled |\n",
       "| Qn3 | nonchilled |\n",
       "| Qc1 | chilled    |\n",
       "| Qc1 | chilled    |\n",
       "| Qc1 | chilled    |\n",
       "| Qc1 | chilled    |\n",
       "| Qc1 | chilled    |\n",
       "| Qc1 | chilled    |\n",
       "| Qc1 | chilled    |\n",
       "| Qc2 | chilled    |\n",
       "| Qc2 | chilled    |\n",
       "| ⋮ | ⋮ |\n",
       "| Mn2 | nonchilled |\n",
       "| Mn2 | nonchilled |\n",
       "| Mn3 | nonchilled |\n",
       "| Mn3 | nonchilled |\n",
       "| Mn3 | nonchilled |\n",
       "| Mn3 | nonchilled |\n",
       "| Mn3 | nonchilled |\n",
       "| Mn3 | nonchilled |\n",
       "| Mn3 | nonchilled |\n",
       "| Mc1 | chilled    |\n",
       "| Mc1 | chilled    |\n",
       "| Mc1 | chilled    |\n",
       "| Mc1 | chilled    |\n",
       "| Mc1 | chilled    |\n",
       "| Mc1 | chilled    |\n",
       "| Mc1 | chilled    |\n",
       "| Mc2 | chilled    |\n",
       "| Mc2 | chilled    |\n",
       "| Mc2 | chilled    |\n",
       "| Mc2 | chilled    |\n",
       "| Mc2 | chilled    |\n",
       "| Mc2 | chilled    |\n",
       "| Mc2 | chilled    |\n",
       "| Mc3 | chilled    |\n",
       "| Mc3 | chilled    |\n",
       "| Mc3 | chilled    |\n",
       "| Mc3 | chilled    |\n",
       "| Mc3 | chilled    |\n",
       "| Mc3 | chilled    |\n",
       "| Mc3 | chilled    |\n",
       "\n"
      ],
      "text/plain": [
       "   Plant Treatment \n",
       "1  Qn1   nonchilled\n",
       "2  Qn1   nonchilled\n",
       "3  Qn1   nonchilled\n",
       "4  Qn1   nonchilled\n",
       "5  Qn1   nonchilled\n",
       "6  Qn1   nonchilled\n",
       "7  Qn1   nonchilled\n",
       "8  Qn2   nonchilled\n",
       "9  Qn2   nonchilled\n",
       "10 Qn2   nonchilled\n",
       "11 Qn2   nonchilled\n",
       "12 Qn2   nonchilled\n",
       "13 Qn2   nonchilled\n",
       "14 Qn2   nonchilled\n",
       "15 Qn3   nonchilled\n",
       "16 Qn3   nonchilled\n",
       "17 Qn3   nonchilled\n",
       "18 Qn3   nonchilled\n",
       "19 Qn3   nonchilled\n",
       "20 Qn3   nonchilled\n",
       "21 Qn3   nonchilled\n",
       "22 Qc1   chilled   \n",
       "23 Qc1   chilled   \n",
       "24 Qc1   chilled   \n",
       "25 Qc1   chilled   \n",
       "26 Qc1   chilled   \n",
       "27 Qc1   chilled   \n",
       "28 Qc1   chilled   \n",
       "29 Qc2   chilled   \n",
       "30 Qc2   chilled   \n",
       "⋮  ⋮     ⋮         \n",
       "55 Mn2   nonchilled\n",
       "56 Mn2   nonchilled\n",
       "57 Mn3   nonchilled\n",
       "58 Mn3   nonchilled\n",
       "59 Mn3   nonchilled\n",
       "60 Mn3   nonchilled\n",
       "61 Mn3   nonchilled\n",
       "62 Mn3   nonchilled\n",
       "63 Mn3   nonchilled\n",
       "64 Mc1   chilled   \n",
       "65 Mc1   chilled   \n",
       "66 Mc1   chilled   \n",
       "67 Mc1   chilled   \n",
       "68 Mc1   chilled   \n",
       "69 Mc1   chilled   \n",
       "70 Mc1   chilled   \n",
       "71 Mc2   chilled   \n",
       "72 Mc2   chilled   \n",
       "73 Mc2   chilled   \n",
       "74 Mc2   chilled   \n",
       "75 Mc2   chilled   \n",
       "76 Mc2   chilled   \n",
       "77 Mc2   chilled   \n",
       "78 Mc3   chilled   \n",
       "79 Mc3   chilled   \n",
       "80 Mc3   chilled   \n",
       "81 Mc3   chilled   \n",
       "82 Mc3   chilled   \n",
       "83 Mc3   chilled   \n",
       "84 Mc3   chilled   "
      ]
     },
     "metadata": {},
     "output_type": "display_data"
    }
   ],
   "source": [
    "#- The `plant`, `Treatment` and `uptake` columns [0.5 mark]\n",
    "#CO2[c(1,3,5)]\n",
    "CO2[,c(\"Plant\",\"Treatment\",\"uptake\")]"
   ]
  },
  {
   "cell_type": "code",
   "execution_count": 138,
   "metadata": {},
   "outputs": [
    {
     "data": {
      "text/html": [
       "<table>\n",
       "<caption>A nfnGroupedData: 42 × 5</caption>\n",
       "<thead>\n",
       "\t<tr><th></th><th scope=col>Plant</th><th scope=col>Type</th><th scope=col>Treatment</th><th scope=col>conc</th><th scope=col>uptake</th></tr>\n",
       "\t<tr><th></th><th scope=col>&lt;ord&gt;</th><th scope=col>&lt;fct&gt;</th><th scope=col>&lt;fct&gt;</th><th scope=col>&lt;dbl&gt;</th><th scope=col>&lt;dbl&gt;</th></tr>\n",
       "</thead>\n",
       "<tbody>\n",
       "\t<tr><th scope=row>22</th><td>Qc1</td><td>Quebec     </td><td>chilled</td><td>  95</td><td>14.2</td></tr>\n",
       "\t<tr><th scope=row>23</th><td>Qc1</td><td>Quebec     </td><td>chilled</td><td> 175</td><td>24.1</td></tr>\n",
       "\t<tr><th scope=row>24</th><td>Qc1</td><td>Quebec     </td><td>chilled</td><td> 250</td><td>30.3</td></tr>\n",
       "\t<tr><th scope=row>25</th><td>Qc1</td><td>Quebec     </td><td>chilled</td><td> 350</td><td>34.6</td></tr>\n",
       "\t<tr><th scope=row>26</th><td>Qc1</td><td>Quebec     </td><td>chilled</td><td> 500</td><td>32.5</td></tr>\n",
       "\t<tr><th scope=row>27</th><td>Qc1</td><td>Quebec     </td><td>chilled</td><td> 675</td><td>35.4</td></tr>\n",
       "\t<tr><th scope=row>28</th><td>Qc1</td><td>Quebec     </td><td>chilled</td><td>1000</td><td>38.7</td></tr>\n",
       "\t<tr><th scope=row>29</th><td>Qc2</td><td>Quebec     </td><td>chilled</td><td>  95</td><td> 9.3</td></tr>\n",
       "\t<tr><th scope=row>30</th><td>Qc2</td><td>Quebec     </td><td>chilled</td><td> 175</td><td>27.3</td></tr>\n",
       "\t<tr><th scope=row>31</th><td>Qc2</td><td>Quebec     </td><td>chilled</td><td> 250</td><td>35.0</td></tr>\n",
       "\t<tr><th scope=row>32</th><td>Qc2</td><td>Quebec     </td><td>chilled</td><td> 350</td><td>38.8</td></tr>\n",
       "\t<tr><th scope=row>33</th><td>Qc2</td><td>Quebec     </td><td>chilled</td><td> 500</td><td>38.6</td></tr>\n",
       "\t<tr><th scope=row>34</th><td>Qc2</td><td>Quebec     </td><td>chilled</td><td> 675</td><td>37.5</td></tr>\n",
       "\t<tr><th scope=row>35</th><td>Qc2</td><td>Quebec     </td><td>chilled</td><td>1000</td><td>42.4</td></tr>\n",
       "\t<tr><th scope=row>36</th><td>Qc3</td><td>Quebec     </td><td>chilled</td><td>  95</td><td>15.1</td></tr>\n",
       "\t<tr><th scope=row>37</th><td>Qc3</td><td>Quebec     </td><td>chilled</td><td> 175</td><td>21.0</td></tr>\n",
       "\t<tr><th scope=row>38</th><td>Qc3</td><td>Quebec     </td><td>chilled</td><td> 250</td><td>38.1</td></tr>\n",
       "\t<tr><th scope=row>39</th><td>Qc3</td><td>Quebec     </td><td>chilled</td><td> 350</td><td>34.0</td></tr>\n",
       "\t<tr><th scope=row>40</th><td>Qc3</td><td>Quebec     </td><td>chilled</td><td> 500</td><td>38.9</td></tr>\n",
       "\t<tr><th scope=row>41</th><td>Qc3</td><td>Quebec     </td><td>chilled</td><td> 675</td><td>39.6</td></tr>\n",
       "\t<tr><th scope=row>42</th><td>Qc3</td><td>Quebec     </td><td>chilled</td><td>1000</td><td>41.4</td></tr>\n",
       "\t<tr><th scope=row>64</th><td>Mc1</td><td>Mississippi</td><td>chilled</td><td>  95</td><td>10.5</td></tr>\n",
       "\t<tr><th scope=row>65</th><td>Mc1</td><td>Mississippi</td><td>chilled</td><td> 175</td><td>14.9</td></tr>\n",
       "\t<tr><th scope=row>66</th><td>Mc1</td><td>Mississippi</td><td>chilled</td><td> 250</td><td>18.1</td></tr>\n",
       "\t<tr><th scope=row>67</th><td>Mc1</td><td>Mississippi</td><td>chilled</td><td> 350</td><td>18.9</td></tr>\n",
       "\t<tr><th scope=row>68</th><td>Mc1</td><td>Mississippi</td><td>chilled</td><td> 500</td><td>19.5</td></tr>\n",
       "\t<tr><th scope=row>69</th><td>Mc1</td><td>Mississippi</td><td>chilled</td><td> 675</td><td>22.2</td></tr>\n",
       "\t<tr><th scope=row>70</th><td>Mc1</td><td>Mississippi</td><td>chilled</td><td>1000</td><td>21.9</td></tr>\n",
       "\t<tr><th scope=row>71</th><td>Mc2</td><td>Mississippi</td><td>chilled</td><td>  95</td><td> 7.7</td></tr>\n",
       "\t<tr><th scope=row>72</th><td>Mc2</td><td>Mississippi</td><td>chilled</td><td> 175</td><td>11.4</td></tr>\n",
       "\t<tr><th scope=row>73</th><td>Mc2</td><td>Mississippi</td><td>chilled</td><td> 250</td><td>12.3</td></tr>\n",
       "\t<tr><th scope=row>74</th><td>Mc2</td><td>Mississippi</td><td>chilled</td><td> 350</td><td>13.0</td></tr>\n",
       "\t<tr><th scope=row>75</th><td>Mc2</td><td>Mississippi</td><td>chilled</td><td> 500</td><td>12.5</td></tr>\n",
       "\t<tr><th scope=row>76</th><td>Mc2</td><td>Mississippi</td><td>chilled</td><td> 675</td><td>13.7</td></tr>\n",
       "\t<tr><th scope=row>77</th><td>Mc2</td><td>Mississippi</td><td>chilled</td><td>1000</td><td>14.4</td></tr>\n",
       "\t<tr><th scope=row>78</th><td>Mc3</td><td>Mississippi</td><td>chilled</td><td>  95</td><td>10.6</td></tr>\n",
       "\t<tr><th scope=row>79</th><td>Mc3</td><td>Mississippi</td><td>chilled</td><td> 175</td><td>18.0</td></tr>\n",
       "\t<tr><th scope=row>80</th><td>Mc3</td><td>Mississippi</td><td>chilled</td><td> 250</td><td>17.9</td></tr>\n",
       "\t<tr><th scope=row>81</th><td>Mc3</td><td>Mississippi</td><td>chilled</td><td> 350</td><td>17.9</td></tr>\n",
       "\t<tr><th scope=row>82</th><td>Mc3</td><td>Mississippi</td><td>chilled</td><td> 500</td><td>17.9</td></tr>\n",
       "\t<tr><th scope=row>83</th><td>Mc3</td><td>Mississippi</td><td>chilled</td><td> 675</td><td>18.9</td></tr>\n",
       "\t<tr><th scope=row>84</th><td>Mc3</td><td>Mississippi</td><td>chilled</td><td>1000</td><td>19.9</td></tr>\n",
       "</tbody>\n",
       "</table>\n"
      ],
      "text/latex": [
       "A nfnGroupedData: 42 × 5\n",
       "\\begin{tabular}{r|lllll}\n",
       "  & Plant & Type & Treatment & conc & uptake\\\\\n",
       "  & <ord> & <fct> & <fct> & <dbl> & <dbl>\\\\\n",
       "\\hline\n",
       "\t22 & Qc1 & Quebec      & chilled &   95 & 14.2\\\\\n",
       "\t23 & Qc1 & Quebec      & chilled &  175 & 24.1\\\\\n",
       "\t24 & Qc1 & Quebec      & chilled &  250 & 30.3\\\\\n",
       "\t25 & Qc1 & Quebec      & chilled &  350 & 34.6\\\\\n",
       "\t26 & Qc1 & Quebec      & chilled &  500 & 32.5\\\\\n",
       "\t27 & Qc1 & Quebec      & chilled &  675 & 35.4\\\\\n",
       "\t28 & Qc1 & Quebec      & chilled & 1000 & 38.7\\\\\n",
       "\t29 & Qc2 & Quebec      & chilled &   95 &  9.3\\\\\n",
       "\t30 & Qc2 & Quebec      & chilled &  175 & 27.3\\\\\n",
       "\t31 & Qc2 & Quebec      & chilled &  250 & 35.0\\\\\n",
       "\t32 & Qc2 & Quebec      & chilled &  350 & 38.8\\\\\n",
       "\t33 & Qc2 & Quebec      & chilled &  500 & 38.6\\\\\n",
       "\t34 & Qc2 & Quebec      & chilled &  675 & 37.5\\\\\n",
       "\t35 & Qc2 & Quebec      & chilled & 1000 & 42.4\\\\\n",
       "\t36 & Qc3 & Quebec      & chilled &   95 & 15.1\\\\\n",
       "\t37 & Qc3 & Quebec      & chilled &  175 & 21.0\\\\\n",
       "\t38 & Qc3 & Quebec      & chilled &  250 & 38.1\\\\\n",
       "\t39 & Qc3 & Quebec      & chilled &  350 & 34.0\\\\\n",
       "\t40 & Qc3 & Quebec      & chilled &  500 & 38.9\\\\\n",
       "\t41 & Qc3 & Quebec      & chilled &  675 & 39.6\\\\\n",
       "\t42 & Qc3 & Quebec      & chilled & 1000 & 41.4\\\\\n",
       "\t64 & Mc1 & Mississippi & chilled &   95 & 10.5\\\\\n",
       "\t65 & Mc1 & Mississippi & chilled &  175 & 14.9\\\\\n",
       "\t66 & Mc1 & Mississippi & chilled &  250 & 18.1\\\\\n",
       "\t67 & Mc1 & Mississippi & chilled &  350 & 18.9\\\\\n",
       "\t68 & Mc1 & Mississippi & chilled &  500 & 19.5\\\\\n",
       "\t69 & Mc1 & Mississippi & chilled &  675 & 22.2\\\\\n",
       "\t70 & Mc1 & Mississippi & chilled & 1000 & 21.9\\\\\n",
       "\t71 & Mc2 & Mississippi & chilled &   95 &  7.7\\\\\n",
       "\t72 & Mc2 & Mississippi & chilled &  175 & 11.4\\\\\n",
       "\t73 & Mc2 & Mississippi & chilled &  250 & 12.3\\\\\n",
       "\t74 & Mc2 & Mississippi & chilled &  350 & 13.0\\\\\n",
       "\t75 & Mc2 & Mississippi & chilled &  500 & 12.5\\\\\n",
       "\t76 & Mc2 & Mississippi & chilled &  675 & 13.7\\\\\n",
       "\t77 & Mc2 & Mississippi & chilled & 1000 & 14.4\\\\\n",
       "\t78 & Mc3 & Mississippi & chilled &   95 & 10.6\\\\\n",
       "\t79 & Mc3 & Mississippi & chilled &  175 & 18.0\\\\\n",
       "\t80 & Mc3 & Mississippi & chilled &  250 & 17.9\\\\\n",
       "\t81 & Mc3 & Mississippi & chilled &  350 & 17.9\\\\\n",
       "\t82 & Mc3 & Mississippi & chilled &  500 & 17.9\\\\\n",
       "\t83 & Mc3 & Mississippi & chilled &  675 & 18.9\\\\\n",
       "\t84 & Mc3 & Mississippi & chilled & 1000 & 19.9\\\\\n",
       "\\end{tabular}\n"
      ],
      "text/markdown": [
       "\n",
       "A nfnGroupedData: 42 × 5\n",
       "\n",
       "| <!--/--> | Plant &lt;ord&gt; | Type &lt;fct&gt; | Treatment &lt;fct&gt; | conc &lt;dbl&gt; | uptake &lt;dbl&gt; |\n",
       "|---|---|---|---|---|---|\n",
       "| 22 | Qc1 | Quebec      | chilled |   95 | 14.2 |\n",
       "| 23 | Qc1 | Quebec      | chilled |  175 | 24.1 |\n",
       "| 24 | Qc1 | Quebec      | chilled |  250 | 30.3 |\n",
       "| 25 | Qc1 | Quebec      | chilled |  350 | 34.6 |\n",
       "| 26 | Qc1 | Quebec      | chilled |  500 | 32.5 |\n",
       "| 27 | Qc1 | Quebec      | chilled |  675 | 35.4 |\n",
       "| 28 | Qc1 | Quebec      | chilled | 1000 | 38.7 |\n",
       "| 29 | Qc2 | Quebec      | chilled |   95 |  9.3 |\n",
       "| 30 | Qc2 | Quebec      | chilled |  175 | 27.3 |\n",
       "| 31 | Qc2 | Quebec      | chilled |  250 | 35.0 |\n",
       "| 32 | Qc2 | Quebec      | chilled |  350 | 38.8 |\n",
       "| 33 | Qc2 | Quebec      | chilled |  500 | 38.6 |\n",
       "| 34 | Qc2 | Quebec      | chilled |  675 | 37.5 |\n",
       "| 35 | Qc2 | Quebec      | chilled | 1000 | 42.4 |\n",
       "| 36 | Qc3 | Quebec      | chilled |   95 | 15.1 |\n",
       "| 37 | Qc3 | Quebec      | chilled |  175 | 21.0 |\n",
       "| 38 | Qc3 | Quebec      | chilled |  250 | 38.1 |\n",
       "| 39 | Qc3 | Quebec      | chilled |  350 | 34.0 |\n",
       "| 40 | Qc3 | Quebec      | chilled |  500 | 38.9 |\n",
       "| 41 | Qc3 | Quebec      | chilled |  675 | 39.6 |\n",
       "| 42 | Qc3 | Quebec      | chilled | 1000 | 41.4 |\n",
       "| 64 | Mc1 | Mississippi | chilled |   95 | 10.5 |\n",
       "| 65 | Mc1 | Mississippi | chilled |  175 | 14.9 |\n",
       "| 66 | Mc1 | Mississippi | chilled |  250 | 18.1 |\n",
       "| 67 | Mc1 | Mississippi | chilled |  350 | 18.9 |\n",
       "| 68 | Mc1 | Mississippi | chilled |  500 | 19.5 |\n",
       "| 69 | Mc1 | Mississippi | chilled |  675 | 22.2 |\n",
       "| 70 | Mc1 | Mississippi | chilled | 1000 | 21.9 |\n",
       "| 71 | Mc2 | Mississippi | chilled |   95 |  7.7 |\n",
       "| 72 | Mc2 | Mississippi | chilled |  175 | 11.4 |\n",
       "| 73 | Mc2 | Mississippi | chilled |  250 | 12.3 |\n",
       "| 74 | Mc2 | Mississippi | chilled |  350 | 13.0 |\n",
       "| 75 | Mc2 | Mississippi | chilled |  500 | 12.5 |\n",
       "| 76 | Mc2 | Mississippi | chilled |  675 | 13.7 |\n",
       "| 77 | Mc2 | Mississippi | chilled | 1000 | 14.4 |\n",
       "| 78 | Mc3 | Mississippi | chilled |   95 | 10.6 |\n",
       "| 79 | Mc3 | Mississippi | chilled |  175 | 18.0 |\n",
       "| 80 | Mc3 | Mississippi | chilled |  250 | 17.9 |\n",
       "| 81 | Mc3 | Mississippi | chilled |  350 | 17.9 |\n",
       "| 82 | Mc3 | Mississippi | chilled |  500 | 17.9 |\n",
       "| 83 | Mc3 | Mississippi | chilled |  675 | 18.9 |\n",
       "| 84 | Mc3 | Mississippi | chilled | 1000 | 19.9 |\n",
       "\n"
      ],
      "text/plain": [
       "   Plant Type        Treatment conc uptake\n",
       "22 Qc1   Quebec      chilled     95 14.2  \n",
       "23 Qc1   Quebec      chilled    175 24.1  \n",
       "24 Qc1   Quebec      chilled    250 30.3  \n",
       "25 Qc1   Quebec      chilled    350 34.6  \n",
       "26 Qc1   Quebec      chilled    500 32.5  \n",
       "27 Qc1   Quebec      chilled    675 35.4  \n",
       "28 Qc1   Quebec      chilled   1000 38.7  \n",
       "29 Qc2   Quebec      chilled     95  9.3  \n",
       "30 Qc2   Quebec      chilled    175 27.3  \n",
       "31 Qc2   Quebec      chilled    250 35.0  \n",
       "32 Qc2   Quebec      chilled    350 38.8  \n",
       "33 Qc2   Quebec      chilled    500 38.6  \n",
       "34 Qc2   Quebec      chilled    675 37.5  \n",
       "35 Qc2   Quebec      chilled   1000 42.4  \n",
       "36 Qc3   Quebec      chilled     95 15.1  \n",
       "37 Qc3   Quebec      chilled    175 21.0  \n",
       "38 Qc3   Quebec      chilled    250 38.1  \n",
       "39 Qc3   Quebec      chilled    350 34.0  \n",
       "40 Qc3   Quebec      chilled    500 38.9  \n",
       "41 Qc3   Quebec      chilled    675 39.6  \n",
       "42 Qc3   Quebec      chilled   1000 41.4  \n",
       "64 Mc1   Mississippi chilled     95 10.5  \n",
       "65 Mc1   Mississippi chilled    175 14.9  \n",
       "66 Mc1   Mississippi chilled    250 18.1  \n",
       "67 Mc1   Mississippi chilled    350 18.9  \n",
       "68 Mc1   Mississippi chilled    500 19.5  \n",
       "69 Mc1   Mississippi chilled    675 22.2  \n",
       "70 Mc1   Mississippi chilled   1000 21.9  \n",
       "71 Mc2   Mississippi chilled     95  7.7  \n",
       "72 Mc2   Mississippi chilled    175 11.4  \n",
       "73 Mc2   Mississippi chilled    250 12.3  \n",
       "74 Mc2   Mississippi chilled    350 13.0  \n",
       "75 Mc2   Mississippi chilled    500 12.5  \n",
       "76 Mc2   Mississippi chilled    675 13.7  \n",
       "77 Mc2   Mississippi chilled   1000 14.4  \n",
       "78 Mc3   Mississippi chilled     95 10.6  \n",
       "79 Mc3   Mississippi chilled    175 18.0  \n",
       "80 Mc3   Mississippi chilled    250 17.9  \n",
       "81 Mc3   Mississippi chilled    350 17.9  \n",
       "82 Mc3   Mississippi chilled    500 17.9  \n",
       "83 Mc3   Mississippi chilled    675 18.9  \n",
       "84 Mc3   Mississippi chilled   1000 19.9  "
      ]
     },
     "metadata": {},
     "output_type": "display_data"
    }
   ],
   "source": [
    "#- The rows where `Treatment` equals `chilled` [0.5 mark]\n",
    "CO2[CO2$Treatment == \"chilled\",]\n"
   ]
  },
  {
   "cell_type": "code",
   "execution_count": 140,
   "metadata": {},
   "outputs": [
    {
     "data": {
      "text/html": [
       "<table>\n",
       "<caption>A nfnGroupedData: 2 × 5</caption>\n",
       "<thead>\n",
       "\t<tr><th></th><th scope=col>Plant</th><th scope=col>Type</th><th scope=col>Treatment</th><th scope=col>conc</th><th scope=col>uptake</th></tr>\n",
       "\t<tr><th></th><th scope=col>&lt;ord&gt;</th><th scope=col>&lt;fct&gt;</th><th scope=col>&lt;fct&gt;</th><th scope=col>&lt;dbl&gt;</th><th scope=col>&lt;dbl&gt;</th></tr>\n",
       "</thead>\n",
       "<tbody>\n",
       "\t<tr><th scope=row>29</th><td>Qc2</td><td>Quebec     </td><td>chilled</td><td>95</td><td>9.3</td></tr>\n",
       "\t<tr><th scope=row>71</th><td>Mc2</td><td>Mississippi</td><td>chilled</td><td>95</td><td>7.7</td></tr>\n",
       "</tbody>\n",
       "</table>\n"
      ],
      "text/latex": [
       "A nfnGroupedData: 2 × 5\n",
       "\\begin{tabular}{r|lllll}\n",
       "  & Plant & Type & Treatment & conc & uptake\\\\\n",
       "  & <ord> & <fct> & <fct> & <dbl> & <dbl>\\\\\n",
       "\\hline\n",
       "\t29 & Qc2 & Quebec      & chilled & 95 & 9.3\\\\\n",
       "\t71 & Mc2 & Mississippi & chilled & 95 & 7.7\\\\\n",
       "\\end{tabular}\n"
      ],
      "text/markdown": [
       "\n",
       "A nfnGroupedData: 2 × 5\n",
       "\n",
       "| <!--/--> | Plant &lt;ord&gt; | Type &lt;fct&gt; | Treatment &lt;fct&gt; | conc &lt;dbl&gt; | uptake &lt;dbl&gt; |\n",
       "|---|---|---|---|---|---|\n",
       "| 29 | Qc2 | Quebec      | chilled | 95 | 9.3 |\n",
       "| 71 | Mc2 | Mississippi | chilled | 95 | 7.7 |\n",
       "\n"
      ],
      "text/plain": [
       "   Plant Type        Treatment conc uptake\n",
       "29 Qc2   Quebec      chilled   95   9.3   \n",
       "71 Mc2   Mississippi chilled   95   7.7   "
      ]
     },
     "metadata": {},
     "output_type": "display_data"
    }
   ],
   "source": [
    "#- The rows where `Treatment` equals `chilled` and `uptake` <`10` [0.5 mark]\n",
    "CO2[CO2$Treatment == \"chilled\" & CO2$uptake <10,]"
   ]
  },
  {
   "cell_type": "code",
   "execution_count": 144,
   "metadata": {},
   "outputs": [],
   "source": [
    "#c. Drop the `Type` column from the data frame [0.5 mark]\n",
    "newCO2 <- CO2[-c(2)]"
   ]
  },
  {
   "cell_type": "code",
   "execution_count": 145,
   "metadata": {},
   "outputs": [
    {
     "data": {
      "text/html": [
       "<table>\n",
       "<caption>A nfnGroupedData: 6 × 4</caption>\n",
       "<thead>\n",
       "\t<tr><th scope=col>Plant</th><th scope=col>Treatment</th><th scope=col>conc</th><th scope=col>uptake</th></tr>\n",
       "\t<tr><th scope=col>&lt;ord&gt;</th><th scope=col>&lt;fct&gt;</th><th scope=col>&lt;dbl&gt;</th><th scope=col>&lt;dbl&gt;</th></tr>\n",
       "</thead>\n",
       "<tbody>\n",
       "\t<tr><td>Qn1</td><td>nonchilled</td><td> 95</td><td>16.0</td></tr>\n",
       "\t<tr><td>Qn1</td><td>nonchilled</td><td>175</td><td>30.4</td></tr>\n",
       "\t<tr><td>Qn1</td><td>nonchilled</td><td>250</td><td>34.8</td></tr>\n",
       "\t<tr><td>Qn1</td><td>nonchilled</td><td>350</td><td>37.2</td></tr>\n",
       "\t<tr><td>Qn1</td><td>nonchilled</td><td>500</td><td>35.3</td></tr>\n",
       "\t<tr><td>Qn1</td><td>nonchilled</td><td>675</td><td>39.2</td></tr>\n",
       "</tbody>\n",
       "</table>\n"
      ],
      "text/latex": [
       "A nfnGroupedData: 6 × 4\n",
       "\\begin{tabular}{r|llll}\n",
       " Plant & Treatment & conc & uptake\\\\\n",
       " <ord> & <fct> & <dbl> & <dbl>\\\\\n",
       "\\hline\n",
       "\t Qn1 & nonchilled &  95 & 16.0\\\\\n",
       "\t Qn1 & nonchilled & 175 & 30.4\\\\\n",
       "\t Qn1 & nonchilled & 250 & 34.8\\\\\n",
       "\t Qn1 & nonchilled & 350 & 37.2\\\\\n",
       "\t Qn1 & nonchilled & 500 & 35.3\\\\\n",
       "\t Qn1 & nonchilled & 675 & 39.2\\\\\n",
       "\\end{tabular}\n"
      ],
      "text/markdown": [
       "\n",
       "A nfnGroupedData: 6 × 4\n",
       "\n",
       "| Plant &lt;ord&gt; | Treatment &lt;fct&gt; | conc &lt;dbl&gt; | uptake &lt;dbl&gt; |\n",
       "|---|---|---|---|\n",
       "| Qn1 | nonchilled |  95 | 16.0 |\n",
       "| Qn1 | nonchilled | 175 | 30.4 |\n",
       "| Qn1 | nonchilled | 250 | 34.8 |\n",
       "| Qn1 | nonchilled | 350 | 37.2 |\n",
       "| Qn1 | nonchilled | 500 | 35.3 |\n",
       "| Qn1 | nonchilled | 675 | 39.2 |\n",
       "\n"
      ],
      "text/plain": [
       "  Plant Treatment  conc uptake\n",
       "1 Qn1   nonchilled  95  16.0  \n",
       "2 Qn1   nonchilled 175  30.4  \n",
       "3 Qn1   nonchilled 250  34.8  \n",
       "4 Qn1   nonchilled 350  37.2  \n",
       "5 Qn1   nonchilled 500  35.3  \n",
       "6 Qn1   nonchilled 675  39.2  "
      ]
     },
     "metadata": {},
     "output_type": "display_data"
    }
   ],
   "source": [
    "head(newCO2)"
   ]
  },
  {
   "cell_type": "code",
   "execution_count": 148,
   "metadata": {},
   "outputs": [
    {
     "data": {
      "text/html": [
       "<table>\n",
       "<caption>A data.frame: 84 × 6</caption>\n",
       "<thead>\n",
       "\t<tr><th scope=col>Plant</th><th scope=col>Type</th><th scope=col>Treatment</th><th scope=col>conc</th><th scope=col>uptake</th><th scope=col>new.col</th></tr>\n",
       "\t<tr><th scope=col>&lt;ord&gt;</th><th scope=col>&lt;fct&gt;</th><th scope=col>&lt;fct&gt;</th><th scope=col>&lt;dbl&gt;</th><th scope=col>&lt;dbl&gt;</th><th scope=col>&lt;dbl&gt;</th></tr>\n",
       "</thead>\n",
       "<tbody>\n",
       "\t<tr><td>Qn1</td><td>Quebec</td><td>nonchilled</td><td>  95</td><td>16.0</td><td>0.16842105</td></tr>\n",
       "\t<tr><td>Qn1</td><td>Quebec</td><td>nonchilled</td><td> 175</td><td>30.4</td><td>0.17371429</td></tr>\n",
       "\t<tr><td>Qn1</td><td>Quebec</td><td>nonchilled</td><td> 250</td><td>34.8</td><td>0.13920000</td></tr>\n",
       "\t<tr><td>Qn1</td><td>Quebec</td><td>nonchilled</td><td> 350</td><td>37.2</td><td>0.10628571</td></tr>\n",
       "\t<tr><td>Qn1</td><td>Quebec</td><td>nonchilled</td><td> 500</td><td>35.3</td><td>0.07060000</td></tr>\n",
       "\t<tr><td>Qn1</td><td>Quebec</td><td>nonchilled</td><td> 675</td><td>39.2</td><td>0.05807407</td></tr>\n",
       "\t<tr><td>Qn1</td><td>Quebec</td><td>nonchilled</td><td>1000</td><td>39.7</td><td>0.03970000</td></tr>\n",
       "\t<tr><td>Qn2</td><td>Quebec</td><td>nonchilled</td><td>  95</td><td>13.6</td><td>0.14315789</td></tr>\n",
       "\t<tr><td>Qn2</td><td>Quebec</td><td>nonchilled</td><td> 175</td><td>27.3</td><td>0.15600000</td></tr>\n",
       "\t<tr><td>Qn2</td><td>Quebec</td><td>nonchilled</td><td> 250</td><td>37.1</td><td>0.14840000</td></tr>\n",
       "\t<tr><td>Qn2</td><td>Quebec</td><td>nonchilled</td><td> 350</td><td>41.8</td><td>0.11942857</td></tr>\n",
       "\t<tr><td>Qn2</td><td>Quebec</td><td>nonchilled</td><td> 500</td><td>40.6</td><td>0.08120000</td></tr>\n",
       "\t<tr><td>Qn2</td><td>Quebec</td><td>nonchilled</td><td> 675</td><td>41.4</td><td>0.06133333</td></tr>\n",
       "\t<tr><td>Qn2</td><td>Quebec</td><td>nonchilled</td><td>1000</td><td>44.3</td><td>0.04430000</td></tr>\n",
       "\t<tr><td>Qn3</td><td>Quebec</td><td>nonchilled</td><td>  95</td><td>16.2</td><td>0.17052632</td></tr>\n",
       "\t<tr><td>Qn3</td><td>Quebec</td><td>nonchilled</td><td> 175</td><td>32.4</td><td>0.18514286</td></tr>\n",
       "\t<tr><td>Qn3</td><td>Quebec</td><td>nonchilled</td><td> 250</td><td>40.3</td><td>0.16120000</td></tr>\n",
       "\t<tr><td>Qn3</td><td>Quebec</td><td>nonchilled</td><td> 350</td><td>42.1</td><td>0.12028571</td></tr>\n",
       "\t<tr><td>Qn3</td><td>Quebec</td><td>nonchilled</td><td> 500</td><td>42.9</td><td>0.08580000</td></tr>\n",
       "\t<tr><td>Qn3</td><td>Quebec</td><td>nonchilled</td><td> 675</td><td>43.9</td><td>0.06503704</td></tr>\n",
       "\t<tr><td>Qn3</td><td>Quebec</td><td>nonchilled</td><td>1000</td><td>45.5</td><td>0.04550000</td></tr>\n",
       "\t<tr><td>Qc1</td><td>Quebec</td><td>chilled   </td><td>  95</td><td>14.2</td><td>0.14947368</td></tr>\n",
       "\t<tr><td>Qc1</td><td>Quebec</td><td>chilled   </td><td> 175</td><td>24.1</td><td>0.13771429</td></tr>\n",
       "\t<tr><td>Qc1</td><td>Quebec</td><td>chilled   </td><td> 250</td><td>30.3</td><td>0.12120000</td></tr>\n",
       "\t<tr><td>Qc1</td><td>Quebec</td><td>chilled   </td><td> 350</td><td>34.6</td><td>0.09885714</td></tr>\n",
       "\t<tr><td>Qc1</td><td>Quebec</td><td>chilled   </td><td> 500</td><td>32.5</td><td>0.06500000</td></tr>\n",
       "\t<tr><td>Qc1</td><td>Quebec</td><td>chilled   </td><td> 675</td><td>35.4</td><td>0.05244444</td></tr>\n",
       "\t<tr><td>Qc1</td><td>Quebec</td><td>chilled   </td><td>1000</td><td>38.7</td><td>0.03870000</td></tr>\n",
       "\t<tr><td>Qc2</td><td>Quebec</td><td>chilled   </td><td>  95</td><td> 9.3</td><td>0.09789474</td></tr>\n",
       "\t<tr><td>Qc2</td><td>Quebec</td><td>chilled   </td><td> 175</td><td>27.3</td><td>0.15600000</td></tr>\n",
       "\t<tr><td>⋮</td><td>⋮</td><td>⋮</td><td>⋮</td><td>⋮</td><td>⋮</td></tr>\n",
       "\t<tr><td>Mn2</td><td>Mississippi</td><td>nonchilled</td><td> 675</td><td>31.1</td><td>0.04607407</td></tr>\n",
       "\t<tr><td>Mn2</td><td>Mississippi</td><td>nonchilled</td><td>1000</td><td>31.5</td><td>0.03150000</td></tr>\n",
       "\t<tr><td>Mn3</td><td>Mississippi</td><td>nonchilled</td><td>  95</td><td>11.3</td><td>0.11894737</td></tr>\n",
       "\t<tr><td>Mn3</td><td>Mississippi</td><td>nonchilled</td><td> 175</td><td>19.4</td><td>0.11085714</td></tr>\n",
       "\t<tr><td>Mn3</td><td>Mississippi</td><td>nonchilled</td><td> 250</td><td>25.8</td><td>0.10320000</td></tr>\n",
       "\t<tr><td>Mn3</td><td>Mississippi</td><td>nonchilled</td><td> 350</td><td>27.9</td><td>0.07971429</td></tr>\n",
       "\t<tr><td>Mn3</td><td>Mississippi</td><td>nonchilled</td><td> 500</td><td>28.5</td><td>0.05700000</td></tr>\n",
       "\t<tr><td>Mn3</td><td>Mississippi</td><td>nonchilled</td><td> 675</td><td>28.1</td><td>0.04162963</td></tr>\n",
       "\t<tr><td>Mn3</td><td>Mississippi</td><td>nonchilled</td><td>1000</td><td>27.8</td><td>0.02780000</td></tr>\n",
       "\t<tr><td>Mc1</td><td>Mississippi</td><td>chilled   </td><td>  95</td><td>10.5</td><td>0.11052632</td></tr>\n",
       "\t<tr><td>Mc1</td><td>Mississippi</td><td>chilled   </td><td> 175</td><td>14.9</td><td>0.08514286</td></tr>\n",
       "\t<tr><td>Mc1</td><td>Mississippi</td><td>chilled   </td><td> 250</td><td>18.1</td><td>0.07240000</td></tr>\n",
       "\t<tr><td>Mc1</td><td>Mississippi</td><td>chilled   </td><td> 350</td><td>18.9</td><td>0.05400000</td></tr>\n",
       "\t<tr><td>Mc1</td><td>Mississippi</td><td>chilled   </td><td> 500</td><td>19.5</td><td>0.03900000</td></tr>\n",
       "\t<tr><td>Mc1</td><td>Mississippi</td><td>chilled   </td><td> 675</td><td>22.2</td><td>0.03288889</td></tr>\n",
       "\t<tr><td>Mc1</td><td>Mississippi</td><td>chilled   </td><td>1000</td><td>21.9</td><td>0.02190000</td></tr>\n",
       "\t<tr><td>Mc2</td><td>Mississippi</td><td>chilled   </td><td>  95</td><td> 7.7</td><td>0.08105263</td></tr>\n",
       "\t<tr><td>Mc2</td><td>Mississippi</td><td>chilled   </td><td> 175</td><td>11.4</td><td>0.06514286</td></tr>\n",
       "\t<tr><td>Mc2</td><td>Mississippi</td><td>chilled   </td><td> 250</td><td>12.3</td><td>0.04920000</td></tr>\n",
       "\t<tr><td>Mc2</td><td>Mississippi</td><td>chilled   </td><td> 350</td><td>13.0</td><td>0.03714286</td></tr>\n",
       "\t<tr><td>Mc2</td><td>Mississippi</td><td>chilled   </td><td> 500</td><td>12.5</td><td>0.02500000</td></tr>\n",
       "\t<tr><td>Mc2</td><td>Mississippi</td><td>chilled   </td><td> 675</td><td>13.7</td><td>0.02029630</td></tr>\n",
       "\t<tr><td>Mc2</td><td>Mississippi</td><td>chilled   </td><td>1000</td><td>14.4</td><td>0.01440000</td></tr>\n",
       "\t<tr><td>Mc3</td><td>Mississippi</td><td>chilled   </td><td>  95</td><td>10.6</td><td>0.11157895</td></tr>\n",
       "\t<tr><td>Mc3</td><td>Mississippi</td><td>chilled   </td><td> 175</td><td>18.0</td><td>0.10285714</td></tr>\n",
       "\t<tr><td>Mc3</td><td>Mississippi</td><td>chilled   </td><td> 250</td><td>17.9</td><td>0.07160000</td></tr>\n",
       "\t<tr><td>Mc3</td><td>Mississippi</td><td>chilled   </td><td> 350</td><td>17.9</td><td>0.05114286</td></tr>\n",
       "\t<tr><td>Mc3</td><td>Mississippi</td><td>chilled   </td><td> 500</td><td>17.9</td><td>0.03580000</td></tr>\n",
       "\t<tr><td>Mc3</td><td>Mississippi</td><td>chilled   </td><td> 675</td><td>18.9</td><td>0.02800000</td></tr>\n",
       "\t<tr><td>Mc3</td><td>Mississippi</td><td>chilled   </td><td>1000</td><td>19.9</td><td>0.01990000</td></tr>\n",
       "</tbody>\n",
       "</table>\n"
      ],
      "text/latex": [
       "A data.frame: 84 × 6\n",
       "\\begin{tabular}{r|llllll}\n",
       " Plant & Type & Treatment & conc & uptake & new.col\\\\\n",
       " <ord> & <fct> & <fct> & <dbl> & <dbl> & <dbl>\\\\\n",
       "\\hline\n",
       "\t Qn1 & Quebec & nonchilled &   95 & 16.0 & 0.16842105\\\\\n",
       "\t Qn1 & Quebec & nonchilled &  175 & 30.4 & 0.17371429\\\\\n",
       "\t Qn1 & Quebec & nonchilled &  250 & 34.8 & 0.13920000\\\\\n",
       "\t Qn1 & Quebec & nonchilled &  350 & 37.2 & 0.10628571\\\\\n",
       "\t Qn1 & Quebec & nonchilled &  500 & 35.3 & 0.07060000\\\\\n",
       "\t Qn1 & Quebec & nonchilled &  675 & 39.2 & 0.05807407\\\\\n",
       "\t Qn1 & Quebec & nonchilled & 1000 & 39.7 & 0.03970000\\\\\n",
       "\t Qn2 & Quebec & nonchilled &   95 & 13.6 & 0.14315789\\\\\n",
       "\t Qn2 & Quebec & nonchilled &  175 & 27.3 & 0.15600000\\\\\n",
       "\t Qn2 & Quebec & nonchilled &  250 & 37.1 & 0.14840000\\\\\n",
       "\t Qn2 & Quebec & nonchilled &  350 & 41.8 & 0.11942857\\\\\n",
       "\t Qn2 & Quebec & nonchilled &  500 & 40.6 & 0.08120000\\\\\n",
       "\t Qn2 & Quebec & nonchilled &  675 & 41.4 & 0.06133333\\\\\n",
       "\t Qn2 & Quebec & nonchilled & 1000 & 44.3 & 0.04430000\\\\\n",
       "\t Qn3 & Quebec & nonchilled &   95 & 16.2 & 0.17052632\\\\\n",
       "\t Qn3 & Quebec & nonchilled &  175 & 32.4 & 0.18514286\\\\\n",
       "\t Qn3 & Quebec & nonchilled &  250 & 40.3 & 0.16120000\\\\\n",
       "\t Qn3 & Quebec & nonchilled &  350 & 42.1 & 0.12028571\\\\\n",
       "\t Qn3 & Quebec & nonchilled &  500 & 42.9 & 0.08580000\\\\\n",
       "\t Qn3 & Quebec & nonchilled &  675 & 43.9 & 0.06503704\\\\\n",
       "\t Qn3 & Quebec & nonchilled & 1000 & 45.5 & 0.04550000\\\\\n",
       "\t Qc1 & Quebec & chilled    &   95 & 14.2 & 0.14947368\\\\\n",
       "\t Qc1 & Quebec & chilled    &  175 & 24.1 & 0.13771429\\\\\n",
       "\t Qc1 & Quebec & chilled    &  250 & 30.3 & 0.12120000\\\\\n",
       "\t Qc1 & Quebec & chilled    &  350 & 34.6 & 0.09885714\\\\\n",
       "\t Qc1 & Quebec & chilled    &  500 & 32.5 & 0.06500000\\\\\n",
       "\t Qc1 & Quebec & chilled    &  675 & 35.4 & 0.05244444\\\\\n",
       "\t Qc1 & Quebec & chilled    & 1000 & 38.7 & 0.03870000\\\\\n",
       "\t Qc2 & Quebec & chilled    &   95 &  9.3 & 0.09789474\\\\\n",
       "\t Qc2 & Quebec & chilled    &  175 & 27.3 & 0.15600000\\\\\n",
       "\t ⋮ & ⋮ & ⋮ & ⋮ & ⋮ & ⋮\\\\\n",
       "\t Mn2 & Mississippi & nonchilled &  675 & 31.1 & 0.04607407\\\\\n",
       "\t Mn2 & Mississippi & nonchilled & 1000 & 31.5 & 0.03150000\\\\\n",
       "\t Mn3 & Mississippi & nonchilled &   95 & 11.3 & 0.11894737\\\\\n",
       "\t Mn3 & Mississippi & nonchilled &  175 & 19.4 & 0.11085714\\\\\n",
       "\t Mn3 & Mississippi & nonchilled &  250 & 25.8 & 0.10320000\\\\\n",
       "\t Mn3 & Mississippi & nonchilled &  350 & 27.9 & 0.07971429\\\\\n",
       "\t Mn3 & Mississippi & nonchilled &  500 & 28.5 & 0.05700000\\\\\n",
       "\t Mn3 & Mississippi & nonchilled &  675 & 28.1 & 0.04162963\\\\\n",
       "\t Mn3 & Mississippi & nonchilled & 1000 & 27.8 & 0.02780000\\\\\n",
       "\t Mc1 & Mississippi & chilled    &   95 & 10.5 & 0.11052632\\\\\n",
       "\t Mc1 & Mississippi & chilled    &  175 & 14.9 & 0.08514286\\\\\n",
       "\t Mc1 & Mississippi & chilled    &  250 & 18.1 & 0.07240000\\\\\n",
       "\t Mc1 & Mississippi & chilled    &  350 & 18.9 & 0.05400000\\\\\n",
       "\t Mc1 & Mississippi & chilled    &  500 & 19.5 & 0.03900000\\\\\n",
       "\t Mc1 & Mississippi & chilled    &  675 & 22.2 & 0.03288889\\\\\n",
       "\t Mc1 & Mississippi & chilled    & 1000 & 21.9 & 0.02190000\\\\\n",
       "\t Mc2 & Mississippi & chilled    &   95 &  7.7 & 0.08105263\\\\\n",
       "\t Mc2 & Mississippi & chilled    &  175 & 11.4 & 0.06514286\\\\\n",
       "\t Mc2 & Mississippi & chilled    &  250 & 12.3 & 0.04920000\\\\\n",
       "\t Mc2 & Mississippi & chilled    &  350 & 13.0 & 0.03714286\\\\\n",
       "\t Mc2 & Mississippi & chilled    &  500 & 12.5 & 0.02500000\\\\\n",
       "\t Mc2 & Mississippi & chilled    &  675 & 13.7 & 0.02029630\\\\\n",
       "\t Mc2 & Mississippi & chilled    & 1000 & 14.4 & 0.01440000\\\\\n",
       "\t Mc3 & Mississippi & chilled    &   95 & 10.6 & 0.11157895\\\\\n",
       "\t Mc3 & Mississippi & chilled    &  175 & 18.0 & 0.10285714\\\\\n",
       "\t Mc3 & Mississippi & chilled    &  250 & 17.9 & 0.07160000\\\\\n",
       "\t Mc3 & Mississippi & chilled    &  350 & 17.9 & 0.05114286\\\\\n",
       "\t Mc3 & Mississippi & chilled    &  500 & 17.9 & 0.03580000\\\\\n",
       "\t Mc3 & Mississippi & chilled    &  675 & 18.9 & 0.02800000\\\\\n",
       "\t Mc3 & Mississippi & chilled    & 1000 & 19.9 & 0.01990000\\\\\n",
       "\\end{tabular}\n"
      ],
      "text/markdown": [
       "\n",
       "A data.frame: 84 × 6\n",
       "\n",
       "| Plant &lt;ord&gt; | Type &lt;fct&gt; | Treatment &lt;fct&gt; | conc &lt;dbl&gt; | uptake &lt;dbl&gt; | new.col &lt;dbl&gt; |\n",
       "|---|---|---|---|---|---|\n",
       "| Qn1 | Quebec | nonchilled |   95 | 16.0 | 0.16842105 |\n",
       "| Qn1 | Quebec | nonchilled |  175 | 30.4 | 0.17371429 |\n",
       "| Qn1 | Quebec | nonchilled |  250 | 34.8 | 0.13920000 |\n",
       "| Qn1 | Quebec | nonchilled |  350 | 37.2 | 0.10628571 |\n",
       "| Qn1 | Quebec | nonchilled |  500 | 35.3 | 0.07060000 |\n",
       "| Qn1 | Quebec | nonchilled |  675 | 39.2 | 0.05807407 |\n",
       "| Qn1 | Quebec | nonchilled | 1000 | 39.7 | 0.03970000 |\n",
       "| Qn2 | Quebec | nonchilled |   95 | 13.6 | 0.14315789 |\n",
       "| Qn2 | Quebec | nonchilled |  175 | 27.3 | 0.15600000 |\n",
       "| Qn2 | Quebec | nonchilled |  250 | 37.1 | 0.14840000 |\n",
       "| Qn2 | Quebec | nonchilled |  350 | 41.8 | 0.11942857 |\n",
       "| Qn2 | Quebec | nonchilled |  500 | 40.6 | 0.08120000 |\n",
       "| Qn2 | Quebec | nonchilled |  675 | 41.4 | 0.06133333 |\n",
       "| Qn2 | Quebec | nonchilled | 1000 | 44.3 | 0.04430000 |\n",
       "| Qn3 | Quebec | nonchilled |   95 | 16.2 | 0.17052632 |\n",
       "| Qn3 | Quebec | nonchilled |  175 | 32.4 | 0.18514286 |\n",
       "| Qn3 | Quebec | nonchilled |  250 | 40.3 | 0.16120000 |\n",
       "| Qn3 | Quebec | nonchilled |  350 | 42.1 | 0.12028571 |\n",
       "| Qn3 | Quebec | nonchilled |  500 | 42.9 | 0.08580000 |\n",
       "| Qn3 | Quebec | nonchilled |  675 | 43.9 | 0.06503704 |\n",
       "| Qn3 | Quebec | nonchilled | 1000 | 45.5 | 0.04550000 |\n",
       "| Qc1 | Quebec | chilled    |   95 | 14.2 | 0.14947368 |\n",
       "| Qc1 | Quebec | chilled    |  175 | 24.1 | 0.13771429 |\n",
       "| Qc1 | Quebec | chilled    |  250 | 30.3 | 0.12120000 |\n",
       "| Qc1 | Quebec | chilled    |  350 | 34.6 | 0.09885714 |\n",
       "| Qc1 | Quebec | chilled    |  500 | 32.5 | 0.06500000 |\n",
       "| Qc1 | Quebec | chilled    |  675 | 35.4 | 0.05244444 |\n",
       "| Qc1 | Quebec | chilled    | 1000 | 38.7 | 0.03870000 |\n",
       "| Qc2 | Quebec | chilled    |   95 |  9.3 | 0.09789474 |\n",
       "| Qc2 | Quebec | chilled    |  175 | 27.3 | 0.15600000 |\n",
       "| ⋮ | ⋮ | ⋮ | ⋮ | ⋮ | ⋮ |\n",
       "| Mn2 | Mississippi | nonchilled |  675 | 31.1 | 0.04607407 |\n",
       "| Mn2 | Mississippi | nonchilled | 1000 | 31.5 | 0.03150000 |\n",
       "| Mn3 | Mississippi | nonchilled |   95 | 11.3 | 0.11894737 |\n",
       "| Mn3 | Mississippi | nonchilled |  175 | 19.4 | 0.11085714 |\n",
       "| Mn3 | Mississippi | nonchilled |  250 | 25.8 | 0.10320000 |\n",
       "| Mn3 | Mississippi | nonchilled |  350 | 27.9 | 0.07971429 |\n",
       "| Mn3 | Mississippi | nonchilled |  500 | 28.5 | 0.05700000 |\n",
       "| Mn3 | Mississippi | nonchilled |  675 | 28.1 | 0.04162963 |\n",
       "| Mn3 | Mississippi | nonchilled | 1000 | 27.8 | 0.02780000 |\n",
       "| Mc1 | Mississippi | chilled    |   95 | 10.5 | 0.11052632 |\n",
       "| Mc1 | Mississippi | chilled    |  175 | 14.9 | 0.08514286 |\n",
       "| Mc1 | Mississippi | chilled    |  250 | 18.1 | 0.07240000 |\n",
       "| Mc1 | Mississippi | chilled    |  350 | 18.9 | 0.05400000 |\n",
       "| Mc1 | Mississippi | chilled    |  500 | 19.5 | 0.03900000 |\n",
       "| Mc1 | Mississippi | chilled    |  675 | 22.2 | 0.03288889 |\n",
       "| Mc1 | Mississippi | chilled    | 1000 | 21.9 | 0.02190000 |\n",
       "| Mc2 | Mississippi | chilled    |   95 |  7.7 | 0.08105263 |\n",
       "| Mc2 | Mississippi | chilled    |  175 | 11.4 | 0.06514286 |\n",
       "| Mc2 | Mississippi | chilled    |  250 | 12.3 | 0.04920000 |\n",
       "| Mc2 | Mississippi | chilled    |  350 | 13.0 | 0.03714286 |\n",
       "| Mc2 | Mississippi | chilled    |  500 | 12.5 | 0.02500000 |\n",
       "| Mc2 | Mississippi | chilled    |  675 | 13.7 | 0.02029630 |\n",
       "| Mc2 | Mississippi | chilled    | 1000 | 14.4 | 0.01440000 |\n",
       "| Mc3 | Mississippi | chilled    |   95 | 10.6 | 0.11157895 |\n",
       "| Mc3 | Mississippi | chilled    |  175 | 18.0 | 0.10285714 |\n",
       "| Mc3 | Mississippi | chilled    |  250 | 17.9 | 0.07160000 |\n",
       "| Mc3 | Mississippi | chilled    |  350 | 17.9 | 0.05114286 |\n",
       "| Mc3 | Mississippi | chilled    |  500 | 17.9 | 0.03580000 |\n",
       "| Mc3 | Mississippi | chilled    |  675 | 18.9 | 0.02800000 |\n",
       "| Mc3 | Mississippi | chilled    | 1000 | 19.9 | 0.01990000 |\n",
       "\n"
      ],
      "text/plain": [
       "   Plant Type        Treatment  conc uptake new.col   \n",
       "1  Qn1   Quebec      nonchilled   95 16.0   0.16842105\n",
       "2  Qn1   Quebec      nonchilled  175 30.4   0.17371429\n",
       "3  Qn1   Quebec      nonchilled  250 34.8   0.13920000\n",
       "4  Qn1   Quebec      nonchilled  350 37.2   0.10628571\n",
       "5  Qn1   Quebec      nonchilled  500 35.3   0.07060000\n",
       "6  Qn1   Quebec      nonchilled  675 39.2   0.05807407\n",
       "7  Qn1   Quebec      nonchilled 1000 39.7   0.03970000\n",
       "8  Qn2   Quebec      nonchilled   95 13.6   0.14315789\n",
       "9  Qn2   Quebec      nonchilled  175 27.3   0.15600000\n",
       "10 Qn2   Quebec      nonchilled  250 37.1   0.14840000\n",
       "11 Qn2   Quebec      nonchilled  350 41.8   0.11942857\n",
       "12 Qn2   Quebec      nonchilled  500 40.6   0.08120000\n",
       "13 Qn2   Quebec      nonchilled  675 41.4   0.06133333\n",
       "14 Qn2   Quebec      nonchilled 1000 44.3   0.04430000\n",
       "15 Qn3   Quebec      nonchilled   95 16.2   0.17052632\n",
       "16 Qn3   Quebec      nonchilled  175 32.4   0.18514286\n",
       "17 Qn3   Quebec      nonchilled  250 40.3   0.16120000\n",
       "18 Qn3   Quebec      nonchilled  350 42.1   0.12028571\n",
       "19 Qn3   Quebec      nonchilled  500 42.9   0.08580000\n",
       "20 Qn3   Quebec      nonchilled  675 43.9   0.06503704\n",
       "21 Qn3   Quebec      nonchilled 1000 45.5   0.04550000\n",
       "22 Qc1   Quebec      chilled      95 14.2   0.14947368\n",
       "23 Qc1   Quebec      chilled     175 24.1   0.13771429\n",
       "24 Qc1   Quebec      chilled     250 30.3   0.12120000\n",
       "25 Qc1   Quebec      chilled     350 34.6   0.09885714\n",
       "26 Qc1   Quebec      chilled     500 32.5   0.06500000\n",
       "27 Qc1   Quebec      chilled     675 35.4   0.05244444\n",
       "28 Qc1   Quebec      chilled    1000 38.7   0.03870000\n",
       "29 Qc2   Quebec      chilled      95  9.3   0.09789474\n",
       "30 Qc2   Quebec      chilled     175 27.3   0.15600000\n",
       "⋮  ⋮     ⋮           ⋮          ⋮    ⋮      ⋮         \n",
       "55 Mn2   Mississippi nonchilled  675 31.1   0.04607407\n",
       "56 Mn2   Mississippi nonchilled 1000 31.5   0.03150000\n",
       "57 Mn3   Mississippi nonchilled   95 11.3   0.11894737\n",
       "58 Mn3   Mississippi nonchilled  175 19.4   0.11085714\n",
       "59 Mn3   Mississippi nonchilled  250 25.8   0.10320000\n",
       "60 Mn3   Mississippi nonchilled  350 27.9   0.07971429\n",
       "61 Mn3   Mississippi nonchilled  500 28.5   0.05700000\n",
       "62 Mn3   Mississippi nonchilled  675 28.1   0.04162963\n",
       "63 Mn3   Mississippi nonchilled 1000 27.8   0.02780000\n",
       "64 Mc1   Mississippi chilled      95 10.5   0.11052632\n",
       "65 Mc1   Mississippi chilled     175 14.9   0.08514286\n",
       "66 Mc1   Mississippi chilled     250 18.1   0.07240000\n",
       "67 Mc1   Mississippi chilled     350 18.9   0.05400000\n",
       "68 Mc1   Mississippi chilled     500 19.5   0.03900000\n",
       "69 Mc1   Mississippi chilled     675 22.2   0.03288889\n",
       "70 Mc1   Mississippi chilled    1000 21.9   0.02190000\n",
       "71 Mc2   Mississippi chilled      95  7.7   0.08105263\n",
       "72 Mc2   Mississippi chilled     175 11.4   0.06514286\n",
       "73 Mc2   Mississippi chilled     250 12.3   0.04920000\n",
       "74 Mc2   Mississippi chilled     350 13.0   0.03714286\n",
       "75 Mc2   Mississippi chilled     500 12.5   0.02500000\n",
       "76 Mc2   Mississippi chilled     675 13.7   0.02029630\n",
       "77 Mc2   Mississippi chilled    1000 14.4   0.01440000\n",
       "78 Mc3   Mississippi chilled      95 10.6   0.11157895\n",
       "79 Mc3   Mississippi chilled     175 18.0   0.10285714\n",
       "80 Mc3   Mississippi chilled     250 17.9   0.07160000\n",
       "81 Mc3   Mississippi chilled     350 17.9   0.05114286\n",
       "82 Mc3   Mississippi chilled     500 17.9   0.03580000\n",
       "83 Mc3   Mississippi chilled     675 18.9   0.02800000\n",
       "84 Mc3   Mississippi chilled    1000 19.9   0.01990000"
      ]
     },
     "metadata": {},
     "output_type": "display_data"
    }
   ],
   "source": [
    "#d. Add a column to the dataframe containing the results of `uptake`/`conc` [0.5 marks]\n",
    "\n",
    "new.col <- CO2$uptake/CO2$conc\n",
    "cbind(CO2,new.col)\n"
   ]
  },
  {
   "cell_type": "code",
   "execution_count": 151,
   "metadata": {},
   "outputs": [],
   "source": [
    "#a. Generate a vector containing *50* random numbers between *-200* and *200* (with replacement). [1 mark]\n",
    "rand.vec <- sample(x = -200:200,size = 50,replace = T)"
   ]
  },
  {
   "cell_type": "code",
   "execution_count": 155,
   "metadata": {},
   "outputs": [
    {
     "name": "stdout",
     "output_type": "stream",
     "text": [
      " [1]  61 117 180   1 117 127 188 115   3 102 197   8 181 184  81  28   3 141   5\n",
      "[20] 188   3  81   3  42  41  71\n"
     ]
    }
   ],
   "source": [
    "#b. Write your own version of the absolute value function which accepts a vector, and uses the `ifelse` statement to create a new vector where all negative values are replaced with their positive equivalent, then returns the new vector. Use the vector in **(a)**, and output the results. [2 marks]\n",
    "f<-vector()\n",
    "for (number in rand.vec){\n",
    "  if (number< 0){\n",
    "    number = -number;\n",
    "    f <- append(f,number)\n",
    "  }\n",
    "}\n",
    "print(f)"
   ]
  },
  {
   "cell_type": "code",
   "execution_count": 159,
   "metadata": {},
   "outputs": [
    {
     "name": "stdout",
     "output_type": "stream",
     "text": [
      "[1] 9\n"
     ]
    }
   ],
   "source": [
    "#c. Write a function (called `f1`), which accepts two values `(x,y)`. If `x` is even, divide by *2*.  If it’s odd, multiple by `y`. Use a complete if/else statement rather then ifelse. [2 marks]\n",
    "\n",
    "f1 <- function(x,y){\n",
    "    if(x%%2==0){\n",
    "        x <- x/2\n",
    "    }else{\n",
    "        x <- x*y\n",
    "    }\n",
    "}\n",
    "\n",
    "print(f1(3,3))\n",
    "\n",
    "----OR----\n",
    "\n",
    "funm <- function(x,y){\n",
    "  if(x%%2==0){\n",
    "    x <- x/2\n",
    "    print(x)\n",
    "  }else{\n",
    "    x <- x*y\n",
    "    print(x)\n",
    "  }\n",
    "  \n",
    "}\n"
   ]
  },
  {
   "cell_type": "code",
   "execution_count": null,
   "metadata": {},
   "outputs": [],
   "source": [
    "#d. Randomly generate two vectors (`x` should be *25* numbers between *1:100*, `y` should be *5* numbers between *1:10*, allow replacement in both). Use the `f1` function from **(c)** on these vectors to generate vector `z`.  Output `z`. [2 marks]\n",
    "\n",
    "v1 <- sample(1:100,size = 25,replace = T)\n",
    "v2 <- sample(1:10,size = 5,replace = T)\n",
    "z <- vector()\n",
    "\n",
    "f2 <- function(v1,v2){\n",
    "    for values1 in v1{\n",
    "        for values2 in v2{\n",
    "            if(values1%%2==0){\n",
    "                values1 <- \n",
    "            }\n",
    "            \n",
    "            \n",
    "        }\n",
    "    }\n",
    "}"
   ]
  },
  {
   "cell_type": "code",
   "execution_count": 174,
   "metadata": {},
   "outputs": [
    {
     "name": "stdout",
     "output_type": "stream",
     "text": [
      "[1] FALSE\n"
     ]
    }
   ],
   "source": [
    "#e. Create a function that accepts two arguments, an integer and a vector of integers. It returns `TRUE` if the integer is present in the vector, otherwise it returns `FALSE`. Make sure you pay careful attention to your placement of the return(`FALSE`) line in your function. [2 marks]\n",
    "\n",
    "vec <- c(1,2,3,4)\n",
    "x <- 9\n",
    "\n",
    "if(x %in% vec){\n",
    "    print(TRUE)\n",
    "}else{\n",
    "    print(FALSE)\n",
    "}"
   ]
  },
  {
   "cell_type": "code",
   "execution_count": 177,
   "metadata": {},
   "outputs": [
    {
     "name": "stdout",
     "output_type": "stream",
     "text": [
      "[1] 3\n"
     ]
    }
   ],
   "source": [
    "#f. Create a function that accepts two arguments, an integer and a vector of integers. It returns the count of the number of occurences of the integer in the input vector. [2 marks]\n",
    "\n",
    "count <- 0\n",
    "count.vals <- function(number , vectr){\n",
    "    for (vals in vectr){\n",
    "        if(vals == number){\n",
    "            count <- count + 1\n",
    "        }\n",
    "    }\n",
    "print(count)\n",
    "}\n",
    "\n",
    "count.vals(number = 2 , vectr = vectr <- c(1,2,3,4,5,2,2))\n"
   ]
  },
  {
   "cell_type": "code",
   "execution_count": null,
   "metadata": {},
   "outputs": [],
   "source": []
  }
 ],
 "metadata": {
  "kernelspec": {
   "display_name": "R",
   "language": "R",
   "name": "ir"
  },
  "language_info": {
   "codemirror_mode": "r",
   "file_extension": ".r",
   "mimetype": "text/x-r-source",
   "name": "R",
   "pygments_lexer": "r",
   "version": "3.6.0"
  }
 },
 "nbformat": 4,
 "nbformat_minor": 4
}
