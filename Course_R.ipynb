{
 "cells": [
  {
   "cell_type": "code",
   "execution_count": 1,
   "metadata": {},
   "outputs": [],
   "source": [
    "lvl <- c(8, 10, 10, 1, 10, 10, 8, 12, 1, 12)"
   ]
  },
  {
   "cell_type": "code",
   "execution_count": 2,
   "metadata": {},
   "outputs": [
    {
     "name": "stdout",
     "output_type": "stream",
     "text": [
      "[1] 4\n",
      "[1] \"The sum is 82\"\n"
     ]
    }
   ],
   "source": [
    "sum.ele <- sum(lvl)\n",
    "avg.ele <- mean(lvl)\n",
    "med.ele <- median(lvl)\n",
    "len <- length(lvl)\n",
    "std.ele <- sd(lvl)\n",
    "rnd.std.ele <- round(std.ele)\n",
    "print(rnd.std.ele)\n",
    "print(paste(\"The sum is\",sum.ele))"
   ]
  },
  {
   "cell_type": "code",
   "execution_count": 3,
   "metadata": {},
   "outputs": [
    {
     "name": "stdout",
     "output_type": "stream",
     "text": [
      "[1] \"Ambassodor\" \"Duke\"       \"contessa\"  \n"
     ]
    }
   ],
   "source": [
    "draw <- function(){\n",
    "    deck <- c(\"Duke\",\"Asssasin\",\"Captain\",\"Ambassodor\",\"contessa\")\n",
    "    sample.deck <- sample(deck,size = 3 , replace = T)\n",
    "    print(sample.deck)\n",
    "    \n",
    "}\n",
    "\n",
    "draw()"
   ]
  },
  {
   "cell_type": "code",
   "execution_count": 4,
   "metadata": {},
   "outputs": [
    {
     "name": "stdout",
     "output_type": "stream",
     "text": [
      "[1] \"heads\"\n"
     ]
    }
   ],
   "source": [
    "flip <- function(){\n",
    "    coin <- c(\"heads\",\"tails\")\n",
    "    toss <- sample(coin,size = 1,prob = c(0.3,0.7))\n",
    "    print(toss)\n",
    "}\n",
    "\n",
    "flip()"
   ]
  },
  {
   "cell_type": "code",
   "execution_count": 5,
   "metadata": {},
   "outputs": [],
   "source": [
    "weight <- c(71, 67, 83, 67)\n",
    "height <- c(1.75, 1.81, 1.78, 1.82, 1.97, 2.12, 2.75)"
   ]
  },
  {
   "cell_type": "code",
   "execution_count": 6,
   "metadata": {},
   "outputs": [
    {
     "name": "stderr",
     "output_type": "stream",
     "text": [
      "Warning message in weight/height:\n",
      "“longer object length is not a multiple of shorter object length”\n"
     ]
    }
   ],
   "source": [
    "BMI <- weight/height"
   ]
  },
  {
   "cell_type": "code",
   "execution_count": 7,
   "metadata": {},
   "outputs": [
    {
     "data": {
      "text/html": [
       "<ol class=list-inline>\n",
       "\t<li>40.5714285714286</li>\n",
       "\t<li>37.0165745856354</li>\n",
       "\t<li>46.6292134831461</li>\n",
       "\t<li>36.8131868131868</li>\n",
       "\t<li>36.0406091370558</li>\n",
       "\t<li>31.6037735849057</li>\n",
       "\t<li>30.1818181818182</li>\n",
       "</ol>\n"
      ],
      "text/latex": [
       "\\begin{enumerate*}\n",
       "\\item 40.5714285714286\n",
       "\\item 37.0165745856354\n",
       "\\item 46.6292134831461\n",
       "\\item 36.8131868131868\n",
       "\\item 36.0406091370558\n",
       "\\item 31.6037735849057\n",
       "\\item 30.1818181818182\n",
       "\\end{enumerate*}\n"
      ],
      "text/markdown": [
       "1. 40.5714285714286\n",
       "2. 37.0165745856354\n",
       "3. 46.6292134831461\n",
       "4. 36.8131868131868\n",
       "5. 36.0406091370558\n",
       "6. 31.6037735849057\n",
       "7. 30.1818181818182\n",
       "\n",
       "\n"
      ],
      "text/plain": [
       "[1] 40.57143 37.01657 46.62921 36.81319 36.04061 31.60377 30.18182"
      ]
     },
     "metadata": {},
     "output_type": "display_data"
    }
   ],
   "source": [
    "BMI"
   ]
  },
  {
   "cell_type": "code",
   "execution_count": 8,
   "metadata": {},
   "outputs": [],
   "source": [
    "age <- c(23,4,76,89)"
   ]
  },
  {
   "cell_type": "code",
   "execution_count": 9,
   "metadata": {},
   "outputs": [
    {
     "data": {
      "text/plain": [
       "   Min. 1st Qu.  Median    Mean 3rd Qu.    Max. \n",
       "   4.00   18.25   49.50   48.00   79.25   89.00 "
      ]
     },
     "metadata": {},
     "output_type": "display_data"
    }
   ],
   "source": [
    "summary(age)"
   ]
  },
  {
   "cell_type": "code",
   "execution_count": 10,
   "metadata": {},
   "outputs": [
    {
     "data": {
      "text/plain": [
       "NULL"
      ]
     },
     "metadata": {},
     "output_type": "display_data"
    }
   ],
   "source": [
    "attributes(age)"
   ]
  },
  {
   "cell_type": "code",
   "execution_count": 11,
   "metadata": {},
   "outputs": [
    {
     "data": {
      "text/plain": [
       "NULL"
      ]
     },
     "metadata": {},
     "output_type": "display_data"
    }
   ],
   "source": [
    "names(age)"
   ]
  },
  {
   "cell_type": "code",
   "execution_count": 12,
   "metadata": {},
   "outputs": [],
   "source": [
    "names(age) <- c(\"Sahil\",\"Rajat\",\"Champion\",\"Aristotle\")"
   ]
  },
  {
   "cell_type": "code",
   "execution_count": 13,
   "metadata": {},
   "outputs": [
    {
     "data": {
      "text/html": [
       "<ol class=list-inline>\n",
       "\t<li>'Sahil'</li>\n",
       "\t<li>'Rajat'</li>\n",
       "\t<li>'Champion'</li>\n",
       "\t<li>'Aristotle'</li>\n",
       "</ol>\n"
      ],
      "text/latex": [
       "\\begin{enumerate*}\n",
       "\\item 'Sahil'\n",
       "\\item 'Rajat'\n",
       "\\item 'Champion'\n",
       "\\item 'Aristotle'\n",
       "\\end{enumerate*}\n"
      ],
      "text/markdown": [
       "1. 'Sahil'\n",
       "2. 'Rajat'\n",
       "3. 'Champion'\n",
       "4. 'Aristotle'\n",
       "\n",
       "\n"
      ],
      "text/plain": [
       "[1] \"Sahil\"     \"Rajat\"     \"Champion\"  \"Aristotle\""
      ]
     },
     "metadata": {},
     "output_type": "display_data"
    }
   ],
   "source": [
    "names(age)"
   ]
  },
  {
   "cell_type": "code",
   "execution_count": 14,
   "metadata": {},
   "outputs": [],
   "source": [
    "my.vec <- 1:4"
   ]
  },
  {
   "cell_type": "code",
   "execution_count": 19,
   "metadata": {},
   "outputs": [
    {
     "ename": "ERROR",
     "evalue": "Error in eval(expr, envir, enclos): object 'vimal' not found\n",
     "output_type": "error",
     "traceback": [
      "Error in eval(expr, envir, enclos): object 'vimal' not found\nTraceback:\n"
     ]
    }
   ],
   "source": [
    "a <- c(\"sahil\",\"nikki\",vimal,\"manju\")"
   ]
  },
  {
   "cell_type": "code",
   "execution_count": 20,
   "metadata": {},
   "outputs": [],
   "source": [
    "names(a) <- my.vec"
   ]
  },
  {
   "cell_type": "code",
   "execution_count": 21,
   "metadata": {},
   "outputs": [
    {
     "name": "stdout",
     "output_type": "stream",
     "text": [
      "      1       2       3       4 \n",
      "\"sahil\" \"nikki\" \"vimal\" \"manju\" \n"
     ]
    }
   ],
   "source": [
    "print(a)"
   ]
  },
  {
   "cell_type": "markdown",
   "metadata": {},
   "source": [
    "# Vector Exercise"
   ]
  },
  {
   "cell_type": "code",
   "execution_count": 25,
   "metadata": {},
   "outputs": [],
   "source": [
    "atk <- seq(from = 10 , to = 200 , by = 20)"
   ]
  },
  {
   "cell_type": "code",
   "execution_count": 26,
   "metadata": {},
   "outputs": [
    {
     "data": {
      "text/html": [
       "<ol class=list-inline>\n",
       "\t<li>10</li>\n",
       "\t<li>30</li>\n",
       "\t<li>50</li>\n",
       "\t<li>70</li>\n",
       "\t<li>90</li>\n",
       "\t<li>110</li>\n",
       "\t<li>130</li>\n",
       "\t<li>150</li>\n",
       "\t<li>170</li>\n",
       "\t<li>190</li>\n",
       "</ol>\n"
      ],
      "text/latex": [
       "\\begin{enumerate*}\n",
       "\\item 10\n",
       "\\item 30\n",
       "\\item 50\n",
       "\\item 70\n",
       "\\item 90\n",
       "\\item 110\n",
       "\\item 130\n",
       "\\item 150\n",
       "\\item 170\n",
       "\\item 190\n",
       "\\end{enumerate*}\n"
      ],
      "text/markdown": [
       "1. 10\n",
       "2. 30\n",
       "3. 50\n",
       "4. 70\n",
       "5. 90\n",
       "6. 110\n",
       "7. 130\n",
       "8. 150\n",
       "9. 170\n",
       "10. 190\n",
       "\n",
       "\n"
      ],
      "text/plain": [
       " [1]  10  30  50  70  90 110 130 150 170 190"
      ]
     },
     "metadata": {},
     "output_type": "display_data"
    }
   ],
   "source": [
    "atk"
   ]
  },
  {
   "cell_type": "code",
   "execution_count": 27,
   "metadata": {},
   "outputs": [
    {
     "data": {
      "text/html": [
       "110"
      ],
      "text/latex": [
       "110"
      ],
      "text/markdown": [
       "110"
      ],
      "text/plain": [
       "[1] 110"
      ]
     },
     "metadata": {},
     "output_type": "display_data"
    }
   ],
   "source": [
    "atk[6]"
   ]
  },
  {
   "cell_type": "code",
   "execution_count": 29,
   "metadata": {},
   "outputs": [
    {
     "data": {
      "text/html": [
       "110"
      ],
      "text/latex": [
       "110"
      ],
      "text/markdown": [
       "110"
      ],
      "text/plain": [
       "[1] 110"
      ]
     },
     "metadata": {},
     "output_type": "display_data"
    }
   ],
   "source": [
    "atk[-c(1:5,7:10)]"
   ]
  },
  {
   "cell_type": "code",
   "execution_count": 30,
   "metadata": {},
   "outputs": [
    {
     "data": {
      "text/html": [
       "<ol class=list-inline>\n",
       "\t<li>10</li>\n",
       "\t<li>50</li>\n",
       "\t<li>70</li>\n",
       "\t<li>90</li>\n",
       "\t<li>110</li>\n",
       "\t<li>130</li>\n",
       "\t<li>150</li>\n",
       "\t<li>170</li>\n",
       "\t<li>190</li>\n",
       "</ol>\n"
      ],
      "text/latex": [
       "\\begin{enumerate*}\n",
       "\\item 10\n",
       "\\item 50\n",
       "\\item 70\n",
       "\\item 90\n",
       "\\item 110\n",
       "\\item 130\n",
       "\\item 150\n",
       "\\item 170\n",
       "\\item 190\n",
       "\\end{enumerate*}\n"
      ],
      "text/markdown": [
       "1. 10\n",
       "2. 50\n",
       "3. 70\n",
       "4. 90\n",
       "5. 110\n",
       "6. 130\n",
       "7. 150\n",
       "8. 170\n",
       "9. 190\n",
       "\n",
       "\n"
      ],
      "text/plain": [
       "[1]  10  50  70  90 110 130 150 170 190"
      ]
     },
     "metadata": {},
     "output_type": "display_data"
    }
   ],
   "source": [
    "atk[-2]"
   ]
  },
  {
   "cell_type": "code",
   "execution_count": 32,
   "metadata": {},
   "outputs": [
    {
     "data": {
      "text/html": [
       "<ol class=list-inline>\n",
       "\t<li>10</li>\n",
       "\t<li>50</li>\n",
       "\t<li>90</li>\n",
       "\t<li>130</li>\n",
       "\t<li>170</li>\n",
       "</ol>\n"
      ],
      "text/latex": [
       "\\begin{enumerate*}\n",
       "\\item 10\n",
       "\\item 50\n",
       "\\item 90\n",
       "\\item 130\n",
       "\\item 170\n",
       "\\end{enumerate*}\n"
      ],
      "text/markdown": [
       "1. 10\n",
       "2. 50\n",
       "3. 90\n",
       "4. 130\n",
       "5. 170\n",
       "\n",
       "\n"
      ],
      "text/plain": [
       "[1]  10  50  90 130 170"
      ]
     },
     "metadata": {},
     "output_type": "display_data"
    }
   ],
   "source": [
    "atk[c(1,3,5,7,9)]"
   ]
  },
  {
   "cell_type": "code",
   "execution_count": 38,
   "metadata": {},
   "outputs": [
    {
     "data": {
      "text/html": [
       "<ol class=list-inline>\n",
       "\t<li>10</li>\n",
       "\t<li>30</li>\n",
       "\t<li>50</li>\n",
       "\t<li>130</li>\n",
       "\t<li>150</li>\n",
       "\t<li>170</li>\n",
       "\t<li>190</li>\n",
       "</ol>\n"
      ],
      "text/latex": [
       "\\begin{enumerate*}\n",
       "\\item 10\n",
       "\\item 30\n",
       "\\item 50\n",
       "\\item 130\n",
       "\\item 150\n",
       "\\item 170\n",
       "\\item 190\n",
       "\\end{enumerate*}\n"
      ],
      "text/markdown": [
       "1. 10\n",
       "2. 30\n",
       "3. 50\n",
       "4. 130\n",
       "5. 150\n",
       "6. 170\n",
       "7. 190\n",
       "\n",
       "\n"
      ],
      "text/plain": [
       "[1]  10  30  50 130 150 170 190"
      ]
     },
     "metadata": {},
     "output_type": "display_data"
    }
   ],
   "source": [
    "#atk[-c(4,5,6)]\n",
    "atk[-(4:6)]"
   ]
  },
  {
   "cell_type": "code",
   "execution_count": 37,
   "metadata": {},
   "outputs": [
    {
     "data": {
      "text/html": [
       "<ol class=list-inline>\n",
       "\t<li>170</li>\n",
       "\t<li>190</li>\n",
       "</ol>\n"
      ],
      "text/latex": [
       "\\begin{enumerate*}\n",
       "\\item 170\n",
       "\\item 190\n",
       "\\end{enumerate*}\n"
      ],
      "text/markdown": [
       "1. 170\n",
       "2. 190\n",
       "\n",
       "\n"
      ],
      "text/plain": [
       "[1] 170 190"
      ]
     },
     "metadata": {},
     "output_type": "display_data"
    }
   ],
   "source": [
    "atk[atk>150]"
   ]
  },
  {
   "cell_type": "code",
   "execution_count": 40,
   "metadata": {},
   "outputs": [
    {
     "data": {
      "text/html": [
       "<ol class=list-inline>\n",
       "\t<li>2</li>\n",
       "\t<li>4</li>\n",
       "\t<li>6</li>\n",
       "\t<li>8</li>\n",
       "\t<li>10</li>\n",
       "\t<li>12</li>\n",
       "\t<li>14</li>\n",
       "\t<li>16</li>\n",
       "\t<li>18</li>\n",
       "\t<li>20</li>\n",
       "\t<li>22</li>\n",
       "\t<li>24</li>\n",
       "\t<li>26</li>\n",
       "\t<li>28</li>\n",
       "\t<li>30</li>\n",
       "</ol>\n"
      ],
      "text/latex": [
       "\\begin{enumerate*}\n",
       "\\item 2\n",
       "\\item 4\n",
       "\\item 6\n",
       "\\item 8\n",
       "\\item 10\n",
       "\\item 12\n",
       "\\item 14\n",
       "\\item 16\n",
       "\\item 18\n",
       "\\item 20\n",
       "\\item 22\n",
       "\\item 24\n",
       "\\item 26\n",
       "\\item 28\n",
       "\\item 30\n",
       "\\end{enumerate*}\n"
      ],
      "text/markdown": [
       "1. 2\n",
       "2. 4\n",
       "3. 6\n",
       "4. 8\n",
       "5. 10\n",
       "6. 12\n",
       "7. 14\n",
       "8. 16\n",
       "9. 18\n",
       "10. 20\n",
       "11. 22\n",
       "12. 24\n",
       "13. 26\n",
       "14. 28\n",
       "15. 30\n",
       "\n",
       "\n"
      ],
      "text/plain": [
       " [1]  2  4  6  8 10 12 14 16 18 20 22 24 26 28 30"
      ]
     },
     "metadata": {},
     "output_type": "display_data"
    }
   ],
   "source": [
    "s <- seq(from = 2 ,to = 30 , by = 2)\n",
    "s"
   ]
  },
  {
   "cell_type": "code",
   "execution_count": 41,
   "metadata": {},
   "outputs": [
    {
     "data": {
      "text/plain": [
       "NULL"
      ]
     },
     "metadata": {},
     "output_type": "display_data"
    }
   ],
   "source": [
    "attributes(s)"
   ]
  },
  {
   "cell_type": "code",
   "execution_count": 48,
   "metadata": {},
   "outputs": [],
   "source": [
    "dim(s) <- c(3,5)"
   ]
  },
  {
   "cell_type": "code",
   "execution_count": 49,
   "metadata": {},
   "outputs": [
    {
     "data": {
      "text/html": [
       "<table>\n",
       "<caption>A matrix: 3 × 5 of type dbl</caption>\n",
       "<tbody>\n",
       "\t<tr><td>2</td><td> 8</td><td>14</td><td>20</td><td>26</td></tr>\n",
       "\t<tr><td>4</td><td>10</td><td>16</td><td>22</td><td>28</td></tr>\n",
       "\t<tr><td>6</td><td>12</td><td>18</td><td>24</td><td>30</td></tr>\n",
       "</tbody>\n",
       "</table>\n"
      ],
      "text/latex": [
       "A matrix: 3 × 5 of type dbl\n",
       "\\begin{tabular}{lllll}\n",
       "\t 2 &  8 & 14 & 20 & 26\\\\\n",
       "\t 4 & 10 & 16 & 22 & 28\\\\\n",
       "\t 6 & 12 & 18 & 24 & 30\\\\\n",
       "\\end{tabular}\n"
      ],
      "text/markdown": [
       "\n",
       "A matrix: 3 × 5 of type dbl\n",
       "\n",
       "| 2 |  8 | 14 | 20 | 26 |\n",
       "| 4 | 10 | 16 | 22 | 28 |\n",
       "| 6 | 12 | 18 | 24 | 30 |\n",
       "\n"
      ],
      "text/plain": [
       "     [,1] [,2] [,3] [,4] [,5]\n",
       "[1,] 2     8   14   20   26  \n",
       "[2,] 4    10   16   22   28  \n",
       "[3,] 6    12   18   24   30  "
      ]
     },
     "metadata": {},
     "output_type": "display_data"
    }
   ],
   "source": [
    "s"
   ]
  },
  {
   "cell_type": "markdown",
   "metadata": {},
   "source": [
    "# Matric Exercise"
   ]
  },
  {
   "cell_type": "code",
   "execution_count": 90,
   "metadata": {},
   "outputs": [
    {
     "data": {
      "text/html": [
       "<ol class=list-inline>\n",
       "\t<li>'dark'</li>\n",
       "\t<li>'dark'</li>\n",
       "\t<li>'dark'</li>\n",
       "\t<li>'dark'</li>\n",
       "\t<li>'dark'</li>\n",
       "\t<li>'light'</li>\n",
       "\t<li>'light'</li>\n",
       "\t<li>'light'</li>\n",
       "\t<li>'light'</li>\n",
       "\t<li>'light'</li>\n",
       "</ol>\n"
      ],
      "text/latex": [
       "\\begin{enumerate*}\n",
       "\\item 'dark'\n",
       "\\item 'dark'\n",
       "\\item 'dark'\n",
       "\\item 'dark'\n",
       "\\item 'dark'\n",
       "\\item 'light'\n",
       "\\item 'light'\n",
       "\\item 'light'\n",
       "\\item 'light'\n",
       "\\item 'light'\n",
       "\\end{enumerate*}\n"
      ],
      "text/markdown": [
       "1. 'dark'\n",
       "2. 'dark'\n",
       "3. 'dark'\n",
       "4. 'dark'\n",
       "5. 'dark'\n",
       "6. 'light'\n",
       "7. 'light'\n",
       "8. 'light'\n",
       "9. 'light'\n",
       "10. 'light'\n",
       "\n",
       "\n"
      ],
      "text/plain": [
       " [1] \"dark\"  \"dark\"  \"dark\"  \"dark\"  \"dark\"  \"light\" \"light\" \"light\" \"light\"\n",
       "[10] \"light\""
      ]
     },
     "metadata": {},
     "output_type": "display_data"
    }
   ],
   "source": [
    "player <- c(rep(\"dark\",5),rep(\"light\",5))\n",
    "player"
   ]
  },
  {
   "cell_type": "code",
   "execution_count": 91,
   "metadata": {},
   "outputs": [],
   "source": [
    "piece <- c(\"king\", \"queen\", \"pawn\", \"pawn\", \"knight\", \"bishop\", \"king\", \"rook\", \"pawn\", \"pawn\")"
   ]
  },
  {
   "cell_type": "code",
   "execution_count": 92,
   "metadata": {},
   "outputs": [],
   "source": [
    "chess <- c(player,piece)"
   ]
  },
  {
   "cell_type": "code",
   "execution_count": 94,
   "metadata": {},
   "outputs": [],
   "source": [
    "dim(chess) <- c(10,2)"
   ]
  },
  {
   "cell_type": "code",
   "execution_count": 95,
   "metadata": {},
   "outputs": [
    {
     "data": {
      "text/html": [
       "<table>\n",
       "<caption>A matrix: 10 × 2 of type chr</caption>\n",
       "<tbody>\n",
       "\t<tr><td>dark </td><td>king  </td></tr>\n",
       "\t<tr><td>dark </td><td>queen </td></tr>\n",
       "\t<tr><td>dark </td><td>pawn  </td></tr>\n",
       "\t<tr><td>dark </td><td>pawn  </td></tr>\n",
       "\t<tr><td>dark </td><td>knight</td></tr>\n",
       "\t<tr><td>light</td><td>bishop</td></tr>\n",
       "\t<tr><td>light</td><td>king  </td></tr>\n",
       "\t<tr><td>light</td><td>rook  </td></tr>\n",
       "\t<tr><td>light</td><td>pawn  </td></tr>\n",
       "\t<tr><td>light</td><td>pawn  </td></tr>\n",
       "</tbody>\n",
       "</table>\n"
      ],
      "text/latex": [
       "A matrix: 10 × 2 of type chr\n",
       "\\begin{tabular}{ll}\n",
       "\t dark  & king  \\\\\n",
       "\t dark  & queen \\\\\n",
       "\t dark  & pawn  \\\\\n",
       "\t dark  & pawn  \\\\\n",
       "\t dark  & knight\\\\\n",
       "\t light & bishop\\\\\n",
       "\t light & king  \\\\\n",
       "\t light & rook  \\\\\n",
       "\t light & pawn  \\\\\n",
       "\t light & pawn  \\\\\n",
       "\\end{tabular}\n"
      ],
      "text/markdown": [
       "\n",
       "A matrix: 10 × 2 of type chr\n",
       "\n",
       "| dark  | king   |\n",
       "| dark  | queen  |\n",
       "| dark  | pawn   |\n",
       "| dark  | pawn   |\n",
       "| dark  | knight |\n",
       "| light | bishop |\n",
       "| light | king   |\n",
       "| light | rook   |\n",
       "| light | pawn   |\n",
       "| light | pawn   |\n",
       "\n"
      ],
      "text/plain": [
       "      [,1]  [,2]  \n",
       " [1,] dark  king  \n",
       " [2,] dark  queen \n",
       " [3,] dark  pawn  \n",
       " [4,] dark  pawn  \n",
       " [5,] dark  knight\n",
       " [6,] light bishop\n",
       " [7,] light king  \n",
       " [8,] light rook  \n",
       " [9,] light pawn  \n",
       "[10,] light pawn  "
      ]
     },
     "metadata": {},
     "output_type": "display_data"
    }
   ],
   "source": [
    "chess"
   ]
  },
  {
   "cell_type": "code",
   "execution_count": 98,
   "metadata": {},
   "outputs": [],
   "source": [
    "columns<- c(\"Player\",\"Peice\")"
   ]
  },
  {
   "cell_type": "code",
   "execution_count": 99,
   "metadata": {},
   "outputs": [],
   "source": [
    "colnames(chess) <- columns"
   ]
  },
  {
   "cell_type": "code",
   "execution_count": 100,
   "metadata": {},
   "outputs": [
    {
     "data": {
      "text/html": [
       "<table>\n",
       "<caption>A matrix: 10 × 2 of type chr</caption>\n",
       "<thead>\n",
       "\t<tr><th scope=col>Player</th><th scope=col>Peice</th></tr>\n",
       "</thead>\n",
       "<tbody>\n",
       "\t<tr><td>dark </td><td>king  </td></tr>\n",
       "\t<tr><td>dark </td><td>queen </td></tr>\n",
       "\t<tr><td>dark </td><td>pawn  </td></tr>\n",
       "\t<tr><td>dark </td><td>pawn  </td></tr>\n",
       "\t<tr><td>dark </td><td>knight</td></tr>\n",
       "\t<tr><td>light</td><td>bishop</td></tr>\n",
       "\t<tr><td>light</td><td>king  </td></tr>\n",
       "\t<tr><td>light</td><td>rook  </td></tr>\n",
       "\t<tr><td>light</td><td>pawn  </td></tr>\n",
       "\t<tr><td>light</td><td>pawn  </td></tr>\n",
       "</tbody>\n",
       "</table>\n"
      ],
      "text/latex": [
       "A matrix: 10 × 2 of type chr\n",
       "\\begin{tabular}{ll}\n",
       " Player & Peice\\\\\n",
       "\\hline\n",
       "\t dark  & king  \\\\\n",
       "\t dark  & queen \\\\\n",
       "\t dark  & pawn  \\\\\n",
       "\t dark  & pawn  \\\\\n",
       "\t dark  & knight\\\\\n",
       "\t light & bishop\\\\\n",
       "\t light & king  \\\\\n",
       "\t light & rook  \\\\\n",
       "\t light & pawn  \\\\\n",
       "\t light & pawn  \\\\\n",
       "\\end{tabular}\n"
      ],
      "text/markdown": [
       "\n",
       "A matrix: 10 × 2 of type chr\n",
       "\n",
       "| Player | Peice |\n",
       "|---|---|\n",
       "| dark  | king   |\n",
       "| dark  | queen  |\n",
       "| dark  | pawn   |\n",
       "| dark  | pawn   |\n",
       "| dark  | knight |\n",
       "| light | bishop |\n",
       "| light | king   |\n",
       "| light | rook   |\n",
       "| light | pawn   |\n",
       "| light | pawn   |\n",
       "\n"
      ],
      "text/plain": [
       "      Player Peice \n",
       " [1,] dark   king  \n",
       " [2,] dark   queen \n",
       " [3,] dark   pawn  \n",
       " [4,] dark   pawn  \n",
       " [5,] dark   knight\n",
       " [6,] light  bishop\n",
       " [7,] light  king  \n",
       " [8,] light  rook  \n",
       " [9,] light  pawn  \n",
       "[10,] light  pawn  "
      ]
     },
     "metadata": {},
     "output_type": "display_data"
    }
   ],
   "source": [
    "chess"
   ]
  },
  {
   "cell_type": "code",
   "execution_count": 103,
   "metadata": {},
   "outputs": [],
   "source": [
    "data <- matrix(chess,nrow = 10,dimnames = list(NULL,c(\"Player\",\"Peice\")))"
   ]
  },
  {
   "cell_type": "code",
   "execution_count": 104,
   "metadata": {},
   "outputs": [
    {
     "data": {
      "text/html": [
       "<table>\n",
       "<caption>A matrix: 10 × 2 of type chr</caption>\n",
       "<thead>\n",
       "\t<tr><th scope=col>Player</th><th scope=col>Peice</th></tr>\n",
       "</thead>\n",
       "<tbody>\n",
       "\t<tr><td>dark </td><td>king  </td></tr>\n",
       "\t<tr><td>dark </td><td>queen </td></tr>\n",
       "\t<tr><td>dark </td><td>pawn  </td></tr>\n",
       "\t<tr><td>dark </td><td>pawn  </td></tr>\n",
       "\t<tr><td>dark </td><td>knight</td></tr>\n",
       "\t<tr><td>light</td><td>bishop</td></tr>\n",
       "\t<tr><td>light</td><td>king  </td></tr>\n",
       "\t<tr><td>light</td><td>rook  </td></tr>\n",
       "\t<tr><td>light</td><td>pawn  </td></tr>\n",
       "\t<tr><td>light</td><td>pawn  </td></tr>\n",
       "</tbody>\n",
       "</table>\n"
      ],
      "text/latex": [
       "A matrix: 10 × 2 of type chr\n",
       "\\begin{tabular}{ll}\n",
       " Player & Peice\\\\\n",
       "\\hline\n",
       "\t dark  & king  \\\\\n",
       "\t dark  & queen \\\\\n",
       "\t dark  & pawn  \\\\\n",
       "\t dark  & pawn  \\\\\n",
       "\t dark  & knight\\\\\n",
       "\t light & bishop\\\\\n",
       "\t light & king  \\\\\n",
       "\t light & rook  \\\\\n",
       "\t light & pawn  \\\\\n",
       "\t light & pawn  \\\\\n",
       "\\end{tabular}\n"
      ],
      "text/markdown": [
       "\n",
       "A matrix: 10 × 2 of type chr\n",
       "\n",
       "| Player | Peice |\n",
       "|---|---|\n",
       "| dark  | king   |\n",
       "| dark  | queen  |\n",
       "| dark  | pawn   |\n",
       "| dark  | pawn   |\n",
       "| dark  | knight |\n",
       "| light | bishop |\n",
       "| light | king   |\n",
       "| light | rook   |\n",
       "| light | pawn   |\n",
       "| light | pawn   |\n",
       "\n"
      ],
      "text/plain": [
       "      Player Peice \n",
       " [1,] dark   king  \n",
       " [2,] dark   queen \n",
       " [3,] dark   pawn  \n",
       " [4,] dark   pawn  \n",
       " [5,] dark   knight\n",
       " [6,] light  bishop\n",
       " [7,] light  king  \n",
       " [8,] light  rook  \n",
       " [9,] light  pawn  \n",
       "[10,] light  pawn  "
      ]
     },
     "metadata": {},
     "output_type": "display_data"
    }
   ],
   "source": [
    "data"
   ]
  },
  {
   "cell_type": "code",
   "execution_count": 105,
   "metadata": {},
   "outputs": [
    {
     "data": {
      "text/html": [
       "<table>\n",
       "<caption>A matrix: 10 × 2 of type chr</caption>\n",
       "<thead>\n",
       "\t<tr><th scope=col>Player</th><th scope=col>Peice</th></tr>\n",
       "</thead>\n",
       "<tbody>\n",
       "\t<tr><td>dark </td><td>king  </td></tr>\n",
       "\t<tr><td>dark </td><td>queen </td></tr>\n",
       "\t<tr><td>dark </td><td>pawn  </td></tr>\n",
       "\t<tr><td>dark </td><td>pawn  </td></tr>\n",
       "\t<tr><td>dark </td><td>knight</td></tr>\n",
       "\t<tr><td>light</td><td>bishop</td></tr>\n",
       "\t<tr><td>light</td><td>king  </td></tr>\n",
       "\t<tr><td>light</td><td>rook  </td></tr>\n",
       "\t<tr><td>light</td><td>pawn  </td></tr>\n",
       "\t<tr><td>light</td><td>pawn  </td></tr>\n",
       "</tbody>\n",
       "</table>\n"
      ],
      "text/latex": [
       "A matrix: 10 × 2 of type chr\n",
       "\\begin{tabular}{ll}\n",
       " Player & Peice\\\\\n",
       "\\hline\n",
       "\t dark  & king  \\\\\n",
       "\t dark  & queen \\\\\n",
       "\t dark  & pawn  \\\\\n",
       "\t dark  & pawn  \\\\\n",
       "\t dark  & knight\\\\\n",
       "\t light & bishop\\\\\n",
       "\t light & king  \\\\\n",
       "\t light & rook  \\\\\n",
       "\t light & pawn  \\\\\n",
       "\t light & pawn  \\\\\n",
       "\\end{tabular}\n"
      ],
      "text/markdown": [
       "\n",
       "A matrix: 10 × 2 of type chr\n",
       "\n",
       "| Player | Peice |\n",
       "|---|---|\n",
       "| dark  | king   |\n",
       "| dark  | queen  |\n",
       "| dark  | pawn   |\n",
       "| dark  | pawn   |\n",
       "| dark  | knight |\n",
       "| light | bishop |\n",
       "| light | king   |\n",
       "| light | rook   |\n",
       "| light | pawn   |\n",
       "| light | pawn   |\n",
       "\n"
      ],
      "text/plain": [
       "      Player Peice \n",
       " [1,] dark   king  \n",
       " [2,] dark   queen \n",
       " [3,] dark   pawn  \n",
       " [4,] dark   pawn  \n",
       " [5,] dark   knight\n",
       " [6,] light  bishop\n",
       " [7,] light  king  \n",
       " [8,] light  rook  \n",
       " [9,] light  pawn  \n",
       "[10,] light  pawn  "
      ]
     },
     "metadata": {},
     "output_type": "display_data"
    }
   ],
   "source": [
    "chess"
   ]
  },
  {
   "cell_type": "code",
   "execution_count": 106,
   "metadata": {},
   "outputs": [
    {
     "name": "stderr",
     "output_type": "stream",
     "text": [
      "Warning message in if (chess == data) {:\n",
      "“the condition has length > 1 and only the first element will be used”\n"
     ]
    },
    {
     "name": "stdout",
     "output_type": "stream",
     "text": [
      "[1] \"Yes\"\n"
     ]
    }
   ],
   "source": [
    "if(chess==data){\n",
    "    print(\"Yes\")\n",
    "}else{\n",
    "    print(\"No\")\n",
    "}"
   ]
  },
  {
   "cell_type": "code",
   "execution_count": 115,
   "metadata": {},
   "outputs": [],
   "source": [
    "new.chess <- t(chess)"
   ]
  },
  {
   "cell_type": "code",
   "execution_count": 113,
   "metadata": {},
   "outputs": [],
   "source": [
    "Turn <- c(3, 5, 2, 2, 7, 4, 6, 5, 2, 1)"
   ]
  },
  {
   "cell_type": "code",
   "execution_count": 120,
   "metadata": {},
   "outputs": [],
   "source": [
    "new.chess <- rbind(new.chess,Turn)"
   ]
  },
  {
   "cell_type": "code",
   "execution_count": 121,
   "metadata": {},
   "outputs": [],
   "source": [
    "chess <- t(new.chess)"
   ]
  },
  {
   "cell_type": "code",
   "execution_count": 123,
   "metadata": {},
   "outputs": [
    {
     "data": {
      "text/html": [
       "<table>\n",
       "<caption>A matrix: 10 × 3 of type chr</caption>\n",
       "<thead>\n",
       "\t<tr><th scope=col>Player</th><th scope=col>Peice</th><th scope=col>Turn</th></tr>\n",
       "</thead>\n",
       "<tbody>\n",
       "\t<tr><td>dark </td><td>king  </td><td>3</td></tr>\n",
       "\t<tr><td>dark </td><td>queen </td><td>5</td></tr>\n",
       "\t<tr><td>dark </td><td>pawn  </td><td>2</td></tr>\n",
       "\t<tr><td>dark </td><td>pawn  </td><td>2</td></tr>\n",
       "\t<tr><td>dark </td><td>knight</td><td>7</td></tr>\n",
       "\t<tr><td>light</td><td>bishop</td><td>4</td></tr>\n",
       "\t<tr><td>light</td><td>king  </td><td>6</td></tr>\n",
       "\t<tr><td>light</td><td>rook  </td><td>5</td></tr>\n",
       "\t<tr><td>light</td><td>pawn  </td><td>2</td></tr>\n",
       "\t<tr><td>light</td><td>pawn  </td><td>1</td></tr>\n",
       "</tbody>\n",
       "</table>\n"
      ],
      "text/latex": [
       "A matrix: 10 × 3 of type chr\n",
       "\\begin{tabular}{lll}\n",
       " Player & Peice & Turn\\\\\n",
       "\\hline\n",
       "\t dark  & king   & 3\\\\\n",
       "\t dark  & queen  & 5\\\\\n",
       "\t dark  & pawn   & 2\\\\\n",
       "\t dark  & pawn   & 2\\\\\n",
       "\t dark  & knight & 7\\\\\n",
       "\t light & bishop & 4\\\\\n",
       "\t light & king   & 6\\\\\n",
       "\t light & rook   & 5\\\\\n",
       "\t light & pawn   & 2\\\\\n",
       "\t light & pawn   & 1\\\\\n",
       "\\end{tabular}\n"
      ],
      "text/markdown": [
       "\n",
       "A matrix: 10 × 3 of type chr\n",
       "\n",
       "| Player | Peice | Turn |\n",
       "|---|---|---|\n",
       "| dark  | king   | 3 |\n",
       "| dark  | queen  | 5 |\n",
       "| dark  | pawn   | 2 |\n",
       "| dark  | pawn   | 2 |\n",
       "| dark  | knight | 7 |\n",
       "| light | bishop | 4 |\n",
       "| light | king   | 6 |\n",
       "| light | rook   | 5 |\n",
       "| light | pawn   | 2 |\n",
       "| light | pawn   | 1 |\n",
       "\n"
      ],
      "text/plain": [
       "      Player Peice  Turn\n",
       " [1,] dark   king   3   \n",
       " [2,] dark   queen  5   \n",
       " [3,] dark   pawn   2   \n",
       " [4,] dark   pawn   2   \n",
       " [5,] dark   knight 7   \n",
       " [6,] light  bishop 4   \n",
       " [7,] light  king   6   \n",
       " [8,] light  rook   5   \n",
       " [9,] light  pawn   2   \n",
       "[10,] light  pawn   1   "
      ]
     },
     "metadata": {},
     "output_type": "display_data"
    }
   ],
   "source": [
    "chess"
   ]
  },
  {
   "cell_type": "code",
   "execution_count": 133,
   "metadata": {},
   "outputs": [
    {
     "data": {
      "text/html": [
       "<strong>Peice:</strong> 'bishop'"
      ],
      "text/latex": [
       "\\textbf{Peice:} 'bishop'"
      ],
      "text/markdown": [
       "**Peice:** 'bishop'"
      ],
      "text/plain": [
       "   Peice \n",
       "\"bishop\" "
      ]
     },
     "metadata": {},
     "output_type": "display_data"
    }
   ],
   "source": [
    "chess[6,2]"
   ]
  },
  {
   "cell_type": "code",
   "execution_count": 139,
   "metadata": {},
   "outputs": [
    {
     "data": {
      "text/html": [
       "<table>\n",
       "<caption>A matrix: 10 × 2 of type chr</caption>\n",
       "<thead>\n",
       "\t<tr><th scope=col>Player</th><th scope=col>Peice</th></tr>\n",
       "</thead>\n",
       "<tbody>\n",
       "\t<tr><td>dark </td><td>king  </td></tr>\n",
       "\t<tr><td>dark </td><td>queen </td></tr>\n",
       "\t<tr><td>dark </td><td>pawn  </td></tr>\n",
       "\t<tr><td>dark </td><td>pawn  </td></tr>\n",
       "\t<tr><td>dark </td><td>knight</td></tr>\n",
       "\t<tr><td>light</td><td>bishop</td></tr>\n",
       "\t<tr><td>light</td><td>king  </td></tr>\n",
       "\t<tr><td>light</td><td>rook  </td></tr>\n",
       "\t<tr><td>light</td><td>pawn  </td></tr>\n",
       "\t<tr><td>light</td><td>pawn  </td></tr>\n",
       "</tbody>\n",
       "</table>\n"
      ],
      "text/latex": [
       "A matrix: 10 × 2 of type chr\n",
       "\\begin{tabular}{ll}\n",
       " Player & Peice\\\\\n",
       "\\hline\n",
       "\t dark  & king  \\\\\n",
       "\t dark  & queen \\\\\n",
       "\t dark  & pawn  \\\\\n",
       "\t dark  & pawn  \\\\\n",
       "\t dark  & knight\\\\\n",
       "\t light & bishop\\\\\n",
       "\t light & king  \\\\\n",
       "\t light & rook  \\\\\n",
       "\t light & pawn  \\\\\n",
       "\t light & pawn  \\\\\n",
       "\\end{tabular}\n"
      ],
      "text/markdown": [
       "\n",
       "A matrix: 10 × 2 of type chr\n",
       "\n",
       "| Player | Peice |\n",
       "|---|---|\n",
       "| dark  | king   |\n",
       "| dark  | queen  |\n",
       "| dark  | pawn   |\n",
       "| dark  | pawn   |\n",
       "| dark  | knight |\n",
       "| light | bishop |\n",
       "| light | king   |\n",
       "| light | rook   |\n",
       "| light | pawn   |\n",
       "| light | pawn   |\n",
       "\n"
      ],
      "text/plain": [
       "      Player Peice \n",
       " [1,] dark   king  \n",
       " [2,] dark   queen \n",
       " [3,] dark   pawn  \n",
       " [4,] dark   pawn  \n",
       " [5,] dark   knight\n",
       " [6,] light  bishop\n",
       " [7,] light  king  \n",
       " [8,] light  rook  \n",
       " [9,] light  pawn  \n",
       "[10,] light  pawn  "
      ]
     },
     "metadata": {},
     "output_type": "display_data"
    }
   ],
   "source": [
    "chess[,1:2]"
   ]
  },
  {
   "cell_type": "code",
   "execution_count": 140,
   "metadata": {},
   "outputs": [
    {
     "data": {
      "text/html": [
       "<table>\n",
       "<caption>A matrix: 5 × 3 of type chr</caption>\n",
       "<thead>\n",
       "\t<tr><th scope=col>Player</th><th scope=col>Peice</th><th scope=col>Turn</th></tr>\n",
       "</thead>\n",
       "<tbody>\n",
       "\t<tr><td>dark</td><td>king  </td><td>3</td></tr>\n",
       "\t<tr><td>dark</td><td>queen </td><td>5</td></tr>\n",
       "\t<tr><td>dark</td><td>pawn  </td><td>2</td></tr>\n",
       "\t<tr><td>dark</td><td>pawn  </td><td>2</td></tr>\n",
       "\t<tr><td>dark</td><td>knight</td><td>7</td></tr>\n",
       "</tbody>\n",
       "</table>\n"
      ],
      "text/latex": [
       "A matrix: 5 × 3 of type chr\n",
       "\\begin{tabular}{lll}\n",
       " Player & Peice & Turn\\\\\n",
       "\\hline\n",
       "\t dark & king   & 3\\\\\n",
       "\t dark & queen  & 5\\\\\n",
       "\t dark & pawn   & 2\\\\\n",
       "\t dark & pawn   & 2\\\\\n",
       "\t dark & knight & 7\\\\\n",
       "\\end{tabular}\n"
      ],
      "text/markdown": [
       "\n",
       "A matrix: 5 × 3 of type chr\n",
       "\n",
       "| Player | Peice | Turn |\n",
       "|---|---|---|\n",
       "| dark | king   | 3 |\n",
       "| dark | queen  | 5 |\n",
       "| dark | pawn   | 2 |\n",
       "| dark | pawn   | 2 |\n",
       "| dark | knight | 7 |\n",
       "\n"
      ],
      "text/plain": [
       "     Player Peice  Turn\n",
       "[1,] dark   king   3   \n",
       "[2,] dark   queen  5   \n",
       "[3,] dark   pawn   2   \n",
       "[4,] dark   pawn   2   \n",
       "[5,] dark   knight 7   "
      ]
     },
     "metadata": {},
     "output_type": "display_data"
    }
   ],
   "source": [
    "chess[1:5,]"
   ]
  },
  {
   "cell_type": "code",
   "execution_count": 148,
   "metadata": {},
   "outputs": [
    {
     "data": {
      "text/html": [
       "<table>\n",
       "<caption>A matrix: 10 × 2 of type chr</caption>\n",
       "<thead>\n",
       "\t<tr><th scope=col>Player</th><th scope=col>Peice</th></tr>\n",
       "</thead>\n",
       "<tbody>\n",
       "\t<tr><td>dark </td><td>king  </td></tr>\n",
       "\t<tr><td>dark </td><td>queen </td></tr>\n",
       "\t<tr><td>dark </td><td>pawn  </td></tr>\n",
       "\t<tr><td>dark </td><td>pawn  </td></tr>\n",
       "\t<tr><td>dark </td><td>knight</td></tr>\n",
       "\t<tr><td>light</td><td>bishop</td></tr>\n",
       "\t<tr><td>light</td><td>king  </td></tr>\n",
       "\t<tr><td>light</td><td>rook  </td></tr>\n",
       "\t<tr><td>light</td><td>pawn  </td></tr>\n",
       "\t<tr><td>light</td><td>pawn  </td></tr>\n",
       "</tbody>\n",
       "</table>\n"
      ],
      "text/latex": [
       "A matrix: 10 × 2 of type chr\n",
       "\\begin{tabular}{ll}\n",
       " Player & Peice\\\\\n",
       "\\hline\n",
       "\t dark  & king  \\\\\n",
       "\t dark  & queen \\\\\n",
       "\t dark  & pawn  \\\\\n",
       "\t dark  & pawn  \\\\\n",
       "\t dark  & knight\\\\\n",
       "\t light & bishop\\\\\n",
       "\t light & king  \\\\\n",
       "\t light & rook  \\\\\n",
       "\t light & pawn  \\\\\n",
       "\t light & pawn  \\\\\n",
       "\\end{tabular}\n"
      ],
      "text/markdown": [
       "\n",
       "A matrix: 10 × 2 of type chr\n",
       "\n",
       "| Player | Peice |\n",
       "|---|---|\n",
       "| dark  | king   |\n",
       "| dark  | queen  |\n",
       "| dark  | pawn   |\n",
       "| dark  | pawn   |\n",
       "| dark  | knight |\n",
       "| light | bishop |\n",
       "| light | king   |\n",
       "| light | rook   |\n",
       "| light | pawn   |\n",
       "| light | pawn   |\n",
       "\n"
      ],
      "text/plain": [
       "      Player Peice \n",
       " [1,] dark   king  \n",
       " [2,] dark   queen \n",
       " [3,] dark   pawn  \n",
       " [4,] dark   pawn  \n",
       " [5,] dark   knight\n",
       " [6,] light  bishop\n",
       " [7,] light  king  \n",
       " [8,] light  rook  \n",
       " [9,] light  pawn  \n",
       "[10,] light  pawn  "
      ]
     },
     "metadata": {},
     "output_type": "display_data"
    }
   ],
   "source": [
    "chess[,c(\"Player\",\"Peice\")]"
   ]
  },
  {
   "cell_type": "code",
   "execution_count": 141,
   "metadata": {},
   "outputs": [
    {
     "data": {
      "text/html": [
       "<table>\n",
       "<caption>A matrix: 10 × 2 of type chr</caption>\n",
       "<thead>\n",
       "\t<tr><th scope=col>Player</th><th scope=col>Turn</th></tr>\n",
       "</thead>\n",
       "<tbody>\n",
       "\t<tr><td>dark </td><td>3</td></tr>\n",
       "\t<tr><td>dark </td><td>5</td></tr>\n",
       "\t<tr><td>dark </td><td>2</td></tr>\n",
       "\t<tr><td>dark </td><td>2</td></tr>\n",
       "\t<tr><td>dark </td><td>7</td></tr>\n",
       "\t<tr><td>light</td><td>4</td></tr>\n",
       "\t<tr><td>light</td><td>6</td></tr>\n",
       "\t<tr><td>light</td><td>5</td></tr>\n",
       "\t<tr><td>light</td><td>2</td></tr>\n",
       "\t<tr><td>light</td><td>1</td></tr>\n",
       "</tbody>\n",
       "</table>\n"
      ],
      "text/latex": [
       "A matrix: 10 × 2 of type chr\n",
       "\\begin{tabular}{ll}\n",
       " Player & Turn\\\\\n",
       "\\hline\n",
       "\t dark  & 3\\\\\n",
       "\t dark  & 5\\\\\n",
       "\t dark  & 2\\\\\n",
       "\t dark  & 2\\\\\n",
       "\t dark  & 7\\\\\n",
       "\t light & 4\\\\\n",
       "\t light & 6\\\\\n",
       "\t light & 5\\\\\n",
       "\t light & 2\\\\\n",
       "\t light & 1\\\\\n",
       "\\end{tabular}\n"
      ],
      "text/markdown": [
       "\n",
       "A matrix: 10 × 2 of type chr\n",
       "\n",
       "| Player | Turn |\n",
       "|---|---|\n",
       "| dark  | 3 |\n",
       "| dark  | 5 |\n",
       "| dark  | 2 |\n",
       "| dark  | 2 |\n",
       "| dark  | 7 |\n",
       "| light | 4 |\n",
       "| light | 6 |\n",
       "| light | 5 |\n",
       "| light | 2 |\n",
       "| light | 1 |\n",
       "\n"
      ],
      "text/plain": [
       "      Player Turn\n",
       " [1,] dark   3   \n",
       " [2,] dark   5   \n",
       " [3,] dark   2   \n",
       " [4,] dark   2   \n",
       " [5,] dark   7   \n",
       " [6,] light  4   \n",
       " [7,] light  6   \n",
       " [8,] light  5   \n",
       " [9,] light  2   \n",
       "[10,] light  1   "
      ]
     },
     "metadata": {},
     "output_type": "display_data"
    }
   ],
   "source": [
    "chess[,-2]"
   ]
  },
  {
   "cell_type": "code",
   "execution_count": 142,
   "metadata": {},
   "outputs": [
    {
     "data": {
      "text/html": [
       "<dl class=dl-horizontal>\n",
       "\t<dt>Player</dt>\n",
       "\t\t<dd>'dark'</dd>\n",
       "\t<dt>Turn</dt>\n",
       "\t\t<dd>'5'</dd>\n",
       "</dl>\n"
      ],
      "text/latex": [
       "\\begin{description*}\n",
       "\\item[Player] 'dark'\n",
       "\\item[Turn] '5'\n",
       "\\end{description*}\n"
      ],
      "text/markdown": [
       "Player\n",
       ":   'dark'Turn\n",
       ":   '5'\n",
       "\n"
      ],
      "text/plain": [
       "Player   Turn \n",
       "\"dark\"    \"5\" "
      ]
     },
     "metadata": {},
     "output_type": "display_data"
    }
   ],
   "source": [
    "chess[2,-2]"
   ]
  },
  {
   "cell_type": "code",
   "execution_count": 146,
   "metadata": {},
   "outputs": [],
   "source": [
    "chess[7,3]=3"
   ]
  },
  {
   "cell_type": "code",
   "execution_count": 147,
   "metadata": {},
   "outputs": [
    {
     "data": {
      "text/html": [
       "<table>\n",
       "<caption>A matrix: 10 × 3 of type chr</caption>\n",
       "<thead>\n",
       "\t<tr><th scope=col>Player</th><th scope=col>Peice</th><th scope=col>Turn</th></tr>\n",
       "</thead>\n",
       "<tbody>\n",
       "\t<tr><td>dark </td><td>king  </td><td>3</td></tr>\n",
       "\t<tr><td>dark </td><td>queen </td><td>5</td></tr>\n",
       "\t<tr><td>dark </td><td>pawn  </td><td>2</td></tr>\n",
       "\t<tr><td>dark </td><td>pawn  </td><td>2</td></tr>\n",
       "\t<tr><td>dark </td><td>knight</td><td>7</td></tr>\n",
       "\t<tr><td>light</td><td>bishop</td><td>4</td></tr>\n",
       "\t<tr><td>light</td><td>king  </td><td>3</td></tr>\n",
       "\t<tr><td>light</td><td>rook  </td><td>5</td></tr>\n",
       "\t<tr><td>light</td><td>pawn  </td><td>2</td></tr>\n",
       "\t<tr><td>light</td><td>pawn  </td><td>1</td></tr>\n",
       "</tbody>\n",
       "</table>\n"
      ],
      "text/latex": [
       "A matrix: 10 × 3 of type chr\n",
       "\\begin{tabular}{lll}\n",
       " Player & Peice & Turn\\\\\n",
       "\\hline\n",
       "\t dark  & king   & 3\\\\\n",
       "\t dark  & queen  & 5\\\\\n",
       "\t dark  & pawn   & 2\\\\\n",
       "\t dark  & pawn   & 2\\\\\n",
       "\t dark  & knight & 7\\\\\n",
       "\t light & bishop & 4\\\\\n",
       "\t light & king   & 3\\\\\n",
       "\t light & rook   & 5\\\\\n",
       "\t light & pawn   & 2\\\\\n",
       "\t light & pawn   & 1\\\\\n",
       "\\end{tabular}\n"
      ],
      "text/markdown": [
       "\n",
       "A matrix: 10 × 3 of type chr\n",
       "\n",
       "| Player | Peice | Turn |\n",
       "|---|---|---|\n",
       "| dark  | king   | 3 |\n",
       "| dark  | queen  | 5 |\n",
       "| dark  | pawn   | 2 |\n",
       "| dark  | pawn   | 2 |\n",
       "| dark  | knight | 7 |\n",
       "| light | bishop | 4 |\n",
       "| light | king   | 3 |\n",
       "| light | rook   | 5 |\n",
       "| light | pawn   | 2 |\n",
       "| light | pawn   | 1 |\n",
       "\n"
      ],
      "text/plain": [
       "      Player Peice  Turn\n",
       " [1,] dark   king   3   \n",
       " [2,] dark   queen  5   \n",
       " [3,] dark   pawn   2   \n",
       " [4,] dark   pawn   2   \n",
       " [5,] dark   knight 7   \n",
       " [6,] light  bishop 4   \n",
       " [7,] light  king   3   \n",
       " [8,] light  rook   5   \n",
       " [9,] light  pawn   2   \n",
       "[10,] light  pawn   1   "
      ]
     },
     "metadata": {},
     "output_type": "display_data"
    }
   ],
   "source": [
    "chess"
   ]
  },
  {
   "cell_type": "code",
   "execution_count": 149,
   "metadata": {},
   "outputs": [
    {
     "data": {
      "text/html": [
       "<strong>Turn:</strong> '3'"
      ],
      "text/latex": [
       "\\textbf{Turn:} '3'"
      ],
      "text/markdown": [
       "**Turn:** '3'"
      ],
      "text/plain": [
       "Turn \n",
       " \"3\" "
      ]
     },
     "metadata": {},
     "output_type": "display_data"
    }
   ],
   "source": [
    "chess[7,3]"
   ]
  },
  {
   "cell_type": "code",
   "execution_count": 153,
   "metadata": {},
   "outputs": [],
   "source": [
    "mat.data <- matrix(data = runif(n=12,min=10,max = 40),byrow = TRUE , nrow = 3)"
   ]
  },
  {
   "cell_type": "code",
   "execution_count": 154,
   "metadata": {},
   "outputs": [
    {
     "data": {
      "text/html": [
       "<table>\n",
       "<caption>A matrix: 3 × 4 of type dbl</caption>\n",
       "<tbody>\n",
       "\t<tr><td>38.18270</td><td>39.08892</td><td>38.94444</td><td>34.65549</td></tr>\n",
       "\t<tr><td>22.95148</td><td>28.21206</td><td>25.88528</td><td>15.10765</td></tr>\n",
       "\t<tr><td>36.82429</td><td>21.68851</td><td>26.20234</td><td>11.62820</td></tr>\n",
       "</tbody>\n",
       "</table>\n"
      ],
      "text/latex": [
       "A matrix: 3 × 4 of type dbl\n",
       "\\begin{tabular}{llll}\n",
       "\t 38.18270 & 39.08892 & 38.94444 & 34.65549\\\\\n",
       "\t 22.95148 & 28.21206 & 25.88528 & 15.10765\\\\\n",
       "\t 36.82429 & 21.68851 & 26.20234 & 11.62820\\\\\n",
       "\\end{tabular}\n"
      ],
      "text/markdown": [
       "\n",
       "A matrix: 3 × 4 of type dbl\n",
       "\n",
       "| 38.18270 | 39.08892 | 38.94444 | 34.65549 |\n",
       "| 22.95148 | 28.21206 | 25.88528 | 15.10765 |\n",
       "| 36.82429 | 21.68851 | 26.20234 | 11.62820 |\n",
       "\n"
      ],
      "text/plain": [
       "     [,1]     [,2]     [,3]     [,4]    \n",
       "[1,] 38.18270 39.08892 38.94444 34.65549\n",
       "[2,] 22.95148 28.21206 25.88528 15.10765\n",
       "[3,] 36.82429 21.68851 26.20234 11.62820"
      ]
     },
     "metadata": {},
     "output_type": "display_data"
    }
   ],
   "source": [
    "mat.data"
   ]
  },
  {
   "cell_type": "code",
   "execution_count": 155,
   "metadata": {},
   "outputs": [],
   "source": [
    "columns <- c(\"uno\", \"dos\", \"tres\", \"cuatro\")\n",
    "rows <- c(\"x\",\"y\",\"z\")"
   ]
  },
  {
   "cell_type": "code",
   "execution_count": 156,
   "metadata": {},
   "outputs": [],
   "source": [
    "colnames(mat.data) <- columns"
   ]
  },
  {
   "cell_type": "code",
   "execution_count": 157,
   "metadata": {},
   "outputs": [],
   "source": [
    "rownames(mat.data) <- rows"
   ]
  },
  {
   "cell_type": "code",
   "execution_count": 158,
   "metadata": {},
   "outputs": [
    {
     "data": {
      "text/html": [
       "<table>\n",
       "<caption>A matrix: 3 × 4 of type dbl</caption>\n",
       "<thead>\n",
       "\t<tr><th></th><th scope=col>uno</th><th scope=col>dos</th><th scope=col>tres</th><th scope=col>cuatro</th></tr>\n",
       "</thead>\n",
       "<tbody>\n",
       "\t<tr><th scope=row>x</th><td>38.18270</td><td>39.08892</td><td>38.94444</td><td>34.65549</td></tr>\n",
       "\t<tr><th scope=row>y</th><td>22.95148</td><td>28.21206</td><td>25.88528</td><td>15.10765</td></tr>\n",
       "\t<tr><th scope=row>z</th><td>36.82429</td><td>21.68851</td><td>26.20234</td><td>11.62820</td></tr>\n",
       "</tbody>\n",
       "</table>\n"
      ],
      "text/latex": [
       "A matrix: 3 × 4 of type dbl\n",
       "\\begin{tabular}{r|llll}\n",
       "  & uno & dos & tres & cuatro\\\\\n",
       "\\hline\n",
       "\tx & 38.18270 & 39.08892 & 38.94444 & 34.65549\\\\\n",
       "\ty & 22.95148 & 28.21206 & 25.88528 & 15.10765\\\\\n",
       "\tz & 36.82429 & 21.68851 & 26.20234 & 11.62820\\\\\n",
       "\\end{tabular}\n"
      ],
      "text/markdown": [
       "\n",
       "A matrix: 3 × 4 of type dbl\n",
       "\n",
       "| <!--/--> | uno | dos | tres | cuatro |\n",
       "|---|---|---|---|---|\n",
       "| x | 38.18270 | 39.08892 | 38.94444 | 34.65549 |\n",
       "| y | 22.95148 | 28.21206 | 25.88528 | 15.10765 |\n",
       "| z | 36.82429 | 21.68851 | 26.20234 | 11.62820 |\n",
       "\n"
      ],
      "text/plain": [
       "  uno      dos      tres     cuatro  \n",
       "x 38.18270 39.08892 38.94444 34.65549\n",
       "y 22.95148 28.21206 25.88528 15.10765\n",
       "z 36.82429 21.68851 26.20234 11.62820"
      ]
     },
     "metadata": {},
     "output_type": "display_data"
    }
   ],
   "source": [
    "mat.data"
   ]
  },
  {
   "cell_type": "code",
   "execution_count": 159,
   "metadata": {},
   "outputs": [],
   "source": [
    "scaled <- mat.data * 10"
   ]
  },
  {
   "cell_type": "code",
   "execution_count": 160,
   "metadata": {},
   "outputs": [
    {
     "data": {
      "text/html": [
       "<table>\n",
       "<caption>A matrix: 3 × 4 of type dbl</caption>\n",
       "<thead>\n",
       "\t<tr><th></th><th scope=col>uno</th><th scope=col>dos</th><th scope=col>tres</th><th scope=col>cuatro</th></tr>\n",
       "</thead>\n",
       "<tbody>\n",
       "\t<tr><th scope=row>x</th><td>381.8270</td><td>390.8892</td><td>389.4444</td><td>346.5549</td></tr>\n",
       "\t<tr><th scope=row>y</th><td>229.5148</td><td>282.1206</td><td>258.8528</td><td>151.0765</td></tr>\n",
       "\t<tr><th scope=row>z</th><td>368.2429</td><td>216.8851</td><td>262.0234</td><td>116.2820</td></tr>\n",
       "</tbody>\n",
       "</table>\n"
      ],
      "text/latex": [
       "A matrix: 3 × 4 of type dbl\n",
       "\\begin{tabular}{r|llll}\n",
       "  & uno & dos & tres & cuatro\\\\\n",
       "\\hline\n",
       "\tx & 381.8270 & 390.8892 & 389.4444 & 346.5549\\\\\n",
       "\ty & 229.5148 & 282.1206 & 258.8528 & 151.0765\\\\\n",
       "\tz & 368.2429 & 216.8851 & 262.0234 & 116.2820\\\\\n",
       "\\end{tabular}\n"
      ],
      "text/markdown": [
       "\n",
       "A matrix: 3 × 4 of type dbl\n",
       "\n",
       "| <!--/--> | uno | dos | tres | cuatro |\n",
       "|---|---|---|---|---|\n",
       "| x | 381.8270 | 390.8892 | 389.4444 | 346.5549 |\n",
       "| y | 229.5148 | 282.1206 | 258.8528 | 151.0765 |\n",
       "| z | 368.2429 | 216.8851 | 262.0234 | 116.2820 |\n",
       "\n"
      ],
      "text/plain": [
       "  uno      dos      tres     cuatro  \n",
       "x 381.8270 390.8892 389.4444 346.5549\n",
       "y 229.5148 282.1206 258.8528 151.0765\n",
       "z 368.2429 216.8851 262.0234 116.2820"
      ]
     },
     "metadata": {},
     "output_type": "display_data"
    }
   ],
   "source": [
    "scaled"
   ]
  },
  {
   "cell_type": "code",
   "execution_count": 163,
   "metadata": {},
   "outputs": [],
   "source": [
    "new.mat <- matrix(mat.data,nrow = 3,ncol = 3)"
   ]
  },
  {
   "cell_type": "code",
   "execution_count": 164,
   "metadata": {},
   "outputs": [
    {
     "data": {
      "text/html": [
       "<table>\n",
       "<caption>A matrix: 3 × 3 of type dbl</caption>\n",
       "<tbody>\n",
       "\t<tr><td>38.18270</td><td>39.08892</td><td>38.94444</td></tr>\n",
       "\t<tr><td>22.95148</td><td>28.21206</td><td>25.88528</td></tr>\n",
       "\t<tr><td>36.82429</td><td>21.68851</td><td>26.20234</td></tr>\n",
       "</tbody>\n",
       "</table>\n"
      ],
      "text/latex": [
       "A matrix: 3 × 3 of type dbl\n",
       "\\begin{tabular}{lll}\n",
       "\t 38.18270 & 39.08892 & 38.94444\\\\\n",
       "\t 22.95148 & 28.21206 & 25.88528\\\\\n",
       "\t 36.82429 & 21.68851 & 26.20234\\\\\n",
       "\\end{tabular}\n"
      ],
      "text/markdown": [
       "\n",
       "A matrix: 3 × 3 of type dbl\n",
       "\n",
       "| 38.18270 | 39.08892 | 38.94444 |\n",
       "| 22.95148 | 28.21206 | 25.88528 |\n",
       "| 36.82429 | 21.68851 | 26.20234 |\n",
       "\n"
      ],
      "text/plain": [
       "     [,1]     [,2]     [,3]    \n",
       "[1,] 38.18270 39.08892 38.94444\n",
       "[2,] 22.95148 28.21206 25.88528\n",
       "[3,] 36.82429 21.68851 26.20234"
      ]
     },
     "metadata": {},
     "output_type": "display_data"
    }
   ],
   "source": [
    "new.mat"
   ]
  },
  {
   "cell_type": "code",
   "execution_count": 165,
   "metadata": {},
   "outputs": [],
   "source": [
    "m.mat <- new.mat[ , -4]"
   ]
  },
  {
   "cell_type": "code",
   "execution_count": 166,
   "metadata": {},
   "outputs": [
    {
     "data": {
      "text/html": [
       "<table>\n",
       "<caption>A matrix: 3 × 3 of type dbl</caption>\n",
       "<tbody>\n",
       "\t<tr><td>38.18270</td><td>39.08892</td><td>38.94444</td></tr>\n",
       "\t<tr><td>22.95148</td><td>28.21206</td><td>25.88528</td></tr>\n",
       "\t<tr><td>36.82429</td><td>21.68851</td><td>26.20234</td></tr>\n",
       "</tbody>\n",
       "</table>\n"
      ],
      "text/latex": [
       "A matrix: 3 × 3 of type dbl\n",
       "\\begin{tabular}{lll}\n",
       "\t 38.18270 & 39.08892 & 38.94444\\\\\n",
       "\t 22.95148 & 28.21206 & 25.88528\\\\\n",
       "\t 36.82429 & 21.68851 & 26.20234\\\\\n",
       "\\end{tabular}\n"
      ],
      "text/markdown": [
       "\n",
       "A matrix: 3 × 3 of type dbl\n",
       "\n",
       "| 38.18270 | 39.08892 | 38.94444 |\n",
       "| 22.95148 | 28.21206 | 25.88528 |\n",
       "| 36.82429 | 21.68851 | 26.20234 |\n",
       "\n"
      ],
      "text/plain": [
       "     [,1]     [,2]     [,3]    \n",
       "[1,] 38.18270 39.08892 38.94444\n",
       "[2,] 22.95148 28.21206 25.88528\n",
       "[3,] 36.82429 21.68851 26.20234"
      ]
     },
     "metadata": {},
     "output_type": "display_data"
    }
   ],
   "source": [
    "m.mat"
   ]
  },
  {
   "cell_type": "code",
   "execution_count": 173,
   "metadata": {},
   "outputs": [],
   "source": [
    "m1 <- matrix(rnorm(25,mean = 10 , sd =5) , nrow = 5)"
   ]
  },
  {
   "cell_type": "code",
   "execution_count": 171,
   "metadata": {},
   "outputs": [
    {
     "data": {
      "text/html": [
       "<table>\n",
       "<caption>A matrix: 5 × 5 of type dbl</caption>\n",
       "<tbody>\n",
       "\t<tr><td>12.342957</td><td> 9.184174</td><td>16.320873</td><td>11.349480</td><td>11.169639</td></tr>\n",
       "\t<tr><td>15.935278</td><td> 3.616956</td><td>19.401146</td><td> 9.893287</td><td>13.161123</td></tr>\n",
       "\t<tr><td> 9.675597</td><td>16.701028</td><td>13.855424</td><td>13.133584</td><td> 6.988940</td></tr>\n",
       "\t<tr><td>18.619972</td><td> 9.100036</td><td> 6.155176</td><td>16.289776</td><td> 6.000969</td></tr>\n",
       "\t<tr><td> 6.432723</td><td> 8.059221</td><td>16.714614</td><td> 8.824610</td><td> 8.496039</td></tr>\n",
       "</tbody>\n",
       "</table>\n"
      ],
      "text/latex": [
       "A matrix: 5 × 5 of type dbl\n",
       "\\begin{tabular}{lllll}\n",
       "\t 12.342957 &  9.184174 & 16.320873 & 11.349480 & 11.169639\\\\\n",
       "\t 15.935278 &  3.616956 & 19.401146 &  9.893287 & 13.161123\\\\\n",
       "\t  9.675597 & 16.701028 & 13.855424 & 13.133584 &  6.988940\\\\\n",
       "\t 18.619972 &  9.100036 &  6.155176 & 16.289776 &  6.000969\\\\\n",
       "\t  6.432723 &  8.059221 & 16.714614 &  8.824610 &  8.496039\\\\\n",
       "\\end{tabular}\n"
      ],
      "text/markdown": [
       "\n",
       "A matrix: 5 × 5 of type dbl\n",
       "\n",
       "| 12.342957 |  9.184174 | 16.320873 | 11.349480 | 11.169639 |\n",
       "| 15.935278 |  3.616956 | 19.401146 |  9.893287 | 13.161123 |\n",
       "|  9.675597 | 16.701028 | 13.855424 | 13.133584 |  6.988940 |\n",
       "| 18.619972 |  9.100036 |  6.155176 | 16.289776 |  6.000969 |\n",
       "|  6.432723 |  8.059221 | 16.714614 |  8.824610 |  8.496039 |\n",
       "\n"
      ],
      "text/plain": [
       "     [,1]      [,2]      [,3]      [,4]      [,5]     \n",
       "[1,] 12.342957  9.184174 16.320873 11.349480 11.169639\n",
       "[2,] 15.935278  3.616956 19.401146  9.893287 13.161123\n",
       "[3,]  9.675597 16.701028 13.855424 13.133584  6.988940\n",
       "[4,] 18.619972  9.100036  6.155176 16.289776  6.000969\n",
       "[5,]  6.432723  8.059221 16.714614  8.824610  8.496039"
      ]
     },
     "metadata": {},
     "output_type": "display_data"
    }
   ],
   "source": [
    "m1"
   ]
  },
  {
   "cell_type": "code",
   "execution_count": 174,
   "metadata": {},
   "outputs": [],
   "source": [
    "m2 <- matrix(runif(n = 25 , min = 10 , max = 100), nrow = 5)"
   ]
  },
  {
   "cell_type": "code",
   "execution_count": 181,
   "metadata": {},
   "outputs": [],
   "source": [
    "col.avg <- colMeans(m1)"
   ]
  },
  {
   "cell_type": "code",
   "execution_count": 182,
   "metadata": {},
   "outputs": [
    {
     "data": {
      "text/html": [
       "<ol class=list-inline>\n",
       "\t<li>9.46625045913522</li>\n",
       "\t<li>9.54485843523269</li>\n",
       "\t<li>11.9626787068563</li>\n",
       "\t<li>10.1380804532803</li>\n",
       "\t<li>7.5066119984519</li>\n",
       "</ol>\n"
      ],
      "text/latex": [
       "\\begin{enumerate*}\n",
       "\\item 9.46625045913522\n",
       "\\item 9.54485843523269\n",
       "\\item 11.9626787068563\n",
       "\\item 10.1380804532803\n",
       "\\item 7.5066119984519\n",
       "\\end{enumerate*}\n"
      ],
      "text/markdown": [
       "1. 9.46625045913522\n",
       "2. 9.54485843523269\n",
       "3. 11.9626787068563\n",
       "4. 10.1380804532803\n",
       "5. 7.5066119984519\n",
       "\n",
       "\n"
      ],
      "text/plain": [
       "[1]  9.466250  9.544858 11.962679 10.138080  7.506612"
      ]
     },
     "metadata": {},
     "output_type": "display_data"
    }
   ],
   "source": [
    "col.avg"
   ]
  },
  {
   "cell_type": "code",
   "execution_count": 180,
   "metadata": {},
   "outputs": [
    {
     "data": {
      "text/html": [
       "<ol class=list-inline>\n",
       "\t<li>7.82925714839223</li>\n",
       "\t<li>11.9616606418524</li>\n",
       "\t<li>10.5833499406414</li>\n",
       "\t<li>10.027631820434</li>\n",
       "\t<li>8.21658050163645</li>\n",
       "</ol>\n"
      ],
      "text/latex": [
       "\\begin{enumerate*}\n",
       "\\item 7.82925714839223\n",
       "\\item 11.9616606418524\n",
       "\\item 10.5833499406414\n",
       "\\item 10.027631820434\n",
       "\\item 8.21658050163645\n",
       "\\end{enumerate*}\n"
      ],
      "text/markdown": [
       "1. 7.82925714839223\n",
       "2. 11.9616606418524\n",
       "3. 10.5833499406414\n",
       "4. 10.027631820434\n",
       "5. 8.21658050163645\n",
       "\n",
       "\n"
      ],
      "text/plain": [
       "[1]  7.829257 11.961661 10.583350 10.027632  8.216581"
      ]
     },
     "metadata": {},
     "output_type": "display_data"
    }
   ],
   "source": [
    "rowMeans(m1)"
   ]
  },
  {
   "cell_type": "code",
   "execution_count": 183,
   "metadata": {},
   "outputs": [
    {
     "data": {
      "text/html": [
       "<ol class=list-inline>\n",
       "\t<li>47.3312522956761</li>\n",
       "\t<li>47.7242921761634</li>\n",
       "\t<li>59.8133935342814</li>\n",
       "\t<li>50.6904022664015</li>\n",
       "\t<li>37.5330599922595</li>\n",
       "</ol>\n"
      ],
      "text/latex": [
       "\\begin{enumerate*}\n",
       "\\item 47.3312522956761\n",
       "\\item 47.7242921761634\n",
       "\\item 59.8133935342814\n",
       "\\item 50.6904022664015\n",
       "\\item 37.5330599922595\n",
       "\\end{enumerate*}\n"
      ],
      "text/markdown": [
       "1. 47.3312522956761\n",
       "2. 47.7242921761634\n",
       "3. 59.8133935342814\n",
       "4. 50.6904022664015\n",
       "5. 37.5330599922595\n",
       "\n",
       "\n"
      ],
      "text/plain": [
       "[1] 47.33125 47.72429 59.81339 50.69040 37.53306"
      ]
     },
     "metadata": {},
     "output_type": "display_data"
    }
   ],
   "source": [
    "colSums(m1)"
   ]
  },
  {
   "cell_type": "code",
   "execution_count": 184,
   "metadata": {},
   "outputs": [
    {
     "data": {
      "text/html": [
       "<ol class=list-inline>\n",
       "\t<li>39.1462857419611</li>\n",
       "\t<li>59.8083032092619</li>\n",
       "\t<li>52.9167497032069</li>\n",
       "\t<li>50.1381591021699</li>\n",
       "\t<li>41.0829025081823</li>\n",
       "</ol>\n"
      ],
      "text/latex": [
       "\\begin{enumerate*}\n",
       "\\item 39.1462857419611\n",
       "\\item 59.8083032092619\n",
       "\\item 52.9167497032069\n",
       "\\item 50.1381591021699\n",
       "\\item 41.0829025081823\n",
       "\\end{enumerate*}\n"
      ],
      "text/markdown": [
       "1. 39.1462857419611\n",
       "2. 59.8083032092619\n",
       "3. 52.9167497032069\n",
       "4. 50.1381591021699\n",
       "5. 41.0829025081823\n",
       "\n",
       "\n"
      ],
      "text/plain": [
       "[1] 39.14629 59.80830 52.91675 50.13816 41.08290"
      ]
     },
     "metadata": {},
     "output_type": "display_data"
    }
   ],
   "source": [
    "rowSums(m1)"
   ]
  },
  {
   "cell_type": "code",
   "execution_count": 185,
   "metadata": {},
   "outputs": [
    {
     "data": {
      "text/html": [
       "18.9447322054756"
      ],
      "text/latex": [
       "18.9447322054756"
      ],
      "text/markdown": [
       "18.9447322054756"
      ],
      "text/plain": [
       "[1] 18.94473"
      ]
     },
     "metadata": {},
     "output_type": "display_data"
    },
    {
     "data": {
      "text/html": [
       "-1.21001096221555"
      ],
      "text/latex": [
       "-1.21001096221555"
      ],
      "text/markdown": [
       "-1.21001096221555"
      ],
      "text/plain": [
       "[1] -1.210011"
      ]
     },
     "metadata": {},
     "output_type": "display_data"
    }
   ],
   "source": [
    "max(m1)\n",
    "min(m1)"
   ]
  },
  {
   "cell_type": "code",
   "execution_count": 186,
   "metadata": {},
   "outputs": [
    {
     "data": {
      "text/html": [
       "<table>\n",
       "<caption>A matrix: 5 × 5 of type dbl</caption>\n",
       "<tbody>\n",
       "\t<tr><td> 6.34001566</td><td>17.180617</td><td>10.466564</td><td> 6.369100</td><td>-1.210011</td></tr>\n",
       "\t<tr><td>18.94473221</td><td> 9.290522</td><td> 8.655145</td><td>11.667106</td><td>11.250799</td></tr>\n",
       "\t<tr><td>12.30536707</td><td> 7.528854</td><td>13.657373</td><td> 6.467631</td><td>12.957525</td></tr>\n",
       "\t<tr><td> 9.64649770</td><td>10.655199</td><td>11.333298</td><td> 8.727803</td><td> 9.775361</td></tr>\n",
       "\t<tr><td> 0.09463966</td><td> 3.069101</td><td>15.701014</td><td>17.458762</td><td> 4.759387</td></tr>\n",
       "</tbody>\n",
       "</table>\n"
      ],
      "text/latex": [
       "A matrix: 5 × 5 of type dbl\n",
       "\\begin{tabular}{lllll}\n",
       "\t  6.34001566 & 17.180617 & 10.466564 &  6.369100 & -1.210011\\\\\n",
       "\t 18.94473221 &  9.290522 &  8.655145 & 11.667106 & 11.250799\\\\\n",
       "\t 12.30536707 &  7.528854 & 13.657373 &  6.467631 & 12.957525\\\\\n",
       "\t  9.64649770 & 10.655199 & 11.333298 &  8.727803 &  9.775361\\\\\n",
       "\t  0.09463966 &  3.069101 & 15.701014 & 17.458762 &  4.759387\\\\\n",
       "\\end{tabular}\n"
      ],
      "text/markdown": [
       "\n",
       "A matrix: 5 × 5 of type dbl\n",
       "\n",
       "|  6.34001566 | 17.180617 | 10.466564 |  6.369100 | -1.210011 |\n",
       "| 18.94473221 |  9.290522 |  8.655145 | 11.667106 | 11.250799 |\n",
       "| 12.30536707 |  7.528854 | 13.657373 |  6.467631 | 12.957525 |\n",
       "|  9.64649770 | 10.655199 | 11.333298 |  8.727803 |  9.775361 |\n",
       "|  0.09463966 |  3.069101 | 15.701014 | 17.458762 |  4.759387 |\n",
       "\n"
      ],
      "text/plain": [
       "     [,1]        [,2]      [,3]      [,4]      [,5]     \n",
       "[1,]  6.34001566 17.180617 10.466564  6.369100 -1.210011\n",
       "[2,] 18.94473221  9.290522  8.655145 11.667106 11.250799\n",
       "[3,] 12.30536707  7.528854 13.657373  6.467631 12.957525\n",
       "[4,]  9.64649770 10.655199 11.333298  8.727803  9.775361\n",
       "[5,]  0.09463966  3.069101 15.701014 17.458762  4.759387"
      ]
     },
     "metadata": {},
     "output_type": "display_data"
    }
   ],
   "source": [
    "m1"
   ]
  },
  {
   "cell_type": "code",
   "execution_count": 188,
   "metadata": {},
   "outputs": [
    {
     "data": {
      "text/html": [
       "15.7010135589679"
      ],
      "text/latex": [
       "15.7010135589679"
      ],
      "text/markdown": [
       "15.7010135589679"
      ],
      "text/plain": [
       "[1] 15.70101"
      ]
     },
     "metadata": {},
     "output_type": "display_data"
    }
   ],
   "source": [
    "max(m1[,-c(1,2,4,5)])"
   ]
  },
  {
   "cell_type": "code",
   "execution_count": 189,
   "metadata": {},
   "outputs": [
    {
     "data": {
      "text/html": [
       "8.65514483328216"
      ],
      "text/latex": [
       "8.65514483328216"
      ],
      "text/markdown": [
       "8.65514483328216"
      ],
      "text/plain": [
       "[1] 8.655145"
      ]
     },
     "metadata": {},
     "output_type": "display_data"
    }
   ],
   "source": [
    "min(m1[,3])"
   ]
  },
  {
   "cell_type": "code",
   "execution_count": 190,
   "metadata": {},
   "outputs": [
    {
     "data": {
      "text/html": [
       "<table>\n",
       "<caption>A matrix: 10 × 3 of type chr</caption>\n",
       "<thead>\n",
       "\t<tr><th scope=col>Player</th><th scope=col>Peice</th><th scope=col>Turn</th></tr>\n",
       "</thead>\n",
       "<tbody>\n",
       "\t<tr><td>dark </td><td>king  </td><td>3</td></tr>\n",
       "\t<tr><td>dark </td><td>queen </td><td>5</td></tr>\n",
       "\t<tr><td>dark </td><td>pawn  </td><td>2</td></tr>\n",
       "\t<tr><td>dark </td><td>pawn  </td><td>2</td></tr>\n",
       "\t<tr><td>dark </td><td>knight</td><td>7</td></tr>\n",
       "\t<tr><td>light</td><td>bishop</td><td>4</td></tr>\n",
       "\t<tr><td>light</td><td>king  </td><td>3</td></tr>\n",
       "\t<tr><td>light</td><td>rook  </td><td>5</td></tr>\n",
       "\t<tr><td>light</td><td>pawn  </td><td>2</td></tr>\n",
       "\t<tr><td>light</td><td>pawn  </td><td>1</td></tr>\n",
       "</tbody>\n",
       "</table>\n"
      ],
      "text/latex": [
       "A matrix: 10 × 3 of type chr\n",
       "\\begin{tabular}{lll}\n",
       " Player & Peice & Turn\\\\\n",
       "\\hline\n",
       "\t dark  & king   & 3\\\\\n",
       "\t dark  & queen  & 5\\\\\n",
       "\t dark  & pawn   & 2\\\\\n",
       "\t dark  & pawn   & 2\\\\\n",
       "\t dark  & knight & 7\\\\\n",
       "\t light & bishop & 4\\\\\n",
       "\t light & king   & 3\\\\\n",
       "\t light & rook   & 5\\\\\n",
       "\t light & pawn   & 2\\\\\n",
       "\t light & pawn   & 1\\\\\n",
       "\\end{tabular}\n"
      ],
      "text/markdown": [
       "\n",
       "A matrix: 10 × 3 of type chr\n",
       "\n",
       "| Player | Peice | Turn |\n",
       "|---|---|---|\n",
       "| dark  | king   | 3 |\n",
       "| dark  | queen  | 5 |\n",
       "| dark  | pawn   | 2 |\n",
       "| dark  | pawn   | 2 |\n",
       "| dark  | knight | 7 |\n",
       "| light | bishop | 4 |\n",
       "| light | king   | 3 |\n",
       "| light | rook   | 5 |\n",
       "| light | pawn   | 2 |\n",
       "| light | pawn   | 1 |\n",
       "\n"
      ],
      "text/plain": [
       "      Player Peice  Turn\n",
       " [1,] dark   king   3   \n",
       " [2,] dark   queen  5   \n",
       " [3,] dark   pawn   2   \n",
       " [4,] dark   pawn   2   \n",
       " [5,] dark   knight 7   \n",
       " [6,] light  bishop 4   \n",
       " [7,] light  king   3   \n",
       " [8,] light  rook   5   \n",
       " [9,] light  pawn   2   \n",
       "[10,] light  pawn   1   "
      ]
     },
     "metadata": {},
     "output_type": "display_data"
    }
   ],
   "source": [
    " chess"
   ]
  },
  {
   "cell_type": "code",
   "execution_count": 193,
   "metadata": {},
   "outputs": [],
   "source": [
    "d1 <- chess[,\"Peice\"]"
   ]
  },
  {
   "cell_type": "code",
   "execution_count": 194,
   "metadata": {},
   "outputs": [
    {
     "data": {
      "text/html": [
       "<ol class=list-inline>\n",
       "\t<li>'king'</li>\n",
       "\t<li>'queen'</li>\n",
       "\t<li>'pawn'</li>\n",
       "\t<li>'pawn'</li>\n",
       "\t<li>'knight'</li>\n",
       "\t<li>'bishop'</li>\n",
       "\t<li>'king'</li>\n",
       "\t<li>'rook'</li>\n",
       "\t<li>'pawn'</li>\n",
       "\t<li>'pawn'</li>\n",
       "</ol>\n"
      ],
      "text/latex": [
       "\\begin{enumerate*}\n",
       "\\item 'king'\n",
       "\\item 'queen'\n",
       "\\item 'pawn'\n",
       "\\item 'pawn'\n",
       "\\item 'knight'\n",
       "\\item 'bishop'\n",
       "\\item 'king'\n",
       "\\item 'rook'\n",
       "\\item 'pawn'\n",
       "\\item 'pawn'\n",
       "\\end{enumerate*}\n"
      ],
      "text/markdown": [
       "1. 'king'\n",
       "2. 'queen'\n",
       "3. 'pawn'\n",
       "4. 'pawn'\n",
       "5. 'knight'\n",
       "6. 'bishop'\n",
       "7. 'king'\n",
       "8. 'rook'\n",
       "9. 'pawn'\n",
       "10. 'pawn'\n",
       "\n",
       "\n"
      ],
      "text/plain": [
       " [1] \"king\"   \"queen\"  \"pawn\"   \"pawn\"   \"knight\" \"bishop\" \"king\"   \"rook\"  \n",
       " [9] \"pawn\"   \"pawn\"  "
      ]
     },
     "metadata": {},
     "output_type": "display_data"
    }
   ],
   "source": [
    "d1"
   ]
  },
  {
   "cell_type": "code",
   "execution_count": 201,
   "metadata": {},
   "outputs": [],
   "source": [
    "new.d1 <- factor(x = d1 , levels = c(\"King\", \"Queen\", \"Rook\", \"Bishop\", \"Knight\", \"Pawn\"),labels = c(\"K\",\"Q\",\"R\",\"B\",\"K\",\"P\"))"
   ]
  },
  {
   "cell_type": "code",
   "execution_count": 203,
   "metadata": {},
   "outputs": [],
   "source": [
    "levels(new.d1) <- c(\"K\",\"Q\",\"R\",\"B\",\"K\",\"P\")"
   ]
  },
  {
   "cell_type": "code",
   "execution_count": 204,
   "metadata": {},
   "outputs": [
    {
     "name": "stdout",
     "output_type": "stream",
     "text": [
      " Factor w/ 5 levels \"K\",\"Q\",\"R\",\"B\",..: NA NA NA NA NA NA NA NA NA NA\n"
     ]
    }
   ],
   "source": [
    "str(new.d1)"
   ]
  },
  {
   "cell_type": "code",
   "execution_count": 205,
   "metadata": {},
   "outputs": [],
   "source": [
    "new.d1 <- factor(d1, ordered = TRUE, levels = c(\"K\", \"Q\", \"R\", \"B\", \"K\", \"P\"),\n",
    "                        labels = c(\"King\", \"Queen\", \"Rook\", \"Bishop\", \"Knight\", \"Pawn\"))\n"
   ]
  },
  {
   "cell_type": "code",
   "execution_count": 207,
   "metadata": {},
   "outputs": [
    {
     "name": "stdout",
     "output_type": "stream",
     "text": [
      " Ord.factor w/ 6 levels \"King\"<\"Queen\"<..: NA NA NA NA NA NA NA NA NA NA\n"
     ]
    }
   ],
   "source": [
    "str(new.d1)"
   ]
  },
  {
   "cell_type": "markdown",
   "metadata": {},
   "source": [
    "# List Exercise"
   ]
  },
  {
   "cell_type": "code",
   "execution_count": 219,
   "metadata": {},
   "outputs": [],
   "source": [
    "li <- list(seq(from = 1,to = 10 , by = 2),list(\"Happy Birthday\",\"Archery\"))"
   ]
  },
  {
   "cell_type": "code",
   "execution_count": 223,
   "metadata": {},
   "outputs": [
    {
     "data": {
      "text/html": [
       "'Happy Birthday'"
      ],
      "text/latex": [
       "'Happy Birthday'"
      ],
      "text/markdown": [
       "'Happy Birthday'"
      ],
      "text/plain": [
       "[1] \"Happy Birthday\""
      ]
     },
     "metadata": {},
     "output_type": "display_data"
    }
   ],
   "source": [
    "li[[2]][[1]]"
   ]
  },
  {
   "cell_type": "code",
   "execution_count": 224,
   "metadata": {},
   "outputs": [
    {
     "data": {
      "text/html": [
       "'Archery'"
      ],
      "text/latex": [
       "'Archery'"
      ],
      "text/markdown": [
       "'Archery'"
      ],
      "text/plain": [
       "[1] \"Archery\""
      ]
     },
     "metadata": {},
     "output_type": "display_data"
    }
   ],
   "source": [
    "li[[2]][[2]]"
   ]
  },
  {
   "cell_type": "code",
   "execution_count": 228,
   "metadata": {},
   "outputs": [
    {
     "data": {
      "text/html": [
       "<ol class=list-inline>\n",
       "\t<li>1</li>\n",
       "\t<li>3</li>\n",
       "\t<li>5</li>\n",
       "\t<li>7</li>\n",
       "\t<li>9</li>\n",
       "</ol>\n"
      ],
      "text/latex": [
       "\\begin{enumerate*}\n",
       "\\item 1\n",
       "\\item 3\n",
       "\\item 5\n",
       "\\item 7\n",
       "\\item 9\n",
       "\\end{enumerate*}\n"
      ],
      "text/markdown": [
       "1. 1\n",
       "2. 3\n",
       "3. 5\n",
       "4. 7\n",
       "5. 9\n",
       "\n",
       "\n"
      ],
      "text/plain": [
       "[1] 1 3 5 7 9"
      ]
     },
     "metadata": {},
     "output_type": "display_data"
    }
   ],
   "source": [
    "li[[1]]"
   ]
  },
  {
   "cell_type": "code",
   "execution_count": 229,
   "metadata": {},
   "outputs": [],
   "source": [
    "vec1 <- li[[1]]"
   ]
  },
  {
   "cell_type": "code",
   "execution_count": 231,
   "metadata": {},
   "outputs": [
    {
     "data": {
      "text/html": [
       "'double'"
      ],
      "text/latex": [
       "'double'"
      ],
      "text/markdown": [
       "'double'"
      ],
      "text/plain": [
       "[1] \"double\""
      ]
     },
     "metadata": {},
     "output_type": "display_data"
    }
   ],
   "source": [
    "typeof(vec1)"
   ]
  },
  {
   "cell_type": "code",
   "execution_count": 232,
   "metadata": {},
   "outputs": [],
   "source": [
    "vec2 <- li[[2]][[1]]"
   ]
  },
  {
   "cell_type": "code",
   "execution_count": 233,
   "metadata": {},
   "outputs": [
    {
     "data": {
      "text/html": [
       "'Happy Birthday'"
      ],
      "text/latex": [
       "'Happy Birthday'"
      ],
      "text/markdown": [
       "'Happy Birthday'"
      ],
      "text/plain": [
       "[1] \"Happy Birthday\""
      ]
     },
     "metadata": {},
     "output_type": "display_data"
    }
   ],
   "source": [
    "vec2"
   ]
  },
  {
   "cell_type": "code",
   "execution_count": 234,
   "metadata": {},
   "outputs": [
    {
     "data": {
      "text/html": [
       "'character'"
      ],
      "text/latex": [
       "'character'"
      ],
      "text/markdown": [
       "'character'"
      ],
      "text/plain": [
       "[1] \"character\""
      ]
     },
     "metadata": {},
     "output_type": "display_data"
    }
   ],
   "source": [
    "class(vec2)"
   ]
  },
  {
   "cell_type": "code",
   "execution_count": 263,
   "metadata": {},
   "outputs": [
    {
     "name": "stdin",
     "output_type": "stream",
     "text": [
      "Please insert the data :  12\n"
     ]
    },
    {
     "name": "stdout",
     "output_type": "stream",
     "text": [
      "[1] \"12\"\n"
     ]
    }
   ],
   "source": [
    "x <- readline(paste(\"Please insert the data : \"))\n",
    "print(x)"
   ]
  },
  {
   "cell_type": "code",
   "execution_count": 264,
   "metadata": {},
   "outputs": [
    {
     "name": "stdout",
     "output_type": "stream",
     "text": [
      "[1] \"Rotten\"\n"
     ]
    }
   ],
   "source": [
    "if(x>1 & x<65){\n",
    "    print(\"Rotten\")\n",
    "}else if(x>66 & x<75){\n",
    "    print(\"fresh\")\n",
    "}else if(x>76 & x<100){\n",
    "    print(\"Correct\")\n",
    "}"
   ]
  },
  {
   "cell_type": "code",
   "execution_count": 2,
   "metadata": {},
   "outputs": [
    {
     "name": "stdout",
     "output_type": "stream",
     "text": [
      "[1] 15\n"
     ]
    }
   ],
   "source": [
    "sum <- 0\n",
    "for (vals in 1:5){\n",
    "     sum <- sum+vals\n",
    "}\n",
    "print(sum)"
   ]
  },
  {
   "cell_type": "code",
   "execution_count": null,
   "metadata": {},
   "outputs": [],
   "source": []
  }
 ],
 "metadata": {
  "kernelspec": {
   "display_name": "R",
   "language": "R",
   "name": "ir"
  },
  "language_info": {
   "codemirror_mode": "r",
   "file_extension": ".r",
   "mimetype": "text/x-r-source",
   "name": "R",
   "pygments_lexer": "r",
   "version": "3.6.0"
  }
 },
 "nbformat": 4,
 "nbformat_minor": 4
}
