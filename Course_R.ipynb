{
 "cells": [
  {
   "cell_type": "code",
   "execution_count": 1,
   "metadata": {},
   "outputs": [],
   "source": [
    "lvl <- c(8, 10, 10, 1, 10, 10, 8, 12, 1, 12)"
   ]
  },
  {
   "cell_type": "code",
   "execution_count": 2,
   "metadata": {},
   "outputs": [
    {
     "name": "stdout",
     "output_type": "stream",
     "text": [
      "[1] 4\n",
      "[1] \"The sum is 82\"\n"
     ]
    }
   ],
   "source": [
    "sum.ele <- sum(lvl)\n",
    "avg.ele <- mean(lvl)\n",
    "med.ele <- median(lvl)\n",
    "len <- length(lvl)\n",
    "std.ele <- sd(lvl)\n",
    "rnd.std.ele <- round(std.ele)\n",
    "print(rnd.std.ele)\n",
    "print(paste(\"The sum is\",sum.ele))"
   ]
  },
  {
   "cell_type": "code",
   "execution_count": 3,
   "metadata": {},
   "outputs": [
    {
     "name": "stdout",
     "output_type": "stream",
     "text": [
      "[1] \"Ambassodor\" \"Duke\"       \"contessa\"  \n"
     ]
    }
   ],
   "source": [
    "draw <- function(){\n",
    "    deck <- c(\"Duke\",\"Asssasin\",\"Captain\",\"Ambassodor\",\"contessa\")\n",
    "    sample.deck <- sample(deck,size = 3 , replace = T)\n",
    "    print(sample.deck)\n",
    "    \n",
    "}\n",
    "\n",
    "draw()"
   ]
  },
  {
   "cell_type": "code",
   "execution_count": 4,
   "metadata": {},
   "outputs": [
    {
     "name": "stdout",
     "output_type": "stream",
     "text": [
      "[1] \"heads\"\n"
     ]
    }
   ],
   "source": [
    "flip <- function(){\n",
    "    coin <- c(\"heads\",\"tails\")\n",
    "    toss <- sample(coin,size = 1,prob = c(0.3,0.7))\n",
    "    print(toss)\n",
    "}\n",
    "\n",
    "flip()"
   ]
  },
  {
   "cell_type": "code",
   "execution_count": 5,
   "metadata": {},
   "outputs": [],
   "source": [
    "weight <- c(71, 67, 83, 67)\n",
    "height <- c(1.75, 1.81, 1.78, 1.82, 1.97, 2.12, 2.75)"
   ]
  },
  {
   "cell_type": "code",
   "execution_count": 6,
   "metadata": {},
   "outputs": [
    {
     "name": "stderr",
     "output_type": "stream",
     "text": [
      "Warning message in weight/height:\n",
      "“longer object length is not a multiple of shorter object length”\n"
     ]
    }
   ],
   "source": [
    "BMI <- weight/height"
   ]
  },
  {
   "cell_type": "code",
   "execution_count": 7,
   "metadata": {},
   "outputs": [
    {
     "data": {
      "text/html": [
       "<ol class=list-inline>\n",
       "\t<li>40.5714285714286</li>\n",
       "\t<li>37.0165745856354</li>\n",
       "\t<li>46.6292134831461</li>\n",
       "\t<li>36.8131868131868</li>\n",
       "\t<li>36.0406091370558</li>\n",
       "\t<li>31.6037735849057</li>\n",
       "\t<li>30.1818181818182</li>\n",
       "</ol>\n"
      ],
      "text/latex": [
       "\\begin{enumerate*}\n",
       "\\item 40.5714285714286\n",
       "\\item 37.0165745856354\n",
       "\\item 46.6292134831461\n",
       "\\item 36.8131868131868\n",
       "\\item 36.0406091370558\n",
       "\\item 31.6037735849057\n",
       "\\item 30.1818181818182\n",
       "\\end{enumerate*}\n"
      ],
      "text/markdown": [
       "1. 40.5714285714286\n",
       "2. 37.0165745856354\n",
       "3. 46.6292134831461\n",
       "4. 36.8131868131868\n",
       "5. 36.0406091370558\n",
       "6. 31.6037735849057\n",
       "7. 30.1818181818182\n",
       "\n",
       "\n"
      ],
      "text/plain": [
       "[1] 40.57143 37.01657 46.62921 36.81319 36.04061 31.60377 30.18182"
      ]
     },
     "metadata": {},
     "output_type": "display_data"
    }
   ],
   "source": [
    "BMI"
   ]
  },
  {
   "cell_type": "code",
   "execution_count": 8,
   "metadata": {},
   "outputs": [],
   "source": [
    "age <- c(23,4,76,89)"
   ]
  },
  {
   "cell_type": "code",
   "execution_count": 9,
   "metadata": {},
   "outputs": [
    {
     "data": {
      "text/plain": [
       "   Min. 1st Qu.  Median    Mean 3rd Qu.    Max. \n",
       "   4.00   18.25   49.50   48.00   79.25   89.00 "
      ]
     },
     "metadata": {},
     "output_type": "display_data"
    }
   ],
   "source": [
    "summary(age)"
   ]
  },
  {
   "cell_type": "code",
   "execution_count": 10,
   "metadata": {},
   "outputs": [
    {
     "data": {
      "text/plain": [
       "NULL"
      ]
     },
     "metadata": {},
     "output_type": "display_data"
    }
   ],
   "source": [
    "attributes(age)"
   ]
  },
  {
   "cell_type": "code",
   "execution_count": 11,
   "metadata": {},
   "outputs": [
    {
     "data": {
      "text/plain": [
       "NULL"
      ]
     },
     "metadata": {},
     "output_type": "display_data"
    }
   ],
   "source": [
    "names(age)"
   ]
  },
  {
   "cell_type": "code",
   "execution_count": 12,
   "metadata": {},
   "outputs": [],
   "source": [
    "names(age) <- c(\"Sahil\",\"Rajat\",\"Champion\",\"Aristotle\")"
   ]
  },
  {
   "cell_type": "code",
   "execution_count": 13,
   "metadata": {},
   "outputs": [
    {
     "data": {
      "text/html": [
       "<ol class=list-inline>\n",
       "\t<li>'Sahil'</li>\n",
       "\t<li>'Rajat'</li>\n",
       "\t<li>'Champion'</li>\n",
       "\t<li>'Aristotle'</li>\n",
       "</ol>\n"
      ],
      "text/latex": [
       "\\begin{enumerate*}\n",
       "\\item 'Sahil'\n",
       "\\item 'Rajat'\n",
       "\\item 'Champion'\n",
       "\\item 'Aristotle'\n",
       "\\end{enumerate*}\n"
      ],
      "text/markdown": [
       "1. 'Sahil'\n",
       "2. 'Rajat'\n",
       "3. 'Champion'\n",
       "4. 'Aristotle'\n",
       "\n",
       "\n"
      ],
      "text/plain": [
       "[1] \"Sahil\"     \"Rajat\"     \"Champion\"  \"Aristotle\""
      ]
     },
     "metadata": {},
     "output_type": "display_data"
    }
   ],
   "source": [
    "names(age)"
   ]
  },
  {
   "cell_type": "code",
   "execution_count": null,
   "metadata": {},
   "outputs": [],
   "source": []
  }
 ],
 "metadata": {
  "kernelspec": {
   "display_name": "R",
   "language": "R",
   "name": "ir"
  },
  "language_info": {
   "codemirror_mode": "r",
   "file_extension": ".r",
   "mimetype": "text/x-r-source",
   "name": "R",
   "pygments_lexer": "r",
   "version": "3.6.0"
  }
 },
 "nbformat": 4,
 "nbformat_minor": 4
}
