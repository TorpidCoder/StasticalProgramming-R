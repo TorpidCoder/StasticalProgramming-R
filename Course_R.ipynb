{
 "cells": [
  {
   "cell_type": "code",
   "execution_count": 4,
   "metadata": {},
   "outputs": [],
   "source": [
    "lvl <- c(8, 10, 10, 1, 10, 10, 8, 12, 1, 12)"
   ]
  },
  {
   "cell_type": "code",
   "execution_count": 14,
   "metadata": {},
   "outputs": [
    {
     "name": "stdout",
     "output_type": "stream",
     "text": [
      "[1] 4\n",
      "[1] \"The sum is 82\"\n"
     ]
    }
   ],
   "source": [
    "sum.ele <- sum(lvl)\n",
    "avg.ele <- mean(lvl)\n",
    "med.ele <- median(lvl)\n",
    "len <- length(lvl)\n",
    "std.ele <- sd(lvl)\n",
    "rnd.std.ele <- round(std.ele)\n",
    "print(rnd.std.ele)\n",
    "print(paste(\"The sum is\",sum.ele))"
   ]
  },
  {
   "cell_type": "code",
   "execution_count": 20,
   "metadata": {},
   "outputs": [
    {
     "name": "stdout",
     "output_type": "stream",
     "text": [
      "[1] \"Captain\"  \"contessa\" \"contessa\"\n"
     ]
    }
   ],
   "source": [
    "draw <- function(){\n",
    "    deck <- c(\"Duke\",\"Asssasin\",\"Captain\",\"Ambassodor\",\"contessa\")\n",
    "    sample.deck <- sample(deck,size = 3 , replace = T)\n",
    "    print(sample.deck)\n",
    "    \n",
    "}\n",
    "\n",
    "draw()"
   ]
  },
  {
   "cell_type": "code",
   "execution_count": 27,
   "metadata": {},
   "outputs": [
    {
     "name": "stdout",
     "output_type": "stream",
     "text": [
      "[1] \"tails\"\n"
     ]
    }
   ],
   "source": [
    "flip <- function(){\n",
    "    coin <- c(\"heads\",\"tails\")\n",
    "    toss <- sample(coin,size = 1,prob = c(0.3,0.7))\n",
    "    print(toss)\n",
    "}\n",
    "\n",
    "flip()"
   ]
  },
  {
   "cell_type": "code",
   "execution_count": null,
   "metadata": {},
   "outputs": [],
   "source": []
  },
  {
   "cell_type": "code",
   "execution_count": null,
   "metadata": {},
   "outputs": [],
   "source": []
  }
 ],
 "metadata": {
  "kernelspec": {
   "display_name": "R",
   "language": "R",
   "name": "ir"
  },
  "language_info": {
   "codemirror_mode": "r",
   "file_extension": ".r",
   "mimetype": "text/x-r-source",
   "name": "R",
   "pygments_lexer": "r",
   "version": "3.6.0"
  }
 },
 "nbformat": 4,
 "nbformat_minor": 4
}
