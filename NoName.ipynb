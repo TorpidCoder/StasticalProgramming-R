{
 "cells": [
  {
   "cell_type": "markdown",
   "metadata": {},
   "source": [
    "# Vector Exercise"
   ]
  },
  {
   "cell_type": "code",
   "execution_count": 2,
   "metadata": {},
   "outputs": [
    {
     "name": "stderr",
     "output_type": "stream",
     "text": [
      "Warning message in weight/height:\n",
      "“longer object length is not a multiple of shorter object length”\n"
     ]
    },
    {
     "data": {
      "text/html": [
       "<ol class=list-inline>\n",
       "\t<li>40.5714285714286</li>\n",
       "\t<li>37.0165745856354</li>\n",
       "\t<li>46.6292134831461</li>\n",
       "\t<li>36.8131868131868</li>\n",
       "\t<li>36.0406091370558</li>\n",
       "\t<li>31.6037735849057</li>\n",
       "\t<li>30.1818181818182</li>\n",
       "</ol>\n"
      ],
      "text/latex": [
       "\\begin{enumerate*}\n",
       "\\item 40.5714285714286\n",
       "\\item 37.0165745856354\n",
       "\\item 46.6292134831461\n",
       "\\item 36.8131868131868\n",
       "\\item 36.0406091370558\n",
       "\\item 31.6037735849057\n",
       "\\item 30.1818181818182\n",
       "\\end{enumerate*}\n"
      ],
      "text/markdown": [
       "1. 40.5714285714286\n",
       "2. 37.0165745856354\n",
       "3. 46.6292134831461\n",
       "4. 36.8131868131868\n",
       "5. 36.0406091370558\n",
       "6. 31.6037735849057\n",
       "7. 30.1818181818182\n",
       "\n",
       "\n"
      ],
      "text/plain": [
       "[1] 40.57143 37.01657 46.62921 36.81319 36.04061 31.60377 30.18182"
      ]
     },
     "metadata": {},
     "output_type": "display_data"
    }
   ],
   "source": [
    "weight <- c(71, 67, 83, 67)\n",
    "height <- c(1.75, 1.81, 1.78, 1.82, 1.97, 2.12, 2.75)\n",
    "BMI <- weight/height\n",
    "BMI"
   ]
  },
  {
   "cell_type": "code",
   "execution_count": 7,
   "metadata": {},
   "outputs": [
    {
     "data": {
      "text/plain": [
       "NULL"
      ]
     },
     "metadata": {},
     "output_type": "display_data"
    },
    {
     "data": {
      "text/html": [
       "<dl class=dl-horizontal>\n",
       "\t<dt>Blue-Eyes White Dragon</dt>\n",
       "\t\t<dd>3000</dd>\n",
       "\t<dt>Exodius</dt>\n",
       "\t\t<dd>&lt;NA&gt;</dd>\n",
       "\t<dt>The Winged Dragon of Ra</dt>\n",
       "\t\t<dd>&lt;NA&gt;</dd>\n",
       "\t<dt>Raigeki</dt>\n",
       "\t\t<dd>&lt;NA&gt;</dd>\n",
       "\t<dt>Slifer the Sky Dragon</dt>\n",
       "\t\t<dd>&lt;NA&gt;</dd>\n",
       "\t<dt>Obelisk the Tormentor</dt>\n",
       "\t\t<dd>4000</dd>\n",
       "\t<dt>Black Luster Soldier</dt>\n",
       "\t\t<dd>3000</dd>\n",
       "\t<dt>5-Headed Dragon</dt>\n",
       "\t\t<dd>5000</dd>\n",
       "\t<dt>Exodia the Forbidden One</dt>\n",
       "\t\t<dd>1000</dd>\n",
       "\t<dt>Dragon Master Knight</dt>\n",
       "\t\t<dd>5000</dd>\n",
       "</dl>\n"
      ],
      "text/latex": [
       "\\begin{description*}\n",
       "\\item[Blue-Eyes White Dragon] 3000\n",
       "\\item[Exodius] <NA>\n",
       "\\item[The Winged Dragon of Ra] <NA>\n",
       "\\item[Raigeki] <NA>\n",
       "\\item[Slifer the Sky Dragon] <NA>\n",
       "\\item[Obelisk the Tormentor] 4000\n",
       "\\item[Black Luster Soldier] 3000\n",
       "\\item[5-Headed Dragon] 5000\n",
       "\\item[Exodia the Forbidden One] 1000\n",
       "\\item[Dragon Master Knight] 5000\n",
       "\\end{description*}\n"
      ],
      "text/markdown": [
       "Blue-Eyes White Dragon\n",
       ":   3000Exodius\n",
       ":   &lt;NA&gt;The Winged Dragon of Ra\n",
       ":   &lt;NA&gt;Raigeki\n",
       ":   &lt;NA&gt;Slifer the Sky Dragon\n",
       ":   &lt;NA&gt;Obelisk the Tormentor\n",
       ":   4000Black Luster Soldier\n",
       ":   30005-Headed Dragon\n",
       ":   5000Exodia the Forbidden One\n",
       ":   1000Dragon Master Knight\n",
       ":   5000\n",
       "\n"
      ],
      "text/plain": [
       "  Blue-Eyes White Dragon                  Exodius  The Winged Dragon of Ra \n",
       "                    3000                       NA                       NA \n",
       "                 Raigeki    Slifer the Sky Dragon    Obelisk the Tormentor \n",
       "                      NA                       NA                     4000 \n",
       "    Black Luster Soldier          5-Headed Dragon Exodia the Forbidden One \n",
       "                    3000                     5000                     1000 \n",
       "    Dragon Master Knight \n",
       "                    5000 "
      ]
     },
     "metadata": {},
     "output_type": "display_data"
    }
   ],
   "source": [
    "atk <- c(3000, NA, NA, NA, NA, 4000, 3000, 5000, 1000, 5000)\n",
    "attributes(atk)\n",
    "cards <- c(\"Blue-Eyes White Dragon\", \"Exodius\", \"The Winged Dragon of Ra\", \"Raigeki\", \n",
    "           \"Slifer the Sky Dragon\", \"Obelisk the Tormentor\", \"Black Luster Soldier\", \n",
    "           \"5-Headed Dragon\", \"Exodia the Forbidden One\", \"Dragon Master Knight\")\n",
    "names(atk) <- cards\n",
    "atk"
   ]
  },
  {
   "cell_type": "code",
   "execution_count": 13,
   "metadata": {},
   "outputs": [
    {
     "name": "stdout",
     "output_type": "stream",
     "text": [
      "[1] \"This is point 1\"\n"
     ]
    },
    {
     "data": {
      "text/html": [
       "<strong>Obelisk the Tormentor:</strong> 4000"
      ],
      "text/latex": [
       "\\textbf{Obelisk the Tormentor:} 4000"
      ],
      "text/markdown": [
       "**Obelisk the Tormentor:** 4000"
      ],
      "text/plain": [
       "Obelisk the Tormentor \n",
       "                 4000 "
      ]
     },
     "metadata": {},
     "output_type": "display_data"
    },
    {
     "name": "stdout",
     "output_type": "stream",
     "text": [
      "[1] \"This is point 2\"\n"
     ]
    },
    {
     "data": {
      "text/html": [
       "<dl class=dl-horizontal>\n",
       "\t<dt>Blue-Eyes White Dragon</dt>\n",
       "\t\t<dd>3000</dd>\n",
       "\t<dt>The Winged Dragon of Ra</dt>\n",
       "\t\t<dd>&lt;NA&gt;</dd>\n",
       "\t<dt>Raigeki</dt>\n",
       "\t\t<dd>&lt;NA&gt;</dd>\n",
       "\t<dt>Slifer the Sky Dragon</dt>\n",
       "\t\t<dd>&lt;NA&gt;</dd>\n",
       "\t<dt>Obelisk the Tormentor</dt>\n",
       "\t\t<dd>4000</dd>\n",
       "\t<dt>Black Luster Soldier</dt>\n",
       "\t\t<dd>3000</dd>\n",
       "\t<dt>5-Headed Dragon</dt>\n",
       "\t\t<dd>5000</dd>\n",
       "\t<dt>Exodia the Forbidden One</dt>\n",
       "\t\t<dd>1000</dd>\n",
       "\t<dt>Dragon Master Knight</dt>\n",
       "\t\t<dd>5000</dd>\n",
       "</dl>\n"
      ],
      "text/latex": [
       "\\begin{description*}\n",
       "\\item[Blue-Eyes White Dragon] 3000\n",
       "\\item[The Winged Dragon of Ra] <NA>\n",
       "\\item[Raigeki] <NA>\n",
       "\\item[Slifer the Sky Dragon] <NA>\n",
       "\\item[Obelisk the Tormentor] 4000\n",
       "\\item[Black Luster Soldier] 3000\n",
       "\\item[5-Headed Dragon] 5000\n",
       "\\item[Exodia the Forbidden One] 1000\n",
       "\\item[Dragon Master Knight] 5000\n",
       "\\end{description*}\n"
      ],
      "text/markdown": [
       "Blue-Eyes White Dragon\n",
       ":   3000The Winged Dragon of Ra\n",
       ":   &lt;NA&gt;Raigeki\n",
       ":   &lt;NA&gt;Slifer the Sky Dragon\n",
       ":   &lt;NA&gt;Obelisk the Tormentor\n",
       ":   4000Black Luster Soldier\n",
       ":   30005-Headed Dragon\n",
       ":   5000Exodia the Forbidden One\n",
       ":   1000Dragon Master Knight\n",
       ":   5000\n",
       "\n"
      ],
      "text/plain": [
       "  Blue-Eyes White Dragon  The Winged Dragon of Ra                  Raigeki \n",
       "                    3000                       NA                       NA \n",
       "   Slifer the Sky Dragon    Obelisk the Tormentor     Black Luster Soldier \n",
       "                      NA                     4000                     3000 \n",
       "         5-Headed Dragon Exodia the Forbidden One     Dragon Master Knight \n",
       "                    5000                     1000                     5000 "
      ]
     },
     "metadata": {},
     "output_type": "display_data"
    },
    {
     "name": "stdout",
     "output_type": "stream",
     "text": [
      "[1] \"This is point 3\"\n"
     ]
    },
    {
     "data": {
      "text/html": [
       "<dl class=dl-horizontal>\n",
       "\t<dt>Blue-Eyes White Dragon</dt>\n",
       "\t\t<dd>3000</dd>\n",
       "\t<dt>The Winged Dragon of Ra</dt>\n",
       "\t\t<dd>&lt;NA&gt;</dd>\n",
       "\t<dt>Slifer the Sky Dragon</dt>\n",
       "\t\t<dd>&lt;NA&gt;</dd>\n",
       "\t<dt>Black Luster Soldier</dt>\n",
       "\t\t<dd>3000</dd>\n",
       "\t<dt>Exodia the Forbidden One</dt>\n",
       "\t\t<dd>1000</dd>\n",
       "</dl>\n"
      ],
      "text/latex": [
       "\\begin{description*}\n",
       "\\item[Blue-Eyes White Dragon] 3000\n",
       "\\item[The Winged Dragon of Ra] <NA>\n",
       "\\item[Slifer the Sky Dragon] <NA>\n",
       "\\item[Black Luster Soldier] 3000\n",
       "\\item[Exodia the Forbidden One] 1000\n",
       "\\end{description*}\n"
      ],
      "text/markdown": [
       "Blue-Eyes White Dragon\n",
       ":   3000The Winged Dragon of Ra\n",
       ":   &lt;NA&gt;Slifer the Sky Dragon\n",
       ":   &lt;NA&gt;Black Luster Soldier\n",
       ":   3000Exodia the Forbidden One\n",
       ":   1000\n",
       "\n"
      ],
      "text/plain": [
       "  Blue-Eyes White Dragon  The Winged Dragon of Ra    Slifer the Sky Dragon \n",
       "                    3000                       NA                       NA \n",
       "    Black Luster Soldier Exodia the Forbidden One \n",
       "                    3000                     1000 "
      ]
     },
     "metadata": {},
     "output_type": "display_data"
    },
    {
     "name": "stdout",
     "output_type": "stream",
     "text": [
      "[1] \"This is point 4\"\n"
     ]
    },
    {
     "data": {
      "text/html": [
       "<dl class=dl-horizontal>\n",
       "\t<dt>Blue-Eyes White Dragon</dt>\n",
       "\t\t<dd>3000</dd>\n",
       "\t<dt>Exodius</dt>\n",
       "\t\t<dd>&lt;NA&gt;</dd>\n",
       "\t<dt>The Winged Dragon of Ra</dt>\n",
       "\t\t<dd>&lt;NA&gt;</dd>\n",
       "\t<dt>Black Luster Soldier</dt>\n",
       "\t\t<dd>3000</dd>\n",
       "\t<dt>5-Headed Dragon</dt>\n",
       "\t\t<dd>5000</dd>\n",
       "\t<dt>Exodia the Forbidden One</dt>\n",
       "\t\t<dd>1000</dd>\n",
       "\t<dt>Dragon Master Knight</dt>\n",
       "\t\t<dd>5000</dd>\n",
       "</dl>\n"
      ],
      "text/latex": [
       "\\begin{description*}\n",
       "\\item[Blue-Eyes White Dragon] 3000\n",
       "\\item[Exodius] <NA>\n",
       "\\item[The Winged Dragon of Ra] <NA>\n",
       "\\item[Black Luster Soldier] 3000\n",
       "\\item[5-Headed Dragon] 5000\n",
       "\\item[Exodia the Forbidden One] 1000\n",
       "\\item[Dragon Master Knight] 5000\n",
       "\\end{description*}\n"
      ],
      "text/markdown": [
       "Blue-Eyes White Dragon\n",
       ":   3000Exodius\n",
       ":   &lt;NA&gt;The Winged Dragon of Ra\n",
       ":   &lt;NA&gt;Black Luster Soldier\n",
       ":   30005-Headed Dragon\n",
       ":   5000Exodia the Forbidden One\n",
       ":   1000Dragon Master Knight\n",
       ":   5000\n",
       "\n"
      ],
      "text/plain": [
       "  Blue-Eyes White Dragon                  Exodius  The Winged Dragon of Ra \n",
       "                    3000                       NA                       NA \n",
       "    Black Luster Soldier          5-Headed Dragon Exodia the Forbidden One \n",
       "                    3000                     5000                     1000 \n",
       "    Dragon Master Knight \n",
       "                    5000 "
      ]
     },
     "metadata": {},
     "output_type": "display_data"
    },
    {
     "name": "stdout",
     "output_type": "stream",
     "text": [
      "[1] \"This is point 5\"\n"
     ]
    },
    {
     "data": {
      "text/html": [
       "<dl class=dl-horizontal>\n",
       "\t<dt>Blue-Eyes White Dragon</dt>\n",
       "\t\t<dd>3000</dd>\n",
       "\t<dt>2</dt>\n",
       "\t\t<dd>&lt;NA&gt;</dd>\n",
       "\t<dt>3</dt>\n",
       "\t\t<dd>&lt;NA&gt;</dd>\n",
       "\t<dt>4</dt>\n",
       "\t\t<dd>&lt;NA&gt;</dd>\n",
       "\t<dt>5</dt>\n",
       "\t\t<dd>&lt;NA&gt;</dd>\n",
       "\t<dt>Obelisk the Tormentor</dt>\n",
       "\t\t<dd>4000</dd>\n",
       "\t<dt>Black Luster Soldier</dt>\n",
       "\t\t<dd>3000</dd>\n",
       "\t<dt>5-Headed Dragon</dt>\n",
       "\t\t<dd>5000</dd>\n",
       "\t<dt>Dragon Master Knight</dt>\n",
       "\t\t<dd>5000</dd>\n",
       "</dl>\n"
      ],
      "text/latex": [
       "\\begin{description*}\n",
       "\\item[Blue-Eyes White Dragon] 3000\n",
       "\\item[2] <NA>\n",
       "\\item[3] <NA>\n",
       "\\item[4] <NA>\n",
       "\\item[5] <NA>\n",
       "\\item[Obelisk the Tormentor] 4000\n",
       "\\item[Black Luster Soldier] 3000\n",
       "\\item[5-Headed Dragon] 5000\n",
       "\\item[Dragon Master Knight] 5000\n",
       "\\end{description*}\n"
      ],
      "text/markdown": [
       "Blue-Eyes White Dragon\n",
       ":   30002\n",
       ":   &lt;NA&gt;3\n",
       ":   &lt;NA&gt;4\n",
       ":   &lt;NA&gt;5\n",
       ":   &lt;NA&gt;Obelisk the Tormentor\n",
       ":   4000Black Luster Soldier\n",
       ":   30005-Headed Dragon\n",
       ":   5000Dragon Master Knight\n",
       ":   5000\n",
       "\n"
      ],
      "text/plain": [
       "Blue-Eyes White Dragon                   <NA>                   <NA> \n",
       "                  3000                     NA                     NA \n",
       "                  <NA>                   <NA>  Obelisk the Tormentor \n",
       "                    NA                     NA                   4000 \n",
       "  Black Luster Soldier        5-Headed Dragon   Dragon Master Knight \n",
       "                  3000                   5000                   5000 "
      ]
     },
     "metadata": {},
     "output_type": "display_data"
    }
   ],
   "source": [
    "#1\n",
    "print(\"This is point 1\")\n",
    "atk[6]\n",
    "#2\n",
    "print(\"This is point 2\")\n",
    "atk[-2]\n",
    "#3\n",
    "print(\"This is point 3\")\n",
    "atk[c(1,3,5,7,9)]\n",
    "#4\n",
    "print(\"This is point 4\")\n",
    "atk[c(-4,-5,-6)]\n",
    "#5\n",
    "print(\"This is point 5\")\n",
    "atk[atk>2000]\n"
   ]
  },
  {
   "cell_type": "code",
   "execution_count": 24,
   "metadata": {},
   "outputs": [
    {
     "data": {
      "text/plain": [
       "NULL"
      ]
     },
     "metadata": {},
     "output_type": "display_data"
    },
    {
     "data": {
      "text/html": [
       "<table>\n",
       "<caption>A matrix: 3 × 5 of type dbl</caption>\n",
       "<tbody>\n",
       "\t<tr><td>2</td><td> 8</td><td>14</td><td>20</td><td>26</td></tr>\n",
       "\t<tr><td>4</td><td>10</td><td>16</td><td>22</td><td>28</td></tr>\n",
       "\t<tr><td>6</td><td>12</td><td>18</td><td>24</td><td>30</td></tr>\n",
       "</tbody>\n",
       "</table>\n"
      ],
      "text/latex": [
       "A matrix: 3 × 5 of type dbl\n",
       "\\begin{tabular}{lllll}\n",
       "\t 2 &  8 & 14 & 20 & 26\\\\\n",
       "\t 4 & 10 & 16 & 22 & 28\\\\\n",
       "\t 6 & 12 & 18 & 24 & 30\\\\\n",
       "\\end{tabular}\n"
      ],
      "text/markdown": [
       "\n",
       "A matrix: 3 × 5 of type dbl\n",
       "\n",
       "| 2 |  8 | 14 | 20 | 26 |\n",
       "| 4 | 10 | 16 | 22 | 28 |\n",
       "| 6 | 12 | 18 | 24 | 30 |\n",
       "\n"
      ],
      "text/plain": [
       "     [,1] [,2] [,3] [,4] [,5]\n",
       "[1,] 2     8   14   20   26  \n",
       "[2,] 4    10   16   22   28  \n",
       "[3,] 6    12   18   24   30  "
      ]
     },
     "metadata": {},
     "output_type": "display_data"
    }
   ],
   "source": [
    "s <- seq(from = 2 , to = 30 , by = 2)\n",
    "attributes(s)\n",
    "dim(s) <- c(3,5)\n",
    "s"
   ]
  },
  {
   "cell_type": "markdown",
   "metadata": {},
   "source": [
    "# Matrices Exercise"
   ]
  },
  {
   "cell_type": "code",
   "execution_count": 50,
   "metadata": {},
   "outputs": [
    {
     "data": {
      "text/html": [
       "<table>\n",
       "<caption>A matrix: 10 × 2 of type chr</caption>\n",
       "<thead>\n",
       "\t<tr><th scope=col>Player</th><th scope=col>Piece</th></tr>\n",
       "</thead>\n",
       "<tbody>\n",
       "\t<tr><td>dark </td><td>king  </td></tr>\n",
       "\t<tr><td>dark </td><td>queen </td></tr>\n",
       "\t<tr><td>dark </td><td>pawn  </td></tr>\n",
       "\t<tr><td>dark </td><td>pawn  </td></tr>\n",
       "\t<tr><td>dark </td><td>knight</td></tr>\n",
       "\t<tr><td>light</td><td>bishop</td></tr>\n",
       "\t<tr><td>light</td><td>king  </td></tr>\n",
       "\t<tr><td>light</td><td>rook  </td></tr>\n",
       "\t<tr><td>light</td><td>pawn  </td></tr>\n",
       "\t<tr><td>light</td><td>pawn  </td></tr>\n",
       "</tbody>\n",
       "</table>\n"
      ],
      "text/latex": [
       "A matrix: 10 × 2 of type chr\n",
       "\\begin{tabular}{ll}\n",
       " Player & Piece\\\\\n",
       "\\hline\n",
       "\t dark  & king  \\\\\n",
       "\t dark  & queen \\\\\n",
       "\t dark  & pawn  \\\\\n",
       "\t dark  & pawn  \\\\\n",
       "\t dark  & knight\\\\\n",
       "\t light & bishop\\\\\n",
       "\t light & king  \\\\\n",
       "\t light & rook  \\\\\n",
       "\t light & pawn  \\\\\n",
       "\t light & pawn  \\\\\n",
       "\\end{tabular}\n"
      ],
      "text/markdown": [
       "\n",
       "A matrix: 10 × 2 of type chr\n",
       "\n",
       "| Player | Piece |\n",
       "|---|---|\n",
       "| dark  | king   |\n",
       "| dark  | queen  |\n",
       "| dark  | pawn   |\n",
       "| dark  | pawn   |\n",
       "| dark  | knight |\n",
       "| light | bishop |\n",
       "| light | king   |\n",
       "| light | rook   |\n",
       "| light | pawn   |\n",
       "| light | pawn   |\n",
       "\n"
      ],
      "text/plain": [
       "      Player Piece \n",
       " [1,] dark   king  \n",
       " [2,] dark   queen \n",
       " [3,] dark   pawn  \n",
       " [4,] dark   pawn  \n",
       " [5,] dark   knight\n",
       " [6,] light  bishop\n",
       " [7,] light  king  \n",
       " [8,] light  rook  \n",
       " [9,] light  pawn  \n",
       "[10,] light  pawn  "
      ]
     },
     "metadata": {},
     "output_type": "display_data"
    }
   ],
   "source": [
    "Player <- c(rep(x =c(\"dark\"),5) ,rep(x =c(\"light\"),5))\n",
    "Piece <- c(\"king\",\"queen\",\"pawn\",\"pawn\",\"knight\",\"bishop\",\"king\",\"rook\",\"pawn\",\"pawn\")\n",
    "\n",
    "chess <- matrix(data = c(Player,Piece),nrow = 10,dimnames = list(NULL,c(\"Player\",\"Piece\")))\n",
    "chess\n"
   ]
  },
  {
   "cell_type": "code",
   "execution_count": null,
   "metadata": {},
   "outputs": [],
   "source": []
  },
  {
   "cell_type": "code",
   "execution_count": 41,
   "metadata": {},
   "outputs": [
    {
     "data": {
      "text/html": [
       "<table>\n",
       "<caption>A matrix: 10 × 2 of type chr</caption>\n",
       "<thead>\n",
       "\t<tr><th scope=col>Player</th><th scope=col>Piece</th></tr>\n",
       "</thead>\n",
       "<tbody>\n",
       "\t<tr><td>dark </td><td>king  </td></tr>\n",
       "\t<tr><td>dark </td><td>queen </td></tr>\n",
       "\t<tr><td>dark </td><td>pawn  </td></tr>\n",
       "\t<tr><td>dark </td><td>pawn  </td></tr>\n",
       "\t<tr><td>dark </td><td>knight</td></tr>\n",
       "\t<tr><td>light</td><td>bishop</td></tr>\n",
       "\t<tr><td>light</td><td>king  </td></tr>\n",
       "\t<tr><td>light</td><td>rook  </td></tr>\n",
       "\t<tr><td>light</td><td>pawn  </td></tr>\n",
       "\t<tr><td>light</td><td>pawn  </td></tr>\n",
       "</tbody>\n",
       "</table>\n"
      ],
      "text/latex": [
       "A matrix: 10 × 2 of type chr\n",
       "\\begin{tabular}{ll}\n",
       " Player & Piece\\\\\n",
       "\\hline\n",
       "\t dark  & king  \\\\\n",
       "\t dark  & queen \\\\\n",
       "\t dark  & pawn  \\\\\n",
       "\t dark  & pawn  \\\\\n",
       "\t dark  & knight\\\\\n",
       "\t light & bishop\\\\\n",
       "\t light & king  \\\\\n",
       "\t light & rook  \\\\\n",
       "\t light & pawn  \\\\\n",
       "\t light & pawn  \\\\\n",
       "\\end{tabular}\n"
      ],
      "text/markdown": [
       "\n",
       "A matrix: 10 × 2 of type chr\n",
       "\n",
       "| Player | Piece |\n",
       "|---|---|\n",
       "| dark  | king   |\n",
       "| dark  | queen  |\n",
       "| dark  | pawn   |\n",
       "| dark  | pawn   |\n",
       "| dark  | knight |\n",
       "| light | bishop |\n",
       "| light | king   |\n",
       "| light | rook   |\n",
       "| light | pawn   |\n",
       "| light | pawn   |\n",
       "\n"
      ],
      "text/plain": [
       "      Player Piece \n",
       " [1,] dark   king  \n",
       " [2,] dark   queen \n",
       " [3,] dark   pawn  \n",
       " [4,] dark   pawn  \n",
       " [5,] dark   knight\n",
       " [6,] light  bishop\n",
       " [7,] light  king  \n",
       " [8,] light  rook  \n",
       " [9,] light  pawn  \n",
       "[10,] light  pawn  "
      ]
     },
     "metadata": {},
     "output_type": "display_data"
    }
   ],
   "source": [
    "chess.bind <- cbind(Player,Piece)\n",
    "chess.bind"
   ]
  },
  {
   "cell_type": "code",
   "execution_count": 51,
   "metadata": {},
   "outputs": [
    {
     "data": {
      "text/html": [
       "<table>\n",
       "<caption>A matrix: 3 × 10 of type chr</caption>\n",
       "<tbody>\n",
       "\t<tr><th scope=row>Player</th><td>dark</td><td>dark </td><td>dark</td><td>dark</td><td>dark  </td><td>light </td><td>light</td><td>light</td><td>light</td><td>light</td></tr>\n",
       "\t<tr><th scope=row>Piece</th><td>king</td><td>queen</td><td>pawn</td><td>pawn</td><td>knight</td><td>bishop</td><td>king </td><td>rook </td><td>pawn </td><td>pawn </td></tr>\n",
       "\t<tr><th scope=row>new.row</th><td>3   </td><td>5    </td><td>2   </td><td>2   </td><td>7     </td><td>4     </td><td>6    </td><td>5    </td><td>2    </td><td>1    </td></tr>\n",
       "</tbody>\n",
       "</table>\n"
      ],
      "text/latex": [
       "A matrix: 3 × 10 of type chr\n",
       "\\begin{tabular}{r|llllllllll}\n",
       "\tPlayer & dark & dark  & dark & dark & dark   & light  & light & light & light & light\\\\\n",
       "\tPiece & king & queen & pawn & pawn & knight & bishop & king  & rook  & pawn  & pawn \\\\\n",
       "\tnew.row & 3    & 5     & 2    & 2    & 7      & 4      & 6     & 5     & 2     & 1    \\\\\n",
       "\\end{tabular}\n"
      ],
      "text/markdown": [
       "\n",
       "A matrix: 3 × 10 of type chr\n",
       "\n",
       "| Player | dark | dark  | dark | dark | dark   | light  | light | light | light | light |\n",
       "| Piece | king | queen | pawn | pawn | knight | bishop | king  | rook  | pawn  | pawn  |\n",
       "| new.row | 3    | 5     | 2    | 2    | 7      | 4      | 6     | 5     | 2     | 1     |\n",
       "\n"
      ],
      "text/plain": [
       "        [,1] [,2]  [,3] [,4] [,5]   [,6]   [,7]  [,8]  [,9]  [,10]\n",
       "Player  dark dark  dark dark dark   light  light light light light\n",
       "Piece   king queen pawn pawn knight bishop king  rook  pawn  pawn \n",
       "new.row 3    5     2    2    7      4      6     5     2     1    "
      ]
     },
     "metadata": {},
     "output_type": "display_data"
    }
   ],
   "source": [
    "chess <- t(chess)\n",
    "new.row <- c(3, 5, 2, 2, 7, 4, 6, 5, 2, 1)\n",
    "chess <- rbind(chess , new.row)\n",
    "chess"
   ]
  },
  {
   "cell_type": "code",
   "execution_count": 52,
   "metadata": {},
   "outputs": [],
   "source": [
    "chess <- t(chess)"
   ]
  },
  {
   "cell_type": "code",
   "execution_count": 53,
   "metadata": {},
   "outputs": [
    {
     "data": {
      "text/html": [
       "<table>\n",
       "<caption>A matrix: 10 × 3 of type chr</caption>\n",
       "<thead>\n",
       "\t<tr><th scope=col>Player</th><th scope=col>Piece</th><th scope=col>new.row</th></tr>\n",
       "</thead>\n",
       "<tbody>\n",
       "\t<tr><td>dark </td><td>king  </td><td>3</td></tr>\n",
       "\t<tr><td>dark </td><td>queen </td><td>5</td></tr>\n",
       "\t<tr><td>dark </td><td>pawn  </td><td>2</td></tr>\n",
       "\t<tr><td>dark </td><td>pawn  </td><td>2</td></tr>\n",
       "\t<tr><td>dark </td><td>knight</td><td>7</td></tr>\n",
       "\t<tr><td>light</td><td>bishop</td><td>4</td></tr>\n",
       "\t<tr><td>light</td><td>king  </td><td>6</td></tr>\n",
       "\t<tr><td>light</td><td>rook  </td><td>5</td></tr>\n",
       "\t<tr><td>light</td><td>pawn  </td><td>2</td></tr>\n",
       "\t<tr><td>light</td><td>pawn  </td><td>1</td></tr>\n",
       "</tbody>\n",
       "</table>\n"
      ],
      "text/latex": [
       "A matrix: 10 × 3 of type chr\n",
       "\\begin{tabular}{lll}\n",
       " Player & Piece & new.row\\\\\n",
       "\\hline\n",
       "\t dark  & king   & 3\\\\\n",
       "\t dark  & queen  & 5\\\\\n",
       "\t dark  & pawn   & 2\\\\\n",
       "\t dark  & pawn   & 2\\\\\n",
       "\t dark  & knight & 7\\\\\n",
       "\t light & bishop & 4\\\\\n",
       "\t light & king   & 6\\\\\n",
       "\t light & rook   & 5\\\\\n",
       "\t light & pawn   & 2\\\\\n",
       "\t light & pawn   & 1\\\\\n",
       "\\end{tabular}\n"
      ],
      "text/markdown": [
       "\n",
       "A matrix: 10 × 3 of type chr\n",
       "\n",
       "| Player | Piece | new.row |\n",
       "|---|---|---|\n",
       "| dark  | king   | 3 |\n",
       "| dark  | queen  | 5 |\n",
       "| dark  | pawn   | 2 |\n",
       "| dark  | pawn   | 2 |\n",
       "| dark  | knight | 7 |\n",
       "| light | bishop | 4 |\n",
       "| light | king   | 6 |\n",
       "| light | rook   | 5 |\n",
       "| light | pawn   | 2 |\n",
       "| light | pawn   | 1 |\n",
       "\n"
      ],
      "text/plain": [
       "      Player Piece  new.row\n",
       " [1,] dark   king   3      \n",
       " [2,] dark   queen  5      \n",
       " [3,] dark   pawn   2      \n",
       " [4,] dark   pawn   2      \n",
       " [5,] dark   knight 7      \n",
       " [6,] light  bishop 4      \n",
       " [7,] light  king   6      \n",
       " [8,] light  rook   5      \n",
       " [9,] light  pawn   2      \n",
       "[10,] light  pawn   1      "
      ]
     },
     "metadata": {},
     "output_type": "display_data"
    }
   ],
   "source": [
    "chess"
   ]
  },
  {
   "cell_type": "code",
   "execution_count": 71,
   "metadata": {},
   "outputs": [
    {
     "data": {
      "text/html": [
       "<strong>Piece:</strong> 'bishop'"
      ],
      "text/latex": [
       "\\textbf{Piece:} 'bishop'"
      ],
      "text/markdown": [
       "**Piece:** 'bishop'"
      ],
      "text/plain": [
       "   Piece \n",
       "\"bishop\" "
      ]
     },
     "metadata": {},
     "output_type": "display_data"
    }
   ],
   "source": [
    "#The first piece of the light player\n",
    "chess[6,2]"
   ]
  },
  {
   "cell_type": "code",
   "execution_count": 77,
   "metadata": {},
   "outputs": [
    {
     "data": {
      "text/html": [
       "<table>\n",
       "<caption>A matrix: 10 × 2 of type chr</caption>\n",
       "<thead>\n",
       "\t<tr><th scope=col>Player</th><th scope=col>Piece</th></tr>\n",
       "</thead>\n",
       "<tbody>\n",
       "\t<tr><td>dark </td><td>king  </td></tr>\n",
       "\t<tr><td>dark </td><td>queen </td></tr>\n",
       "\t<tr><td>dark </td><td>pawn  </td></tr>\n",
       "\t<tr><td>dark </td><td>pawn  </td></tr>\n",
       "\t<tr><td>dark </td><td>knight</td></tr>\n",
       "\t<tr><td>light</td><td>bishop</td></tr>\n",
       "\t<tr><td>light</td><td>king  </td></tr>\n",
       "\t<tr><td>light</td><td>rook  </td></tr>\n",
       "\t<tr><td>light</td><td>pawn  </td></tr>\n",
       "\t<tr><td>light</td><td>pawn  </td></tr>\n",
       "</tbody>\n",
       "</table>\n"
      ],
      "text/latex": [
       "A matrix: 10 × 2 of type chr\n",
       "\\begin{tabular}{ll}\n",
       " Player & Piece\\\\\n",
       "\\hline\n",
       "\t dark  & king  \\\\\n",
       "\t dark  & queen \\\\\n",
       "\t dark  & pawn  \\\\\n",
       "\t dark  & pawn  \\\\\n",
       "\t dark  & knight\\\\\n",
       "\t light & bishop\\\\\n",
       "\t light & king  \\\\\n",
       "\t light & rook  \\\\\n",
       "\t light & pawn  \\\\\n",
       "\t light & pawn  \\\\\n",
       "\\end{tabular}\n"
      ],
      "text/markdown": [
       "\n",
       "A matrix: 10 × 2 of type chr\n",
       "\n",
       "| Player | Piece |\n",
       "|---|---|\n",
       "| dark  | king   |\n",
       "| dark  | queen  |\n",
       "| dark  | pawn   |\n",
       "| dark  | pawn   |\n",
       "| dark  | knight |\n",
       "| light | bishop |\n",
       "| light | king   |\n",
       "| light | rook   |\n",
       "| light | pawn   |\n",
       "| light | pawn   |\n",
       "\n"
      ],
      "text/plain": [
       "      Player Piece \n",
       " [1,] dark   king  \n",
       " [2,] dark   queen \n",
       " [3,] dark   pawn  \n",
       " [4,] dark   pawn  \n",
       " [5,] dark   knight\n",
       " [6,] light  bishop\n",
       " [7,] light  king  \n",
       " [8,] light  rook  \n",
       " [9,] light  pawn  \n",
       "[10,] light  pawn  "
      ]
     },
     "metadata": {},
     "output_type": "display_data"
    }
   ],
   "source": [
    "#The Player and Piece columns\n",
    "chess[,1:2]\n",
    "#OR\n",
    "#chess[,c(1,2)]\n",
    "#OR\n",
    "#chess[,c(\"Player\",\"Piece\")]"
   ]
  },
  {
   "cell_type": "code",
   "execution_count": 62,
   "metadata": {},
   "outputs": [
    {
     "data": {
      "text/html": [
       "<table>\n",
       "<caption>A matrix: 5 × 3 of type chr</caption>\n",
       "<thead>\n",
       "\t<tr><th scope=col>Player</th><th scope=col>Piece</th><th scope=col>new.row</th></tr>\n",
       "</thead>\n",
       "<tbody>\n",
       "\t<tr><td>dark</td><td>king  </td><td>3</td></tr>\n",
       "\t<tr><td>dark</td><td>queen </td><td>5</td></tr>\n",
       "\t<tr><td>dark</td><td>pawn  </td><td>2</td></tr>\n",
       "\t<tr><td>dark</td><td>pawn  </td><td>2</td></tr>\n",
       "\t<tr><td>dark</td><td>knight</td><td>7</td></tr>\n",
       "</tbody>\n",
       "</table>\n"
      ],
      "text/latex": [
       "A matrix: 5 × 3 of type chr\n",
       "\\begin{tabular}{lll}\n",
       " Player & Piece & new.row\\\\\n",
       "\\hline\n",
       "\t dark & king   & 3\\\\\n",
       "\t dark & queen  & 5\\\\\n",
       "\t dark & pawn   & 2\\\\\n",
       "\t dark & pawn   & 2\\\\\n",
       "\t dark & knight & 7\\\\\n",
       "\\end{tabular}\n"
      ],
      "text/markdown": [
       "\n",
       "A matrix: 5 × 3 of type chr\n",
       "\n",
       "| Player | Piece | new.row |\n",
       "|---|---|---|\n",
       "| dark | king   | 3 |\n",
       "| dark | queen  | 5 |\n",
       "| dark | pawn   | 2 |\n",
       "| dark | pawn   | 2 |\n",
       "| dark | knight | 7 |\n",
       "\n"
      ],
      "text/plain": [
       "     Player Piece  new.row\n",
       "[1,] dark   king   3      \n",
       "[2,] dark   queen  5      \n",
       "[3,] dark   pawn   2      \n",
       "[4,] dark   pawn   2      \n",
       "[5,] dark   knight 7      "
      ]
     },
     "metadata": {},
     "output_type": "display_data"
    }
   ],
   "source": [
    "#All the information about the dark player\n",
    "chess[1:5,]"
   ]
  },
  {
   "cell_type": "code",
   "execution_count": 78,
   "metadata": {},
   "outputs": [
    {
     "data": {
      "text/html": [
       "<table>\n",
       "<caption>A matrix: 10 × 1 of type chr</caption>\n",
       "<thead>\n",
       "\t<tr><th scope=col>Piece</th></tr>\n",
       "</thead>\n",
       "<tbody>\n",
       "\t<tr><td>king  </td></tr>\n",
       "\t<tr><td>queen </td></tr>\n",
       "\t<tr><td>pawn  </td></tr>\n",
       "\t<tr><td>pawn  </td></tr>\n",
       "\t<tr><td>knight</td></tr>\n",
       "\t<tr><td>bishop</td></tr>\n",
       "\t<tr><td>king  </td></tr>\n",
       "\t<tr><td>rook  </td></tr>\n",
       "\t<tr><td>pawn  </td></tr>\n",
       "\t<tr><td>pawn  </td></tr>\n",
       "</tbody>\n",
       "</table>\n"
      ],
      "text/latex": [
       "A matrix: 10 × 1 of type chr\n",
       "\\begin{tabular}{l}\n",
       " Piece\\\\\n",
       "\\hline\n",
       "\t king  \\\\\n",
       "\t queen \\\\\n",
       "\t pawn  \\\\\n",
       "\t pawn  \\\\\n",
       "\t knight\\\\\n",
       "\t bishop\\\\\n",
       "\t king  \\\\\n",
       "\t rook  \\\\\n",
       "\t pawn  \\\\\n",
       "\t pawn  \\\\\n",
       "\\end{tabular}\n"
      ],
      "text/markdown": [
       "\n",
       "A matrix: 10 × 1 of type chr\n",
       "\n",
       "| Piece |\n",
       "|---|\n",
       "| king   |\n",
       "| queen  |\n",
       "| pawn   |\n",
       "| pawn   |\n",
       "| knight |\n",
       "| bishop |\n",
       "| king   |\n",
       "| rook   |\n",
       "| pawn   |\n",
       "| pawn   |\n",
       "\n"
      ],
      "text/plain": [
       "      Piece \n",
       " [1,] king  \n",
       " [2,] queen \n",
       " [3,] pawn  \n",
       " [4,] pawn  \n",
       " [5,] knight\n",
       " [6,] bishop\n",
       " [7,] king  \n",
       " [8,] rook  \n",
       " [9,] pawn  \n",
       "[10,] pawn  "
      ]
     },
     "metadata": {},
     "output_type": "display_data"
    }
   ],
   "source": [
    "#The Pieces column; try to extract that as a matrix (Hint: lookup the drop = argument)\n",
    "chess[,2,drop = FALSE]"
   ]
  },
  {
   "cell_type": "code",
   "execution_count": 66,
   "metadata": {},
   "outputs": [
    {
     "data": {
      "text/html": [
       "<table>\n",
       "<caption>A matrix: 10 × 2 of type chr</caption>\n",
       "<thead>\n",
       "\t<tr><th scope=col>Player</th><th scope=col>new.row</th></tr>\n",
       "</thead>\n",
       "<tbody>\n",
       "\t<tr><td>dark </td><td>3</td></tr>\n",
       "\t<tr><td>dark </td><td>5</td></tr>\n",
       "\t<tr><td>dark </td><td>2</td></tr>\n",
       "\t<tr><td>dark </td><td>2</td></tr>\n",
       "\t<tr><td>dark </td><td>7</td></tr>\n",
       "\t<tr><td>light</td><td>4</td></tr>\n",
       "\t<tr><td>light</td><td>6</td></tr>\n",
       "\t<tr><td>light</td><td>5</td></tr>\n",
       "\t<tr><td>light</td><td>2</td></tr>\n",
       "\t<tr><td>light</td><td>1</td></tr>\n",
       "</tbody>\n",
       "</table>\n"
      ],
      "text/latex": [
       "A matrix: 10 × 2 of type chr\n",
       "\\begin{tabular}{ll}\n",
       " Player & new.row\\\\\n",
       "\\hline\n",
       "\t dark  & 3\\\\\n",
       "\t dark  & 5\\\\\n",
       "\t dark  & 2\\\\\n",
       "\t dark  & 2\\\\\n",
       "\t dark  & 7\\\\\n",
       "\t light & 4\\\\\n",
       "\t light & 6\\\\\n",
       "\t light & 5\\\\\n",
       "\t light & 2\\\\\n",
       "\t light & 1\\\\\n",
       "\\end{tabular}\n"
      ],
      "text/markdown": [
       "\n",
       "A matrix: 10 × 2 of type chr\n",
       "\n",
       "| Player | new.row |\n",
       "|---|---|\n",
       "| dark  | 3 |\n",
       "| dark  | 5 |\n",
       "| dark  | 2 |\n",
       "| dark  | 2 |\n",
       "| dark  | 7 |\n",
       "| light | 4 |\n",
       "| light | 6 |\n",
       "| light | 5 |\n",
       "| light | 2 |\n",
       "| light | 1 |\n",
       "\n"
      ],
      "text/plain": [
       "      Player new.row\n",
       " [1,] dark   3      \n",
       " [2,] dark   5      \n",
       " [3,] dark   2      \n",
       " [4,] dark   2      \n",
       " [5,] dark   7      \n",
       " [6,] light  4      \n",
       " [7,] light  6      \n",
       " [8,] light  5      \n",
       " [9,] light  2      \n",
       "[10,] light  1      "
      ]
     },
     "metadata": {},
     "output_type": "display_data"
    }
   ],
   "source": [
    "#Everything but the Piece column\n",
    "chess[,(-2)]"
   ]
  },
  {
   "cell_type": "code",
   "execution_count": 67,
   "metadata": {},
   "outputs": [
    {
     "data": {
      "text/html": [
       "<dl class=dl-horizontal>\n",
       "\t<dt>Player</dt>\n",
       "\t\t<dd>'dark'</dd>\n",
       "\t<dt>new.row</dt>\n",
       "\t\t<dd>'5'</dd>\n",
       "</dl>\n"
      ],
      "text/latex": [
       "\\begin{description*}\n",
       "\\item[Player] 'dark'\n",
       "\\item[new.row] '5'\n",
       "\\end{description*}\n"
      ],
      "text/markdown": [
       "Player\n",
       ":   'dark'new.row\n",
       ":   '5'\n",
       "\n"
      ],
      "text/plain": [
       " Player new.row \n",
       " \"dark\"     \"5\" "
      ]
     },
     "metadata": {},
     "output_type": "display_data"
    }
   ],
   "source": [
    "#The 1st and 3rd values on the second row\n",
    "chess[2,c(1,3)]"
   ]
  },
  {
   "cell_type": "code",
   "execution_count": 69,
   "metadata": {},
   "outputs": [],
   "source": [
    "#Replace the 3rd value on the 7th row with 3 (Hint: works just like creating an object)\n",
    "chess[7,3] =6"
   ]
  },
  {
   "cell_type": "code",
   "execution_count": 70,
   "metadata": {},
   "outputs": [
    {
     "data": {
      "text/html": [
       "<table>\n",
       "<caption>A matrix: 10 × 3 of type chr</caption>\n",
       "<thead>\n",
       "\t<tr><th scope=col>Player</th><th scope=col>Piece</th><th scope=col>new.row</th></tr>\n",
       "</thead>\n",
       "<tbody>\n",
       "\t<tr><td>dark </td><td>king  </td><td>3</td></tr>\n",
       "\t<tr><td>dark </td><td>queen </td><td>5</td></tr>\n",
       "\t<tr><td>dark </td><td>pawn  </td><td>2</td></tr>\n",
       "\t<tr><td>dark </td><td>pawn  </td><td>2</td></tr>\n",
       "\t<tr><td>dark </td><td>knight</td><td>7</td></tr>\n",
       "\t<tr><td>light</td><td>bishop</td><td>4</td></tr>\n",
       "\t<tr><td>light</td><td>king  </td><td>6</td></tr>\n",
       "\t<tr><td>light</td><td>rook  </td><td>5</td></tr>\n",
       "\t<tr><td>light</td><td>pawn  </td><td>2</td></tr>\n",
       "\t<tr><td>light</td><td>pawn  </td><td>1</td></tr>\n",
       "</tbody>\n",
       "</table>\n"
      ],
      "text/latex": [
       "A matrix: 10 × 3 of type chr\n",
       "\\begin{tabular}{lll}\n",
       " Player & Piece & new.row\\\\\n",
       "\\hline\n",
       "\t dark  & king   & 3\\\\\n",
       "\t dark  & queen  & 5\\\\\n",
       "\t dark  & pawn   & 2\\\\\n",
       "\t dark  & pawn   & 2\\\\\n",
       "\t dark  & knight & 7\\\\\n",
       "\t light & bishop & 4\\\\\n",
       "\t light & king   & 6\\\\\n",
       "\t light & rook   & 5\\\\\n",
       "\t light & pawn   & 2\\\\\n",
       "\t light & pawn   & 1\\\\\n",
       "\\end{tabular}\n"
      ],
      "text/markdown": [
       "\n",
       "A matrix: 10 × 3 of type chr\n",
       "\n",
       "| Player | Piece | new.row |\n",
       "|---|---|---|\n",
       "| dark  | king   | 3 |\n",
       "| dark  | queen  | 5 |\n",
       "| dark  | pawn   | 2 |\n",
       "| dark  | pawn   | 2 |\n",
       "| dark  | knight | 7 |\n",
       "| light | bishop | 4 |\n",
       "| light | king   | 6 |\n",
       "| light | rook   | 5 |\n",
       "| light | pawn   | 2 |\n",
       "| light | pawn   | 1 |\n",
       "\n"
      ],
      "text/plain": [
       "      Player Piece  new.row\n",
       " [1,] dark   king   3      \n",
       " [2,] dark   queen  5      \n",
       " [3,] dark   pawn   2      \n",
       " [4,] dark   pawn   2      \n",
       " [5,] dark   knight 7      \n",
       " [6,] light  bishop 4      \n",
       " [7,] light  king   6      \n",
       " [8,] light  rook   5      \n",
       " [9,] light  pawn   2      \n",
       "[10,] light  pawn   1      "
      ]
     },
     "metadata": {},
     "output_type": "display_data"
    }
   ],
   "source": [
    "chess"
   ]
  },
  {
   "cell_type": "code",
   "execution_count": 2,
   "metadata": {},
   "outputs": [
    {
     "data": {
      "text/html": [
       "<table>\n",
       "<caption>A matrix: 3 × 4 of type dbl</caption>\n",
       "<tbody>\n",
       "\t<tr><td>7.111733</td><td> 3.639093</td><td>1.481887</td><td> 8.867802</td></tr>\n",
       "\t<tr><td>7.955120</td><td> 8.230032</td><td>4.767058</td><td> 8.184387</td></tr>\n",
       "\t<tr><td>3.761493</td><td>11.969821</td><td>1.358835</td><td>10.209225</td></tr>\n",
       "</tbody>\n",
       "</table>\n"
      ],
      "text/latex": [
       "A matrix: 3 × 4 of type dbl\n",
       "\\begin{tabular}{llll}\n",
       "\t 7.111733 &  3.639093 & 1.481887 &  8.867802\\\\\n",
       "\t 7.955120 &  8.230032 & 4.767058 &  8.184387\\\\\n",
       "\t 3.761493 & 11.969821 & 1.358835 & 10.209225\\\\\n",
       "\\end{tabular}\n"
      ],
      "text/markdown": [
       "\n",
       "A matrix: 3 × 4 of type dbl\n",
       "\n",
       "| 7.111733 |  3.639093 | 1.481887 |  8.867802 |\n",
       "| 7.955120 |  8.230032 | 4.767058 |  8.184387 |\n",
       "| 3.761493 | 11.969821 | 1.358835 | 10.209225 |\n",
       "\n"
      ],
      "text/plain": [
       "     [,1]     [,2]      [,3]     [,4]     \n",
       "[1,] 7.111733  3.639093 1.481887  8.867802\n",
       "[2,] 7.955120  8.230032 4.767058  8.184387\n",
       "[3,] 3.761493 11.969821 1.358835 10.209225"
      ]
     },
     "metadata": {},
     "output_type": "display_data"
    }
   ],
   "source": [
    "mat.if <- matrix(data = runif(n = 12 , min = 1 , max = 12) , byrow = T , nrow = 3 , ncol = 4)\n",
    "mat.if"
   ]
  },
  {
   "cell_type": "code",
   "execution_count": 3,
   "metadata": {},
   "outputs": [],
   "source": [
    "colnames(mat.if ) <- c(\"uno\", \"dos\", \"tres\", \"cuatro\")\n",
    "row.names(mat.if) <- c(\"x\",\"y\",\"z\")"
   ]
  },
  {
   "cell_type": "code",
   "execution_count": 4,
   "metadata": {},
   "outputs": [
    {
     "data": {
      "text/html": [
       "<table>\n",
       "<caption>A matrix: 3 × 4 of type dbl</caption>\n",
       "<thead>\n",
       "\t<tr><th></th><th scope=col>uno</th><th scope=col>dos</th><th scope=col>tres</th><th scope=col>cuatro</th></tr>\n",
       "</thead>\n",
       "<tbody>\n",
       "\t<tr><th scope=row>x</th><td>7.111733</td><td> 3.639093</td><td>1.481887</td><td> 8.867802</td></tr>\n",
       "\t<tr><th scope=row>y</th><td>7.955120</td><td> 8.230032</td><td>4.767058</td><td> 8.184387</td></tr>\n",
       "\t<tr><th scope=row>z</th><td>3.761493</td><td>11.969821</td><td>1.358835</td><td>10.209225</td></tr>\n",
       "</tbody>\n",
       "</table>\n"
      ],
      "text/latex": [
       "A matrix: 3 × 4 of type dbl\n",
       "\\begin{tabular}{r|llll}\n",
       "  & uno & dos & tres & cuatro\\\\\n",
       "\\hline\n",
       "\tx & 7.111733 &  3.639093 & 1.481887 &  8.867802\\\\\n",
       "\ty & 7.955120 &  8.230032 & 4.767058 &  8.184387\\\\\n",
       "\tz & 3.761493 & 11.969821 & 1.358835 & 10.209225\\\\\n",
       "\\end{tabular}\n"
      ],
      "text/markdown": [
       "\n",
       "A matrix: 3 × 4 of type dbl\n",
       "\n",
       "| <!--/--> | uno | dos | tres | cuatro |\n",
       "|---|---|---|---|---|\n",
       "| x | 7.111733 |  3.639093 | 1.481887 |  8.867802 |\n",
       "| y | 7.955120 |  8.230032 | 4.767058 |  8.184387 |\n",
       "| z | 3.761493 | 11.969821 | 1.358835 | 10.209225 |\n",
       "\n"
      ],
      "text/plain": [
       "  uno      dos       tres     cuatro   \n",
       "x 7.111733  3.639093 1.481887  8.867802\n",
       "y 7.955120  8.230032 4.767058  8.184387\n",
       "z 3.761493 11.969821 1.358835 10.209225"
      ]
     },
     "metadata": {},
     "output_type": "display_data"
    }
   ],
   "source": [
    "mat.if"
   ]
  },
  {
   "cell_type": "code",
   "execution_count": 5,
   "metadata": {},
   "outputs": [
    {
     "data": {
      "text/html": [
       "<table>\n",
       "<caption>A matrix: 3 × 4 of type dbl</caption>\n",
       "<thead>\n",
       "\t<tr><th></th><th scope=col>uno</th><th scope=col>dos</th><th scope=col>tres</th><th scope=col>cuatro</th></tr>\n",
       "</thead>\n",
       "<tbody>\n",
       "\t<tr><th scope=row>x</th><td>71.11733</td><td> 36.39093</td><td>14.81887</td><td> 88.67802</td></tr>\n",
       "\t<tr><th scope=row>y</th><td>79.55120</td><td> 82.30032</td><td>47.67058</td><td> 81.84387</td></tr>\n",
       "\t<tr><th scope=row>z</th><td>37.61493</td><td>119.69821</td><td>13.58835</td><td>102.09225</td></tr>\n",
       "</tbody>\n",
       "</table>\n"
      ],
      "text/latex": [
       "A matrix: 3 × 4 of type dbl\n",
       "\\begin{tabular}{r|llll}\n",
       "  & uno & dos & tres & cuatro\\\\\n",
       "\\hline\n",
       "\tx & 71.11733 &  36.39093 & 14.81887 &  88.67802\\\\\n",
       "\ty & 79.55120 &  82.30032 & 47.67058 &  81.84387\\\\\n",
       "\tz & 37.61493 & 119.69821 & 13.58835 & 102.09225\\\\\n",
       "\\end{tabular}\n"
      ],
      "text/markdown": [
       "\n",
       "A matrix: 3 × 4 of type dbl\n",
       "\n",
       "| <!--/--> | uno | dos | tres | cuatro |\n",
       "|---|---|---|---|---|\n",
       "| x | 71.11733 |  36.39093 | 14.81887 |  88.67802 |\n",
       "| y | 79.55120 |  82.30032 | 47.67058 |  81.84387 |\n",
       "| z | 37.61493 | 119.69821 | 13.58835 | 102.09225 |\n",
       "\n"
      ],
      "text/plain": [
       "  uno      dos       tres     cuatro   \n",
       "x 71.11733  36.39093 14.81887  88.67802\n",
       "y 79.55120  82.30032 47.67058  81.84387\n",
       "z 37.61493 119.69821 13.58835 102.09225"
      ]
     },
     "metadata": {},
     "output_type": "display_data"
    },
    {
     "data": {
      "text/html": [
       "<table>\n",
       "<caption>A matrix: 3 × 4 of type dbl</caption>\n",
       "<thead>\n",
       "\t<tr><th></th><th scope=col>uno</th><th scope=col>dos</th><th scope=col>tres</th><th scope=col>cuatro</th></tr>\n",
       "</thead>\n",
       "<tbody>\n",
       "\t<tr><th scope=row>x</th><td>7.111733</td><td> 3.639093</td><td>1.481887</td><td> 8.867802</td></tr>\n",
       "\t<tr><th scope=row>y</th><td>7.955120</td><td> 8.230032</td><td>4.767058</td><td> 8.184387</td></tr>\n",
       "\t<tr><th scope=row>z</th><td>3.761493</td><td>11.969821</td><td>1.358835</td><td>10.209225</td></tr>\n",
       "</tbody>\n",
       "</table>\n"
      ],
      "text/latex": [
       "A matrix: 3 × 4 of type dbl\n",
       "\\begin{tabular}{r|llll}\n",
       "  & uno & dos & tres & cuatro\\\\\n",
       "\\hline\n",
       "\tx & 7.111733 &  3.639093 & 1.481887 &  8.867802\\\\\n",
       "\ty & 7.955120 &  8.230032 & 4.767058 &  8.184387\\\\\n",
       "\tz & 3.761493 & 11.969821 & 1.358835 & 10.209225\\\\\n",
       "\\end{tabular}\n"
      ],
      "text/markdown": [
       "\n",
       "A matrix: 3 × 4 of type dbl\n",
       "\n",
       "| <!--/--> | uno | dos | tres | cuatro |\n",
       "|---|---|---|---|---|\n",
       "| x | 7.111733 |  3.639093 | 1.481887 |  8.867802 |\n",
       "| y | 7.955120 |  8.230032 | 4.767058 |  8.184387 |\n",
       "| z | 3.761493 | 11.969821 | 1.358835 | 10.209225 |\n",
       "\n"
      ],
      "text/plain": [
       "  uno      dos       tres     cuatro   \n",
       "x 7.111733  3.639093 1.481887  8.867802\n",
       "y 7.955120  8.230032 4.767058  8.184387\n",
       "z 3.761493 11.969821 1.358835 10.209225"
      ]
     },
     "metadata": {},
     "output_type": "display_data"
    }
   ],
   "source": [
    "#Scale the matrix by 10 and save the result.\n",
    "mat.if * 10\n",
    "mat.if"
   ]
  },
  {
   "cell_type": "code",
   "execution_count": 8,
   "metadata": {},
   "outputs": [],
   "source": [
    "# Extract a 2x4 matrix from it and save the result.\n",
    "new.mat.if <- mat.if[0:2,0:4]"
   ]
  },
  {
   "cell_type": "code",
   "execution_count": 9,
   "metadata": {},
   "outputs": [
    {
     "ename": "ERROR",
     "evalue": "Error in mat.if - new.mat.if: non-conformable arrays\n",
     "output_type": "error",
     "traceback": [
      "Error in mat.if - new.mat.if: non-conformable arrays\nTraceback:\n"
     ]
    }
   ],
   "source": [
    "sub.mat <- mat.if - new.mat.if\n",
    "sub.mat"
   ]
  },
  {
   "cell_type": "code",
   "execution_count": 10,
   "metadata": {},
   "outputs": [],
   "source": [
    "matty <- matrix(data = rnorm(n = 25),byrow = TRUE , nrow = 5)\n",
    "matty2 <- matrix(data = runif(n = 25,min = 1 , max = 25),byrow = TRUE , nrow = 5)"
   ]
  },
  {
   "cell_type": "code",
   "execution_count": 11,
   "metadata": {},
   "outputs": [
    {
     "name": "stdout",
     "output_type": "stream",
     "text": [
      "[1] \"Column Averages\"\n"
     ]
    }
   ],
   "source": [
    "#Column averages\n",
    "print(\"Column Averages\")\n",
    "col.avg.matty <- colMeans(matty)\n",
    "col.avg.matty2 <- colMeans(matty2)\n",
    "#Row averages\n",
    "print(\"Row Averages\")\n",
    "row.avg.matty <- rowMeans(matty)\n",
    "row.avg.matty2 <- rowMeans(matty2)\n",
    "#Column sums\n",
    "col.sum.matty <- colSums(matty)\n",
    "col.sum.matty2 <- colSums(matty2)\n",
    "#Row sums\n",
    "row.sum.matty <- rowSums(matty)\n",
    "row.sum.matty2 <- rowSums(matty2)\n",
    "#Minimum and maximum value in the matrix\n",
    "max(matty[,3])\n",
    "min(matty[,3])"
   ]
  },
  {
   "cell_type": "markdown",
   "metadata": {},
   "source": [
    "# List Exercise"
   ]
  },
  {
   "cell_type": "code",
   "execution_count": 22,
   "metadata": {},
   "outputs": [],
   "source": [
    "li <- list(seq(from = 1, to = 11 , by = 2),c(\"Happy Birthday\",\"Archery\"))"
   ]
  },
  {
   "cell_type": "code",
   "execution_count": 28,
   "metadata": {},
   "outputs": [
    {
     "data": {
      "text/html": [
       "<ol class=list-inline>\n",
       "\t<li>1</li>\n",
       "\t<li>3</li>\n",
       "\t<li>5</li>\n",
       "\t<li>7</li>\n",
       "\t<li>9</li>\n",
       "\t<li>11</li>\n",
       "</ol>\n"
      ],
      "text/latex": [
       "\\begin{enumerate*}\n",
       "\\item 1\n",
       "\\item 3\n",
       "\\item 5\n",
       "\\item 7\n",
       "\\item 9\n",
       "\\item 11\n",
       "\\end{enumerate*}\n"
      ],
      "text/markdown": [
       "1. 1\n",
       "2. 3\n",
       "3. 5\n",
       "4. 7\n",
       "5. 9\n",
       "6. 11\n",
       "\n",
       "\n"
      ],
      "text/plain": [
       "[1]  1  3  5  7  9 11"
      ]
     },
     "metadata": {},
     "output_type": "display_data"
    }
   ],
   "source": [
    "# Extract the numbers as a vector.\n",
    "li[[1]]"
   ]
  },
  {
   "cell_type": "code",
   "execution_count": 37,
   "metadata": {},
   "outputs": [],
   "source": [
    "#Extract the phrase Happy Birthday as a vector.\n",
    "hbv <- li[[2]][[1]]"
   ]
  },
  {
   "cell_type": "code",
   "execution_count": 32,
   "metadata": {},
   "outputs": [
    {
     "data": {
      "text/html": [
       "'Archery'"
      ],
      "text/latex": [
       "'Archery'"
      ],
      "text/markdown": [
       "'Archery'"
      ],
      "text/plain": [
       "[1] \"Archery\""
      ]
     },
     "metadata": {},
     "output_type": "display_data"
    }
   ],
   "source": [
    "#Extract the second item of the second list as a list.\n",
    "li[[2]][[2]]"
   ]
  },
  {
   "cell_type": "code",
   "execution_count": 33,
   "metadata": {},
   "outputs": [
    {
     "data": {
      "text/html": [
       "<ol class=list-inline>\n",
       "\t<li>'Happy Birthday'</li>\n",
       "\t<li>'Archery'</li>\n",
       "</ol>\n"
      ],
      "text/latex": [
       "\\begin{enumerate*}\n",
       "\\item 'Happy Birthday'\n",
       "\\item 'Archery'\n",
       "\\end{enumerate*}\n"
      ],
      "text/markdown": [
       "1. 'Happy Birthday'\n",
       "2. 'Archery'\n",
       "\n",
       "\n"
      ],
      "text/plain": [
       "[1] \"Happy Birthday\" \"Archery\"       "
      ]
     },
     "metadata": {},
     "output_type": "display_data"
    }
   ],
   "source": [
    "#Extract the second list as a list.\n",
    "li[[2]]"
   ]
  },
  {
   "cell_type": "code",
   "execution_count": 38,
   "metadata": {},
   "outputs": [
    {
     "data": {
      "text/html": [
       "<ol>\n",
       "\t<li><ol class=list-inline>\n",
       "\t<li>1</li>\n",
       "\t<li>3</li>\n",
       "\t<li>5</li>\n",
       "\t<li>7</li>\n",
       "\t<li>9</li>\n",
       "\t<li>11</li>\n",
       "</ol>\n",
       "</li>\n",
       "</ol>\n"
      ],
      "text/latex": [
       "\\begin{enumerate}\n",
       "\\item \\begin{enumerate*}\n",
       "\\item 1\n",
       "\\item 3\n",
       "\\item 5\n",
       "\\item 7\n",
       "\\item 9\n",
       "\\item 11\n",
       "\\end{enumerate*}\n",
       "\n",
       "\\end{enumerate}\n"
      ],
      "text/markdown": [
       "1. 1. 1\n",
       "2. 3\n",
       "3. 5\n",
       "4. 7\n",
       "5. 9\n",
       "6. 11\n",
       "\n",
       "\n",
       "\n",
       "\n",
       "\n"
      ],
      "text/plain": [
       "[[1]]\n",
       "[1]  1  3  5  7  9 11\n"
      ]
     },
     "metadata": {},
     "output_type": "display_data"
    }
   ],
   "source": [
    "#extract the numbers item as a list\n",
    "numbers <- li[1]\n",
    "numbers"
   ]
  },
  {
   "cell_type": "code",
   "execution_count": 39,
   "metadata": {},
   "outputs": [
    {
     "data": {
      "text/html": [
       "<ol class=list-inline>\n",
       "\t<li>3</li>\n",
       "\t<li>5</li>\n",
       "\t<li>7</li>\n",
       "\t<li>9</li>\n",
       "\t<li>11</li>\n",
       "\t<li>13</li>\n",
       "</ol>\n"
      ],
      "text/latex": [
       "\\begin{enumerate*}\n",
       "\\item 3\n",
       "\\item 5\n",
       "\\item 7\n",
       "\\item 9\n",
       "\\item 11\n",
       "\\item 13\n",
       "\\end{enumerate*}\n"
      ],
      "text/markdown": [
       "1. 3\n",
       "2. 5\n",
       "3. 7\n",
       "4. 9\n",
       "5. 11\n",
       "6. 13\n",
       "\n",
       "\n"
      ],
      "text/plain": [
       "[1]  3  5  7  9 11 13"
      ]
     },
     "metadata": {},
     "output_type": "display_data"
    }
   ],
   "source": [
    "li[[1]] <- li[[1]] + 2\n",
    "li[[1]]"
   ]
  },
  {
   "cell_type": "code",
   "execution_count": 40,
   "metadata": {},
   "outputs": [
    {
     "data": {
      "text/html": [
       "<dl>\n",
       "\t<dt>$Numbers</dt>\n",
       "\t\t<dd><ol class=list-inline>\n",
       "\t<li>3</li>\n",
       "\t<li>5</li>\n",
       "\t<li>7</li>\n",
       "\t<li>9</li>\n",
       "\t<li>11</li>\n",
       "\t<li>13</li>\n",
       "</ol>\n",
       "</dd>\n",
       "\t<dt>$Phrases</dt>\n",
       "\t\t<dd><ol class=list-inline>\n",
       "\t<li>'Happy Birthday'</li>\n",
       "\t<li>'Archery'</li>\n",
       "</ol>\n",
       "</dd>\n",
       "</dl>\n"
      ],
      "text/latex": [
       "\\begin{description}\n",
       "\\item[\\$Numbers] \\begin{enumerate*}\n",
       "\\item 3\n",
       "\\item 5\n",
       "\\item 7\n",
       "\\item 9\n",
       "\\item 11\n",
       "\\item 13\n",
       "\\end{enumerate*}\n",
       "\n",
       "\\item[\\$Phrases] \\begin{enumerate*}\n",
       "\\item 'Happy Birthday'\n",
       "\\item 'Archery'\n",
       "\\end{enumerate*}\n",
       "\n",
       "\\end{description}\n"
      ],
      "text/markdown": [
       "$Numbers\n",
       ":   1. 3\n",
       "2. 5\n",
       "3. 7\n",
       "4. 9\n",
       "5. 11\n",
       "6. 13\n",
       "\n",
       "\n",
       "\n",
       "$Phrases\n",
       ":   1. 'Happy Birthday'\n",
       "2. 'Archery'\n",
       "\n",
       "\n",
       "\n",
       "\n",
       "\n"
      ],
      "text/plain": [
       "$Numbers\n",
       "[1]  3  5  7  9 11 13\n",
       "\n",
       "$Phrases\n",
       "[1] \"Happy Birthday\" \"Archery\"       \n"
      ]
     },
     "metadata": {},
     "output_type": "display_data"
    }
   ],
   "source": [
    "names(li) <- c(\"Numbers\", \"Phrases\")\n",
    "li"
   ]
  },
  {
   "cell_type": "markdown",
   "metadata": {},
   "source": [
    "# Loops Exercise"
   ]
  },
  {
   "cell_type": "code",
   "execution_count": 44,
   "metadata": {},
   "outputs": [
    {
     "name": "stdout",
     "output_type": "stream",
     "text": [
      "[1] \"fresh\"\n"
     ]
    }
   ],
   "source": [
    "x <- 67\n",
    "if(x>=1 & x<60){\n",
    "    print(\"Rotten!\")\n",
    "}else if(x>60 & x<75){\n",
    "    print(\"fresh\")\n",
    "}else{\n",
    "    print(\"Certified fresh\")\n",
    "}"
   ]
  },
  {
   "cell_type": "markdown",
   "metadata": {},
   "source": [
    "moms.number <- 2324\n",
    "lottery.number <- sample(x = 2000:2400 , 1)\n",
    "if(lottery.number==moms.number){\n",
    "    print(\"Mom You Won\")\n",
    "}else{\n",
    "    print(\"try next year\")\n",
    "}"
   ]
  },
  {
   "cell_type": "code",
   "execution_count": 46,
   "metadata": {},
   "outputs": [
    {
     "name": "stdout",
     "output_type": "stream",
     "text": [
      "[1] 55\n"
     ]
    }
   ],
   "source": [
    "sum <- 0\n",
    "for (vals in 1:10){\n",
    "    sum <- sum + vals\n",
    "}\n",
    "\n",
    "print(sum)"
   ]
  },
  {
   "cell_type": "markdown",
   "metadata": {},
   "source": [
    "# DataFrames Exercise"
   ]
  },
  {
   "cell_type": "code",
   "execution_count": 51,
   "metadata": {},
   "outputs": [],
   "source": [
    "df <- data.frame(months.old = months.old <-c(53,19,34,41,84,140,109),size = size <- c(\"medium\",\"small\",\"medium\",\"large\",\"small\",\"small\",\"large\"),Weight = Weight <- c(21,8,4,6,7,2,36),breed = breed <- c(\"dog\",\"dog\",\"cat\",\"cat\",\"dog\",\"cat\",\"dog\"),stringsAsFactors = FALSE)"
   ]
  },
  {
   "cell_type": "code",
   "execution_count": 52,
   "metadata": {},
   "outputs": [
    {
     "data": {
      "text/html": [
       "<table>\n",
       "<caption>A data.frame: 7 × 4</caption>\n",
       "<thead>\n",
       "\t<tr><th scope=col>months.old</th><th scope=col>size</th><th scope=col>Weight</th><th scope=col>breed</th></tr>\n",
       "\t<tr><th scope=col>&lt;dbl&gt;</th><th scope=col>&lt;chr&gt;</th><th scope=col>&lt;dbl&gt;</th><th scope=col>&lt;chr&gt;</th></tr>\n",
       "</thead>\n",
       "<tbody>\n",
       "\t<tr><td> 53</td><td>medium</td><td>21</td><td>dog</td></tr>\n",
       "\t<tr><td> 19</td><td>small </td><td> 8</td><td>dog</td></tr>\n",
       "\t<tr><td> 34</td><td>medium</td><td> 4</td><td>cat</td></tr>\n",
       "\t<tr><td> 41</td><td>large </td><td> 6</td><td>cat</td></tr>\n",
       "\t<tr><td> 84</td><td>small </td><td> 7</td><td>dog</td></tr>\n",
       "\t<tr><td>140</td><td>small </td><td> 2</td><td>cat</td></tr>\n",
       "\t<tr><td>109</td><td>large </td><td>36</td><td>dog</td></tr>\n",
       "</tbody>\n",
       "</table>\n"
      ],
      "text/latex": [
       "A data.frame: 7 × 4\n",
       "\\begin{tabular}{r|llll}\n",
       " months.old & size & Weight & breed\\\\\n",
       " <dbl> & <chr> & <dbl> & <chr>\\\\\n",
       "\\hline\n",
       "\t  53 & medium & 21 & dog\\\\\n",
       "\t  19 & small  &  8 & dog\\\\\n",
       "\t  34 & medium &  4 & cat\\\\\n",
       "\t  41 & large  &  6 & cat\\\\\n",
       "\t  84 & small  &  7 & dog\\\\\n",
       "\t 140 & small  &  2 & cat\\\\\n",
       "\t 109 & large  & 36 & dog\\\\\n",
       "\\end{tabular}\n"
      ],
      "text/markdown": [
       "\n",
       "A data.frame: 7 × 4\n",
       "\n",
       "| months.old &lt;dbl&gt; | size &lt;chr&gt; | Weight &lt;dbl&gt; | breed &lt;chr&gt; |\n",
       "|---|---|---|---|\n",
       "|  53 | medium | 21 | dog |\n",
       "|  19 | small  |  8 | dog |\n",
       "|  34 | medium |  4 | cat |\n",
       "|  41 | large  |  6 | cat |\n",
       "|  84 | small  |  7 | dog |\n",
       "| 140 | small  |  2 | cat |\n",
       "| 109 | large  | 36 | dog |\n",
       "\n"
      ],
      "text/plain": [
       "  months.old size   Weight breed\n",
       "1  53        medium 21     dog  \n",
       "2  19        small   8     dog  \n",
       "3  34        medium  4     cat  \n",
       "4  41        large   6     cat  \n",
       "5  84        small   7     dog  \n",
       "6 140        small   2     cat  \n",
       "7 109        large  36     dog  "
      ]
     },
     "metadata": {},
     "output_type": "display_data"
    }
   ],
   "source": [
    "df"
   ]
  },
  {
   "cell_type": "code",
   "execution_count": 53,
   "metadata": {},
   "outputs": [],
   "source": [
    "rownames(df) <- c(\"Flipper\",\"Bromley\",\"Nox\",\"Orion\",\"Dagger\",\"Zizi\",\"Carrie\")"
   ]
  },
  {
   "cell_type": "code",
   "execution_count": 54,
   "metadata": {},
   "outputs": [
    {
     "data": {
      "text/html": [
       "<table>\n",
       "<caption>A data.frame: 7 × 4</caption>\n",
       "<thead>\n",
       "\t<tr><th></th><th scope=col>months.old</th><th scope=col>size</th><th scope=col>Weight</th><th scope=col>breed</th></tr>\n",
       "\t<tr><th></th><th scope=col>&lt;dbl&gt;</th><th scope=col>&lt;chr&gt;</th><th scope=col>&lt;dbl&gt;</th><th scope=col>&lt;chr&gt;</th></tr>\n",
       "</thead>\n",
       "<tbody>\n",
       "\t<tr><th scope=row>Flipper</th><td> 53</td><td>medium</td><td>21</td><td>dog</td></tr>\n",
       "\t<tr><th scope=row>Bromley</th><td> 19</td><td>small </td><td> 8</td><td>dog</td></tr>\n",
       "\t<tr><th scope=row>Nox</th><td> 34</td><td>medium</td><td> 4</td><td>cat</td></tr>\n",
       "\t<tr><th scope=row>Orion</th><td> 41</td><td>large </td><td> 6</td><td>cat</td></tr>\n",
       "\t<tr><th scope=row>Dagger</th><td> 84</td><td>small </td><td> 7</td><td>dog</td></tr>\n",
       "\t<tr><th scope=row>Zizi</th><td>140</td><td>small </td><td> 2</td><td>cat</td></tr>\n",
       "\t<tr><th scope=row>Carrie</th><td>109</td><td>large </td><td>36</td><td>dog</td></tr>\n",
       "</tbody>\n",
       "</table>\n"
      ],
      "text/latex": [
       "A data.frame: 7 × 4\n",
       "\\begin{tabular}{r|llll}\n",
       "  & months.old & size & Weight & breed\\\\\n",
       "  & <dbl> & <chr> & <dbl> & <chr>\\\\\n",
       "\\hline\n",
       "\tFlipper &  53 & medium & 21 & dog\\\\\n",
       "\tBromley &  19 & small  &  8 & dog\\\\\n",
       "\tNox &  34 & medium &  4 & cat\\\\\n",
       "\tOrion &  41 & large  &  6 & cat\\\\\n",
       "\tDagger &  84 & small  &  7 & dog\\\\\n",
       "\tZizi & 140 & small  &  2 & cat\\\\\n",
       "\tCarrie & 109 & large  & 36 & dog\\\\\n",
       "\\end{tabular}\n"
      ],
      "text/markdown": [
       "\n",
       "A data.frame: 7 × 4\n",
       "\n",
       "| <!--/--> | months.old &lt;dbl&gt; | size &lt;chr&gt; | Weight &lt;dbl&gt; | breed &lt;chr&gt; |\n",
       "|---|---|---|---|---|\n",
       "| Flipper |  53 | medium | 21 | dog |\n",
       "| Bromley |  19 | small  |  8 | dog |\n",
       "| Nox |  34 | medium |  4 | cat |\n",
       "| Orion |  41 | large  |  6 | cat |\n",
       "| Dagger |  84 | small  |  7 | dog |\n",
       "| Zizi | 140 | small  |  2 | cat |\n",
       "| Carrie | 109 | large  | 36 | dog |\n",
       "\n"
      ],
      "text/plain": [
       "        months.old size   Weight breed\n",
       "Flipper  53        medium 21     dog  \n",
       "Bromley  19        small   8     dog  \n",
       "Nox      34        medium  4     cat  \n",
       "Orion    41        large   6     cat  \n",
       "Dagger   84        small   7     dog  \n",
       "Zizi    140        small   2     cat  \n",
       "Carrie  109        large  36     dog  "
      ]
     },
     "metadata": {},
     "output_type": "display_data"
    }
   ],
   "source": [
    "df"
   ]
  },
  {
   "cell_type": "markdown",
   "metadata": {},
   "source": [
    "# Data Import Method"
   ]
  },
  {
   "cell_type": "code",
   "execution_count": 56,
   "metadata": {},
   "outputs": [],
   "source": [
    "csv.data <- read.csv(file = '/Users/sahilnagpal/Downloads/employee-data.csv',sep = ',',nrows = 200,skip = 23)"
   ]
  },
  {
   "cell_type": "code",
   "execution_count": 58,
   "metadata": {},
   "outputs": [],
   "source": [
    "names(csv.data) <- c(\"Employee number\", \"First name\", \"Last name\", \"Birth date\", \"Gender\", \"Job title\", \"Salary\", \"From date\", \"To date\")"
   ]
  },
  {
   "cell_type": "code",
   "execution_count": 59,
   "metadata": {},
   "outputs": [
    {
     "data": {
      "text/html": [
       "<table>\n",
       "<caption>A data.frame: 200 × 9</caption>\n",
       "<thead>\n",
       "\t<tr><th scope=col>Employee number</th><th scope=col>First name</th><th scope=col>Last name</th><th scope=col>Birth date</th><th scope=col>Gender</th><th scope=col>Job title</th><th scope=col>Salary</th><th scope=col>From date</th><th scope=col>To date</th></tr>\n",
       "\t<tr><th scope=col>&lt;int&gt;</th><th scope=col>&lt;fct&gt;</th><th scope=col>&lt;fct&gt;</th><th scope=col>&lt;fct&gt;</th><th scope=col>&lt;fct&gt;</th><th scope=col>&lt;fct&gt;</th><th scope=col>&lt;int&gt;</th><th scope=col>&lt;fct&gt;</th><th scope=col>&lt;fct&gt;</th></tr>\n",
       "</thead>\n",
       "<tbody>\n",
       "\t<tr><td>10001</td><td>Georgi   </td><td>Facello    </td><td>02/09/1953</td><td>M</td><td>Senior Engineer   </td><td>60117</td><td>22/06/2010</td><td>01/01/9999</td></tr>\n",
       "\t<tr><td>10002</td><td>Bezalel  </td><td>Simmel     </td><td>02/06/1964</td><td>F</td><td>Staff             </td><td>65828</td><td>02/08/2001</td><td>01/01/9999</td></tr>\n",
       "\t<tr><td>10003</td><td>Parto    </td><td>Bamford    </td><td>03/12/1959</td><td>M</td><td>Senior Engineer   </td><td>40006</td><td>01/12/2001</td><td>01/01/9999</td></tr>\n",
       "\t<tr><td>10004</td><td>Chirstian</td><td>Koblick    </td><td>01/05/1954</td><td>M</td><td>Engineer          </td><td>40054</td><td>27/11/2001</td><td>01/01/9999</td></tr>\n",
       "\t<tr><td>10005</td><td>Kyoichi  </td><td>Maliniak   </td><td>21/01/1955</td><td>M</td><td>Senior Staff      </td><td>78228</td><td>09/09/2001</td><td>01/01/9999</td></tr>\n",
       "\t<tr><td>10006</td><td>Anneke   </td><td>Preusig    </td><td>20/04/1953</td><td>F</td><td>Senior Engineer   </td><td>40000</td><td>02/08/2001</td><td>01/01/9999</td></tr>\n",
       "\t<tr><td>10007</td><td>Tzvetan  </td><td>Zielinski  </td><td>23/05/1957</td><td>F</td><td>Senior Staff      </td><td>56724</td><td>07/02/2002</td><td>01/01/9999</td></tr>\n",
       "\t<tr><td>10008</td><td>Saniya   </td><td>Kalloufi   </td><td>19/02/1958</td><td>M</td><td>Assistant Engineer</td><td>46671</td><td>10/03/2000</td><td>31/07/2000</td></tr>\n",
       "\t<tr><td>10009</td><td>Sumant   </td><td>Peac       </td><td>19/04/1952</td><td>F</td><td>Assistant Engineer</td><td>60929</td><td>14/02/2002</td><td>01/01/9999</td></tr>\n",
       "\t<tr><td>10010</td><td>Duangkaew</td><td>Piveteau   </td><td>01/06/1963</td><td>F</td><td>Engineer          </td><td>72488</td><td>23/11/2001</td><td>01/01/9999</td></tr>\n",
       "\t<tr><td>10011</td><td>Mary     </td><td>Sluis      </td><td>07/11/1953</td><td>F</td><td>Staff             </td><td>42365</td><td>21/01/1996</td><td>09/11/1996</td></tr>\n",
       "\t<tr><td>10012</td><td>Patricio </td><td>Bridgland  </td><td>04/10/1960</td><td>M</td><td>Engineer          </td><td>40000</td><td>16/12/2001</td><td>01/01/9999</td></tr>\n",
       "\t<tr><td>10013</td><td>Eberhardt</td><td>Terkki     </td><td>07/06/1963</td><td>M</td><td>Senior Staff      </td><td>40000</td><td>16/10/2001</td><td>01/01/9999</td></tr>\n",
       "\t<tr><td>10014</td><td>Berni    </td><td>Genin      </td><td>12/02/1956</td><td>M</td><td>Engineer          </td><td>46168</td><td>27/12/2001</td><td>01/01/9999</td></tr>\n",
       "\t<tr><td>10015</td><td>Guoxiang </td><td>Nooteboom  </td><td>19/08/1959</td><td>M</td><td>Senior Staff      </td><td>40000</td><td>19/09/1992</td><td>22/08/1993</td></tr>\n",
       "\t<tr><td>10016</td><td>Kazuhito </td><td>Cappelletti</td><td>02/05/1961</td><td>M</td><td>Staff             </td><td>70889</td><td>10/02/2002</td><td>01/01/9999</td></tr>\n",
       "\t<tr><td>10017</td><td>Cristinel</td><td>Bouloucos  </td><td>06/07/1958</td><td>F</td><td>Senior Staff      </td><td>71380</td><td>01/08/2002</td><td>01/01/9999</td></tr>\n",
       "\t<tr><td>10018</td><td>Kazuhide </td><td>Peha       </td><td>19/06/1954</td><td>F</td><td>Engineer          </td><td>55881</td><td>30/03/2002</td><td>01/01/9999</td></tr>\n",
       "\t<tr><td>10019</td><td>Lillian  </td><td>Haddadi    </td><td>23/01/1953</td><td>M</td><td>Staff             </td><td>44276</td><td>29/04/2002</td><td>01/01/9999</td></tr>\n",
       "\t<tr><td>10020</td><td>Mayuko   </td><td>Warwick    </td><td>24/12/1952</td><td>M</td><td>Engineer          </td><td>40000</td><td>29/12/2001</td><td>01/01/9999</td></tr>\n",
       "\t<tr><td>10021</td><td>Ramzi    </td><td>Erde       </td><td>20/02/1960</td><td>M</td><td>Technique Leader  </td><td>55025</td><td>06/02/2002</td><td>15/07/2002</td></tr>\n",
       "\t<tr><td>10022</td><td>Shahaf   </td><td>Famili     </td><td>08/07/1952</td><td>M</td><td>Engineer          </td><td>40000</td><td>02/09/2001</td><td>01/01/9999</td></tr>\n",
       "\t<tr><td>10023</td><td>Bojan    </td><td>Montemayor </td><td>29/09/1953</td><td>F</td><td>Engineer          </td><td>47883</td><td>26/09/2001</td><td>01/01/9999</td></tr>\n",
       "\t<tr><td>10024</td><td>Suzette  </td><td>Pettey     </td><td>05/09/1958</td><td>F</td><td>Assistant Engineer</td><td>83733</td><td>13/06/2002</td><td>01/01/9999</td></tr>\n",
       "\t<tr><td>10025</td><td>Prasadram</td><td>Heyers     </td><td>31/10/1958</td><td>M</td><td>Technique Leader  </td><td>40000</td><td>14/08/1997</td><td>15/10/1997</td></tr>\n",
       "\t<tr><td>10026</td><td>Yongqiao </td><td>Berztiss   </td><td>03/04/1953</td><td>M</td><td>Engineer          </td><td>47585</td><td>18/03/2002</td><td>01/01/9999</td></tr>\n",
       "\t<tr><td>10027</td><td>Divier   </td><td>Reistad    </td><td>10/07/1962</td><td>F</td><td>Engineer          </td><td>40000</td><td>31/03/2002</td><td>01/01/9999</td></tr>\n",
       "\t<tr><td>10028</td><td>Domenick </td><td>Tempesti   </td><td>26/11/1963</td><td>M</td><td>Engineer          </td><td>48859</td><td>20/10/1997</td><td>06/04/1998</td></tr>\n",
       "\t<tr><td>10029</td><td>Otmar    </td><td>Herbst     </td><td>13/12/1956</td><td>M</td><td>Engineer          </td><td>63163</td><td>15/09/2001</td><td>01/01/9999</td></tr>\n",
       "\t<tr><td>10030</td><td>Elvis    </td><td>Demeyer    </td><td>14/07/1958</td><td>M</td><td>Engineer          </td><td>66956</td><td>15/02/2002</td><td>01/01/9999</td></tr>\n",
       "\t<tr><td>⋮</td><td>⋮</td><td>⋮</td><td>⋮</td><td>⋮</td><td>⋮</td><td>⋮</td><td>⋮</td><td>⋮</td></tr>\n",
       "\t<tr><td>10171</td><td>Herbert   </td><td>Trachtenberg</td><td>11/09/1957</td><td>M</td><td>Technique Leader</td><td>41311</td><td>04/08/2001</td><td>01/01/9999</td></tr>\n",
       "\t<tr><td>10172</td><td>Shigeu    </td><td>Matzen      </td><td>25/03/1957</td><td>F</td><td>Engineer        </td><td>41197</td><td>03/02/2002</td><td>01/01/9999</td></tr>\n",
       "\t<tr><td>10173</td><td>Shrikanth </td><td>Mahmud      </td><td>28/10/1962</td><td>M</td><td>Senior Staff    </td><td>85757</td><td>19/03/2002</td><td>01/01/9999</td></tr>\n",
       "\t<tr><td>10174</td><td>Badri     </td><td>Furudate    </td><td>15/05/1959</td><td>M</td><td>Engineer        </td><td>59520</td><td>28/05/2002</td><td>01/01/9999</td></tr>\n",
       "\t<tr><td>10175</td><td>Aleksandar</td><td>Ananiadou   </td><td>11/01/1960</td><td>F</td><td>Staff           </td><td>72285</td><td>23/09/1994</td><td>24/05/1995</td></tr>\n",
       "\t<tr><td>10176</td><td>Brendon   </td><td>Lenart      </td><td>24/01/1957</td><td>F</td><td>Senior Staff    </td><td>54635</td><td>20/12/2001</td><td>01/01/9999</td></tr>\n",
       "\t<tr><td>10177</td><td>Pragnesh  </td><td>Iisaka      </td><td>08/11/1954</td><td>M</td><td>Staff           </td><td>48041</td><td>06/02/1994</td><td>17/03/1994</td></tr>\n",
       "\t<tr><td>10178</td><td>Valery    </td><td>Litvinov    </td><td>13/03/1963</td><td>M</td><td>Staff           </td><td>50568</td><td>19/03/2002</td><td>01/01/9999</td></tr>\n",
       "\t<tr><td>10179</td><td>Deniz     </td><td>Duclos      </td><td>25/11/1961</td><td>F</td><td>Engineer        </td><td>40000</td><td>24/01/2002</td><td>01/01/9999</td></tr>\n",
       "\t<tr><td>10180</td><td>Shaw      </td><td>Wendorf     </td><td>29/01/1956</td><td>M</td><td>Senior Staff    </td><td>52444</td><td>29/06/2002</td><td>01/01/9999</td></tr>\n",
       "\t<tr><td>10181</td><td>Sibyl     </td><td>Nooteboom   </td><td>22/01/1963</td><td>M</td><td>Senior Engineer </td><td>40000</td><td>19/06/2002</td><td>01/01/9999</td></tr>\n",
       "\t<tr><td>10182</td><td>Moriyoshi </td><td>Merey       </td><td>04/02/1961</td><td>F</td><td>Engineer        </td><td>40380</td><td>30/08/2001</td><td>01/01/9999</td></tr>\n",
       "\t<tr><td>10183</td><td>Mechthild </td><td>Bonifati    </td><td>17/10/1954</td><td>M</td><td>Staff           </td><td>40000</td><td>10/08/2001</td><td>01/01/9999</td></tr>\n",
       "\t<tr><td>10184</td><td>Mihalis   </td><td>Lowrie      </td><td>22/05/1957</td><td>M</td><td>Staff           </td><td>48586</td><td>25/12/2001</td><td>01/01/9999</td></tr>\n",
       "\t<tr><td>10185</td><td>Duro      </td><td>Sidhu       </td><td>05/12/1959</td><td>F</td><td>Senior Staff    </td><td>68334</td><td>25/02/2002</td><td>01/01/9999</td></tr>\n",
       "\t<tr><td>10186</td><td>Shigehito </td><td>Kropatsch   </td><td>16/07/1953</td><td>M</td><td>Staff           </td><td>40000</td><td>25/12/1996</td><td>16/08/1997</td></tr>\n",
       "\t<tr><td>10187</td><td>Tommaso   </td><td>Narwekar    </td><td>26/05/1961</td><td>F</td><td>Senior Staff    </td><td>71454</td><td>29/05/2002</td><td>01/01/9999</td></tr>\n",
       "\t<tr><td>10188</td><td>Christ    </td><td>Muchinsky   </td><td>13/07/1956</td><td>F</td><td>Senior Engineer </td><td>62365</td><td>23/08/2001</td><td>01/01/9999</td></tr>\n",
       "\t<tr><td>10189</td><td>Khalid    </td><td>Erva        </td><td>12/11/1955</td><td>M</td><td>Engineer        </td><td>41222</td><td>13/09/1992</td><td>29/06/1993</td></tr>\n",
       "\t<tr><td>10190</td><td>Arve      </td><td>Fairtlough  </td><td>11/12/1964</td><td>F</td><td>Engineer        </td><td>40000</td><td>19/06/2002</td><td>01/01/9999</td></tr>\n",
       "\t<tr><td>10191</td><td>Zdislav   </td><td>Nastansky   </td><td>08/04/1959</td><td>M</td><td>Senior Engineer </td><td>40000</td><td>05/04/2002</td><td>01/01/9999</td></tr>\n",
       "\t<tr><td>10192</td><td>Mohua     </td><td>Falck       </td><td>16/09/1960</td><td>M</td><td>Engineer        </td><td>40000</td><td>10/06/2002</td><td>01/01/9999</td></tr>\n",
       "\t<tr><td>10193</td><td>Masaru    </td><td>Cheshire    </td><td>29/06/1960</td><td>M</td><td>Engineer        </td><td>48733</td><td>20/09/2001</td><td>01/01/9999</td></tr>\n",
       "\t<tr><td>10194</td><td>Josyula   </td><td>Hofmeyr     </td><td>29/01/1954</td><td>F</td><td>Senior Staff    </td><td>64941</td><td>13/02/2002</td><td>01/01/9999</td></tr>\n",
       "\t<tr><td>10195</td><td>Annemarie </td><td>Redmiles    </td><td>13/11/1963</td><td>M</td><td>Engineer        </td><td>40000</td><td>11/02/2001</td><td>14/04/2001</td></tr>\n",
       "\t<tr><td>10196</td><td>Marc      </td><td>Hellwagner  </td><td>27/01/1954</td><td>M</td><td>Staff           </td><td>86671</td><td>30/01/2002</td><td>01/01/9999</td></tr>\n",
       "\t<tr><td>10197</td><td>Kasidit   </td><td>Krzyzanowski</td><td>06/08/1963</td><td>F</td><td>Engineer        </td><td>40000</td><td>26/06/2002</td><td>01/01/9999</td></tr>\n",
       "\t<tr><td>10198</td><td>Pranav    </td><td>Furedi      </td><td>28/05/1953</td><td>M</td><td>Engineer        </td><td>44076</td><td>27/08/2001</td><td>01/01/9999</td></tr>\n",
       "\t<tr><td>10199</td><td>Kazuhisa  </td><td>Ranta       </td><td>07/04/1959</td><td>M</td><td>Staff           </td><td>42042</td><td>06/02/2002</td><td>01/01/9999</td></tr>\n",
       "\t<tr><td>10200</td><td>Vidya     </td><td>Awdeh       </td><td>31/12/1961</td><td>M</td><td>Engineer        </td><td>46879</td><td>15/02/2002</td><td>01/01/9999</td></tr>\n",
       "</tbody>\n",
       "</table>\n"
      ],
      "text/latex": [
       "A data.frame: 200 × 9\n",
       "\\begin{tabular}{r|lllllllll}\n",
       " Employee number & First name & Last name & Birth date & Gender & Job title & Salary & From date & To date\\\\\n",
       " <int> & <fct> & <fct> & <fct> & <fct> & <fct> & <int> & <fct> & <fct>\\\\\n",
       "\\hline\n",
       "\t 10001 & Georgi    & Facello     & 02/09/1953 & M & Senior Engineer    & 60117 & 22/06/2010 & 01/01/9999\\\\\n",
       "\t 10002 & Bezalel   & Simmel      & 02/06/1964 & F & Staff              & 65828 & 02/08/2001 & 01/01/9999\\\\\n",
       "\t 10003 & Parto     & Bamford     & 03/12/1959 & M & Senior Engineer    & 40006 & 01/12/2001 & 01/01/9999\\\\\n",
       "\t 10004 & Chirstian & Koblick     & 01/05/1954 & M & Engineer           & 40054 & 27/11/2001 & 01/01/9999\\\\\n",
       "\t 10005 & Kyoichi   & Maliniak    & 21/01/1955 & M & Senior Staff       & 78228 & 09/09/2001 & 01/01/9999\\\\\n",
       "\t 10006 & Anneke    & Preusig     & 20/04/1953 & F & Senior Engineer    & 40000 & 02/08/2001 & 01/01/9999\\\\\n",
       "\t 10007 & Tzvetan   & Zielinski   & 23/05/1957 & F & Senior Staff       & 56724 & 07/02/2002 & 01/01/9999\\\\\n",
       "\t 10008 & Saniya    & Kalloufi    & 19/02/1958 & M & Assistant Engineer & 46671 & 10/03/2000 & 31/07/2000\\\\\n",
       "\t 10009 & Sumant    & Peac        & 19/04/1952 & F & Assistant Engineer & 60929 & 14/02/2002 & 01/01/9999\\\\\n",
       "\t 10010 & Duangkaew & Piveteau    & 01/06/1963 & F & Engineer           & 72488 & 23/11/2001 & 01/01/9999\\\\\n",
       "\t 10011 & Mary      & Sluis       & 07/11/1953 & F & Staff              & 42365 & 21/01/1996 & 09/11/1996\\\\\n",
       "\t 10012 & Patricio  & Bridgland   & 04/10/1960 & M & Engineer           & 40000 & 16/12/2001 & 01/01/9999\\\\\n",
       "\t 10013 & Eberhardt & Terkki      & 07/06/1963 & M & Senior Staff       & 40000 & 16/10/2001 & 01/01/9999\\\\\n",
       "\t 10014 & Berni     & Genin       & 12/02/1956 & M & Engineer           & 46168 & 27/12/2001 & 01/01/9999\\\\\n",
       "\t 10015 & Guoxiang  & Nooteboom   & 19/08/1959 & M & Senior Staff       & 40000 & 19/09/1992 & 22/08/1993\\\\\n",
       "\t 10016 & Kazuhito  & Cappelletti & 02/05/1961 & M & Staff              & 70889 & 10/02/2002 & 01/01/9999\\\\\n",
       "\t 10017 & Cristinel & Bouloucos   & 06/07/1958 & F & Senior Staff       & 71380 & 01/08/2002 & 01/01/9999\\\\\n",
       "\t 10018 & Kazuhide  & Peha        & 19/06/1954 & F & Engineer           & 55881 & 30/03/2002 & 01/01/9999\\\\\n",
       "\t 10019 & Lillian   & Haddadi     & 23/01/1953 & M & Staff              & 44276 & 29/04/2002 & 01/01/9999\\\\\n",
       "\t 10020 & Mayuko    & Warwick     & 24/12/1952 & M & Engineer           & 40000 & 29/12/2001 & 01/01/9999\\\\\n",
       "\t 10021 & Ramzi     & Erde        & 20/02/1960 & M & Technique Leader   & 55025 & 06/02/2002 & 15/07/2002\\\\\n",
       "\t 10022 & Shahaf    & Famili      & 08/07/1952 & M & Engineer           & 40000 & 02/09/2001 & 01/01/9999\\\\\n",
       "\t 10023 & Bojan     & Montemayor  & 29/09/1953 & F & Engineer           & 47883 & 26/09/2001 & 01/01/9999\\\\\n",
       "\t 10024 & Suzette   & Pettey      & 05/09/1958 & F & Assistant Engineer & 83733 & 13/06/2002 & 01/01/9999\\\\\n",
       "\t 10025 & Prasadram & Heyers      & 31/10/1958 & M & Technique Leader   & 40000 & 14/08/1997 & 15/10/1997\\\\\n",
       "\t 10026 & Yongqiao  & Berztiss    & 03/04/1953 & M & Engineer           & 47585 & 18/03/2002 & 01/01/9999\\\\\n",
       "\t 10027 & Divier    & Reistad     & 10/07/1962 & F & Engineer           & 40000 & 31/03/2002 & 01/01/9999\\\\\n",
       "\t 10028 & Domenick  & Tempesti    & 26/11/1963 & M & Engineer           & 48859 & 20/10/1997 & 06/04/1998\\\\\n",
       "\t 10029 & Otmar     & Herbst      & 13/12/1956 & M & Engineer           & 63163 & 15/09/2001 & 01/01/9999\\\\\n",
       "\t 10030 & Elvis     & Demeyer     & 14/07/1958 & M & Engineer           & 66956 & 15/02/2002 & 01/01/9999\\\\\n",
       "\t ⋮ & ⋮ & ⋮ & ⋮ & ⋮ & ⋮ & ⋮ & ⋮ & ⋮\\\\\n",
       "\t 10171 & Herbert    & Trachtenberg & 11/09/1957 & M & Technique Leader & 41311 & 04/08/2001 & 01/01/9999\\\\\n",
       "\t 10172 & Shigeu     & Matzen       & 25/03/1957 & F & Engineer         & 41197 & 03/02/2002 & 01/01/9999\\\\\n",
       "\t 10173 & Shrikanth  & Mahmud       & 28/10/1962 & M & Senior Staff     & 85757 & 19/03/2002 & 01/01/9999\\\\\n",
       "\t 10174 & Badri      & Furudate     & 15/05/1959 & M & Engineer         & 59520 & 28/05/2002 & 01/01/9999\\\\\n",
       "\t 10175 & Aleksandar & Ananiadou    & 11/01/1960 & F & Staff            & 72285 & 23/09/1994 & 24/05/1995\\\\\n",
       "\t 10176 & Brendon    & Lenart       & 24/01/1957 & F & Senior Staff     & 54635 & 20/12/2001 & 01/01/9999\\\\\n",
       "\t 10177 & Pragnesh   & Iisaka       & 08/11/1954 & M & Staff            & 48041 & 06/02/1994 & 17/03/1994\\\\\n",
       "\t 10178 & Valery     & Litvinov     & 13/03/1963 & M & Staff            & 50568 & 19/03/2002 & 01/01/9999\\\\\n",
       "\t 10179 & Deniz      & Duclos       & 25/11/1961 & F & Engineer         & 40000 & 24/01/2002 & 01/01/9999\\\\\n",
       "\t 10180 & Shaw       & Wendorf      & 29/01/1956 & M & Senior Staff     & 52444 & 29/06/2002 & 01/01/9999\\\\\n",
       "\t 10181 & Sibyl      & Nooteboom    & 22/01/1963 & M & Senior Engineer  & 40000 & 19/06/2002 & 01/01/9999\\\\\n",
       "\t 10182 & Moriyoshi  & Merey        & 04/02/1961 & F & Engineer         & 40380 & 30/08/2001 & 01/01/9999\\\\\n",
       "\t 10183 & Mechthild  & Bonifati     & 17/10/1954 & M & Staff            & 40000 & 10/08/2001 & 01/01/9999\\\\\n",
       "\t 10184 & Mihalis    & Lowrie       & 22/05/1957 & M & Staff            & 48586 & 25/12/2001 & 01/01/9999\\\\\n",
       "\t 10185 & Duro       & Sidhu        & 05/12/1959 & F & Senior Staff     & 68334 & 25/02/2002 & 01/01/9999\\\\\n",
       "\t 10186 & Shigehito  & Kropatsch    & 16/07/1953 & M & Staff            & 40000 & 25/12/1996 & 16/08/1997\\\\\n",
       "\t 10187 & Tommaso    & Narwekar     & 26/05/1961 & F & Senior Staff     & 71454 & 29/05/2002 & 01/01/9999\\\\\n",
       "\t 10188 & Christ     & Muchinsky    & 13/07/1956 & F & Senior Engineer  & 62365 & 23/08/2001 & 01/01/9999\\\\\n",
       "\t 10189 & Khalid     & Erva         & 12/11/1955 & M & Engineer         & 41222 & 13/09/1992 & 29/06/1993\\\\\n",
       "\t 10190 & Arve       & Fairtlough   & 11/12/1964 & F & Engineer         & 40000 & 19/06/2002 & 01/01/9999\\\\\n",
       "\t 10191 & Zdislav    & Nastansky    & 08/04/1959 & M & Senior Engineer  & 40000 & 05/04/2002 & 01/01/9999\\\\\n",
       "\t 10192 & Mohua      & Falck        & 16/09/1960 & M & Engineer         & 40000 & 10/06/2002 & 01/01/9999\\\\\n",
       "\t 10193 & Masaru     & Cheshire     & 29/06/1960 & M & Engineer         & 48733 & 20/09/2001 & 01/01/9999\\\\\n",
       "\t 10194 & Josyula    & Hofmeyr      & 29/01/1954 & F & Senior Staff     & 64941 & 13/02/2002 & 01/01/9999\\\\\n",
       "\t 10195 & Annemarie  & Redmiles     & 13/11/1963 & M & Engineer         & 40000 & 11/02/2001 & 14/04/2001\\\\\n",
       "\t 10196 & Marc       & Hellwagner   & 27/01/1954 & M & Staff            & 86671 & 30/01/2002 & 01/01/9999\\\\\n",
       "\t 10197 & Kasidit    & Krzyzanowski & 06/08/1963 & F & Engineer         & 40000 & 26/06/2002 & 01/01/9999\\\\\n",
       "\t 10198 & Pranav     & Furedi       & 28/05/1953 & M & Engineer         & 44076 & 27/08/2001 & 01/01/9999\\\\\n",
       "\t 10199 & Kazuhisa   & Ranta        & 07/04/1959 & M & Staff            & 42042 & 06/02/2002 & 01/01/9999\\\\\n",
       "\t 10200 & Vidya      & Awdeh        & 31/12/1961 & M & Engineer         & 46879 & 15/02/2002 & 01/01/9999\\\\\n",
       "\\end{tabular}\n"
      ],
      "text/markdown": [
       "\n",
       "A data.frame: 200 × 9\n",
       "\n",
       "| Employee number &lt;int&gt; | First name &lt;fct&gt; | Last name &lt;fct&gt; | Birth date &lt;fct&gt; | Gender &lt;fct&gt; | Job title &lt;fct&gt; | Salary &lt;int&gt; | From date &lt;fct&gt; | To date &lt;fct&gt; |\n",
       "|---|---|---|---|---|---|---|---|---|\n",
       "| 10001 | Georgi    | Facello     | 02/09/1953 | M | Senior Engineer    | 60117 | 22/06/2010 | 01/01/9999 |\n",
       "| 10002 | Bezalel   | Simmel      | 02/06/1964 | F | Staff              | 65828 | 02/08/2001 | 01/01/9999 |\n",
       "| 10003 | Parto     | Bamford     | 03/12/1959 | M | Senior Engineer    | 40006 | 01/12/2001 | 01/01/9999 |\n",
       "| 10004 | Chirstian | Koblick     | 01/05/1954 | M | Engineer           | 40054 | 27/11/2001 | 01/01/9999 |\n",
       "| 10005 | Kyoichi   | Maliniak    | 21/01/1955 | M | Senior Staff       | 78228 | 09/09/2001 | 01/01/9999 |\n",
       "| 10006 | Anneke    | Preusig     | 20/04/1953 | F | Senior Engineer    | 40000 | 02/08/2001 | 01/01/9999 |\n",
       "| 10007 | Tzvetan   | Zielinski   | 23/05/1957 | F | Senior Staff       | 56724 | 07/02/2002 | 01/01/9999 |\n",
       "| 10008 | Saniya    | Kalloufi    | 19/02/1958 | M | Assistant Engineer | 46671 | 10/03/2000 | 31/07/2000 |\n",
       "| 10009 | Sumant    | Peac        | 19/04/1952 | F | Assistant Engineer | 60929 | 14/02/2002 | 01/01/9999 |\n",
       "| 10010 | Duangkaew | Piveteau    | 01/06/1963 | F | Engineer           | 72488 | 23/11/2001 | 01/01/9999 |\n",
       "| 10011 | Mary      | Sluis       | 07/11/1953 | F | Staff              | 42365 | 21/01/1996 | 09/11/1996 |\n",
       "| 10012 | Patricio  | Bridgland   | 04/10/1960 | M | Engineer           | 40000 | 16/12/2001 | 01/01/9999 |\n",
       "| 10013 | Eberhardt | Terkki      | 07/06/1963 | M | Senior Staff       | 40000 | 16/10/2001 | 01/01/9999 |\n",
       "| 10014 | Berni     | Genin       | 12/02/1956 | M | Engineer           | 46168 | 27/12/2001 | 01/01/9999 |\n",
       "| 10015 | Guoxiang  | Nooteboom   | 19/08/1959 | M | Senior Staff       | 40000 | 19/09/1992 | 22/08/1993 |\n",
       "| 10016 | Kazuhito  | Cappelletti | 02/05/1961 | M | Staff              | 70889 | 10/02/2002 | 01/01/9999 |\n",
       "| 10017 | Cristinel | Bouloucos   | 06/07/1958 | F | Senior Staff       | 71380 | 01/08/2002 | 01/01/9999 |\n",
       "| 10018 | Kazuhide  | Peha        | 19/06/1954 | F | Engineer           | 55881 | 30/03/2002 | 01/01/9999 |\n",
       "| 10019 | Lillian   | Haddadi     | 23/01/1953 | M | Staff              | 44276 | 29/04/2002 | 01/01/9999 |\n",
       "| 10020 | Mayuko    | Warwick     | 24/12/1952 | M | Engineer           | 40000 | 29/12/2001 | 01/01/9999 |\n",
       "| 10021 | Ramzi     | Erde        | 20/02/1960 | M | Technique Leader   | 55025 | 06/02/2002 | 15/07/2002 |\n",
       "| 10022 | Shahaf    | Famili      | 08/07/1952 | M | Engineer           | 40000 | 02/09/2001 | 01/01/9999 |\n",
       "| 10023 | Bojan     | Montemayor  | 29/09/1953 | F | Engineer           | 47883 | 26/09/2001 | 01/01/9999 |\n",
       "| 10024 | Suzette   | Pettey      | 05/09/1958 | F | Assistant Engineer | 83733 | 13/06/2002 | 01/01/9999 |\n",
       "| 10025 | Prasadram | Heyers      | 31/10/1958 | M | Technique Leader   | 40000 | 14/08/1997 | 15/10/1997 |\n",
       "| 10026 | Yongqiao  | Berztiss    | 03/04/1953 | M | Engineer           | 47585 | 18/03/2002 | 01/01/9999 |\n",
       "| 10027 | Divier    | Reistad     | 10/07/1962 | F | Engineer           | 40000 | 31/03/2002 | 01/01/9999 |\n",
       "| 10028 | Domenick  | Tempesti    | 26/11/1963 | M | Engineer           | 48859 | 20/10/1997 | 06/04/1998 |\n",
       "| 10029 | Otmar     | Herbst      | 13/12/1956 | M | Engineer           | 63163 | 15/09/2001 | 01/01/9999 |\n",
       "| 10030 | Elvis     | Demeyer     | 14/07/1958 | M | Engineer           | 66956 | 15/02/2002 | 01/01/9999 |\n",
       "| ⋮ | ⋮ | ⋮ | ⋮ | ⋮ | ⋮ | ⋮ | ⋮ | ⋮ |\n",
       "| 10171 | Herbert    | Trachtenberg | 11/09/1957 | M | Technique Leader | 41311 | 04/08/2001 | 01/01/9999 |\n",
       "| 10172 | Shigeu     | Matzen       | 25/03/1957 | F | Engineer         | 41197 | 03/02/2002 | 01/01/9999 |\n",
       "| 10173 | Shrikanth  | Mahmud       | 28/10/1962 | M | Senior Staff     | 85757 | 19/03/2002 | 01/01/9999 |\n",
       "| 10174 | Badri      | Furudate     | 15/05/1959 | M | Engineer         | 59520 | 28/05/2002 | 01/01/9999 |\n",
       "| 10175 | Aleksandar | Ananiadou    | 11/01/1960 | F | Staff            | 72285 | 23/09/1994 | 24/05/1995 |\n",
       "| 10176 | Brendon    | Lenart       | 24/01/1957 | F | Senior Staff     | 54635 | 20/12/2001 | 01/01/9999 |\n",
       "| 10177 | Pragnesh   | Iisaka       | 08/11/1954 | M | Staff            | 48041 | 06/02/1994 | 17/03/1994 |\n",
       "| 10178 | Valery     | Litvinov     | 13/03/1963 | M | Staff            | 50568 | 19/03/2002 | 01/01/9999 |\n",
       "| 10179 | Deniz      | Duclos       | 25/11/1961 | F | Engineer         | 40000 | 24/01/2002 | 01/01/9999 |\n",
       "| 10180 | Shaw       | Wendorf      | 29/01/1956 | M | Senior Staff     | 52444 | 29/06/2002 | 01/01/9999 |\n",
       "| 10181 | Sibyl      | Nooteboom    | 22/01/1963 | M | Senior Engineer  | 40000 | 19/06/2002 | 01/01/9999 |\n",
       "| 10182 | Moriyoshi  | Merey        | 04/02/1961 | F | Engineer         | 40380 | 30/08/2001 | 01/01/9999 |\n",
       "| 10183 | Mechthild  | Bonifati     | 17/10/1954 | M | Staff            | 40000 | 10/08/2001 | 01/01/9999 |\n",
       "| 10184 | Mihalis    | Lowrie       | 22/05/1957 | M | Staff            | 48586 | 25/12/2001 | 01/01/9999 |\n",
       "| 10185 | Duro       | Sidhu        | 05/12/1959 | F | Senior Staff     | 68334 | 25/02/2002 | 01/01/9999 |\n",
       "| 10186 | Shigehito  | Kropatsch    | 16/07/1953 | M | Staff            | 40000 | 25/12/1996 | 16/08/1997 |\n",
       "| 10187 | Tommaso    | Narwekar     | 26/05/1961 | F | Senior Staff     | 71454 | 29/05/2002 | 01/01/9999 |\n",
       "| 10188 | Christ     | Muchinsky    | 13/07/1956 | F | Senior Engineer  | 62365 | 23/08/2001 | 01/01/9999 |\n",
       "| 10189 | Khalid     | Erva         | 12/11/1955 | M | Engineer         | 41222 | 13/09/1992 | 29/06/1993 |\n",
       "| 10190 | Arve       | Fairtlough   | 11/12/1964 | F | Engineer         | 40000 | 19/06/2002 | 01/01/9999 |\n",
       "| 10191 | Zdislav    | Nastansky    | 08/04/1959 | M | Senior Engineer  | 40000 | 05/04/2002 | 01/01/9999 |\n",
       "| 10192 | Mohua      | Falck        | 16/09/1960 | M | Engineer         | 40000 | 10/06/2002 | 01/01/9999 |\n",
       "| 10193 | Masaru     | Cheshire     | 29/06/1960 | M | Engineer         | 48733 | 20/09/2001 | 01/01/9999 |\n",
       "| 10194 | Josyula    | Hofmeyr      | 29/01/1954 | F | Senior Staff     | 64941 | 13/02/2002 | 01/01/9999 |\n",
       "| 10195 | Annemarie  | Redmiles     | 13/11/1963 | M | Engineer         | 40000 | 11/02/2001 | 14/04/2001 |\n",
       "| 10196 | Marc       | Hellwagner   | 27/01/1954 | M | Staff            | 86671 | 30/01/2002 | 01/01/9999 |\n",
       "| 10197 | Kasidit    | Krzyzanowski | 06/08/1963 | F | Engineer         | 40000 | 26/06/2002 | 01/01/9999 |\n",
       "| 10198 | Pranav     | Furedi       | 28/05/1953 | M | Engineer         | 44076 | 27/08/2001 | 01/01/9999 |\n",
       "| 10199 | Kazuhisa   | Ranta        | 07/04/1959 | M | Staff            | 42042 | 06/02/2002 | 01/01/9999 |\n",
       "| 10200 | Vidya      | Awdeh        | 31/12/1961 | M | Engineer         | 46879 | 15/02/2002 | 01/01/9999 |\n",
       "\n"
      ],
      "text/plain": [
       "    Employee number First name Last name    Birth date Gender\n",
       "1   10001           Georgi     Facello      02/09/1953 M     \n",
       "2   10002           Bezalel    Simmel       02/06/1964 F     \n",
       "3   10003           Parto      Bamford      03/12/1959 M     \n",
       "4   10004           Chirstian  Koblick      01/05/1954 M     \n",
       "5   10005           Kyoichi    Maliniak     21/01/1955 M     \n",
       "6   10006           Anneke     Preusig      20/04/1953 F     \n",
       "7   10007           Tzvetan    Zielinski    23/05/1957 F     \n",
       "8   10008           Saniya     Kalloufi     19/02/1958 M     \n",
       "9   10009           Sumant     Peac         19/04/1952 F     \n",
       "10  10010           Duangkaew  Piveteau     01/06/1963 F     \n",
       "11  10011           Mary       Sluis        07/11/1953 F     \n",
       "12  10012           Patricio   Bridgland    04/10/1960 M     \n",
       "13  10013           Eberhardt  Terkki       07/06/1963 M     \n",
       "14  10014           Berni      Genin        12/02/1956 M     \n",
       "15  10015           Guoxiang   Nooteboom    19/08/1959 M     \n",
       "16  10016           Kazuhito   Cappelletti  02/05/1961 M     \n",
       "17  10017           Cristinel  Bouloucos    06/07/1958 F     \n",
       "18  10018           Kazuhide   Peha         19/06/1954 F     \n",
       "19  10019           Lillian    Haddadi      23/01/1953 M     \n",
       "20  10020           Mayuko     Warwick      24/12/1952 M     \n",
       "21  10021           Ramzi      Erde         20/02/1960 M     \n",
       "22  10022           Shahaf     Famili       08/07/1952 M     \n",
       "23  10023           Bojan      Montemayor   29/09/1953 F     \n",
       "24  10024           Suzette    Pettey       05/09/1958 F     \n",
       "25  10025           Prasadram  Heyers       31/10/1958 M     \n",
       "26  10026           Yongqiao   Berztiss     03/04/1953 M     \n",
       "27  10027           Divier     Reistad      10/07/1962 F     \n",
       "28  10028           Domenick   Tempesti     26/11/1963 M     \n",
       "29  10029           Otmar      Herbst       13/12/1956 M     \n",
       "30  10030           Elvis      Demeyer      14/07/1958 M     \n",
       "⋮   ⋮               ⋮          ⋮            ⋮          ⋮     \n",
       "171 10171           Herbert    Trachtenberg 11/09/1957 M     \n",
       "172 10172           Shigeu     Matzen       25/03/1957 F     \n",
       "173 10173           Shrikanth  Mahmud       28/10/1962 M     \n",
       "174 10174           Badri      Furudate     15/05/1959 M     \n",
       "175 10175           Aleksandar Ananiadou    11/01/1960 F     \n",
       "176 10176           Brendon    Lenart       24/01/1957 F     \n",
       "177 10177           Pragnesh   Iisaka       08/11/1954 M     \n",
       "178 10178           Valery     Litvinov     13/03/1963 M     \n",
       "179 10179           Deniz      Duclos       25/11/1961 F     \n",
       "180 10180           Shaw       Wendorf      29/01/1956 M     \n",
       "181 10181           Sibyl      Nooteboom    22/01/1963 M     \n",
       "182 10182           Moriyoshi  Merey        04/02/1961 F     \n",
       "183 10183           Mechthild  Bonifati     17/10/1954 M     \n",
       "184 10184           Mihalis    Lowrie       22/05/1957 M     \n",
       "185 10185           Duro       Sidhu        05/12/1959 F     \n",
       "186 10186           Shigehito  Kropatsch    16/07/1953 M     \n",
       "187 10187           Tommaso    Narwekar     26/05/1961 F     \n",
       "188 10188           Christ     Muchinsky    13/07/1956 F     \n",
       "189 10189           Khalid     Erva         12/11/1955 M     \n",
       "190 10190           Arve       Fairtlough   11/12/1964 F     \n",
       "191 10191           Zdislav    Nastansky    08/04/1959 M     \n",
       "192 10192           Mohua      Falck        16/09/1960 M     \n",
       "193 10193           Masaru     Cheshire     29/06/1960 M     \n",
       "194 10194           Josyula    Hofmeyr      29/01/1954 F     \n",
       "195 10195           Annemarie  Redmiles     13/11/1963 M     \n",
       "196 10196           Marc       Hellwagner   27/01/1954 M     \n",
       "197 10197           Kasidit    Krzyzanowski 06/08/1963 F     \n",
       "198 10198           Pranav     Furedi       28/05/1953 M     \n",
       "199 10199           Kazuhisa   Ranta        07/04/1959 M     \n",
       "200 10200           Vidya      Awdeh        31/12/1961 M     \n",
       "    Job title          Salary From date  To date   \n",
       "1   Senior Engineer    60117  22/06/2010 01/01/9999\n",
       "2   Staff              65828  02/08/2001 01/01/9999\n",
       "3   Senior Engineer    40006  01/12/2001 01/01/9999\n",
       "4   Engineer           40054  27/11/2001 01/01/9999\n",
       "5   Senior Staff       78228  09/09/2001 01/01/9999\n",
       "6   Senior Engineer    40000  02/08/2001 01/01/9999\n",
       "7   Senior Staff       56724  07/02/2002 01/01/9999\n",
       "8   Assistant Engineer 46671  10/03/2000 31/07/2000\n",
       "9   Assistant Engineer 60929  14/02/2002 01/01/9999\n",
       "10  Engineer           72488  23/11/2001 01/01/9999\n",
       "11  Staff              42365  21/01/1996 09/11/1996\n",
       "12  Engineer           40000  16/12/2001 01/01/9999\n",
       "13  Senior Staff       40000  16/10/2001 01/01/9999\n",
       "14  Engineer           46168  27/12/2001 01/01/9999\n",
       "15  Senior Staff       40000  19/09/1992 22/08/1993\n",
       "16  Staff              70889  10/02/2002 01/01/9999\n",
       "17  Senior Staff       71380  01/08/2002 01/01/9999\n",
       "18  Engineer           55881  30/03/2002 01/01/9999\n",
       "19  Staff              44276  29/04/2002 01/01/9999\n",
       "20  Engineer           40000  29/12/2001 01/01/9999\n",
       "21  Technique Leader   55025  06/02/2002 15/07/2002\n",
       "22  Engineer           40000  02/09/2001 01/01/9999\n",
       "23  Engineer           47883  26/09/2001 01/01/9999\n",
       "24  Assistant Engineer 83733  13/06/2002 01/01/9999\n",
       "25  Technique Leader   40000  14/08/1997 15/10/1997\n",
       "26  Engineer           47585  18/03/2002 01/01/9999\n",
       "27  Engineer           40000  31/03/2002 01/01/9999\n",
       "28  Engineer           48859  20/10/1997 06/04/1998\n",
       "29  Engineer           63163  15/09/2001 01/01/9999\n",
       "30  Engineer           66956  15/02/2002 01/01/9999\n",
       "⋮   ⋮                  ⋮      ⋮          ⋮         \n",
       "171 Technique Leader   41311  04/08/2001 01/01/9999\n",
       "172 Engineer           41197  03/02/2002 01/01/9999\n",
       "173 Senior Staff       85757  19/03/2002 01/01/9999\n",
       "174 Engineer           59520  28/05/2002 01/01/9999\n",
       "175 Staff              72285  23/09/1994 24/05/1995\n",
       "176 Senior Staff       54635  20/12/2001 01/01/9999\n",
       "177 Staff              48041  06/02/1994 17/03/1994\n",
       "178 Staff              50568  19/03/2002 01/01/9999\n",
       "179 Engineer           40000  24/01/2002 01/01/9999\n",
       "180 Senior Staff       52444  29/06/2002 01/01/9999\n",
       "181 Senior Engineer    40000  19/06/2002 01/01/9999\n",
       "182 Engineer           40380  30/08/2001 01/01/9999\n",
       "183 Staff              40000  10/08/2001 01/01/9999\n",
       "184 Staff              48586  25/12/2001 01/01/9999\n",
       "185 Senior Staff       68334  25/02/2002 01/01/9999\n",
       "186 Staff              40000  25/12/1996 16/08/1997\n",
       "187 Senior Staff       71454  29/05/2002 01/01/9999\n",
       "188 Senior Engineer    62365  23/08/2001 01/01/9999\n",
       "189 Engineer           41222  13/09/1992 29/06/1993\n",
       "190 Engineer           40000  19/06/2002 01/01/9999\n",
       "191 Senior Engineer    40000  05/04/2002 01/01/9999\n",
       "192 Engineer           40000  10/06/2002 01/01/9999\n",
       "193 Engineer           48733  20/09/2001 01/01/9999\n",
       "194 Senior Staff       64941  13/02/2002 01/01/9999\n",
       "195 Engineer           40000  11/02/2001 14/04/2001\n",
       "196 Staff              86671  30/01/2002 01/01/9999\n",
       "197 Engineer           40000  26/06/2002 01/01/9999\n",
       "198 Engineer           44076  27/08/2001 01/01/9999\n",
       "199 Staff              42042  06/02/2002 01/01/9999\n",
       "200 Engineer           46879  15/02/2002 01/01/9999"
      ]
     },
     "metadata": {},
     "output_type": "display_data"
    }
   ],
   "source": [
    "csv.data"
   ]
  },
  {
   "cell_type": "code",
   "execution_count": 60,
   "metadata": {},
   "outputs": [
    {
     "data": {
      "text/html": [
       "200"
      ],
      "text/latex": [
       "200"
      ],
      "text/markdown": [
       "200"
      ],
      "text/plain": [
       "[1] 200"
      ]
     },
     "metadata": {},
     "output_type": "display_data"
    }
   ],
   "source": [
    "nrow(csv.data)"
   ]
  },
  {
   "cell_type": "code",
   "execution_count": 61,
   "metadata": {},
   "outputs": [
    {
     "data": {
      "text/html": [
       "9"
      ],
      "text/latex": [
       "9"
      ],
      "text/markdown": [
       "9"
      ],
      "text/plain": [
       "[1] 9"
      ]
     },
     "metadata": {},
     "output_type": "display_data"
    }
   ],
   "source": [
    "ncol(csv.data)"
   ]
  },
  {
   "cell_type": "markdown",
   "metadata": {},
   "source": [
    "# Dplyr Exercise"
   ]
  },
  {
   "cell_type": "code",
   "execution_count": 1,
   "metadata": {},
   "outputs": [
    {
     "name": "stderr",
     "output_type": "stream",
     "text": [
      "── \u001b[1mAttaching packages\u001b[22m ─────────────────────────────────────── tidyverse 1.2.1 ──\n",
      "\n",
      "\u001b[32m✔\u001b[39m \u001b[34mggplot2\u001b[39m 3.2.1     \u001b[32m✔\u001b[39m \u001b[34mpurrr  \u001b[39m 0.3.2\n",
      "\u001b[32m✔\u001b[39m \u001b[34mtibble \u001b[39m 2.1.2     \u001b[32m✔\u001b[39m \u001b[34mdplyr  \u001b[39m 0.8.1\n",
      "\u001b[32m✔\u001b[39m \u001b[34mtidyr  \u001b[39m 0.8.3     \u001b[32m✔\u001b[39m \u001b[34mstringr\u001b[39m 1.4.0\n",
      "\u001b[32m✔\u001b[39m \u001b[34mreadr  \u001b[39m 1.3.1     \u001b[32m✔\u001b[39m \u001b[34mforcats\u001b[39m 0.4.0\n",
      "\n",
      "── \u001b[1mConflicts\u001b[22m ────────────────────────────────────────── tidyverse_conflicts() ──\n",
      "\u001b[31m✖\u001b[39m \u001b[34mdplyr\u001b[39m::\u001b[32mfilter()\u001b[39m masks \u001b[34mstats\u001b[39m::filter()\n",
      "\u001b[31m✖\u001b[39m \u001b[34mdplyr\u001b[39m::\u001b[32mlag()\u001b[39m    masks \u001b[34mstats\u001b[39m::lag()\n",
      "\n"
     ]
    }
   ],
   "source": [
    "library(tidyverse)"
   ]
  },
  {
   "cell_type": "code",
   "execution_count": 7,
   "metadata": {},
   "outputs": [],
   "source": [
    "employee.data <- read.csv(file = '/Users/sahilnagpal/Downloads/employee-data.csv',sep = ',',nrows = 200,skip = 23)\n",
    "emp.tib <- as_tibble(employee.data)"
   ]
  },
  {
   "cell_type": "code",
   "execution_count": 6,
   "metadata": {},
   "outputs": [
    {
     "name": "stdout",
     "output_type": "stream",
     "text": [
      "Classes ‘tbl_df’, ‘tbl’ and 'data.frame':\t200 obs. of  9 variables:\n",
      " $ emp_no              : int  10001 10002 10003 10004 10005 10006 10007 10008 10009 10010 ...\n",
      " $ first_name          : Factor w/ 188 levels \"Abdulah\",\"Adamantios\",..: 55 23 126 30 95 9 165 143 159 43 ...\n",
      " $ last_name           : Factor w/ 184 levels \"Aingworth\",\"Aloisi\",..: 47 155 12 81 98 135 181 79 123 132 ...\n",
      " $ birth_date          : Factor w/ 197 levels \"01/04/1958\",\"01/05/1954\",..: 11 10 21 2 130 126 142 115 116 3 ...\n",
      " $ gender              : Factor w/ 2 levels \"F\",\"M\": 2 1 2 2 2 1 1 2 1 1 ...\n",
      " $ title               : Factor w/ 6 levels \"Assistant Engineer\",..: 3 5 3 2 4 3 4 1 1 2 ...\n",
      " $ salary              : int  60117 65828 40006 40054 78228 40000 56724 46671 60929 72488 ...\n",
      " $ latest_start_date   : Factor w/ 171 levels \"01/01/1989\",\"01/01/2002\",..: 120 12 6 150 38 12 31 42 73 128 ...\n",
      " $ end_of_contract_date: Factor w/ 40 levels \"01/01/9999\",\"01/11/1998\",..: 1 1 1 1 1 1 1 39 1 1 ...\n"
     ]
    }
   ],
   "source": [
    "str(emp.tib)"
   ]
  },
  {
   "cell_type": "code",
   "execution_count": 7,
   "metadata": {},
   "outputs": [
    {
     "data": {
      "text/html": [
       "FALSE"
      ],
      "text/latex": [
       "FALSE"
      ],
      "text/markdown": [
       "FALSE"
      ],
      "text/plain": [
       "[1] FALSE"
      ]
     },
     "metadata": {},
     "output_type": "display_data"
    }
   ],
   "source": [
    "any(is.na(emp.tib))"
   ]
  },
  {
   "cell_type": "code",
   "execution_count": 8,
   "metadata": {},
   "outputs": [],
   "source": [
    "# Arrange the dataset by gender, then last name, and make first_name, last_name, \n",
    "# and gender the first three variables in the data frame. Show only the employees whose salary is higher than 70,000.\n",
    "\n",
    "arr.data <- emp.tib %>%\n",
    "select(ends_with(\"name\"), gender , everything()) %>%\n",
    "filter(salary>70000) %>%\n",
    "arrange(gender,last_name)"
   ]
  },
  {
   "cell_type": "code",
   "execution_count": 84,
   "metadata": {},
   "outputs": [
    {
     "data": {
      "text/html": [
       "<table>\n",
       "<caption>A tibble: 25 × 9</caption>\n",
       "<thead>\n",
       "\t<tr><th scope=col>first_name</th><th scope=col>last_name</th><th scope=col>gender</th><th scope=col>emp_no</th><th scope=col>birth_date</th><th scope=col>title</th><th scope=col>salary</th><th scope=col>latest_start_date</th><th scope=col>end_of_contract_date</th></tr>\n",
       "\t<tr><th scope=col>&lt;fct&gt;</th><th scope=col>&lt;fct&gt;</th><th scope=col>&lt;fct&gt;</th><th scope=col>&lt;int&gt;</th><th scope=col>&lt;fct&gt;</th><th scope=col>&lt;fct&gt;</th><th scope=col>&lt;int&gt;</th><th scope=col>&lt;fct&gt;</th><th scope=col>&lt;fct&gt;</th></tr>\n",
       "</thead>\n",
       "<tbody>\n",
       "\t<tr><td>Aleksandar</td><td>Ananiadou    </td><td>F</td><td>10175</td><td>11/01/1960</td><td>Staff             </td><td>72285</td><td>23/09/1994</td><td>24/05/1995</td></tr>\n",
       "\t<tr><td>Dung      </td><td>Baca         </td><td>F</td><td>10107</td><td>13/06/1956</td><td>Senior Staff      </td><td>93159</td><td>29/03/2002</td><td>01/01/9999</td></tr>\n",
       "\t<tr><td>Cristinel </td><td>Bouloucos    </td><td>F</td><td>10017</td><td>06/07/1958</td><td>Senior Staff      </td><td>71380</td><td>01/08/2002</td><td>01/01/9999</td></tr>\n",
       "\t<tr><td>Xinglin   </td><td>Eugenio      </td><td>F</td><td>10087</td><td>23/07/1959</td><td>Staff             </td><td>96750</td><td>07/05/2000</td><td>09/01/2001</td></tr>\n",
       "\t<tr><td>Alejandro </td><td>McAlpine     </td><td>F</td><td>10059</td><td>19/09/1953</td><td>Senior Staff      </td><td>71218</td><td>23/06/2002</td><td>01/01/9999</td></tr>\n",
       "\t<tr><td>Tommaso   </td><td>Narwekar     </td><td>F</td><td>10187</td><td>26/05/1961</td><td>Senior Staff      </td><td>71454</td><td>29/05/2002</td><td>01/01/9999</td></tr>\n",
       "\t<tr><td>Zhenbing  </td><td>Perng        </td><td>F</td><td>10150</td><td>29/01/1955</td><td>Engineer          </td><td>70122</td><td>12/11/2001</td><td>01/01/9999</td></tr>\n",
       "\t<tr><td>Xiadong   </td><td>Perry        </td><td>F</td><td>10149</td><td>20/05/1953</td><td>Staff             </td><td>88740</td><td>28/01/1996</td><td>27/08/1996</td></tr>\n",
       "\t<tr><td>Suzette   </td><td>Pettey       </td><td>F</td><td>10024</td><td>05/09/1958</td><td>Assistant Engineer</td><td>83733</td><td>13/06/2002</td><td>01/01/9999</td></tr>\n",
       "\t<tr><td>Duangkaew </td><td>Piveteau     </td><td>F</td><td>10010</td><td>01/06/1963</td><td>Engineer          </td><td>72488</td><td>23/11/2001</td><td>01/01/9999</td></tr>\n",
       "\t<tr><td>Sampalli  </td><td>Snedden      </td><td>F</td><td>10169</td><td>03/05/1961</td><td>Engineer          </td><td>70303</td><td>27/06/2002</td><td>01/01/9999</td></tr>\n",
       "\t<tr><td>Magy      </td><td>Stamatiou    </td><td>F</td><td>10042</td><td>26/02/1956</td><td>Senior Staff      </td><td>81662</td><td>19/03/2000</td><td>10/08/2000</td></tr>\n",
       "\t<tr><td>Breannda  </td><td>Billingsley  </td><td>M</td><td>10060</td><td>15/10/1961</td><td>Senior Staff      </td><td>74686</td><td>25/05/2002</td><td>01/01/9999</td></tr>\n",
       "\t<tr><td>Charlene  </td><td>Brattka      </td><td>M</td><td>10068</td><td>26/11/1962</td><td>Senior Staff      </td><td>87964</td><td>03/08/2001</td><td>01/01/9999</td></tr>\n",
       "\t<tr><td>Kazuhito  </td><td>Cappelletti  </td><td>M</td><td>10016</td><td>02/05/1961</td><td>Staff             </td><td>70889</td><td>10/02/2002</td><td>01/01/9999</td></tr>\n",
       "\t<tr><td>Yinghua   </td><td>Dredge       </td><td>M</td><td>10050</td><td>21/05/1958</td><td>Senior Staff      </td><td>74366</td><td>22/12/2001</td><td>01/01/9999</td></tr>\n",
       "\t<tr><td>Georgy    </td><td>Dredge       </td><td>M</td><td>10055</td><td>06/06/1956</td><td>Staff             </td><td>80024</td><td>27/04/1995</td><td>22/07/1995</td></tr>\n",
       "\t<tr><td>Somnath   </td><td>Foote        </td><td>M</td><td>10086</td><td>19/11/1962</td><td>Senior Staff      </td><td>81613</td><td>16/02/2002</td><td>01/01/9999</td></tr>\n",
       "\t<tr><td>Marc      </td><td>Hellwagner   </td><td>M</td><td>10196</td><td>27/01/1954</td><td>Staff             </td><td>86671</td><td>30/01/2002</td><td>01/01/9999</td></tr>\n",
       "\t<tr><td>Debatosh  </td><td>Khasidashvili</td><td>M</td><td>10160</td><td>18/10/1953</td><td>Senior Staff      </td><td>91622</td><td>04/12/2001</td><td>01/01/9999</td></tr>\n",
       "\t<tr><td>Itzchak   </td><td>Lichtner     </td><td>M</td><td>10151</td><td>06/03/1959</td><td>Senior Staff      </td><td>90741</td><td>10/12/2001</td><td>01/01/9999</td></tr>\n",
       "\t<tr><td>Shrikanth </td><td>Mahmud       </td><td>M</td><td>10173</td><td>28/10/1962</td><td>Senior Staff      </td><td>85757</td><td>19/03/2002</td><td>01/01/9999</td></tr>\n",
       "\t<tr><td>Kyoichi   </td><td>Maliniak     </td><td>M</td><td>10005</td><td>21/01/1955</td><td>Senior Staff      </td><td>78228</td><td>09/09/2001</td><td>01/01/9999</td></tr>\n",
       "\t<tr><td>Zissis    </td><td>Pintelas     </td><td>M</td><td>10136</td><td>14/09/1961</td><td>Senior Staff      </td><td>82420</td><td>11/06/1999</td><td>20/09/1999</td></tr>\n",
       "\t<tr><td>Hinrich   </td><td>Randi        </td><td>M</td><td>10123</td><td>12/05/1962</td><td>Assistant Engineer</td><td>71524</td><td>13/01/2002</td><td>01/01/9999</td></tr>\n",
       "</tbody>\n",
       "</table>\n"
      ],
      "text/latex": [
       "A tibble: 25 × 9\n",
       "\\begin{tabular}{r|lllllllll}\n",
       " first\\_name & last\\_name & gender & emp\\_no & birth\\_date & title & salary & latest\\_start\\_date & end\\_of\\_contract\\_date\\\\\n",
       " <fct> & <fct> & <fct> & <int> & <fct> & <fct> & <int> & <fct> & <fct>\\\\\n",
       "\\hline\n",
       "\t Aleksandar & Ananiadou     & F & 10175 & 11/01/1960 & Staff              & 72285 & 23/09/1994 & 24/05/1995\\\\\n",
       "\t Dung       & Baca          & F & 10107 & 13/06/1956 & Senior Staff       & 93159 & 29/03/2002 & 01/01/9999\\\\\n",
       "\t Cristinel  & Bouloucos     & F & 10017 & 06/07/1958 & Senior Staff       & 71380 & 01/08/2002 & 01/01/9999\\\\\n",
       "\t Xinglin    & Eugenio       & F & 10087 & 23/07/1959 & Staff              & 96750 & 07/05/2000 & 09/01/2001\\\\\n",
       "\t Alejandro  & McAlpine      & F & 10059 & 19/09/1953 & Senior Staff       & 71218 & 23/06/2002 & 01/01/9999\\\\\n",
       "\t Tommaso    & Narwekar      & F & 10187 & 26/05/1961 & Senior Staff       & 71454 & 29/05/2002 & 01/01/9999\\\\\n",
       "\t Zhenbing   & Perng         & F & 10150 & 29/01/1955 & Engineer           & 70122 & 12/11/2001 & 01/01/9999\\\\\n",
       "\t Xiadong    & Perry         & F & 10149 & 20/05/1953 & Staff              & 88740 & 28/01/1996 & 27/08/1996\\\\\n",
       "\t Suzette    & Pettey        & F & 10024 & 05/09/1958 & Assistant Engineer & 83733 & 13/06/2002 & 01/01/9999\\\\\n",
       "\t Duangkaew  & Piveteau      & F & 10010 & 01/06/1963 & Engineer           & 72488 & 23/11/2001 & 01/01/9999\\\\\n",
       "\t Sampalli   & Snedden       & F & 10169 & 03/05/1961 & Engineer           & 70303 & 27/06/2002 & 01/01/9999\\\\\n",
       "\t Magy       & Stamatiou     & F & 10042 & 26/02/1956 & Senior Staff       & 81662 & 19/03/2000 & 10/08/2000\\\\\n",
       "\t Breannda   & Billingsley   & M & 10060 & 15/10/1961 & Senior Staff       & 74686 & 25/05/2002 & 01/01/9999\\\\\n",
       "\t Charlene   & Brattka       & M & 10068 & 26/11/1962 & Senior Staff       & 87964 & 03/08/2001 & 01/01/9999\\\\\n",
       "\t Kazuhito   & Cappelletti   & M & 10016 & 02/05/1961 & Staff              & 70889 & 10/02/2002 & 01/01/9999\\\\\n",
       "\t Yinghua    & Dredge        & M & 10050 & 21/05/1958 & Senior Staff       & 74366 & 22/12/2001 & 01/01/9999\\\\\n",
       "\t Georgy     & Dredge        & M & 10055 & 06/06/1956 & Staff              & 80024 & 27/04/1995 & 22/07/1995\\\\\n",
       "\t Somnath    & Foote         & M & 10086 & 19/11/1962 & Senior Staff       & 81613 & 16/02/2002 & 01/01/9999\\\\\n",
       "\t Marc       & Hellwagner    & M & 10196 & 27/01/1954 & Staff              & 86671 & 30/01/2002 & 01/01/9999\\\\\n",
       "\t Debatosh   & Khasidashvili & M & 10160 & 18/10/1953 & Senior Staff       & 91622 & 04/12/2001 & 01/01/9999\\\\\n",
       "\t Itzchak    & Lichtner      & M & 10151 & 06/03/1959 & Senior Staff       & 90741 & 10/12/2001 & 01/01/9999\\\\\n",
       "\t Shrikanth  & Mahmud        & M & 10173 & 28/10/1962 & Senior Staff       & 85757 & 19/03/2002 & 01/01/9999\\\\\n",
       "\t Kyoichi    & Maliniak      & M & 10005 & 21/01/1955 & Senior Staff       & 78228 & 09/09/2001 & 01/01/9999\\\\\n",
       "\t Zissis     & Pintelas      & M & 10136 & 14/09/1961 & Senior Staff       & 82420 & 11/06/1999 & 20/09/1999\\\\\n",
       "\t Hinrich    & Randi         & M & 10123 & 12/05/1962 & Assistant Engineer & 71524 & 13/01/2002 & 01/01/9999\\\\\n",
       "\\end{tabular}\n"
      ],
      "text/markdown": [
       "\n",
       "A tibble: 25 × 9\n",
       "\n",
       "| first_name &lt;fct&gt; | last_name &lt;fct&gt; | gender &lt;fct&gt; | emp_no &lt;int&gt; | birth_date &lt;fct&gt; | title &lt;fct&gt; | salary &lt;int&gt; | latest_start_date &lt;fct&gt; | end_of_contract_date &lt;fct&gt; |\n",
       "|---|---|---|---|---|---|---|---|---|\n",
       "| Aleksandar | Ananiadou     | F | 10175 | 11/01/1960 | Staff              | 72285 | 23/09/1994 | 24/05/1995 |\n",
       "| Dung       | Baca          | F | 10107 | 13/06/1956 | Senior Staff       | 93159 | 29/03/2002 | 01/01/9999 |\n",
       "| Cristinel  | Bouloucos     | F | 10017 | 06/07/1958 | Senior Staff       | 71380 | 01/08/2002 | 01/01/9999 |\n",
       "| Xinglin    | Eugenio       | F | 10087 | 23/07/1959 | Staff              | 96750 | 07/05/2000 | 09/01/2001 |\n",
       "| Alejandro  | McAlpine      | F | 10059 | 19/09/1953 | Senior Staff       | 71218 | 23/06/2002 | 01/01/9999 |\n",
       "| Tommaso    | Narwekar      | F | 10187 | 26/05/1961 | Senior Staff       | 71454 | 29/05/2002 | 01/01/9999 |\n",
       "| Zhenbing   | Perng         | F | 10150 | 29/01/1955 | Engineer           | 70122 | 12/11/2001 | 01/01/9999 |\n",
       "| Xiadong    | Perry         | F | 10149 | 20/05/1953 | Staff              | 88740 | 28/01/1996 | 27/08/1996 |\n",
       "| Suzette    | Pettey        | F | 10024 | 05/09/1958 | Assistant Engineer | 83733 | 13/06/2002 | 01/01/9999 |\n",
       "| Duangkaew  | Piveteau      | F | 10010 | 01/06/1963 | Engineer           | 72488 | 23/11/2001 | 01/01/9999 |\n",
       "| Sampalli   | Snedden       | F | 10169 | 03/05/1961 | Engineer           | 70303 | 27/06/2002 | 01/01/9999 |\n",
       "| Magy       | Stamatiou     | F | 10042 | 26/02/1956 | Senior Staff       | 81662 | 19/03/2000 | 10/08/2000 |\n",
       "| Breannda   | Billingsley   | M | 10060 | 15/10/1961 | Senior Staff       | 74686 | 25/05/2002 | 01/01/9999 |\n",
       "| Charlene   | Brattka       | M | 10068 | 26/11/1962 | Senior Staff       | 87964 | 03/08/2001 | 01/01/9999 |\n",
       "| Kazuhito   | Cappelletti   | M | 10016 | 02/05/1961 | Staff              | 70889 | 10/02/2002 | 01/01/9999 |\n",
       "| Yinghua    | Dredge        | M | 10050 | 21/05/1958 | Senior Staff       | 74366 | 22/12/2001 | 01/01/9999 |\n",
       "| Georgy     | Dredge        | M | 10055 | 06/06/1956 | Staff              | 80024 | 27/04/1995 | 22/07/1995 |\n",
       "| Somnath    | Foote         | M | 10086 | 19/11/1962 | Senior Staff       | 81613 | 16/02/2002 | 01/01/9999 |\n",
       "| Marc       | Hellwagner    | M | 10196 | 27/01/1954 | Staff              | 86671 | 30/01/2002 | 01/01/9999 |\n",
       "| Debatosh   | Khasidashvili | M | 10160 | 18/10/1953 | Senior Staff       | 91622 | 04/12/2001 | 01/01/9999 |\n",
       "| Itzchak    | Lichtner      | M | 10151 | 06/03/1959 | Senior Staff       | 90741 | 10/12/2001 | 01/01/9999 |\n",
       "| Shrikanth  | Mahmud        | M | 10173 | 28/10/1962 | Senior Staff       | 85757 | 19/03/2002 | 01/01/9999 |\n",
       "| Kyoichi    | Maliniak      | M | 10005 | 21/01/1955 | Senior Staff       | 78228 | 09/09/2001 | 01/01/9999 |\n",
       "| Zissis     | Pintelas      | M | 10136 | 14/09/1961 | Senior Staff       | 82420 | 11/06/1999 | 20/09/1999 |\n",
       "| Hinrich    | Randi         | M | 10123 | 12/05/1962 | Assistant Engineer | 71524 | 13/01/2002 | 01/01/9999 |\n",
       "\n"
      ],
      "text/plain": [
       "   first_name last_name     gender emp_no birth_date title              salary\n",
       "1  Aleksandar Ananiadou     F      10175  11/01/1960 Staff              72285 \n",
       "2  Dung       Baca          F      10107  13/06/1956 Senior Staff       93159 \n",
       "3  Cristinel  Bouloucos     F      10017  06/07/1958 Senior Staff       71380 \n",
       "4  Xinglin    Eugenio       F      10087  23/07/1959 Staff              96750 \n",
       "5  Alejandro  McAlpine      F      10059  19/09/1953 Senior Staff       71218 \n",
       "6  Tommaso    Narwekar      F      10187  26/05/1961 Senior Staff       71454 \n",
       "7  Zhenbing   Perng         F      10150  29/01/1955 Engineer           70122 \n",
       "8  Xiadong    Perry         F      10149  20/05/1953 Staff              88740 \n",
       "9  Suzette    Pettey        F      10024  05/09/1958 Assistant Engineer 83733 \n",
       "10 Duangkaew  Piveteau      F      10010  01/06/1963 Engineer           72488 \n",
       "11 Sampalli   Snedden       F      10169  03/05/1961 Engineer           70303 \n",
       "12 Magy       Stamatiou     F      10042  26/02/1956 Senior Staff       81662 \n",
       "13 Breannda   Billingsley   M      10060  15/10/1961 Senior Staff       74686 \n",
       "14 Charlene   Brattka       M      10068  26/11/1962 Senior Staff       87964 \n",
       "15 Kazuhito   Cappelletti   M      10016  02/05/1961 Staff              70889 \n",
       "16 Yinghua    Dredge        M      10050  21/05/1958 Senior Staff       74366 \n",
       "17 Georgy     Dredge        M      10055  06/06/1956 Staff              80024 \n",
       "18 Somnath    Foote         M      10086  19/11/1962 Senior Staff       81613 \n",
       "19 Marc       Hellwagner    M      10196  27/01/1954 Staff              86671 \n",
       "20 Debatosh   Khasidashvili M      10160  18/10/1953 Senior Staff       91622 \n",
       "21 Itzchak    Lichtner      M      10151  06/03/1959 Senior Staff       90741 \n",
       "22 Shrikanth  Mahmud        M      10173  28/10/1962 Senior Staff       85757 \n",
       "23 Kyoichi    Maliniak      M      10005  21/01/1955 Senior Staff       78228 \n",
       "24 Zissis     Pintelas      M      10136  14/09/1961 Senior Staff       82420 \n",
       "25 Hinrich    Randi         M      10123  12/05/1962 Assistant Engineer 71524 \n",
       "   latest_start_date end_of_contract_date\n",
       "1  23/09/1994        24/05/1995          \n",
       "2  29/03/2002        01/01/9999          \n",
       "3  01/08/2002        01/01/9999          \n",
       "4  07/05/2000        09/01/2001          \n",
       "5  23/06/2002        01/01/9999          \n",
       "6  29/05/2002        01/01/9999          \n",
       "7  12/11/2001        01/01/9999          \n",
       "8  28/01/1996        27/08/1996          \n",
       "9  13/06/2002        01/01/9999          \n",
       "10 23/11/2001        01/01/9999          \n",
       "11 27/06/2002        01/01/9999          \n",
       "12 19/03/2000        10/08/2000          \n",
       "13 25/05/2002        01/01/9999          \n",
       "14 03/08/2001        01/01/9999          \n",
       "15 10/02/2002        01/01/9999          \n",
       "16 22/12/2001        01/01/9999          \n",
       "17 27/04/1995        22/07/1995          \n",
       "18 16/02/2002        01/01/9999          \n",
       "19 30/01/2002        01/01/9999          \n",
       "20 04/12/2001        01/01/9999          \n",
       "21 10/12/2001        01/01/9999          \n",
       "22 19/03/2002        01/01/9999          \n",
       "23 09/09/2001        01/01/9999          \n",
       "24 11/06/1999        20/09/1999          \n",
       "25 13/01/2002        01/01/9999          "
      ]
     },
     "metadata": {},
     "output_type": "display_data"
    }
   ],
   "source": [
    "arr.data"
   ]
  },
  {
   "cell_type": "code",
   "execution_count": 85,
   "metadata": {},
   "outputs": [],
   "source": [
    "salary.em.data <- subset(arr.data,salary>70000)"
   ]
  },
  {
   "cell_type": "code",
   "execution_count": 103,
   "metadata": {},
   "outputs": [
    {
     "data": {
      "text/html": [
       "<table>\n",
       "<caption>A tibble: 6 × 9</caption>\n",
       "<thead>\n",
       "\t<tr><th scope=col>first_name</th><th scope=col>last_name</th><th scope=col>gender</th><th scope=col>emp_no</th><th scope=col>birth_date</th><th scope=col>title</th><th scope=col>salary</th><th scope=col>latest_start_date</th><th scope=col>end_of_contract_date</th></tr>\n",
       "\t<tr><th scope=col>&lt;fct&gt;</th><th scope=col>&lt;fct&gt;</th><th scope=col>&lt;fct&gt;</th><th scope=col>&lt;int&gt;</th><th scope=col>&lt;fct&gt;</th><th scope=col>&lt;fct&gt;</th><th scope=col>&lt;int&gt;</th><th scope=col>&lt;fct&gt;</th><th scope=col>&lt;fct&gt;</th></tr>\n",
       "</thead>\n",
       "<tbody>\n",
       "\t<tr><td>Aleksandar</td><td>Ananiadou</td><td>F</td><td>10175</td><td>11/01/1960</td><td>Staff       </td><td>72285</td><td>23/09/1994</td><td>24/05/1995</td></tr>\n",
       "\t<tr><td>Dung      </td><td>Baca     </td><td>F</td><td>10107</td><td>13/06/1956</td><td>Senior Staff</td><td>93159</td><td>29/03/2002</td><td>01/01/9999</td></tr>\n",
       "\t<tr><td>Cristinel </td><td>Bouloucos</td><td>F</td><td>10017</td><td>06/07/1958</td><td>Senior Staff</td><td>71380</td><td>01/08/2002</td><td>01/01/9999</td></tr>\n",
       "\t<tr><td>Xinglin   </td><td>Eugenio  </td><td>F</td><td>10087</td><td>23/07/1959</td><td>Staff       </td><td>96750</td><td>07/05/2000</td><td>09/01/2001</td></tr>\n",
       "\t<tr><td>Alejandro </td><td>McAlpine </td><td>F</td><td>10059</td><td>19/09/1953</td><td>Senior Staff</td><td>71218</td><td>23/06/2002</td><td>01/01/9999</td></tr>\n",
       "\t<tr><td>Tommaso   </td><td>Narwekar </td><td>F</td><td>10187</td><td>26/05/1961</td><td>Senior Staff</td><td>71454</td><td>29/05/2002</td><td>01/01/9999</td></tr>\n",
       "</tbody>\n",
       "</table>\n"
      ],
      "text/latex": [
       "A tibble: 6 × 9\n",
       "\\begin{tabular}{r|lllllllll}\n",
       " first\\_name & last\\_name & gender & emp\\_no & birth\\_date & title & salary & latest\\_start\\_date & end\\_of\\_contract\\_date\\\\\n",
       " <fct> & <fct> & <fct> & <int> & <fct> & <fct> & <int> & <fct> & <fct>\\\\\n",
       "\\hline\n",
       "\t Aleksandar & Ananiadou & F & 10175 & 11/01/1960 & Staff        & 72285 & 23/09/1994 & 24/05/1995\\\\\n",
       "\t Dung       & Baca      & F & 10107 & 13/06/1956 & Senior Staff & 93159 & 29/03/2002 & 01/01/9999\\\\\n",
       "\t Cristinel  & Bouloucos & F & 10017 & 06/07/1958 & Senior Staff & 71380 & 01/08/2002 & 01/01/9999\\\\\n",
       "\t Xinglin    & Eugenio   & F & 10087 & 23/07/1959 & Staff        & 96750 & 07/05/2000 & 09/01/2001\\\\\n",
       "\t Alejandro  & McAlpine  & F & 10059 & 19/09/1953 & Senior Staff & 71218 & 23/06/2002 & 01/01/9999\\\\\n",
       "\t Tommaso    & Narwekar  & F & 10187 & 26/05/1961 & Senior Staff & 71454 & 29/05/2002 & 01/01/9999\\\\\n",
       "\\end{tabular}\n"
      ],
      "text/markdown": [
       "\n",
       "A tibble: 6 × 9\n",
       "\n",
       "| first_name &lt;fct&gt; | last_name &lt;fct&gt; | gender &lt;fct&gt; | emp_no &lt;int&gt; | birth_date &lt;fct&gt; | title &lt;fct&gt; | salary &lt;int&gt; | latest_start_date &lt;fct&gt; | end_of_contract_date &lt;fct&gt; |\n",
       "|---|---|---|---|---|---|---|---|---|\n",
       "| Aleksandar | Ananiadou | F | 10175 | 11/01/1960 | Staff        | 72285 | 23/09/1994 | 24/05/1995 |\n",
       "| Dung       | Baca      | F | 10107 | 13/06/1956 | Senior Staff | 93159 | 29/03/2002 | 01/01/9999 |\n",
       "| Cristinel  | Bouloucos | F | 10017 | 06/07/1958 | Senior Staff | 71380 | 01/08/2002 | 01/01/9999 |\n",
       "| Xinglin    | Eugenio   | F | 10087 | 23/07/1959 | Staff        | 96750 | 07/05/2000 | 09/01/2001 |\n",
       "| Alejandro  | McAlpine  | F | 10059 | 19/09/1953 | Senior Staff | 71218 | 23/06/2002 | 01/01/9999 |\n",
       "| Tommaso    | Narwekar  | F | 10187 | 26/05/1961 | Senior Staff | 71454 | 29/05/2002 | 01/01/9999 |\n",
       "\n"
      ],
      "text/plain": [
       "  first_name last_name gender emp_no birth_date title        salary\n",
       "1 Aleksandar Ananiadou F      10175  11/01/1960 Staff        72285 \n",
       "2 Dung       Baca      F      10107  13/06/1956 Senior Staff 93159 \n",
       "3 Cristinel  Bouloucos F      10017  06/07/1958 Senior Staff 71380 \n",
       "4 Xinglin    Eugenio   F      10087  23/07/1959 Staff        96750 \n",
       "5 Alejandro  McAlpine  F      10059  19/09/1953 Senior Staff 71218 \n",
       "6 Tommaso    Narwekar  F      10187  26/05/1961 Senior Staff 71454 \n",
       "  latest_start_date end_of_contract_date\n",
       "1 23/09/1994        24/05/1995          \n",
       "2 29/03/2002        01/01/9999          \n",
       "3 01/08/2002        01/01/9999          \n",
       "4 07/05/2000        09/01/2001          \n",
       "5 23/06/2002        01/01/9999          \n",
       "6 29/05/2002        01/01/9999          "
      ]
     },
     "metadata": {},
     "output_type": "display_data"
    }
   ],
   "source": [
    "head(salary.em.data)"
   ]
  },
  {
   "cell_type": "code",
   "execution_count": 15,
   "metadata": {},
   "outputs": [],
   "source": [
    "#Find out how much each position (title) earns on average by gender; create a new variable that represents the average monthly figures and \n",
    "#arrange your result by gender and average monthly salary, from largest to smallest.\n",
    "\n",
    "\n",
    "summ.data <- arr.data %>%\n",
    "group_by(title,gender)%>%\n",
    "summarise(avg.salary = mean(salary , na.rm = TRUE)) %>%\n",
    "mutate(avg.mon.sal = avg.salary/12)%>%\n",
    "arrange(gender,desc(avg.mon.sal))"
   ]
  },
  {
   "cell_type": "code",
   "execution_count": 110,
   "metadata": {},
   "outputs": [
    {
     "data": {
      "text/html": [
       "<table>\n",
       "<caption>A grouped_df: 7 × 4</caption>\n",
       "<thead>\n",
       "\t<tr><th scope=col>title</th><th scope=col>gender</th><th scope=col>avg.salary</th><th scope=col>avg.mon.sal</th></tr>\n",
       "\t<tr><th scope=col>&lt;fct&gt;</th><th scope=col>&lt;fct&gt;</th><th scope=col>&lt;dbl&gt;</th><th scope=col>&lt;dbl&gt;</th></tr>\n",
       "</thead>\n",
       "<tbody>\n",
       "\t<tr><td>Staff             </td><td>F</td><td>85925.00</td><td>7160.417</td></tr>\n",
       "\t<tr><td>Assistant Engineer</td><td>F</td><td>83733.00</td><td>6977.750</td></tr>\n",
       "\t<tr><td>Senior Staff      </td><td>F</td><td>77774.60</td><td>6481.217</td></tr>\n",
       "\t<tr><td>Engineer          </td><td>F</td><td>70971.00</td><td>5914.250</td></tr>\n",
       "\t<tr><td>Senior Staff      </td><td>M</td><td>83044.11</td><td>6920.343</td></tr>\n",
       "\t<tr><td>Staff             </td><td>M</td><td>79194.67</td><td>6599.556</td></tr>\n",
       "\t<tr><td>Assistant Engineer</td><td>M</td><td>71524.00</td><td>5960.333</td></tr>\n",
       "</tbody>\n",
       "</table>\n"
      ],
      "text/latex": [
       "A grouped_df: 7 × 4\n",
       "\\begin{tabular}{r|llll}\n",
       " title & gender & avg.salary & avg.mon.sal\\\\\n",
       " <fct> & <fct> & <dbl> & <dbl>\\\\\n",
       "\\hline\n",
       "\t Staff              & F & 85925.00 & 7160.417\\\\\n",
       "\t Assistant Engineer & F & 83733.00 & 6977.750\\\\\n",
       "\t Senior Staff       & F & 77774.60 & 6481.217\\\\\n",
       "\t Engineer           & F & 70971.00 & 5914.250\\\\\n",
       "\t Senior Staff       & M & 83044.11 & 6920.343\\\\\n",
       "\t Staff              & M & 79194.67 & 6599.556\\\\\n",
       "\t Assistant Engineer & M & 71524.00 & 5960.333\\\\\n",
       "\\end{tabular}\n"
      ],
      "text/markdown": [
       "\n",
       "A grouped_df: 7 × 4\n",
       "\n",
       "| title &lt;fct&gt; | gender &lt;fct&gt; | avg.salary &lt;dbl&gt; | avg.mon.sal &lt;dbl&gt; |\n",
       "|---|---|---|---|\n",
       "| Staff              | F | 85925.00 | 7160.417 |\n",
       "| Assistant Engineer | F | 83733.00 | 6977.750 |\n",
       "| Senior Staff       | F | 77774.60 | 6481.217 |\n",
       "| Engineer           | F | 70971.00 | 5914.250 |\n",
       "| Senior Staff       | M | 83044.11 | 6920.343 |\n",
       "| Staff              | M | 79194.67 | 6599.556 |\n",
       "| Assistant Engineer | M | 71524.00 | 5960.333 |\n",
       "\n"
      ],
      "text/plain": [
       "  title              gender avg.salary avg.mon.sal\n",
       "1 Staff              F      85925.00   7160.417   \n",
       "2 Assistant Engineer F      83733.00   6977.750   \n",
       "3 Senior Staff       F      77774.60   6481.217   \n",
       "4 Engineer           F      70971.00   5914.250   \n",
       "5 Senior Staff       M      83044.11   6920.343   \n",
       "6 Staff              M      79194.67   6599.556   \n",
       "7 Assistant Engineer M      71524.00   5960.333   "
      ]
     },
     "metadata": {},
     "output_type": "display_data"
    }
   ],
   "source": [
    "summ.data"
   ]
  },
  {
   "cell_type": "code",
   "execution_count": 1,
   "metadata": {},
   "outputs": [],
   "source": [
    "vb <- c(1,2,3,4)"
   ]
  },
  {
   "cell_type": "code",
   "execution_count": 4,
   "metadata": {},
   "outputs": [],
   "source": [
    "vb <- append(vb,'july')"
   ]
  },
  {
   "cell_type": "code",
   "execution_count": 5,
   "metadata": {},
   "outputs": [
    {
     "data": {
      "text/html": [
       "<ol class=list-inline>\n",
       "\t<li>'1'</li>\n",
       "\t<li>'2'</li>\n",
       "\t<li>'3'</li>\n",
       "\t<li>'4'</li>\n",
       "\t<li>'july'</li>\n",
       "</ol>\n"
      ],
      "text/latex": [
       "\\begin{enumerate*}\n",
       "\\item '1'\n",
       "\\item '2'\n",
       "\\item '3'\n",
       "\\item '4'\n",
       "\\item 'july'\n",
       "\\end{enumerate*}\n"
      ],
      "text/markdown": [
       "1. '1'\n",
       "2. '2'\n",
       "3. '3'\n",
       "4. '4'\n",
       "5. 'july'\n",
       "\n",
       "\n"
      ],
      "text/plain": [
       "[1] \"1\"    \"2\"    \"3\"    \"4\"    \"july\""
      ]
     },
     "metadata": {},
     "output_type": "display_data"
    }
   ],
   "source": [
    "vb"
   ]
  },
  {
   "cell_type": "code",
   "execution_count": 20,
   "metadata": {},
   "outputs": [],
   "source": [
    "#Find out how much each position (title) earns on average by gender; create a new variable \n",
    "#that represents the average monthly figures and \n",
    "#arrange your result by gender and average monthly salary, from largest to smallest.\n",
    "\n",
    "posi.salary <- arr.data %>%\n",
    "group_by(title , gender)%>%\n",
    "summarise(avg.salary = mean(salary , na.rm = TRUE))%>%\n",
    "mutate(month.salary = avg.salary/12)%>%\n",
    "arrange(gender)"
   ]
  },
  {
   "cell_type": "code",
   "execution_count": 16,
   "metadata": {},
   "outputs": [
    {
     "data": {
      "text/html": [
       "<table>\n",
       "<caption>A data.frame: 6 × 9</caption>\n",
       "<thead>\n",
       "\t<tr><th scope=col>emp_no</th><th scope=col>first_name</th><th scope=col>last_name</th><th scope=col>birth_date</th><th scope=col>gender</th><th scope=col>title</th><th scope=col>salary</th><th scope=col>latest_start_date</th><th scope=col>end_of_contract_date</th></tr>\n",
       "\t<tr><th scope=col>&lt;int&gt;</th><th scope=col>&lt;fct&gt;</th><th scope=col>&lt;fct&gt;</th><th scope=col>&lt;fct&gt;</th><th scope=col>&lt;fct&gt;</th><th scope=col>&lt;fct&gt;</th><th scope=col>&lt;int&gt;</th><th scope=col>&lt;fct&gt;</th><th scope=col>&lt;fct&gt;</th></tr>\n",
       "</thead>\n",
       "<tbody>\n",
       "\t<tr><td>10001</td><td>Georgi   </td><td>Facello </td><td>02/09/1953</td><td>M</td><td>Senior Engineer</td><td>60117</td><td>22/06/2010</td><td>01/01/9999</td></tr>\n",
       "\t<tr><td>10002</td><td>Bezalel  </td><td>Simmel  </td><td>02/06/1964</td><td>F</td><td>Staff          </td><td>65828</td><td>02/08/2001</td><td>01/01/9999</td></tr>\n",
       "\t<tr><td>10003</td><td>Parto    </td><td>Bamford </td><td>03/12/1959</td><td>M</td><td>Senior Engineer</td><td>40006</td><td>01/12/2001</td><td>01/01/9999</td></tr>\n",
       "\t<tr><td>10004</td><td>Chirstian</td><td>Koblick </td><td>01/05/1954</td><td>M</td><td>Engineer       </td><td>40054</td><td>27/11/2001</td><td>01/01/9999</td></tr>\n",
       "\t<tr><td>10005</td><td>Kyoichi  </td><td>Maliniak</td><td>21/01/1955</td><td>M</td><td>Senior Staff   </td><td>78228</td><td>09/09/2001</td><td>01/01/9999</td></tr>\n",
       "\t<tr><td>10006</td><td>Anneke   </td><td>Preusig </td><td>20/04/1953</td><td>F</td><td>Senior Engineer</td><td>40000</td><td>02/08/2001</td><td>01/01/9999</td></tr>\n",
       "</tbody>\n",
       "</table>\n"
      ],
      "text/latex": [
       "A data.frame: 6 × 9\n",
       "\\begin{tabular}{r|lllllllll}\n",
       " emp\\_no & first\\_name & last\\_name & birth\\_date & gender & title & salary & latest\\_start\\_date & end\\_of\\_contract\\_date\\\\\n",
       " <int> & <fct> & <fct> & <fct> & <fct> & <fct> & <int> & <fct> & <fct>\\\\\n",
       "\\hline\n",
       "\t 10001 & Georgi    & Facello  & 02/09/1953 & M & Senior Engineer & 60117 & 22/06/2010 & 01/01/9999\\\\\n",
       "\t 10002 & Bezalel   & Simmel   & 02/06/1964 & F & Staff           & 65828 & 02/08/2001 & 01/01/9999\\\\\n",
       "\t 10003 & Parto     & Bamford  & 03/12/1959 & M & Senior Engineer & 40006 & 01/12/2001 & 01/01/9999\\\\\n",
       "\t 10004 & Chirstian & Koblick  & 01/05/1954 & M & Engineer        & 40054 & 27/11/2001 & 01/01/9999\\\\\n",
       "\t 10005 & Kyoichi   & Maliniak & 21/01/1955 & M & Senior Staff    & 78228 & 09/09/2001 & 01/01/9999\\\\\n",
       "\t 10006 & Anneke    & Preusig  & 20/04/1953 & F & Senior Engineer & 40000 & 02/08/2001 & 01/01/9999\\\\\n",
       "\\end{tabular}\n"
      ],
      "text/markdown": [
       "\n",
       "A data.frame: 6 × 9\n",
       "\n",
       "| emp_no &lt;int&gt; | first_name &lt;fct&gt; | last_name &lt;fct&gt; | birth_date &lt;fct&gt; | gender &lt;fct&gt; | title &lt;fct&gt; | salary &lt;int&gt; | latest_start_date &lt;fct&gt; | end_of_contract_date &lt;fct&gt; |\n",
       "|---|---|---|---|---|---|---|---|---|\n",
       "| 10001 | Georgi    | Facello  | 02/09/1953 | M | Senior Engineer | 60117 | 22/06/2010 | 01/01/9999 |\n",
       "| 10002 | Bezalel   | Simmel   | 02/06/1964 | F | Staff           | 65828 | 02/08/2001 | 01/01/9999 |\n",
       "| 10003 | Parto     | Bamford  | 03/12/1959 | M | Senior Engineer | 40006 | 01/12/2001 | 01/01/9999 |\n",
       "| 10004 | Chirstian | Koblick  | 01/05/1954 | M | Engineer        | 40054 | 27/11/2001 | 01/01/9999 |\n",
       "| 10005 | Kyoichi   | Maliniak | 21/01/1955 | M | Senior Staff    | 78228 | 09/09/2001 | 01/01/9999 |\n",
       "| 10006 | Anneke    | Preusig  | 20/04/1953 | F | Senior Engineer | 40000 | 02/08/2001 | 01/01/9999 |\n",
       "\n"
      ],
      "text/plain": [
       "  emp_no first_name last_name birth_date gender title           salary\n",
       "1 10001  Georgi     Facello   02/09/1953 M      Senior Engineer 60117 \n",
       "2 10002  Bezalel    Simmel    02/06/1964 F      Staff           65828 \n",
       "3 10003  Parto      Bamford   03/12/1959 M      Senior Engineer 40006 \n",
       "4 10004  Chirstian  Koblick   01/05/1954 M      Engineer        40054 \n",
       "5 10005  Kyoichi    Maliniak  21/01/1955 M      Senior Staff    78228 \n",
       "6 10006  Anneke     Preusig   20/04/1953 F      Senior Engineer 40000 \n",
       "  latest_start_date end_of_contract_date\n",
       "1 22/06/2010        01/01/9999          \n",
       "2 02/08/2001        01/01/9999          \n",
       "3 01/12/2001        01/01/9999          \n",
       "4 27/11/2001        01/01/9999          \n",
       "5 09/09/2001        01/01/9999          \n",
       "6 02/08/2001        01/01/9999          "
      ]
     },
     "metadata": {},
     "output_type": "display_data"
    }
   ],
   "source": [
    "main.data <- read.csv(file = '/Users/sahilnagpal/Downloads/employee-data.csv',sep = ',',nrows = 200,skip = 23)\n",
    "head(main.data)"
   ]
  },
  {
   "cell_type": "code",
   "execution_count": 17,
   "metadata": {},
   "outputs": [],
   "source": [
    "main.data <- as_tibble(main.data)"
   ]
  },
  {
   "cell_type": "code",
   "execution_count": 18,
   "metadata": {},
   "outputs": [
    {
     "name": "stdout",
     "output_type": "stream",
     "text": [
      "Classes ‘tbl_df’, ‘tbl’ and 'data.frame':\t200 obs. of  9 variables:\n",
      " $ emp_no              : int  10001 10002 10003 10004 10005 10006 10007 10008 10009 10010 ...\n",
      " $ first_name          : Factor w/ 188 levels \"Abdulah\",\"Adamantios\",..: 55 23 126 30 95 9 165 143 159 43 ...\n",
      " $ last_name           : Factor w/ 184 levels \"Aingworth\",\"Aloisi\",..: 47 155 12 81 98 135 181 79 123 132 ...\n",
      " $ birth_date          : Factor w/ 197 levels \"01/04/1958\",\"01/05/1954\",..: 11 10 21 2 130 126 142 115 116 3 ...\n",
      " $ gender              : Factor w/ 2 levels \"F\",\"M\": 2 1 2 2 2 1 1 2 1 1 ...\n",
      " $ title               : Factor w/ 6 levels \"Assistant Engineer\",..: 3 5 3 2 4 3 4 1 1 2 ...\n",
      " $ salary              : int  60117 65828 40006 40054 78228 40000 56724 46671 60929 72488 ...\n",
      " $ latest_start_date   : Factor w/ 171 levels \"01/01/1989\",\"01/01/2002\",..: 120 12 6 150 38 12 31 42 73 128 ...\n",
      " $ end_of_contract_date: Factor w/ 40 levels \"01/01/9999\",\"01/11/1998\",..: 1 1 1 1 1 1 1 39 1 1 ...\n"
     ]
    }
   ],
   "source": [
    "str(main.data)"
   ]
  },
  {
   "cell_type": "code",
   "execution_count": 19,
   "metadata": {},
   "outputs": [],
   "source": [
    "main.data$gender <- as.factor(main.data$gender)"
   ]
  },
  {
   "cell_type": "code",
   "execution_count": 20,
   "metadata": {},
   "outputs": [
    {
     "name": "stdout",
     "output_type": "stream",
     "text": [
      "Classes ‘tbl_df’, ‘tbl’ and 'data.frame':\t200 obs. of  9 variables:\n",
      " $ emp_no              : int  10001 10002 10003 10004 10005 10006 10007 10008 10009 10010 ...\n",
      " $ first_name          : Factor w/ 188 levels \"Abdulah\",\"Adamantios\",..: 55 23 126 30 95 9 165 143 159 43 ...\n",
      " $ last_name           : Factor w/ 184 levels \"Aingworth\",\"Aloisi\",..: 47 155 12 81 98 135 181 79 123 132 ...\n",
      " $ birth_date          : Factor w/ 197 levels \"01/04/1958\",\"01/05/1954\",..: 11 10 21 2 130 126 142 115 116 3 ...\n",
      " $ gender              : Factor w/ 2 levels \"F\",\"M\": 2 1 2 2 2 1 1 2 1 1 ...\n",
      " $ title               : Factor w/ 6 levels \"Assistant Engineer\",..: 3 5 3 2 4 3 4 1 1 2 ...\n",
      " $ salary              : int  60117 65828 40006 40054 78228 40000 56724 46671 60929 72488 ...\n",
      " $ latest_start_date   : Factor w/ 171 levels \"01/01/1989\",\"01/01/2002\",..: 120 12 6 150 38 12 31 42 73 128 ...\n",
      " $ end_of_contract_date: Factor w/ 40 levels \"01/01/9999\",\"01/11/1998\",..: 1 1 1 1 1 1 1 39 1 1 ...\n"
     ]
    }
   ],
   "source": [
    "str(main.data)"
   ]
  },
  {
   "cell_type": "code",
   "execution_count": 24,
   "metadata": {},
   "outputs": [],
   "source": [
    "stats <- main.data %>%\n",
    "group_by(title,gender) %>%\n",
    "summarise(avg.salary = mean(salary , na.rm = TRUE)) %>%\n",
    "mutate(month.sal <- avg.salary/12 ) %>%\n",
    "arrange(gender)"
   ]
  },
  {
   "cell_type": "code",
   "execution_count": 25,
   "metadata": {},
   "outputs": [
    {
     "data": {
      "text/html": [
       "<table>\n",
       "<caption>A grouped_df: 12 × 4</caption>\n",
       "<thead>\n",
       "\t<tr><th scope=col>title</th><th scope=col>gender</th><th scope=col>avg.salary</th><th scope=col>month.sal &lt;- avg.salary/12</th></tr>\n",
       "\t<tr><th scope=col>&lt;fct&gt;</th><th scope=col>&lt;fct&gt;</th><th scope=col>&lt;dbl&gt;</th><th scope=col>&lt;dbl&gt;</th></tr>\n",
       "</thead>\n",
       "<tbody>\n",
       "\t<tr><td>Assistant Engineer</td><td>F</td><td>63014.00</td><td>5251.167</td></tr>\n",
       "\t<tr><td>Engineer          </td><td>F</td><td>47656.61</td><td>3971.384</td></tr>\n",
       "\t<tr><td>Senior Engineer   </td><td>F</td><td>45535.22</td><td>3794.602</td></tr>\n",
       "\t<tr><td>Senior Staff      </td><td>F</td><td>61934.00</td><td>5161.167</td></tr>\n",
       "\t<tr><td>Staff             </td><td>F</td><td>64478.67</td><td>5373.222</td></tr>\n",
       "\t<tr><td>Technique Leader  </td><td>F</td><td>56014.25</td><td>4667.854</td></tr>\n",
       "\t<tr><td>Assistant Engineer</td><td>M</td><td>56435.40</td><td>4702.950</td></tr>\n",
       "\t<tr><td>Engineer          </td><td>M</td><td>48283.46</td><td>4023.622</td></tr>\n",
       "\t<tr><td>Senior Engineer   </td><td>M</td><td>45194.67</td><td>3766.222</td></tr>\n",
       "\t<tr><td>Senior Staff      </td><td>M</td><td>57005.94</td><td>4750.495</td></tr>\n",
       "\t<tr><td>Staff             </td><td>M</td><td>52714.18</td><td>4392.848</td></tr>\n",
       "\t<tr><td>Technique Leader  </td><td>M</td><td>46553.86</td><td>3879.488</td></tr>\n",
       "</tbody>\n",
       "</table>\n"
      ],
      "text/latex": [
       "A grouped_df: 12 × 4\n",
       "\\begin{tabular}{r|llll}\n",
       " title & gender & avg.salary & month.sal <- avg.salary/12\\\\\n",
       " <fct> & <fct> & <dbl> & <dbl>\\\\\n",
       "\\hline\n",
       "\t Assistant Engineer & F & 63014.00 & 5251.167\\\\\n",
       "\t Engineer           & F & 47656.61 & 3971.384\\\\\n",
       "\t Senior Engineer    & F & 45535.22 & 3794.602\\\\\n",
       "\t Senior Staff       & F & 61934.00 & 5161.167\\\\\n",
       "\t Staff              & F & 64478.67 & 5373.222\\\\\n",
       "\t Technique Leader   & F & 56014.25 & 4667.854\\\\\n",
       "\t Assistant Engineer & M & 56435.40 & 4702.950\\\\\n",
       "\t Engineer           & M & 48283.46 & 4023.622\\\\\n",
       "\t Senior Engineer    & M & 45194.67 & 3766.222\\\\\n",
       "\t Senior Staff       & M & 57005.94 & 4750.495\\\\\n",
       "\t Staff              & M & 52714.18 & 4392.848\\\\\n",
       "\t Technique Leader   & M & 46553.86 & 3879.488\\\\\n",
       "\\end{tabular}\n"
      ],
      "text/markdown": [
       "\n",
       "A grouped_df: 12 × 4\n",
       "\n",
       "| title &lt;fct&gt; | gender &lt;fct&gt; | avg.salary &lt;dbl&gt; | month.sal &lt;- avg.salary/12 &lt;dbl&gt; |\n",
       "|---|---|---|---|\n",
       "| Assistant Engineer | F | 63014.00 | 5251.167 |\n",
       "| Engineer           | F | 47656.61 | 3971.384 |\n",
       "| Senior Engineer    | F | 45535.22 | 3794.602 |\n",
       "| Senior Staff       | F | 61934.00 | 5161.167 |\n",
       "| Staff              | F | 64478.67 | 5373.222 |\n",
       "| Technique Leader   | F | 56014.25 | 4667.854 |\n",
       "| Assistant Engineer | M | 56435.40 | 4702.950 |\n",
       "| Engineer           | M | 48283.46 | 4023.622 |\n",
       "| Senior Engineer    | M | 45194.67 | 3766.222 |\n",
       "| Senior Staff       | M | 57005.94 | 4750.495 |\n",
       "| Staff              | M | 52714.18 | 4392.848 |\n",
       "| Technique Leader   | M | 46553.86 | 3879.488 |\n",
       "\n"
      ],
      "text/plain": [
       "   title              gender avg.salary month.sal <- avg.salary/12\n",
       "1  Assistant Engineer F      63014.00   5251.167                  \n",
       "2  Engineer           F      47656.61   3971.384                  \n",
       "3  Senior Engineer    F      45535.22   3794.602                  \n",
       "4  Senior Staff       F      61934.00   5161.167                  \n",
       "5  Staff              F      64478.67   5373.222                  \n",
       "6  Technique Leader   F      56014.25   4667.854                  \n",
       "7  Assistant Engineer M      56435.40   4702.950                  \n",
       "8  Engineer           M      48283.46   4023.622                  \n",
       "9  Senior Engineer    M      45194.67   3766.222                  \n",
       "10 Senior Staff       M      57005.94   4750.495                  \n",
       "11 Staff              M      52714.18   4392.848                  \n",
       "12 Technique Leader   M      46553.86   3879.488                  "
      ]
     },
     "metadata": {},
     "output_type": "display_data"
    }
   ],
   "source": [
    "stats\n"
   ]
  },
  {
   "cell_type": "markdown",
   "metadata": {},
   "source": [
    "# More Cleaning of Data"
   ]
  },
  {
   "cell_type": "code",
   "execution_count": 52,
   "metadata": {},
   "outputs": [],
   "source": [
    "library(tidyverse)"
   ]
  },
  {
   "cell_type": "code",
   "execution_count": 53,
   "metadata": {},
   "outputs": [],
   "source": [
    "billboard <- read.csv(file  ='/Users/sahilnagpal/Downloads/billboard.csv')"
   ]
  },
  {
   "cell_type": "code",
   "execution_count": 54,
   "metadata": {},
   "outputs": [],
   "source": [
    "billboard <- as.tibble(billboard)"
   ]
  },
  {
   "cell_type": "code",
   "execution_count": 55,
   "metadata": {},
   "outputs": [
    {
     "data": {
      "text/html": [
       "<table>\n",
       "<caption>A tibble: 5307 × 9</caption>\n",
       "<thead>\n",
       "\t<tr><th scope=col>year</th><th scope=col>artist.inverted</th><th scope=col>track</th><th scope=col>time</th><th scope=col>genre</th><th scope=col>date.entered</th><th scope=col>date.peaked</th><th scope=col>week</th><th scope=col>Rank</th></tr>\n",
       "\t<tr><th scope=col>&lt;int&gt;</th><th scope=col>&lt;fct&gt;</th><th scope=col>&lt;fct&gt;</th><th scope=col>&lt;fct&gt;</th><th scope=col>&lt;fct&gt;</th><th scope=col>&lt;fct&gt;</th><th scope=col>&lt;fct&gt;</th><th scope=col>&lt;chr&gt;</th><th scope=col>&lt;int&gt;</th></tr>\n",
       "</thead>\n",
       "<tbody>\n",
       "\t<tr><td>2000</td><td>2 Pac       </td><td>Baby Don't Cry (Keep Ya Head Up II)                         </td><td>4:22</td><td>Rap </td><td>2000-02-26</td><td>2000-03-11</td><td>x1st.week </td><td>87</td></tr>\n",
       "\t<tr><td>2000</td><td>2 Pac       </td><td>Baby Don't Cry (Keep Ya Head Up II)                         </td><td>4:22</td><td>Rap </td><td>2000-02-26</td><td>2000-03-11</td><td>x2nd.week </td><td>82</td></tr>\n",
       "\t<tr><td>2000</td><td>2 Pac       </td><td>Baby Don't Cry (Keep Ya Head Up II)                         </td><td>4:22</td><td>Rap </td><td>2000-02-26</td><td>2000-03-11</td><td>x3rd.week </td><td>72</td></tr>\n",
       "\t<tr><td>2000</td><td>2 Pac       </td><td>Baby Don't Cry (Keep Ya Head Up II)                         </td><td>4:22</td><td>Rap </td><td>2000-02-26</td><td>2000-03-11</td><td>x4th.week </td><td>77</td></tr>\n",
       "\t<tr><td>2000</td><td>2 Pac       </td><td>Baby Don't Cry (Keep Ya Head Up II)                         </td><td>4:22</td><td>Rap </td><td>2000-02-26</td><td>2000-03-11</td><td>x5th.week </td><td>87</td></tr>\n",
       "\t<tr><td>2000</td><td>2 Pac       </td><td>Baby Don't Cry (Keep Ya Head Up II)                         </td><td>4:22</td><td>Rap </td><td>2000-02-26</td><td>2000-03-11</td><td>x6th.week </td><td>94</td></tr>\n",
       "\t<tr><td>2000</td><td>2 Pac       </td><td>Baby Don't Cry (Keep Ya Head Up II)                         </td><td>4:22</td><td>Rap </td><td>2000-02-26</td><td>2000-03-11</td><td>x7th.week </td><td>99</td></tr>\n",
       "\t<tr><td>2000</td><td><span style=white-space:pre-wrap>2Ge+her     </span></td><td>The Hardest Part Of Breaking Up (Is Getting Back Your Stuff)</td><td>3:15</td><td>R&amp;B </td><td>2000-09-02</td><td>2000-09-09</td><td>x1st.week </td><td>91</td></tr>\n",
       "\t<tr><td>2000</td><td><span style=white-space:pre-wrap>2Ge+her     </span></td><td>The Hardest Part Of Breaking Up (Is Getting Back Your Stuff)</td><td>3:15</td><td>R&amp;B </td><td>2000-09-02</td><td>2000-09-09</td><td>x2nd.week </td><td>87</td></tr>\n",
       "\t<tr><td>2000</td><td><span style=white-space:pre-wrap>2Ge+her     </span></td><td>The Hardest Part Of Breaking Up (Is Getting Back Your Stuff)</td><td>3:15</td><td>R&amp;B </td><td>2000-09-02</td><td>2000-09-09</td><td>x3rd.week </td><td>92</td></tr>\n",
       "\t<tr><td>2000</td><td>3 Doors Down</td><td>Kryptonite                                                  </td><td>3:53</td><td>Rock</td><td>2000-04-08</td><td>2000-11-11</td><td>x1st.week </td><td>81</td></tr>\n",
       "\t<tr><td>2000</td><td>3 Doors Down</td><td>Loser                                                       </td><td>4:24</td><td>Rock</td><td>2000-10-21</td><td>2000-12-02</td><td>x1st.week </td><td>76</td></tr>\n",
       "\t<tr><td>2000</td><td>3 Doors Down</td><td>Kryptonite                                                  </td><td>3:53</td><td>Rock</td><td>2000-04-08</td><td>2000-11-11</td><td>x2nd.week </td><td>70</td></tr>\n",
       "\t<tr><td>2000</td><td>3 Doors Down</td><td>Loser                                                       </td><td>4:24</td><td>Rock</td><td>2000-10-21</td><td>2000-12-02</td><td>x2nd.week </td><td>76</td></tr>\n",
       "\t<tr><td>2000</td><td>3 Doors Down</td><td>Kryptonite                                                  </td><td>3:53</td><td>Rock</td><td>2000-04-08</td><td>2000-11-11</td><td>x3rd.week </td><td>68</td></tr>\n",
       "\t<tr><td>2000</td><td>3 Doors Down</td><td>Loser                                                       </td><td>4:24</td><td>Rock</td><td>2000-10-21</td><td>2000-12-02</td><td>x3rd.week </td><td>72</td></tr>\n",
       "\t<tr><td>2000</td><td>3 Doors Down</td><td>Kryptonite                                                  </td><td>3:53</td><td>Rock</td><td>2000-04-08</td><td>2000-11-11</td><td>x4th.week </td><td>67</td></tr>\n",
       "\t<tr><td>2000</td><td>3 Doors Down</td><td>Loser                                                       </td><td>4:24</td><td>Rock</td><td>2000-10-21</td><td>2000-12-02</td><td>x4th.week </td><td>69</td></tr>\n",
       "\t<tr><td>2000</td><td>3 Doors Down</td><td>Kryptonite                                                  </td><td>3:53</td><td>Rock</td><td>2000-04-08</td><td>2000-11-11</td><td>x5th.week </td><td>66</td></tr>\n",
       "\t<tr><td>2000</td><td>3 Doors Down</td><td>Loser                                                       </td><td>4:24</td><td>Rock</td><td>2000-10-21</td><td>2000-12-02</td><td>x5th.week </td><td>67</td></tr>\n",
       "\t<tr><td>2000</td><td>3 Doors Down</td><td>Kryptonite                                                  </td><td>3:53</td><td>Rock</td><td>2000-04-08</td><td>2000-11-11</td><td>x6th.week </td><td>57</td></tr>\n",
       "\t<tr><td>2000</td><td>3 Doors Down</td><td>Loser                                                       </td><td>4:24</td><td>Rock</td><td>2000-10-21</td><td>2000-12-02</td><td>x6th.week </td><td>65</td></tr>\n",
       "\t<tr><td>2000</td><td>3 Doors Down</td><td>Kryptonite                                                  </td><td>3:53</td><td>Rock</td><td>2000-04-08</td><td>2000-11-11</td><td>x7th.week </td><td>54</td></tr>\n",
       "\t<tr><td>2000</td><td>3 Doors Down</td><td>Loser                                                       </td><td>4:24</td><td>Rock</td><td>2000-10-21</td><td>2000-12-02</td><td>x7th.week </td><td>55</td></tr>\n",
       "\t<tr><td>2000</td><td>3 Doors Down</td><td>Kryptonite                                                  </td><td>3:53</td><td>Rock</td><td>2000-04-08</td><td>2000-11-11</td><td>x8th.week </td><td>53</td></tr>\n",
       "\t<tr><td>2000</td><td>3 Doors Down</td><td>Loser                                                       </td><td>4:24</td><td>Rock</td><td>2000-10-21</td><td>2000-12-02</td><td>x8th.week </td><td>59</td></tr>\n",
       "\t<tr><td>2000</td><td>3 Doors Down</td><td>Kryptonite                                                  </td><td>3:53</td><td>Rock</td><td>2000-04-08</td><td>2000-11-11</td><td>x9th.week </td><td>51</td></tr>\n",
       "\t<tr><td>2000</td><td>3 Doors Down</td><td>Loser                                                       </td><td>4:24</td><td>Rock</td><td>2000-10-21</td><td>2000-12-02</td><td>x9th.week </td><td>62</td></tr>\n",
       "\t<tr><td>2000</td><td>3 Doors Down</td><td>Kryptonite                                                  </td><td>3:53</td><td>Rock</td><td>2000-04-08</td><td>2000-11-11</td><td>x10th.week</td><td>51</td></tr>\n",
       "\t<tr><td>2000</td><td>3 Doors Down</td><td>Loser                                                       </td><td>4:24</td><td>Rock</td><td>2000-10-21</td><td>2000-12-02</td><td>x10th.week</td><td>61</td></tr>\n",
       "\t<tr><td>⋮</td><td>⋮</td><td>⋮</td><td>⋮</td><td>⋮</td><td>⋮</td><td>⋮</td><td>⋮</td><td>⋮</td></tr>\n",
       "\t<tr><td>2000</td><td>Yankee Grey     </td><td>Another Nine Minutes   </td><td>3:10</td><td>Country</td><td>2000-04-29</td><td>2000-05-20</td><td>x1st.week </td><td>86</td></tr>\n",
       "\t<tr><td>2000</td><td>Yankee Grey     </td><td>Another Nine Minutes   </td><td>3:10</td><td>Country</td><td>2000-04-29</td><td>2000-05-20</td><td>x2nd.week </td><td>83</td></tr>\n",
       "\t<tr><td>2000</td><td>Yankee Grey     </td><td>Another Nine Minutes   </td><td>3:10</td><td>Country</td><td>2000-04-29</td><td>2000-05-20</td><td>x3rd.week </td><td>77</td></tr>\n",
       "\t<tr><td>2000</td><td>Yankee Grey     </td><td>Another Nine Minutes   </td><td>3:10</td><td>Country</td><td>2000-04-29</td><td>2000-05-20</td><td>x4th.week </td><td>74</td></tr>\n",
       "\t<tr><td>2000</td><td>Yankee Grey     </td><td>Another Nine Minutes   </td><td>3:10</td><td>Country</td><td>2000-04-29</td><td>2000-05-20</td><td>x5th.week </td><td>83</td></tr>\n",
       "\t<tr><td>2000</td><td>Yankee Grey     </td><td>Another Nine Minutes   </td><td>3:10</td><td>Country</td><td>2000-04-29</td><td>2000-05-20</td><td>x6th.week </td><td>79</td></tr>\n",
       "\t<tr><td>2000</td><td>Yankee Grey     </td><td>Another Nine Minutes   </td><td>3:10</td><td>Country</td><td>2000-04-29</td><td>2000-05-20</td><td>x7th.week </td><td>88</td></tr>\n",
       "\t<tr><td>2000</td><td>Yankee Grey     </td><td>Another Nine Minutes   </td><td>3:10</td><td>Country</td><td>2000-04-29</td><td>2000-05-20</td><td>x8th.week </td><td>95</td></tr>\n",
       "\t<tr><td>2000</td><td>Yearwood, Trisha</td><td>Real Live Woman        </td><td>3:55</td><td>Country</td><td>2000-04-01</td><td>2000-04-29</td><td>x1st.week </td><td>85</td></tr>\n",
       "\t<tr><td>2000</td><td>Yearwood, Trisha</td><td>Real Live Woman        </td><td>3:55</td><td>Country</td><td>2000-04-01</td><td>2000-04-29</td><td>x2nd.week </td><td>83</td></tr>\n",
       "\t<tr><td>2000</td><td>Yearwood, Trisha</td><td>Real Live Woman        </td><td>3:55</td><td>Country</td><td>2000-04-01</td><td>2000-04-29</td><td>x3rd.week </td><td>83</td></tr>\n",
       "\t<tr><td>2000</td><td>Yearwood, Trisha</td><td>Real Live Woman        </td><td>3:55</td><td>Country</td><td>2000-04-01</td><td>2000-04-29</td><td>x4th.week </td><td>82</td></tr>\n",
       "\t<tr><td>2000</td><td>Yearwood, Trisha</td><td>Real Live Woman        </td><td>3:55</td><td>Country</td><td>2000-04-01</td><td>2000-04-29</td><td>x5th.week </td><td>81</td></tr>\n",
       "\t<tr><td>2000</td><td>Yearwood, Trisha</td><td>Real Live Woman        </td><td>3:55</td><td>Country</td><td>2000-04-01</td><td>2000-04-29</td><td>x6th.week </td><td>91</td></tr>\n",
       "\t<tr><td>2000</td><td>Ying Yang Twins </td><td>Whistle While You Twurk</td><td>4:19</td><td>Rap    </td><td>2000-03-18</td><td>2000-04-29</td><td>x1st.week </td><td>95</td></tr>\n",
       "\t<tr><td>2000</td><td>Ying Yang Twins </td><td>Whistle While You Twurk</td><td>4:19</td><td>Rap    </td><td>2000-03-18</td><td>2000-04-29</td><td>x2nd.week </td><td>94</td></tr>\n",
       "\t<tr><td>2000</td><td>Ying Yang Twins </td><td>Whistle While You Twurk</td><td>4:19</td><td>Rap    </td><td>2000-03-18</td><td>2000-04-29</td><td>x3rd.week </td><td>91</td></tr>\n",
       "\t<tr><td>2000</td><td>Ying Yang Twins </td><td>Whistle While You Twurk</td><td>4:19</td><td>Rap    </td><td>2000-03-18</td><td>2000-04-29</td><td>x4th.week </td><td>85</td></tr>\n",
       "\t<tr><td>2000</td><td>Ying Yang Twins </td><td>Whistle While You Twurk</td><td>4:19</td><td>Rap    </td><td>2000-03-18</td><td>2000-04-29</td><td>x5th.week </td><td>84</td></tr>\n",
       "\t<tr><td>2000</td><td>Ying Yang Twins </td><td>Whistle While You Twurk</td><td>4:19</td><td>Rap    </td><td>2000-03-18</td><td>2000-04-29</td><td>x6th.week </td><td>78</td></tr>\n",
       "\t<tr><td>2000</td><td>Ying Yang Twins </td><td>Whistle While You Twurk</td><td>4:19</td><td>Rap    </td><td>2000-03-18</td><td>2000-04-29</td><td>x7th.week </td><td>74</td></tr>\n",
       "\t<tr><td>2000</td><td>Ying Yang Twins </td><td>Whistle While You Twurk</td><td>4:19</td><td>Rap    </td><td>2000-03-18</td><td>2000-04-29</td><td>x8th.week </td><td>78</td></tr>\n",
       "\t<tr><td>2000</td><td>Ying Yang Twins </td><td>Whistle While You Twurk</td><td>4:19</td><td>Rap    </td><td>2000-03-18</td><td>2000-04-29</td><td>x9th.week </td><td>85</td></tr>\n",
       "\t<tr><td>2000</td><td>Ying Yang Twins </td><td>Whistle While You Twurk</td><td>4:19</td><td>Rap    </td><td>2000-03-18</td><td>2000-04-29</td><td>x10th.week</td><td>89</td></tr>\n",
       "\t<tr><td>2000</td><td>Ying Yang Twins </td><td>Whistle While You Twurk</td><td>4:19</td><td>Rap    </td><td>2000-03-18</td><td>2000-04-29</td><td>x11th.week</td><td>97</td></tr>\n",
       "\t<tr><td>2000</td><td>Ying Yang Twins </td><td>Whistle While You Twurk</td><td>4:19</td><td>Rap    </td><td>2000-03-18</td><td>2000-04-29</td><td>x12th.week</td><td>96</td></tr>\n",
       "\t<tr><td>2000</td><td>Ying Yang Twins </td><td>Whistle While You Twurk</td><td>4:19</td><td>Rap    </td><td>2000-03-18</td><td>2000-04-29</td><td>x13th.week</td><td>99</td></tr>\n",
       "\t<tr><td>2000</td><td>Ying Yang Twins </td><td>Whistle While You Twurk</td><td>4:19</td><td>Rap    </td><td>2000-03-18</td><td>2000-04-29</td><td>x14th.week</td><td>99</td></tr>\n",
       "\t<tr><td>2000</td><td>Zombie Nation   </td><td>Kernkraft 400          </td><td>3:30</td><td>Rock   </td><td>2000-09-02</td><td>2000-09-02</td><td>x1st.week </td><td>99</td></tr>\n",
       "\t<tr><td>2000</td><td>Zombie Nation   </td><td>Kernkraft 400          </td><td>3:30</td><td>Rock   </td><td>2000-09-02</td><td>2000-09-02</td><td>x2nd.week </td><td>99</td></tr>\n",
       "</tbody>\n",
       "</table>\n"
      ],
      "text/latex": [
       "A tibble: 5307 × 9\n",
       "\\begin{tabular}{r|lllllllll}\n",
       " year & artist.inverted & track & time & genre & date.entered & date.peaked & week & Rank\\\\\n",
       " <int> & <fct> & <fct> & <fct> & <fct> & <fct> & <fct> & <chr> & <int>\\\\\n",
       "\\hline\n",
       "\t 2000 & 2 Pac        & Baby Don't Cry (Keep Ya Head Up II)                          & 4:22 & Rap  & 2000-02-26 & 2000-03-11 & x1st.week  & 87\\\\\n",
       "\t 2000 & 2 Pac        & Baby Don't Cry (Keep Ya Head Up II)                          & 4:22 & Rap  & 2000-02-26 & 2000-03-11 & x2nd.week  & 82\\\\\n",
       "\t 2000 & 2 Pac        & Baby Don't Cry (Keep Ya Head Up II)                          & 4:22 & Rap  & 2000-02-26 & 2000-03-11 & x3rd.week  & 72\\\\\n",
       "\t 2000 & 2 Pac        & Baby Don't Cry (Keep Ya Head Up II)                          & 4:22 & Rap  & 2000-02-26 & 2000-03-11 & x4th.week  & 77\\\\\n",
       "\t 2000 & 2 Pac        & Baby Don't Cry (Keep Ya Head Up II)                          & 4:22 & Rap  & 2000-02-26 & 2000-03-11 & x5th.week  & 87\\\\\n",
       "\t 2000 & 2 Pac        & Baby Don't Cry (Keep Ya Head Up II)                          & 4:22 & Rap  & 2000-02-26 & 2000-03-11 & x6th.week  & 94\\\\\n",
       "\t 2000 & 2 Pac        & Baby Don't Cry (Keep Ya Head Up II)                          & 4:22 & Rap  & 2000-02-26 & 2000-03-11 & x7th.week  & 99\\\\\n",
       "\t 2000 & 2Ge+her      & The Hardest Part Of Breaking Up (Is Getting Back Your Stuff) & 3:15 & R\\&B  & 2000-09-02 & 2000-09-09 & x1st.week  & 91\\\\\n",
       "\t 2000 & 2Ge+her      & The Hardest Part Of Breaking Up (Is Getting Back Your Stuff) & 3:15 & R\\&B  & 2000-09-02 & 2000-09-09 & x2nd.week  & 87\\\\\n",
       "\t 2000 & 2Ge+her      & The Hardest Part Of Breaking Up (Is Getting Back Your Stuff) & 3:15 & R\\&B  & 2000-09-02 & 2000-09-09 & x3rd.week  & 92\\\\\n",
       "\t 2000 & 3 Doors Down & Kryptonite                                                   & 3:53 & Rock & 2000-04-08 & 2000-11-11 & x1st.week  & 81\\\\\n",
       "\t 2000 & 3 Doors Down & Loser                                                        & 4:24 & Rock & 2000-10-21 & 2000-12-02 & x1st.week  & 76\\\\\n",
       "\t 2000 & 3 Doors Down & Kryptonite                                                   & 3:53 & Rock & 2000-04-08 & 2000-11-11 & x2nd.week  & 70\\\\\n",
       "\t 2000 & 3 Doors Down & Loser                                                        & 4:24 & Rock & 2000-10-21 & 2000-12-02 & x2nd.week  & 76\\\\\n",
       "\t 2000 & 3 Doors Down & Kryptonite                                                   & 3:53 & Rock & 2000-04-08 & 2000-11-11 & x3rd.week  & 68\\\\\n",
       "\t 2000 & 3 Doors Down & Loser                                                        & 4:24 & Rock & 2000-10-21 & 2000-12-02 & x3rd.week  & 72\\\\\n",
       "\t 2000 & 3 Doors Down & Kryptonite                                                   & 3:53 & Rock & 2000-04-08 & 2000-11-11 & x4th.week  & 67\\\\\n",
       "\t 2000 & 3 Doors Down & Loser                                                        & 4:24 & Rock & 2000-10-21 & 2000-12-02 & x4th.week  & 69\\\\\n",
       "\t 2000 & 3 Doors Down & Kryptonite                                                   & 3:53 & Rock & 2000-04-08 & 2000-11-11 & x5th.week  & 66\\\\\n",
       "\t 2000 & 3 Doors Down & Loser                                                        & 4:24 & Rock & 2000-10-21 & 2000-12-02 & x5th.week  & 67\\\\\n",
       "\t 2000 & 3 Doors Down & Kryptonite                                                   & 3:53 & Rock & 2000-04-08 & 2000-11-11 & x6th.week  & 57\\\\\n",
       "\t 2000 & 3 Doors Down & Loser                                                        & 4:24 & Rock & 2000-10-21 & 2000-12-02 & x6th.week  & 65\\\\\n",
       "\t 2000 & 3 Doors Down & Kryptonite                                                   & 3:53 & Rock & 2000-04-08 & 2000-11-11 & x7th.week  & 54\\\\\n",
       "\t 2000 & 3 Doors Down & Loser                                                        & 4:24 & Rock & 2000-10-21 & 2000-12-02 & x7th.week  & 55\\\\\n",
       "\t 2000 & 3 Doors Down & Kryptonite                                                   & 3:53 & Rock & 2000-04-08 & 2000-11-11 & x8th.week  & 53\\\\\n",
       "\t 2000 & 3 Doors Down & Loser                                                        & 4:24 & Rock & 2000-10-21 & 2000-12-02 & x8th.week  & 59\\\\\n",
       "\t 2000 & 3 Doors Down & Kryptonite                                                   & 3:53 & Rock & 2000-04-08 & 2000-11-11 & x9th.week  & 51\\\\\n",
       "\t 2000 & 3 Doors Down & Loser                                                        & 4:24 & Rock & 2000-10-21 & 2000-12-02 & x9th.week  & 62\\\\\n",
       "\t 2000 & 3 Doors Down & Kryptonite                                                   & 3:53 & Rock & 2000-04-08 & 2000-11-11 & x10th.week & 51\\\\\n",
       "\t 2000 & 3 Doors Down & Loser                                                        & 4:24 & Rock & 2000-10-21 & 2000-12-02 & x10th.week & 61\\\\\n",
       "\t ⋮ & ⋮ & ⋮ & ⋮ & ⋮ & ⋮ & ⋮ & ⋮ & ⋮\\\\\n",
       "\t 2000 & Yankee Grey      & Another Nine Minutes    & 3:10 & Country & 2000-04-29 & 2000-05-20 & x1st.week  & 86\\\\\n",
       "\t 2000 & Yankee Grey      & Another Nine Minutes    & 3:10 & Country & 2000-04-29 & 2000-05-20 & x2nd.week  & 83\\\\\n",
       "\t 2000 & Yankee Grey      & Another Nine Minutes    & 3:10 & Country & 2000-04-29 & 2000-05-20 & x3rd.week  & 77\\\\\n",
       "\t 2000 & Yankee Grey      & Another Nine Minutes    & 3:10 & Country & 2000-04-29 & 2000-05-20 & x4th.week  & 74\\\\\n",
       "\t 2000 & Yankee Grey      & Another Nine Minutes    & 3:10 & Country & 2000-04-29 & 2000-05-20 & x5th.week  & 83\\\\\n",
       "\t 2000 & Yankee Grey      & Another Nine Minutes    & 3:10 & Country & 2000-04-29 & 2000-05-20 & x6th.week  & 79\\\\\n",
       "\t 2000 & Yankee Grey      & Another Nine Minutes    & 3:10 & Country & 2000-04-29 & 2000-05-20 & x7th.week  & 88\\\\\n",
       "\t 2000 & Yankee Grey      & Another Nine Minutes    & 3:10 & Country & 2000-04-29 & 2000-05-20 & x8th.week  & 95\\\\\n",
       "\t 2000 & Yearwood, Trisha & Real Live Woman         & 3:55 & Country & 2000-04-01 & 2000-04-29 & x1st.week  & 85\\\\\n",
       "\t 2000 & Yearwood, Trisha & Real Live Woman         & 3:55 & Country & 2000-04-01 & 2000-04-29 & x2nd.week  & 83\\\\\n",
       "\t 2000 & Yearwood, Trisha & Real Live Woman         & 3:55 & Country & 2000-04-01 & 2000-04-29 & x3rd.week  & 83\\\\\n",
       "\t 2000 & Yearwood, Trisha & Real Live Woman         & 3:55 & Country & 2000-04-01 & 2000-04-29 & x4th.week  & 82\\\\\n",
       "\t 2000 & Yearwood, Trisha & Real Live Woman         & 3:55 & Country & 2000-04-01 & 2000-04-29 & x5th.week  & 81\\\\\n",
       "\t 2000 & Yearwood, Trisha & Real Live Woman         & 3:55 & Country & 2000-04-01 & 2000-04-29 & x6th.week  & 91\\\\\n",
       "\t 2000 & Ying Yang Twins  & Whistle While You Twurk & 4:19 & Rap     & 2000-03-18 & 2000-04-29 & x1st.week  & 95\\\\\n",
       "\t 2000 & Ying Yang Twins  & Whistle While You Twurk & 4:19 & Rap     & 2000-03-18 & 2000-04-29 & x2nd.week  & 94\\\\\n",
       "\t 2000 & Ying Yang Twins  & Whistle While You Twurk & 4:19 & Rap     & 2000-03-18 & 2000-04-29 & x3rd.week  & 91\\\\\n",
       "\t 2000 & Ying Yang Twins  & Whistle While You Twurk & 4:19 & Rap     & 2000-03-18 & 2000-04-29 & x4th.week  & 85\\\\\n",
       "\t 2000 & Ying Yang Twins  & Whistle While You Twurk & 4:19 & Rap     & 2000-03-18 & 2000-04-29 & x5th.week  & 84\\\\\n",
       "\t 2000 & Ying Yang Twins  & Whistle While You Twurk & 4:19 & Rap     & 2000-03-18 & 2000-04-29 & x6th.week  & 78\\\\\n",
       "\t 2000 & Ying Yang Twins  & Whistle While You Twurk & 4:19 & Rap     & 2000-03-18 & 2000-04-29 & x7th.week  & 74\\\\\n",
       "\t 2000 & Ying Yang Twins  & Whistle While You Twurk & 4:19 & Rap     & 2000-03-18 & 2000-04-29 & x8th.week  & 78\\\\\n",
       "\t 2000 & Ying Yang Twins  & Whistle While You Twurk & 4:19 & Rap     & 2000-03-18 & 2000-04-29 & x9th.week  & 85\\\\\n",
       "\t 2000 & Ying Yang Twins  & Whistle While You Twurk & 4:19 & Rap     & 2000-03-18 & 2000-04-29 & x10th.week & 89\\\\\n",
       "\t 2000 & Ying Yang Twins  & Whistle While You Twurk & 4:19 & Rap     & 2000-03-18 & 2000-04-29 & x11th.week & 97\\\\\n",
       "\t 2000 & Ying Yang Twins  & Whistle While You Twurk & 4:19 & Rap     & 2000-03-18 & 2000-04-29 & x12th.week & 96\\\\\n",
       "\t 2000 & Ying Yang Twins  & Whistle While You Twurk & 4:19 & Rap     & 2000-03-18 & 2000-04-29 & x13th.week & 99\\\\\n",
       "\t 2000 & Ying Yang Twins  & Whistle While You Twurk & 4:19 & Rap     & 2000-03-18 & 2000-04-29 & x14th.week & 99\\\\\n",
       "\t 2000 & Zombie Nation    & Kernkraft 400           & 3:30 & Rock    & 2000-09-02 & 2000-09-02 & x1st.week  & 99\\\\\n",
       "\t 2000 & Zombie Nation    & Kernkraft 400           & 3:30 & Rock    & 2000-09-02 & 2000-09-02 & x2nd.week  & 99\\\\\n",
       "\\end{tabular}\n"
      ],
      "text/markdown": [
       "\n",
       "A tibble: 5307 × 9\n",
       "\n",
       "| year &lt;int&gt; | artist.inverted &lt;fct&gt; | track &lt;fct&gt; | time &lt;fct&gt; | genre &lt;fct&gt; | date.entered &lt;fct&gt; | date.peaked &lt;fct&gt; | week &lt;chr&gt; | Rank &lt;int&gt; |\n",
       "|---|---|---|---|---|---|---|---|---|\n",
       "| 2000 | 2 Pac        | Baby Don't Cry (Keep Ya Head Up II)                          | 4:22 | Rap  | 2000-02-26 | 2000-03-11 | x1st.week  | 87 |\n",
       "| 2000 | 2 Pac        | Baby Don't Cry (Keep Ya Head Up II)                          | 4:22 | Rap  | 2000-02-26 | 2000-03-11 | x2nd.week  | 82 |\n",
       "| 2000 | 2 Pac        | Baby Don't Cry (Keep Ya Head Up II)                          | 4:22 | Rap  | 2000-02-26 | 2000-03-11 | x3rd.week  | 72 |\n",
       "| 2000 | 2 Pac        | Baby Don't Cry (Keep Ya Head Up II)                          | 4:22 | Rap  | 2000-02-26 | 2000-03-11 | x4th.week  | 77 |\n",
       "| 2000 | 2 Pac        | Baby Don't Cry (Keep Ya Head Up II)                          | 4:22 | Rap  | 2000-02-26 | 2000-03-11 | x5th.week  | 87 |\n",
       "| 2000 | 2 Pac        | Baby Don't Cry (Keep Ya Head Up II)                          | 4:22 | Rap  | 2000-02-26 | 2000-03-11 | x6th.week  | 94 |\n",
       "| 2000 | 2 Pac        | Baby Don't Cry (Keep Ya Head Up II)                          | 4:22 | Rap  | 2000-02-26 | 2000-03-11 | x7th.week  | 99 |\n",
       "| 2000 | 2Ge+her      | The Hardest Part Of Breaking Up (Is Getting Back Your Stuff) | 3:15 | R&amp;B  | 2000-09-02 | 2000-09-09 | x1st.week  | 91 |\n",
       "| 2000 | 2Ge+her      | The Hardest Part Of Breaking Up (Is Getting Back Your Stuff) | 3:15 | R&amp;B  | 2000-09-02 | 2000-09-09 | x2nd.week  | 87 |\n",
       "| 2000 | 2Ge+her      | The Hardest Part Of Breaking Up (Is Getting Back Your Stuff) | 3:15 | R&amp;B  | 2000-09-02 | 2000-09-09 | x3rd.week  | 92 |\n",
       "| 2000 | 3 Doors Down | Kryptonite                                                   | 3:53 | Rock | 2000-04-08 | 2000-11-11 | x1st.week  | 81 |\n",
       "| 2000 | 3 Doors Down | Loser                                                        | 4:24 | Rock | 2000-10-21 | 2000-12-02 | x1st.week  | 76 |\n",
       "| 2000 | 3 Doors Down | Kryptonite                                                   | 3:53 | Rock | 2000-04-08 | 2000-11-11 | x2nd.week  | 70 |\n",
       "| 2000 | 3 Doors Down | Loser                                                        | 4:24 | Rock | 2000-10-21 | 2000-12-02 | x2nd.week  | 76 |\n",
       "| 2000 | 3 Doors Down | Kryptonite                                                   | 3:53 | Rock | 2000-04-08 | 2000-11-11 | x3rd.week  | 68 |\n",
       "| 2000 | 3 Doors Down | Loser                                                        | 4:24 | Rock | 2000-10-21 | 2000-12-02 | x3rd.week  | 72 |\n",
       "| 2000 | 3 Doors Down | Kryptonite                                                   | 3:53 | Rock | 2000-04-08 | 2000-11-11 | x4th.week  | 67 |\n",
       "| 2000 | 3 Doors Down | Loser                                                        | 4:24 | Rock | 2000-10-21 | 2000-12-02 | x4th.week  | 69 |\n",
       "| 2000 | 3 Doors Down | Kryptonite                                                   | 3:53 | Rock | 2000-04-08 | 2000-11-11 | x5th.week  | 66 |\n",
       "| 2000 | 3 Doors Down | Loser                                                        | 4:24 | Rock | 2000-10-21 | 2000-12-02 | x5th.week  | 67 |\n",
       "| 2000 | 3 Doors Down | Kryptonite                                                   | 3:53 | Rock | 2000-04-08 | 2000-11-11 | x6th.week  | 57 |\n",
       "| 2000 | 3 Doors Down | Loser                                                        | 4:24 | Rock | 2000-10-21 | 2000-12-02 | x6th.week  | 65 |\n",
       "| 2000 | 3 Doors Down | Kryptonite                                                   | 3:53 | Rock | 2000-04-08 | 2000-11-11 | x7th.week  | 54 |\n",
       "| 2000 | 3 Doors Down | Loser                                                        | 4:24 | Rock | 2000-10-21 | 2000-12-02 | x7th.week  | 55 |\n",
       "| 2000 | 3 Doors Down | Kryptonite                                                   | 3:53 | Rock | 2000-04-08 | 2000-11-11 | x8th.week  | 53 |\n",
       "| 2000 | 3 Doors Down | Loser                                                        | 4:24 | Rock | 2000-10-21 | 2000-12-02 | x8th.week  | 59 |\n",
       "| 2000 | 3 Doors Down | Kryptonite                                                   | 3:53 | Rock | 2000-04-08 | 2000-11-11 | x9th.week  | 51 |\n",
       "| 2000 | 3 Doors Down | Loser                                                        | 4:24 | Rock | 2000-10-21 | 2000-12-02 | x9th.week  | 62 |\n",
       "| 2000 | 3 Doors Down | Kryptonite                                                   | 3:53 | Rock | 2000-04-08 | 2000-11-11 | x10th.week | 51 |\n",
       "| 2000 | 3 Doors Down | Loser                                                        | 4:24 | Rock | 2000-10-21 | 2000-12-02 | x10th.week | 61 |\n",
       "| ⋮ | ⋮ | ⋮ | ⋮ | ⋮ | ⋮ | ⋮ | ⋮ | ⋮ |\n",
       "| 2000 | Yankee Grey      | Another Nine Minutes    | 3:10 | Country | 2000-04-29 | 2000-05-20 | x1st.week  | 86 |\n",
       "| 2000 | Yankee Grey      | Another Nine Minutes    | 3:10 | Country | 2000-04-29 | 2000-05-20 | x2nd.week  | 83 |\n",
       "| 2000 | Yankee Grey      | Another Nine Minutes    | 3:10 | Country | 2000-04-29 | 2000-05-20 | x3rd.week  | 77 |\n",
       "| 2000 | Yankee Grey      | Another Nine Minutes    | 3:10 | Country | 2000-04-29 | 2000-05-20 | x4th.week  | 74 |\n",
       "| 2000 | Yankee Grey      | Another Nine Minutes    | 3:10 | Country | 2000-04-29 | 2000-05-20 | x5th.week  | 83 |\n",
       "| 2000 | Yankee Grey      | Another Nine Minutes    | 3:10 | Country | 2000-04-29 | 2000-05-20 | x6th.week  | 79 |\n",
       "| 2000 | Yankee Grey      | Another Nine Minutes    | 3:10 | Country | 2000-04-29 | 2000-05-20 | x7th.week  | 88 |\n",
       "| 2000 | Yankee Grey      | Another Nine Minutes    | 3:10 | Country | 2000-04-29 | 2000-05-20 | x8th.week  | 95 |\n",
       "| 2000 | Yearwood, Trisha | Real Live Woman         | 3:55 | Country | 2000-04-01 | 2000-04-29 | x1st.week  | 85 |\n",
       "| 2000 | Yearwood, Trisha | Real Live Woman         | 3:55 | Country | 2000-04-01 | 2000-04-29 | x2nd.week  | 83 |\n",
       "| 2000 | Yearwood, Trisha | Real Live Woman         | 3:55 | Country | 2000-04-01 | 2000-04-29 | x3rd.week  | 83 |\n",
       "| 2000 | Yearwood, Trisha | Real Live Woman         | 3:55 | Country | 2000-04-01 | 2000-04-29 | x4th.week  | 82 |\n",
       "| 2000 | Yearwood, Trisha | Real Live Woman         | 3:55 | Country | 2000-04-01 | 2000-04-29 | x5th.week  | 81 |\n",
       "| 2000 | Yearwood, Trisha | Real Live Woman         | 3:55 | Country | 2000-04-01 | 2000-04-29 | x6th.week  | 91 |\n",
       "| 2000 | Ying Yang Twins  | Whistle While You Twurk | 4:19 | Rap     | 2000-03-18 | 2000-04-29 | x1st.week  | 95 |\n",
       "| 2000 | Ying Yang Twins  | Whistle While You Twurk | 4:19 | Rap     | 2000-03-18 | 2000-04-29 | x2nd.week  | 94 |\n",
       "| 2000 | Ying Yang Twins  | Whistle While You Twurk | 4:19 | Rap     | 2000-03-18 | 2000-04-29 | x3rd.week  | 91 |\n",
       "| 2000 | Ying Yang Twins  | Whistle While You Twurk | 4:19 | Rap     | 2000-03-18 | 2000-04-29 | x4th.week  | 85 |\n",
       "| 2000 | Ying Yang Twins  | Whistle While You Twurk | 4:19 | Rap     | 2000-03-18 | 2000-04-29 | x5th.week  | 84 |\n",
       "| 2000 | Ying Yang Twins  | Whistle While You Twurk | 4:19 | Rap     | 2000-03-18 | 2000-04-29 | x6th.week  | 78 |\n",
       "| 2000 | Ying Yang Twins  | Whistle While You Twurk | 4:19 | Rap     | 2000-03-18 | 2000-04-29 | x7th.week  | 74 |\n",
       "| 2000 | Ying Yang Twins  | Whistle While You Twurk | 4:19 | Rap     | 2000-03-18 | 2000-04-29 | x8th.week  | 78 |\n",
       "| 2000 | Ying Yang Twins  | Whistle While You Twurk | 4:19 | Rap     | 2000-03-18 | 2000-04-29 | x9th.week  | 85 |\n",
       "| 2000 | Ying Yang Twins  | Whistle While You Twurk | 4:19 | Rap     | 2000-03-18 | 2000-04-29 | x10th.week | 89 |\n",
       "| 2000 | Ying Yang Twins  | Whistle While You Twurk | 4:19 | Rap     | 2000-03-18 | 2000-04-29 | x11th.week | 97 |\n",
       "| 2000 | Ying Yang Twins  | Whistle While You Twurk | 4:19 | Rap     | 2000-03-18 | 2000-04-29 | x12th.week | 96 |\n",
       "| 2000 | Ying Yang Twins  | Whistle While You Twurk | 4:19 | Rap     | 2000-03-18 | 2000-04-29 | x13th.week | 99 |\n",
       "| 2000 | Ying Yang Twins  | Whistle While You Twurk | 4:19 | Rap     | 2000-03-18 | 2000-04-29 | x14th.week | 99 |\n",
       "| 2000 | Zombie Nation    | Kernkraft 400           | 3:30 | Rock    | 2000-09-02 | 2000-09-02 | x1st.week  | 99 |\n",
       "| 2000 | Zombie Nation    | Kernkraft 400           | 3:30 | Rock    | 2000-09-02 | 2000-09-02 | x2nd.week  | 99 |\n",
       "\n"
      ],
      "text/plain": [
       "     year artist.inverted \n",
       "1    2000 2 Pac           \n",
       "2    2000 2 Pac           \n",
       "3    2000 2 Pac           \n",
       "4    2000 2 Pac           \n",
       "5    2000 2 Pac           \n",
       "6    2000 2 Pac           \n",
       "7    2000 2 Pac           \n",
       "8    2000 2Ge+her         \n",
       "9    2000 2Ge+her         \n",
       "10   2000 2Ge+her         \n",
       "11   2000 3 Doors Down    \n",
       "12   2000 3 Doors Down    \n",
       "13   2000 3 Doors Down    \n",
       "14   2000 3 Doors Down    \n",
       "15   2000 3 Doors Down    \n",
       "16   2000 3 Doors Down    \n",
       "17   2000 3 Doors Down    \n",
       "18   2000 3 Doors Down    \n",
       "19   2000 3 Doors Down    \n",
       "20   2000 3 Doors Down    \n",
       "21   2000 3 Doors Down    \n",
       "22   2000 3 Doors Down    \n",
       "23   2000 3 Doors Down    \n",
       "24   2000 3 Doors Down    \n",
       "25   2000 3 Doors Down    \n",
       "26   2000 3 Doors Down    \n",
       "27   2000 3 Doors Down    \n",
       "28   2000 3 Doors Down    \n",
       "29   2000 3 Doors Down    \n",
       "30   2000 3 Doors Down    \n",
       "⋮    ⋮    ⋮               \n",
       "5278 2000 Yankee Grey     \n",
       "5279 2000 Yankee Grey     \n",
       "5280 2000 Yankee Grey     \n",
       "5281 2000 Yankee Grey     \n",
       "5282 2000 Yankee Grey     \n",
       "5283 2000 Yankee Grey     \n",
       "5284 2000 Yankee Grey     \n",
       "5285 2000 Yankee Grey     \n",
       "5286 2000 Yearwood, Trisha\n",
       "5287 2000 Yearwood, Trisha\n",
       "5288 2000 Yearwood, Trisha\n",
       "5289 2000 Yearwood, Trisha\n",
       "5290 2000 Yearwood, Trisha\n",
       "5291 2000 Yearwood, Trisha\n",
       "5292 2000 Ying Yang Twins \n",
       "5293 2000 Ying Yang Twins \n",
       "5294 2000 Ying Yang Twins \n",
       "5295 2000 Ying Yang Twins \n",
       "5296 2000 Ying Yang Twins \n",
       "5297 2000 Ying Yang Twins \n",
       "5298 2000 Ying Yang Twins \n",
       "5299 2000 Ying Yang Twins \n",
       "5300 2000 Ying Yang Twins \n",
       "5301 2000 Ying Yang Twins \n",
       "5302 2000 Ying Yang Twins \n",
       "5303 2000 Ying Yang Twins \n",
       "5304 2000 Ying Yang Twins \n",
       "5305 2000 Ying Yang Twins \n",
       "5306 2000 Zombie Nation   \n",
       "5307 2000 Zombie Nation   \n",
       "     track                                                        time genre  \n",
       "1    Baby Don't Cry (Keep Ya Head Up II)                          4:22 Rap    \n",
       "2    Baby Don't Cry (Keep Ya Head Up II)                          4:22 Rap    \n",
       "3    Baby Don't Cry (Keep Ya Head Up II)                          4:22 Rap    \n",
       "4    Baby Don't Cry (Keep Ya Head Up II)                          4:22 Rap    \n",
       "5    Baby Don't Cry (Keep Ya Head Up II)                          4:22 Rap    \n",
       "6    Baby Don't Cry (Keep Ya Head Up II)                          4:22 Rap    \n",
       "7    Baby Don't Cry (Keep Ya Head Up II)                          4:22 Rap    \n",
       "8    The Hardest Part Of Breaking Up (Is Getting Back Your Stuff) 3:15 R&B    \n",
       "9    The Hardest Part Of Breaking Up (Is Getting Back Your Stuff) 3:15 R&B    \n",
       "10   The Hardest Part Of Breaking Up (Is Getting Back Your Stuff) 3:15 R&B    \n",
       "11   Kryptonite                                                   3:53 Rock   \n",
       "12   Loser                                                        4:24 Rock   \n",
       "13   Kryptonite                                                   3:53 Rock   \n",
       "14   Loser                                                        4:24 Rock   \n",
       "15   Kryptonite                                                   3:53 Rock   \n",
       "16   Loser                                                        4:24 Rock   \n",
       "17   Kryptonite                                                   3:53 Rock   \n",
       "18   Loser                                                        4:24 Rock   \n",
       "19   Kryptonite                                                   3:53 Rock   \n",
       "20   Loser                                                        4:24 Rock   \n",
       "21   Kryptonite                                                   3:53 Rock   \n",
       "22   Loser                                                        4:24 Rock   \n",
       "23   Kryptonite                                                   3:53 Rock   \n",
       "24   Loser                                                        4:24 Rock   \n",
       "25   Kryptonite                                                   3:53 Rock   \n",
       "26   Loser                                                        4:24 Rock   \n",
       "27   Kryptonite                                                   3:53 Rock   \n",
       "28   Loser                                                        4:24 Rock   \n",
       "29   Kryptonite                                                   3:53 Rock   \n",
       "30   Loser                                                        4:24 Rock   \n",
       "⋮    ⋮                                                            ⋮    ⋮      \n",
       "5278 Another Nine Minutes                                         3:10 Country\n",
       "5279 Another Nine Minutes                                         3:10 Country\n",
       "5280 Another Nine Minutes                                         3:10 Country\n",
       "5281 Another Nine Minutes                                         3:10 Country\n",
       "5282 Another Nine Minutes                                         3:10 Country\n",
       "5283 Another Nine Minutes                                         3:10 Country\n",
       "5284 Another Nine Minutes                                         3:10 Country\n",
       "5285 Another Nine Minutes                                         3:10 Country\n",
       "5286 Real Live Woman                                              3:55 Country\n",
       "5287 Real Live Woman                                              3:55 Country\n",
       "5288 Real Live Woman                                              3:55 Country\n",
       "5289 Real Live Woman                                              3:55 Country\n",
       "5290 Real Live Woman                                              3:55 Country\n",
       "5291 Real Live Woman                                              3:55 Country\n",
       "5292 Whistle While You Twurk                                      4:19 Rap    \n",
       "5293 Whistle While You Twurk                                      4:19 Rap    \n",
       "5294 Whistle While You Twurk                                      4:19 Rap    \n",
       "5295 Whistle While You Twurk                                      4:19 Rap    \n",
       "5296 Whistle While You Twurk                                      4:19 Rap    \n",
       "5297 Whistle While You Twurk                                      4:19 Rap    \n",
       "5298 Whistle While You Twurk                                      4:19 Rap    \n",
       "5299 Whistle While You Twurk                                      4:19 Rap    \n",
       "5300 Whistle While You Twurk                                      4:19 Rap    \n",
       "5301 Whistle While You Twurk                                      4:19 Rap    \n",
       "5302 Whistle While You Twurk                                      4:19 Rap    \n",
       "5303 Whistle While You Twurk                                      4:19 Rap    \n",
       "5304 Whistle While You Twurk                                      4:19 Rap    \n",
       "5305 Whistle While You Twurk                                      4:19 Rap    \n",
       "5306 Kernkraft 400                                                3:30 Rock   \n",
       "5307 Kernkraft 400                                                3:30 Rock   \n",
       "     date.entered date.peaked week       Rank\n",
       "1    2000-02-26   2000-03-11  x1st.week  87  \n",
       "2    2000-02-26   2000-03-11  x2nd.week  82  \n",
       "3    2000-02-26   2000-03-11  x3rd.week  72  \n",
       "4    2000-02-26   2000-03-11  x4th.week  77  \n",
       "5    2000-02-26   2000-03-11  x5th.week  87  \n",
       "6    2000-02-26   2000-03-11  x6th.week  94  \n",
       "7    2000-02-26   2000-03-11  x7th.week  99  \n",
       "8    2000-09-02   2000-09-09  x1st.week  91  \n",
       "9    2000-09-02   2000-09-09  x2nd.week  87  \n",
       "10   2000-09-02   2000-09-09  x3rd.week  92  \n",
       "11   2000-04-08   2000-11-11  x1st.week  81  \n",
       "12   2000-10-21   2000-12-02  x1st.week  76  \n",
       "13   2000-04-08   2000-11-11  x2nd.week  70  \n",
       "14   2000-10-21   2000-12-02  x2nd.week  76  \n",
       "15   2000-04-08   2000-11-11  x3rd.week  68  \n",
       "16   2000-10-21   2000-12-02  x3rd.week  72  \n",
       "17   2000-04-08   2000-11-11  x4th.week  67  \n",
       "18   2000-10-21   2000-12-02  x4th.week  69  \n",
       "19   2000-04-08   2000-11-11  x5th.week  66  \n",
       "20   2000-10-21   2000-12-02  x5th.week  67  \n",
       "21   2000-04-08   2000-11-11  x6th.week  57  \n",
       "22   2000-10-21   2000-12-02  x6th.week  65  \n",
       "23   2000-04-08   2000-11-11  x7th.week  54  \n",
       "24   2000-10-21   2000-12-02  x7th.week  55  \n",
       "25   2000-04-08   2000-11-11  x8th.week  53  \n",
       "26   2000-10-21   2000-12-02  x8th.week  59  \n",
       "27   2000-04-08   2000-11-11  x9th.week  51  \n",
       "28   2000-10-21   2000-12-02  x9th.week  62  \n",
       "29   2000-04-08   2000-11-11  x10th.week 51  \n",
       "30   2000-10-21   2000-12-02  x10th.week 61  \n",
       "⋮    ⋮            ⋮           ⋮          ⋮   \n",
       "5278 2000-04-29   2000-05-20  x1st.week  86  \n",
       "5279 2000-04-29   2000-05-20  x2nd.week  83  \n",
       "5280 2000-04-29   2000-05-20  x3rd.week  77  \n",
       "5281 2000-04-29   2000-05-20  x4th.week  74  \n",
       "5282 2000-04-29   2000-05-20  x5th.week  83  \n",
       "5283 2000-04-29   2000-05-20  x6th.week  79  \n",
       "5284 2000-04-29   2000-05-20  x7th.week  88  \n",
       "5285 2000-04-29   2000-05-20  x8th.week  95  \n",
       "5286 2000-04-01   2000-04-29  x1st.week  85  \n",
       "5287 2000-04-01   2000-04-29  x2nd.week  83  \n",
       "5288 2000-04-01   2000-04-29  x3rd.week  83  \n",
       "5289 2000-04-01   2000-04-29  x4th.week  82  \n",
       "5290 2000-04-01   2000-04-29  x5th.week  81  \n",
       "5291 2000-04-01   2000-04-29  x6th.week  91  \n",
       "5292 2000-03-18   2000-04-29  x1st.week  95  \n",
       "5293 2000-03-18   2000-04-29  x2nd.week  94  \n",
       "5294 2000-03-18   2000-04-29  x3rd.week  91  \n",
       "5295 2000-03-18   2000-04-29  x4th.week  85  \n",
       "5296 2000-03-18   2000-04-29  x5th.week  84  \n",
       "5297 2000-03-18   2000-04-29  x6th.week  78  \n",
       "5298 2000-03-18   2000-04-29  x7th.week  74  \n",
       "5299 2000-03-18   2000-04-29  x8th.week  78  \n",
       "5300 2000-03-18   2000-04-29  x9th.week  85  \n",
       "5301 2000-03-18   2000-04-29  x10th.week 89  \n",
       "5302 2000-03-18   2000-04-29  x11th.week 97  \n",
       "5303 2000-03-18   2000-04-29  x12th.week 96  \n",
       "5304 2000-03-18   2000-04-29  x13th.week 99  \n",
       "5305 2000-03-18   2000-04-29  x14th.week 99  \n",
       "5306 2000-09-02   2000-09-02  x1st.week  99  \n",
       "5307 2000-09-02   2000-09-02  x2nd.week  99  "
      ]
     },
     "metadata": {},
     "output_type": "display_data"
    }
   ],
   "source": [
    "billboard %>% gather(x1st.week:x76th.week , key = \"week\" , value = \"Rank\" , na.rm = TRUE) %>% \n",
    "arrange(artist.inverted)"
   ]
  },
  {
   "cell_type": "code",
   "execution_count": 56,
   "metadata": {},
   "outputs": [
    {
     "data": {
      "text/html": [
       "<ol class=list-inline>\n",
       "\t<li>317</li>\n",
       "\t<li>83</li>\n",
       "</ol>\n"
      ],
      "text/latex": [
       "\\begin{enumerate*}\n",
       "\\item 317\n",
       "\\item 83\n",
       "\\end{enumerate*}\n"
      ],
      "text/markdown": [
       "1. 317\n",
       "2. 83\n",
       "\n",
       "\n"
      ],
      "text/plain": [
       "[1] 317  83"
      ]
     },
     "metadata": {},
     "output_type": "display_data"
    }
   ],
   "source": [
    "dim(billboard)"
   ]
  },
  {
   "cell_type": "code",
   "execution_count": 82,
   "metadata": {},
   "outputs": [],
   "source": [
    "tb.data <- read.csv(file  = '/Users/sahilnagpal/Downloads/tb.csv')"
   ]
  },
  {
   "cell_type": "code",
   "execution_count": 83,
   "metadata": {},
   "outputs": [
    {
     "data": {
      "text/html": [
       "<table>\n",
       "<caption>A data.frame: 6 × 16</caption>\n",
       "<thead>\n",
       "\t<tr><th scope=col>country</th><th scope=col>year</th><th scope=col>m.014</th><th scope=col>m.1524</th><th scope=col>m.2534</th><th scope=col>m.3544</th><th scope=col>m.4554</th><th scope=col>m.5564</th><th scope=col>m.65</th><th scope=col>f.014</th><th scope=col>f.1524</th><th scope=col>f.2534</th><th scope=col>f.3544</th><th scope=col>f.4554</th><th scope=col>f.5564</th><th scope=col>f.65</th></tr>\n",
       "\t<tr><th scope=col>&lt;fct&gt;</th><th scope=col>&lt;int&gt;</th><th scope=col>&lt;int&gt;</th><th scope=col>&lt;int&gt;</th><th scope=col>&lt;int&gt;</th><th scope=col>&lt;int&gt;</th><th scope=col>&lt;int&gt;</th><th scope=col>&lt;int&gt;</th><th scope=col>&lt;int&gt;</th><th scope=col>&lt;int&gt;</th><th scope=col>&lt;int&gt;</th><th scope=col>&lt;int&gt;</th><th scope=col>&lt;int&gt;</th><th scope=col>&lt;int&gt;</th><th scope=col>&lt;int&gt;</th><th scope=col>&lt;int&gt;</th></tr>\n",
       "</thead>\n",
       "<tbody>\n",
       "\t<tr><td>AD</td><td>2000</td><td> 0</td><td>  0</td><td>  1</td><td>  0</td><td>  0</td><td> 0</td><td> 0</td><td>NA</td><td> NA</td><td> NA</td><td> NA</td><td> NA</td><td>NA</td><td>NA</td></tr>\n",
       "\t<tr><td>AE</td><td>2000</td><td> 2</td><td>  4</td><td>  4</td><td>  6</td><td>  5</td><td>12</td><td>10</td><td> 3</td><td> 16</td><td>  1</td><td>  3</td><td>  0</td><td> 0</td><td> 4</td></tr>\n",
       "\t<tr><td>AF</td><td>2000</td><td>52</td><td>228</td><td>183</td><td>149</td><td>129</td><td>94</td><td>80</td><td>93</td><td>414</td><td>565</td><td>339</td><td>205</td><td>99</td><td>36</td></tr>\n",
       "\t<tr><td>AG</td><td>2000</td><td> 0</td><td>  0</td><td>  0</td><td>  0</td><td>  0</td><td> 0</td><td> 1</td><td> 1</td><td>  1</td><td>  1</td><td>  0</td><td>  0</td><td> 0</td><td> 0</td></tr>\n",
       "\t<tr><td>AL</td><td>2000</td><td> 2</td><td> 19</td><td> 21</td><td> 14</td><td> 24</td><td>19</td><td>16</td><td> 3</td><td> 11</td><td> 10</td><td>  8</td><td>  8</td><td> 5</td><td>11</td></tr>\n",
       "\t<tr><td>AM</td><td>2000</td><td> 2</td><td>152</td><td>130</td><td>131</td><td> 63</td><td>26</td><td>21</td><td> 1</td><td> 24</td><td> 27</td><td> 24</td><td>  8</td><td> 8</td><td> 4</td></tr>\n",
       "</tbody>\n",
       "</table>\n"
      ],
      "text/latex": [
       "A data.frame: 6 × 16\n",
       "\\begin{tabular}{r|llllllllllllllll}\n",
       " country & year & m.014 & m.1524 & m.2534 & m.3544 & m.4554 & m.5564 & m.65 & f.014 & f.1524 & f.2534 & f.3544 & f.4554 & f.5564 & f.65\\\\\n",
       " <fct> & <int> & <int> & <int> & <int> & <int> & <int> & <int> & <int> & <int> & <int> & <int> & <int> & <int> & <int> & <int>\\\\\n",
       "\\hline\n",
       "\t AD & 2000 &  0 &   0 &   1 &   0 &   0 &  0 &  0 & NA &  NA &  NA &  NA &  NA & NA & NA\\\\\n",
       "\t AE & 2000 &  2 &   4 &   4 &   6 &   5 & 12 & 10 &  3 &  16 &   1 &   3 &   0 &  0 &  4\\\\\n",
       "\t AF & 2000 & 52 & 228 & 183 & 149 & 129 & 94 & 80 & 93 & 414 & 565 & 339 & 205 & 99 & 36\\\\\n",
       "\t AG & 2000 &  0 &   0 &   0 &   0 &   0 &  0 &  1 &  1 &   1 &   1 &   0 &   0 &  0 &  0\\\\\n",
       "\t AL & 2000 &  2 &  19 &  21 &  14 &  24 & 19 & 16 &  3 &  11 &  10 &   8 &   8 &  5 & 11\\\\\n",
       "\t AM & 2000 &  2 & 152 & 130 & 131 &  63 & 26 & 21 &  1 &  24 &  27 &  24 &   8 &  8 &  4\\\\\n",
       "\\end{tabular}\n"
      ],
      "text/markdown": [
       "\n",
       "A data.frame: 6 × 16\n",
       "\n",
       "| country &lt;fct&gt; | year &lt;int&gt; | m.014 &lt;int&gt; | m.1524 &lt;int&gt; | m.2534 &lt;int&gt; | m.3544 &lt;int&gt; | m.4554 &lt;int&gt; | m.5564 &lt;int&gt; | m.65 &lt;int&gt; | f.014 &lt;int&gt; | f.1524 &lt;int&gt; | f.2534 &lt;int&gt; | f.3544 &lt;int&gt; | f.4554 &lt;int&gt; | f.5564 &lt;int&gt; | f.65 &lt;int&gt; |\n",
       "|---|---|---|---|---|---|---|---|---|---|---|---|---|---|---|---|\n",
       "| AD | 2000 |  0 |   0 |   1 |   0 |   0 |  0 |  0 | NA |  NA |  NA |  NA |  NA | NA | NA |\n",
       "| AE | 2000 |  2 |   4 |   4 |   6 |   5 | 12 | 10 |  3 |  16 |   1 |   3 |   0 |  0 |  4 |\n",
       "| AF | 2000 | 52 | 228 | 183 | 149 | 129 | 94 | 80 | 93 | 414 | 565 | 339 | 205 | 99 | 36 |\n",
       "| AG | 2000 |  0 |   0 |   0 |   0 |   0 |  0 |  1 |  1 |   1 |   1 |   0 |   0 |  0 |  0 |\n",
       "| AL | 2000 |  2 |  19 |  21 |  14 |  24 | 19 | 16 |  3 |  11 |  10 |   8 |   8 |  5 | 11 |\n",
       "| AM | 2000 |  2 | 152 | 130 | 131 |  63 | 26 | 21 |  1 |  24 |  27 |  24 |   8 |  8 |  4 |\n",
       "\n"
      ],
      "text/plain": [
       "  country year m.014 m.1524 m.2534 m.3544 m.4554 m.5564 m.65 f.014 f.1524\n",
       "1 AD      2000  0      0      1      0      0     0      0   NA     NA   \n",
       "2 AE      2000  2      4      4      6      5    12     10    3     16   \n",
       "3 AF      2000 52    228    183    149    129    94     80   93    414   \n",
       "4 AG      2000  0      0      0      0      0     0      1    1      1   \n",
       "5 AL      2000  2     19     21     14     24    19     16    3     11   \n",
       "6 AM      2000  2    152    130    131     63    26     21    1     24   \n",
       "  f.2534 f.3544 f.4554 f.5564 f.65\n",
       "1  NA     NA     NA    NA     NA  \n",
       "2   1      3      0     0      4  \n",
       "3 565    339    205    99     36  \n",
       "4   1      0      0     0      0  \n",
       "5  10      8      8     5     11  \n",
       "6  27     24      8     8      4  "
      ]
     },
     "metadata": {},
     "output_type": "display_data"
    }
   ],
   "source": [
    "head(tb.data)"
   ]
  },
  {
   "cell_type": "code",
   "execution_count": 84,
   "metadata": {},
   "outputs": [],
   "source": [
    "tb.gathered <- tb.data %>% gather(m.014:f.65,key = \"column\" , value = \"cases\" , na.rm = TRUE)"
   ]
  },
  {
   "cell_type": "code",
   "execution_count": 85,
   "metadata": {},
   "outputs": [],
   "source": [
    "tb.gathered <- tb.gathered %>% separate(col = column , c(\"Sex\" , \"AgeGroup\")) %>% arrange(country)"
   ]
  },
  {
   "cell_type": "code",
   "execution_count": 87,
   "metadata": {},
   "outputs": [
    {
     "name": "stderr",
     "output_type": "stream",
     "text": [
      "Warning message:\n",
      "“Expected 2 pieces. Missing pieces filled with `NA` in 2273 rows [1, 2, 3, 4, 5, 6, 7, 8, 9, 10, 11, 12, 13, 14, 15, 16, 17, 18, 19, 20, ...].”\n"
     ]
    }
   ],
   "source": []
  },
  {
   "cell_type": "code",
   "execution_count": 88,
   "metadata": {},
   "outputs": [
    {
     "data": {
      "text/html": [
       "<table>\n",
       "<caption>A data.frame: 2273 × 6</caption>\n",
       "<thead>\n",
       "\t<tr><th scope=col>country</th><th scope=col>year</th><th scope=col>Sex</th><th scope=col>MinAge</th><th scope=col>MaxAge</th><th scope=col>cases</th></tr>\n",
       "\t<tr><th scope=col>&lt;fct&gt;</th><th scope=col>&lt;int&gt;</th><th scope=col>&lt;chr&gt;</th><th scope=col>&lt;chr&gt;</th><th scope=col>&lt;chr&gt;</th><th scope=col>&lt;int&gt;</th></tr>\n",
       "</thead>\n",
       "<tbody>\n",
       "\t<tr><td>AD</td><td>2000</td><td>m</td><td>014 </td><td>NA</td><td>  0</td></tr>\n",
       "\t<tr><td>AD</td><td>2000</td><td>m</td><td>1524</td><td>NA</td><td>  0</td></tr>\n",
       "\t<tr><td>AD</td><td>2000</td><td>m</td><td>2534</td><td>NA</td><td>  1</td></tr>\n",
       "\t<tr><td>AD</td><td>2000</td><td>m</td><td>3544</td><td>NA</td><td>  0</td></tr>\n",
       "\t<tr><td>AD</td><td>2000</td><td>m</td><td>4554</td><td>NA</td><td>  0</td></tr>\n",
       "\t<tr><td>AD</td><td>2000</td><td>m</td><td>5564</td><td>NA</td><td>  0</td></tr>\n",
       "\t<tr><td>AD</td><td>2000</td><td>m</td><td>65  </td><td>NA</td><td>  0</td></tr>\n",
       "\t<tr><td>AE</td><td>2000</td><td>m</td><td>014 </td><td>NA</td><td>  2</td></tr>\n",
       "\t<tr><td>AE</td><td>2000</td><td>m</td><td>1524</td><td>NA</td><td>  4</td></tr>\n",
       "\t<tr><td>AE</td><td>2000</td><td>m</td><td>2534</td><td>NA</td><td>  4</td></tr>\n",
       "\t<tr><td>AE</td><td>2000</td><td>m</td><td>3544</td><td>NA</td><td>  6</td></tr>\n",
       "\t<tr><td>AE</td><td>2000</td><td>m</td><td>4554</td><td>NA</td><td>  5</td></tr>\n",
       "\t<tr><td>AE</td><td>2000</td><td>m</td><td>5564</td><td>NA</td><td> 12</td></tr>\n",
       "\t<tr><td>AE</td><td>2000</td><td>m</td><td>65  </td><td>NA</td><td> 10</td></tr>\n",
       "\t<tr><td>AE</td><td>2000</td><td>f</td><td>014 </td><td>NA</td><td>  3</td></tr>\n",
       "\t<tr><td>AE</td><td>2000</td><td>f</td><td>1524</td><td>NA</td><td> 16</td></tr>\n",
       "\t<tr><td>AE</td><td>2000</td><td>f</td><td>2534</td><td>NA</td><td>  1</td></tr>\n",
       "\t<tr><td>AE</td><td>2000</td><td>f</td><td>3544</td><td>NA</td><td>  3</td></tr>\n",
       "\t<tr><td>AE</td><td>2000</td><td>f</td><td>4554</td><td>NA</td><td>  0</td></tr>\n",
       "\t<tr><td>AE</td><td>2000</td><td>f</td><td>5564</td><td>NA</td><td>  0</td></tr>\n",
       "\t<tr><td>AE</td><td>2000</td><td>f</td><td>65  </td><td>NA</td><td>  4</td></tr>\n",
       "\t<tr><td>AF</td><td>2000</td><td>m</td><td>014 </td><td>NA</td><td> 52</td></tr>\n",
       "\t<tr><td>AF</td><td>2000</td><td>m</td><td>1524</td><td>NA</td><td>228</td></tr>\n",
       "\t<tr><td>AF</td><td>2000</td><td>m</td><td>2534</td><td>NA</td><td>183</td></tr>\n",
       "\t<tr><td>AF</td><td>2000</td><td>m</td><td>3544</td><td>NA</td><td>149</td></tr>\n",
       "\t<tr><td>AF</td><td>2000</td><td>m</td><td>4554</td><td>NA</td><td>129</td></tr>\n",
       "\t<tr><td>AF</td><td>2000</td><td>m</td><td>5564</td><td>NA</td><td> 94</td></tr>\n",
       "\t<tr><td>AF</td><td>2000</td><td>m</td><td>65  </td><td>NA</td><td> 80</td></tr>\n",
       "\t<tr><td>AF</td><td>2000</td><td>f</td><td>014 </td><td>NA</td><td> 93</td></tr>\n",
       "\t<tr><td>AF</td><td>2000</td><td>f</td><td>1524</td><td>NA</td><td>414</td></tr>\n",
       "\t<tr><td>⋮</td><td>⋮</td><td>⋮</td><td>⋮</td><td>⋮</td><td>⋮</td></tr>\n",
       "\t<tr><td>ZA</td><td>2000</td><td>f</td><td>5564</td><td>NA</td><td> 167</td></tr>\n",
       "\t<tr><td>ZA</td><td>2000</td><td>f</td><td>65  </td><td>NA</td><td>  80</td></tr>\n",
       "\t<tr><td>ZM</td><td>2000</td><td>m</td><td>014 </td><td>NA</td><td> 349</td></tr>\n",
       "\t<tr><td>ZM</td><td>2000</td><td>m</td><td>1524</td><td>NA</td><td>2175</td></tr>\n",
       "\t<tr><td>ZM</td><td>2000</td><td>m</td><td>2534</td><td>NA</td><td>2610</td></tr>\n",
       "\t<tr><td>ZM</td><td>2000</td><td>m</td><td>3544</td><td>NA</td><td>3045</td></tr>\n",
       "\t<tr><td>ZM</td><td>2000</td><td>m</td><td>4554</td><td>NA</td><td> 435</td></tr>\n",
       "\t<tr><td>ZM</td><td>2000</td><td>m</td><td>5564</td><td>NA</td><td> 261</td></tr>\n",
       "\t<tr><td>ZM</td><td>2000</td><td>m</td><td>65  </td><td>NA</td><td> 174</td></tr>\n",
       "\t<tr><td>ZM</td><td>2000</td><td>f</td><td>014 </td><td>NA</td><td> 150</td></tr>\n",
       "\t<tr><td>ZM</td><td>2000</td><td>f</td><td>1524</td><td>NA</td><td> 932</td></tr>\n",
       "\t<tr><td>ZM</td><td>2000</td><td>f</td><td>2534</td><td>NA</td><td>1118</td></tr>\n",
       "\t<tr><td>ZM</td><td>2000</td><td>f</td><td>3544</td><td>NA</td><td>1305</td></tr>\n",
       "\t<tr><td>ZM</td><td>2000</td><td>f</td><td>4554</td><td>NA</td><td> 186</td></tr>\n",
       "\t<tr><td>ZM</td><td>2000</td><td>f</td><td>5564</td><td>NA</td><td> 112</td></tr>\n",
       "\t<tr><td>ZM</td><td>2000</td><td>f</td><td>65  </td><td>NA</td><td>  75</td></tr>\n",
       "\t<tr><td>NA</td><td>2000</td><td>m</td><td>014 </td><td>NA</td><td>  18</td></tr>\n",
       "\t<tr><td>NA</td><td>2000</td><td>m</td><td>1524</td><td>NA</td><td> 269</td></tr>\n",
       "\t<tr><td>NA</td><td>2000</td><td>m</td><td>2534</td><td>NA</td><td> 874</td></tr>\n",
       "\t<tr><td>NA</td><td>2000</td><td>m</td><td>3544</td><td>NA</td><td> 665</td></tr>\n",
       "\t<tr><td>NA</td><td>2000</td><td>m</td><td>4554</td><td>NA</td><td> 300</td></tr>\n",
       "\t<tr><td>NA</td><td>2000</td><td>m</td><td>5564</td><td>NA</td><td> 147</td></tr>\n",
       "\t<tr><td>NA</td><td>2000</td><td>m</td><td>65  </td><td>NA</td><td>  81</td></tr>\n",
       "\t<tr><td>NA</td><td>2000</td><td>f</td><td>014 </td><td>NA</td><td>  16</td></tr>\n",
       "\t<tr><td>NA</td><td>2000</td><td>f</td><td>1524</td><td>NA</td><td> 352</td></tr>\n",
       "\t<tr><td>NA</td><td>2000</td><td>f</td><td>2534</td><td>NA</td><td> 654</td></tr>\n",
       "\t<tr><td>NA</td><td>2000</td><td>f</td><td>3544</td><td>NA</td><td> 348</td></tr>\n",
       "\t<tr><td>NA</td><td>2000</td><td>f</td><td>4554</td><td>NA</td><td> 161</td></tr>\n",
       "\t<tr><td>NA</td><td>2000</td><td>f</td><td>5564</td><td>NA</td><td>  76</td></tr>\n",
       "\t<tr><td>NA</td><td>2000</td><td>f</td><td>65  </td><td>NA</td><td>  52</td></tr>\n",
       "</tbody>\n",
       "</table>\n"
      ],
      "text/latex": [
       "A data.frame: 2273 × 6\n",
       "\\begin{tabular}{r|llllll}\n",
       " country & year & Sex & MinAge & MaxAge & cases\\\\\n",
       " <fct> & <int> & <chr> & <chr> & <chr> & <int>\\\\\n",
       "\\hline\n",
       "\t AD & 2000 & m & 014  & NA &   0\\\\\n",
       "\t AD & 2000 & m & 1524 & NA &   0\\\\\n",
       "\t AD & 2000 & m & 2534 & NA &   1\\\\\n",
       "\t AD & 2000 & m & 3544 & NA &   0\\\\\n",
       "\t AD & 2000 & m & 4554 & NA &   0\\\\\n",
       "\t AD & 2000 & m & 5564 & NA &   0\\\\\n",
       "\t AD & 2000 & m & 65   & NA &   0\\\\\n",
       "\t AE & 2000 & m & 014  & NA &   2\\\\\n",
       "\t AE & 2000 & m & 1524 & NA &   4\\\\\n",
       "\t AE & 2000 & m & 2534 & NA &   4\\\\\n",
       "\t AE & 2000 & m & 3544 & NA &   6\\\\\n",
       "\t AE & 2000 & m & 4554 & NA &   5\\\\\n",
       "\t AE & 2000 & m & 5564 & NA &  12\\\\\n",
       "\t AE & 2000 & m & 65   & NA &  10\\\\\n",
       "\t AE & 2000 & f & 014  & NA &   3\\\\\n",
       "\t AE & 2000 & f & 1524 & NA &  16\\\\\n",
       "\t AE & 2000 & f & 2534 & NA &   1\\\\\n",
       "\t AE & 2000 & f & 3544 & NA &   3\\\\\n",
       "\t AE & 2000 & f & 4554 & NA &   0\\\\\n",
       "\t AE & 2000 & f & 5564 & NA &   0\\\\\n",
       "\t AE & 2000 & f & 65   & NA &   4\\\\\n",
       "\t AF & 2000 & m & 014  & NA &  52\\\\\n",
       "\t AF & 2000 & m & 1524 & NA & 228\\\\\n",
       "\t AF & 2000 & m & 2534 & NA & 183\\\\\n",
       "\t AF & 2000 & m & 3544 & NA & 149\\\\\n",
       "\t AF & 2000 & m & 4554 & NA & 129\\\\\n",
       "\t AF & 2000 & m & 5564 & NA &  94\\\\\n",
       "\t AF & 2000 & m & 65   & NA &  80\\\\\n",
       "\t AF & 2000 & f & 014  & NA &  93\\\\\n",
       "\t AF & 2000 & f & 1524 & NA & 414\\\\\n",
       "\t ⋮ & ⋮ & ⋮ & ⋮ & ⋮ & ⋮\\\\\n",
       "\t ZA & 2000 & f & 5564 & NA &  167\\\\\n",
       "\t ZA & 2000 & f & 65   & NA &   80\\\\\n",
       "\t ZM & 2000 & m & 014  & NA &  349\\\\\n",
       "\t ZM & 2000 & m & 1524 & NA & 2175\\\\\n",
       "\t ZM & 2000 & m & 2534 & NA & 2610\\\\\n",
       "\t ZM & 2000 & m & 3544 & NA & 3045\\\\\n",
       "\t ZM & 2000 & m & 4554 & NA &  435\\\\\n",
       "\t ZM & 2000 & m & 5564 & NA &  261\\\\\n",
       "\t ZM & 2000 & m & 65   & NA &  174\\\\\n",
       "\t ZM & 2000 & f & 014  & NA &  150\\\\\n",
       "\t ZM & 2000 & f & 1524 & NA &  932\\\\\n",
       "\t ZM & 2000 & f & 2534 & NA & 1118\\\\\n",
       "\t ZM & 2000 & f & 3544 & NA & 1305\\\\\n",
       "\t ZM & 2000 & f & 4554 & NA &  186\\\\\n",
       "\t ZM & 2000 & f & 5564 & NA &  112\\\\\n",
       "\t ZM & 2000 & f & 65   & NA &   75\\\\\n",
       "\t NA & 2000 & m & 014  & NA &   18\\\\\n",
       "\t NA & 2000 & m & 1524 & NA &  269\\\\\n",
       "\t NA & 2000 & m & 2534 & NA &  874\\\\\n",
       "\t NA & 2000 & m & 3544 & NA &  665\\\\\n",
       "\t NA & 2000 & m & 4554 & NA &  300\\\\\n",
       "\t NA & 2000 & m & 5564 & NA &  147\\\\\n",
       "\t NA & 2000 & m & 65   & NA &   81\\\\\n",
       "\t NA & 2000 & f & 014  & NA &   16\\\\\n",
       "\t NA & 2000 & f & 1524 & NA &  352\\\\\n",
       "\t NA & 2000 & f & 2534 & NA &  654\\\\\n",
       "\t NA & 2000 & f & 3544 & NA &  348\\\\\n",
       "\t NA & 2000 & f & 4554 & NA &  161\\\\\n",
       "\t NA & 2000 & f & 5564 & NA &   76\\\\\n",
       "\t NA & 2000 & f & 65   & NA &   52\\\\\n",
       "\\end{tabular}\n"
      ],
      "text/markdown": [
       "\n",
       "A data.frame: 2273 × 6\n",
       "\n",
       "| country &lt;fct&gt; | year &lt;int&gt; | Sex &lt;chr&gt; | MinAge &lt;chr&gt; | MaxAge &lt;chr&gt; | cases &lt;int&gt; |\n",
       "|---|---|---|---|---|---|\n",
       "| AD | 2000 | m | 014  | NA |   0 |\n",
       "| AD | 2000 | m | 1524 | NA |   0 |\n",
       "| AD | 2000 | m | 2534 | NA |   1 |\n",
       "| AD | 2000 | m | 3544 | NA |   0 |\n",
       "| AD | 2000 | m | 4554 | NA |   0 |\n",
       "| AD | 2000 | m | 5564 | NA |   0 |\n",
       "| AD | 2000 | m | 65   | NA |   0 |\n",
       "| AE | 2000 | m | 014  | NA |   2 |\n",
       "| AE | 2000 | m | 1524 | NA |   4 |\n",
       "| AE | 2000 | m | 2534 | NA |   4 |\n",
       "| AE | 2000 | m | 3544 | NA |   6 |\n",
       "| AE | 2000 | m | 4554 | NA |   5 |\n",
       "| AE | 2000 | m | 5564 | NA |  12 |\n",
       "| AE | 2000 | m | 65   | NA |  10 |\n",
       "| AE | 2000 | f | 014  | NA |   3 |\n",
       "| AE | 2000 | f | 1524 | NA |  16 |\n",
       "| AE | 2000 | f | 2534 | NA |   1 |\n",
       "| AE | 2000 | f | 3544 | NA |   3 |\n",
       "| AE | 2000 | f | 4554 | NA |   0 |\n",
       "| AE | 2000 | f | 5564 | NA |   0 |\n",
       "| AE | 2000 | f | 65   | NA |   4 |\n",
       "| AF | 2000 | m | 014  | NA |  52 |\n",
       "| AF | 2000 | m | 1524 | NA | 228 |\n",
       "| AF | 2000 | m | 2534 | NA | 183 |\n",
       "| AF | 2000 | m | 3544 | NA | 149 |\n",
       "| AF | 2000 | m | 4554 | NA | 129 |\n",
       "| AF | 2000 | m | 5564 | NA |  94 |\n",
       "| AF | 2000 | m | 65   | NA |  80 |\n",
       "| AF | 2000 | f | 014  | NA |  93 |\n",
       "| AF | 2000 | f | 1524 | NA | 414 |\n",
       "| ⋮ | ⋮ | ⋮ | ⋮ | ⋮ | ⋮ |\n",
       "| ZA | 2000 | f | 5564 | NA |  167 |\n",
       "| ZA | 2000 | f | 65   | NA |   80 |\n",
       "| ZM | 2000 | m | 014  | NA |  349 |\n",
       "| ZM | 2000 | m | 1524 | NA | 2175 |\n",
       "| ZM | 2000 | m | 2534 | NA | 2610 |\n",
       "| ZM | 2000 | m | 3544 | NA | 3045 |\n",
       "| ZM | 2000 | m | 4554 | NA |  435 |\n",
       "| ZM | 2000 | m | 5564 | NA |  261 |\n",
       "| ZM | 2000 | m | 65   | NA |  174 |\n",
       "| ZM | 2000 | f | 014  | NA |  150 |\n",
       "| ZM | 2000 | f | 1524 | NA |  932 |\n",
       "| ZM | 2000 | f | 2534 | NA | 1118 |\n",
       "| ZM | 2000 | f | 3544 | NA | 1305 |\n",
       "| ZM | 2000 | f | 4554 | NA |  186 |\n",
       "| ZM | 2000 | f | 5564 | NA |  112 |\n",
       "| ZM | 2000 | f | 65   | NA |   75 |\n",
       "| NA | 2000 | m | 014  | NA |   18 |\n",
       "| NA | 2000 | m | 1524 | NA |  269 |\n",
       "| NA | 2000 | m | 2534 | NA |  874 |\n",
       "| NA | 2000 | m | 3544 | NA |  665 |\n",
       "| NA | 2000 | m | 4554 | NA |  300 |\n",
       "| NA | 2000 | m | 5564 | NA |  147 |\n",
       "| NA | 2000 | m | 65   | NA |   81 |\n",
       "| NA | 2000 | f | 014  | NA |   16 |\n",
       "| NA | 2000 | f | 1524 | NA |  352 |\n",
       "| NA | 2000 | f | 2534 | NA |  654 |\n",
       "| NA | 2000 | f | 3544 | NA |  348 |\n",
       "| NA | 2000 | f | 4554 | NA |  161 |\n",
       "| NA | 2000 | f | 5564 | NA |   76 |\n",
       "| NA | 2000 | f | 65   | NA |   52 |\n",
       "\n"
      ],
      "text/plain": [
       "     country year Sex MinAge MaxAge cases\n",
       "1    AD      2000 m   014    NA       0  \n",
       "2    AD      2000 m   1524   NA       0  \n",
       "3    AD      2000 m   2534   NA       1  \n",
       "4    AD      2000 m   3544   NA       0  \n",
       "5    AD      2000 m   4554   NA       0  \n",
       "6    AD      2000 m   5564   NA       0  \n",
       "7    AD      2000 m   65     NA       0  \n",
       "8    AE      2000 m   014    NA       2  \n",
       "9    AE      2000 m   1524   NA       4  \n",
       "10   AE      2000 m   2534   NA       4  \n",
       "11   AE      2000 m   3544   NA       6  \n",
       "12   AE      2000 m   4554   NA       5  \n",
       "13   AE      2000 m   5564   NA      12  \n",
       "14   AE      2000 m   65     NA      10  \n",
       "15   AE      2000 f   014    NA       3  \n",
       "16   AE      2000 f   1524   NA      16  \n",
       "17   AE      2000 f   2534   NA       1  \n",
       "18   AE      2000 f   3544   NA       3  \n",
       "19   AE      2000 f   4554   NA       0  \n",
       "20   AE      2000 f   5564   NA       0  \n",
       "21   AE      2000 f   65     NA       4  \n",
       "22   AF      2000 m   014    NA      52  \n",
       "23   AF      2000 m   1524   NA     228  \n",
       "24   AF      2000 m   2534   NA     183  \n",
       "25   AF      2000 m   3544   NA     149  \n",
       "26   AF      2000 m   4554   NA     129  \n",
       "27   AF      2000 m   5564   NA      94  \n",
       "28   AF      2000 m   65     NA      80  \n",
       "29   AF      2000 f   014    NA      93  \n",
       "30   AF      2000 f   1524   NA     414  \n",
       "⋮    ⋮       ⋮    ⋮   ⋮      ⋮      ⋮    \n",
       "2244 ZA      2000 f   5564   NA      167 \n",
       "2245 ZA      2000 f   65     NA       80 \n",
       "2246 ZM      2000 m   014    NA      349 \n",
       "2247 ZM      2000 m   1524   NA     2175 \n",
       "2248 ZM      2000 m   2534   NA     2610 \n",
       "2249 ZM      2000 m   3544   NA     3045 \n",
       "2250 ZM      2000 m   4554   NA      435 \n",
       "2251 ZM      2000 m   5564   NA      261 \n",
       "2252 ZM      2000 m   65     NA      174 \n",
       "2253 ZM      2000 f   014    NA      150 \n",
       "2254 ZM      2000 f   1524   NA      932 \n",
       "2255 ZM      2000 f   2534   NA     1118 \n",
       "2256 ZM      2000 f   3544   NA     1305 \n",
       "2257 ZM      2000 f   4554   NA      186 \n",
       "2258 ZM      2000 f   5564   NA      112 \n",
       "2259 ZM      2000 f   65     NA       75 \n",
       "2260 NA      2000 m   014    NA       18 \n",
       "2261 NA      2000 m   1524   NA      269 \n",
       "2262 NA      2000 m   2534   NA      874 \n",
       "2263 NA      2000 m   3544   NA      665 \n",
       "2264 NA      2000 m   4554   NA      300 \n",
       "2265 NA      2000 m   5564   NA      147 \n",
       "2266 NA      2000 m   65     NA       81 \n",
       "2267 NA      2000 f   014    NA       16 \n",
       "2268 NA      2000 f   1524   NA      352 \n",
       "2269 NA      2000 f   2534   NA      654 \n",
       "2270 NA      2000 f   3544   NA      348 \n",
       "2271 NA      2000 f   4554   NA      161 \n",
       "2272 NA      2000 f   5564   NA       76 \n",
       "2273 NA      2000 f   65     NA       52 "
      ]
     },
     "metadata": {},
     "output_type": "display_data"
    }
   ],
   "source": [
    "tb.sep"
   ]
  },
  {
   "cell_type": "code",
   "execution_count": 96,
   "metadata": {},
   "outputs": [],
   "source": [
    "temp.data <- read.csv(file  = '/Users/sahilnagpal/Downloads/weather.csv')\n",
    "temp.data <- as.tibble(temp.data)"
   ]
  },
  {
   "cell_type": "code",
   "execution_count": 97,
   "metadata": {},
   "outputs": [],
   "source": [
    "temp.data.new  <- spread(temp.data , key = element , value = value)"
   ]
  },
  {
   "cell_type": "code",
   "execution_count": 98,
   "metadata": {},
   "outputs": [
    {
     "data": {
      "text/html": [
       "<table>\n",
       "<caption>A tibble: 33 × 6</caption>\n",
       "<thead>\n",
       "\t<tr><th scope=col>id</th><th scope=col>year</th><th scope=col>month</th><th scope=col>day</th><th scope=col>TMAX</th><th scope=col>TMIN</th></tr>\n",
       "\t<tr><th scope=col>&lt;fct&gt;</th><th scope=col>&lt;int&gt;</th><th scope=col>&lt;int&gt;</th><th scope=col>&lt;int&gt;</th><th scope=col>&lt;dbl&gt;</th><th scope=col>&lt;dbl&gt;</th></tr>\n",
       "</thead>\n",
       "<tbody>\n",
       "\t<tr><td>MX17004</td><td>2010</td><td> 1</td><td>30</td><td>27.8</td><td>14.5</td></tr>\n",
       "\t<tr><td>MX17004</td><td>2010</td><td> 2</td><td> 2</td><td>27.3</td><td>14.4</td></tr>\n",
       "\t<tr><td>MX17004</td><td>2010</td><td> 2</td><td> 3</td><td>24.1</td><td>14.4</td></tr>\n",
       "\t<tr><td>MX17004</td><td>2010</td><td> 2</td><td>11</td><td>29.7</td><td>13.4</td></tr>\n",
       "\t<tr><td>MX17004</td><td>2010</td><td> 2</td><td>23</td><td>29.9</td><td>10.7</td></tr>\n",
       "\t<tr><td>MX17004</td><td>2010</td><td> 3</td><td> 5</td><td>32.1</td><td>14.2</td></tr>\n",
       "\t<tr><td>MX17004</td><td>2010</td><td> 3</td><td>10</td><td>34.5</td><td>16.8</td></tr>\n",
       "\t<tr><td>MX17004</td><td>2010</td><td> 3</td><td>16</td><td>31.1</td><td>17.6</td></tr>\n",
       "\t<tr><td>MX17004</td><td>2010</td><td> 4</td><td>27</td><td>36.3</td><td>16.7</td></tr>\n",
       "\t<tr><td>MX17004</td><td>2010</td><td> 5</td><td>27</td><td>33.2</td><td>18.2</td></tr>\n",
       "\t<tr><td>MX17004</td><td>2010</td><td> 6</td><td>17</td><td>28.0</td><td>17.5</td></tr>\n",
       "\t<tr><td>MX17004</td><td>2010</td><td> 6</td><td>29</td><td>30.1</td><td>18.0</td></tr>\n",
       "\t<tr><td>MX17004</td><td>2010</td><td> 7</td><td> 3</td><td>28.6</td><td>17.5</td></tr>\n",
       "\t<tr><td>MX17004</td><td>2010</td><td> 7</td><td>14</td><td>29.9</td><td>16.5</td></tr>\n",
       "\t<tr><td>MX17004</td><td>2010</td><td> 8</td><td> 5</td><td>29.6</td><td>15.8</td></tr>\n",
       "\t<tr><td>MX17004</td><td>2010</td><td> 8</td><td> 8</td><td>29.0</td><td>17.3</td></tr>\n",
       "\t<tr><td>MX17004</td><td>2010</td><td> 8</td><td>13</td><td>29.8</td><td>16.5</td></tr>\n",
       "\t<tr><td>MX17004</td><td>2010</td><td> 8</td><td>23</td><td>26.4</td><td>15.0</td></tr>\n",
       "\t<tr><td>MX17004</td><td>2010</td><td> 8</td><td>25</td><td>29.7</td><td>15.6</td></tr>\n",
       "\t<tr><td>MX17004</td><td>2010</td><td> 8</td><td>29</td><td>28.0</td><td>15.3</td></tr>\n",
       "\t<tr><td>MX17004</td><td>2010</td><td> 8</td><td>31</td><td>25.4</td><td>15.4</td></tr>\n",
       "\t<tr><td>MX17004</td><td>2010</td><td>10</td><td> 5</td><td>27.0</td><td>14.0</td></tr>\n",
       "\t<tr><td>MX17004</td><td>2010</td><td>10</td><td> 7</td><td>28.1</td><td>12.9</td></tr>\n",
       "\t<tr><td>MX17004</td><td>2010</td><td>10</td><td>14</td><td>29.5</td><td>13.0</td></tr>\n",
       "\t<tr><td>MX17004</td><td>2010</td><td>10</td><td>15</td><td>28.7</td><td>10.5</td></tr>\n",
       "\t<tr><td>MX17004</td><td>2010</td><td>10</td><td>28</td><td>31.2</td><td>15.0</td></tr>\n",
       "\t<tr><td>MX17004</td><td>2010</td><td>11</td><td> 2</td><td>31.3</td><td>16.3</td></tr>\n",
       "\t<tr><td>MX17004</td><td>2010</td><td>11</td><td> 4</td><td>27.2</td><td>12.0</td></tr>\n",
       "\t<tr><td>MX17004</td><td>2010</td><td>11</td><td> 5</td><td>26.3</td><td>79.0</td></tr>\n",
       "\t<tr><td>MX17004</td><td>2010</td><td>11</td><td>26</td><td>28.1</td><td>12.1</td></tr>\n",
       "\t<tr><td>MX17004</td><td>2010</td><td>11</td><td>27</td><td>27.7</td><td>14.2</td></tr>\n",
       "\t<tr><td>MX17004</td><td>2010</td><td>12</td><td> 1</td><td>29.9</td><td>13.8</td></tr>\n",
       "\t<tr><td>MX17004</td><td>2010</td><td>12</td><td> 6</td><td>27.8</td><td>10.5</td></tr>\n",
       "</tbody>\n",
       "</table>\n"
      ],
      "text/latex": [
       "A tibble: 33 × 6\n",
       "\\begin{tabular}{r|llllll}\n",
       " id & year & month & day & TMAX & TMIN\\\\\n",
       " <fct> & <int> & <int> & <int> & <dbl> & <dbl>\\\\\n",
       "\\hline\n",
       "\t MX17004 & 2010 &  1 & 30 & 27.8 & 14.5\\\\\n",
       "\t MX17004 & 2010 &  2 &  2 & 27.3 & 14.4\\\\\n",
       "\t MX17004 & 2010 &  2 &  3 & 24.1 & 14.4\\\\\n",
       "\t MX17004 & 2010 &  2 & 11 & 29.7 & 13.4\\\\\n",
       "\t MX17004 & 2010 &  2 & 23 & 29.9 & 10.7\\\\\n",
       "\t MX17004 & 2010 &  3 &  5 & 32.1 & 14.2\\\\\n",
       "\t MX17004 & 2010 &  3 & 10 & 34.5 & 16.8\\\\\n",
       "\t MX17004 & 2010 &  3 & 16 & 31.1 & 17.6\\\\\n",
       "\t MX17004 & 2010 &  4 & 27 & 36.3 & 16.7\\\\\n",
       "\t MX17004 & 2010 &  5 & 27 & 33.2 & 18.2\\\\\n",
       "\t MX17004 & 2010 &  6 & 17 & 28.0 & 17.5\\\\\n",
       "\t MX17004 & 2010 &  6 & 29 & 30.1 & 18.0\\\\\n",
       "\t MX17004 & 2010 &  7 &  3 & 28.6 & 17.5\\\\\n",
       "\t MX17004 & 2010 &  7 & 14 & 29.9 & 16.5\\\\\n",
       "\t MX17004 & 2010 &  8 &  5 & 29.6 & 15.8\\\\\n",
       "\t MX17004 & 2010 &  8 &  8 & 29.0 & 17.3\\\\\n",
       "\t MX17004 & 2010 &  8 & 13 & 29.8 & 16.5\\\\\n",
       "\t MX17004 & 2010 &  8 & 23 & 26.4 & 15.0\\\\\n",
       "\t MX17004 & 2010 &  8 & 25 & 29.7 & 15.6\\\\\n",
       "\t MX17004 & 2010 &  8 & 29 & 28.0 & 15.3\\\\\n",
       "\t MX17004 & 2010 &  8 & 31 & 25.4 & 15.4\\\\\n",
       "\t MX17004 & 2010 & 10 &  5 & 27.0 & 14.0\\\\\n",
       "\t MX17004 & 2010 & 10 &  7 & 28.1 & 12.9\\\\\n",
       "\t MX17004 & 2010 & 10 & 14 & 29.5 & 13.0\\\\\n",
       "\t MX17004 & 2010 & 10 & 15 & 28.7 & 10.5\\\\\n",
       "\t MX17004 & 2010 & 10 & 28 & 31.2 & 15.0\\\\\n",
       "\t MX17004 & 2010 & 11 &  2 & 31.3 & 16.3\\\\\n",
       "\t MX17004 & 2010 & 11 &  4 & 27.2 & 12.0\\\\\n",
       "\t MX17004 & 2010 & 11 &  5 & 26.3 & 79.0\\\\\n",
       "\t MX17004 & 2010 & 11 & 26 & 28.1 & 12.1\\\\\n",
       "\t MX17004 & 2010 & 11 & 27 & 27.7 & 14.2\\\\\n",
       "\t MX17004 & 2010 & 12 &  1 & 29.9 & 13.8\\\\\n",
       "\t MX17004 & 2010 & 12 &  6 & 27.8 & 10.5\\\\\n",
       "\\end{tabular}\n"
      ],
      "text/markdown": [
       "\n",
       "A tibble: 33 × 6\n",
       "\n",
       "| id &lt;fct&gt; | year &lt;int&gt; | month &lt;int&gt; | day &lt;int&gt; | TMAX &lt;dbl&gt; | TMIN &lt;dbl&gt; |\n",
       "|---|---|---|---|---|---|\n",
       "| MX17004 | 2010 |  1 | 30 | 27.8 | 14.5 |\n",
       "| MX17004 | 2010 |  2 |  2 | 27.3 | 14.4 |\n",
       "| MX17004 | 2010 |  2 |  3 | 24.1 | 14.4 |\n",
       "| MX17004 | 2010 |  2 | 11 | 29.7 | 13.4 |\n",
       "| MX17004 | 2010 |  2 | 23 | 29.9 | 10.7 |\n",
       "| MX17004 | 2010 |  3 |  5 | 32.1 | 14.2 |\n",
       "| MX17004 | 2010 |  3 | 10 | 34.5 | 16.8 |\n",
       "| MX17004 | 2010 |  3 | 16 | 31.1 | 17.6 |\n",
       "| MX17004 | 2010 |  4 | 27 | 36.3 | 16.7 |\n",
       "| MX17004 | 2010 |  5 | 27 | 33.2 | 18.2 |\n",
       "| MX17004 | 2010 |  6 | 17 | 28.0 | 17.5 |\n",
       "| MX17004 | 2010 |  6 | 29 | 30.1 | 18.0 |\n",
       "| MX17004 | 2010 |  7 |  3 | 28.6 | 17.5 |\n",
       "| MX17004 | 2010 |  7 | 14 | 29.9 | 16.5 |\n",
       "| MX17004 | 2010 |  8 |  5 | 29.6 | 15.8 |\n",
       "| MX17004 | 2010 |  8 |  8 | 29.0 | 17.3 |\n",
       "| MX17004 | 2010 |  8 | 13 | 29.8 | 16.5 |\n",
       "| MX17004 | 2010 |  8 | 23 | 26.4 | 15.0 |\n",
       "| MX17004 | 2010 |  8 | 25 | 29.7 | 15.6 |\n",
       "| MX17004 | 2010 |  8 | 29 | 28.0 | 15.3 |\n",
       "| MX17004 | 2010 |  8 | 31 | 25.4 | 15.4 |\n",
       "| MX17004 | 2010 | 10 |  5 | 27.0 | 14.0 |\n",
       "| MX17004 | 2010 | 10 |  7 | 28.1 | 12.9 |\n",
       "| MX17004 | 2010 | 10 | 14 | 29.5 | 13.0 |\n",
       "| MX17004 | 2010 | 10 | 15 | 28.7 | 10.5 |\n",
       "| MX17004 | 2010 | 10 | 28 | 31.2 | 15.0 |\n",
       "| MX17004 | 2010 | 11 |  2 | 31.3 | 16.3 |\n",
       "| MX17004 | 2010 | 11 |  4 | 27.2 | 12.0 |\n",
       "| MX17004 | 2010 | 11 |  5 | 26.3 | 79.0 |\n",
       "| MX17004 | 2010 | 11 | 26 | 28.1 | 12.1 |\n",
       "| MX17004 | 2010 | 11 | 27 | 27.7 | 14.2 |\n",
       "| MX17004 | 2010 | 12 |  1 | 29.9 | 13.8 |\n",
       "| MX17004 | 2010 | 12 |  6 | 27.8 | 10.5 |\n",
       "\n"
      ],
      "text/plain": [
       "   id      year month day TMAX TMIN\n",
       "1  MX17004 2010  1    30  27.8 14.5\n",
       "2  MX17004 2010  2     2  27.3 14.4\n",
       "3  MX17004 2010  2     3  24.1 14.4\n",
       "4  MX17004 2010  2    11  29.7 13.4\n",
       "5  MX17004 2010  2    23  29.9 10.7\n",
       "6  MX17004 2010  3     5  32.1 14.2\n",
       "7  MX17004 2010  3    10  34.5 16.8\n",
       "8  MX17004 2010  3    16  31.1 17.6\n",
       "9  MX17004 2010  4    27  36.3 16.7\n",
       "10 MX17004 2010  5    27  33.2 18.2\n",
       "11 MX17004 2010  6    17  28.0 17.5\n",
       "12 MX17004 2010  6    29  30.1 18.0\n",
       "13 MX17004 2010  7     3  28.6 17.5\n",
       "14 MX17004 2010  7    14  29.9 16.5\n",
       "15 MX17004 2010  8     5  29.6 15.8\n",
       "16 MX17004 2010  8     8  29.0 17.3\n",
       "17 MX17004 2010  8    13  29.8 16.5\n",
       "18 MX17004 2010  8    23  26.4 15.0\n",
       "19 MX17004 2010  8    25  29.7 15.6\n",
       "20 MX17004 2010  8    29  28.0 15.3\n",
       "21 MX17004 2010  8    31  25.4 15.4\n",
       "22 MX17004 2010 10     5  27.0 14.0\n",
       "23 MX17004 2010 10     7  28.1 12.9\n",
       "24 MX17004 2010 10    14  29.5 13.0\n",
       "25 MX17004 2010 10    15  28.7 10.5\n",
       "26 MX17004 2010 10    28  31.2 15.0\n",
       "27 MX17004 2010 11     2  31.3 16.3\n",
       "28 MX17004 2010 11     4  27.2 12.0\n",
       "29 MX17004 2010 11     5  26.3 79.0\n",
       "30 MX17004 2010 11    26  28.1 12.1\n",
       "31 MX17004 2010 11    27  27.7 14.2\n",
       "32 MX17004 2010 12     1  29.9 13.8\n",
       "33 MX17004 2010 12     6  27.8 10.5"
      ]
     },
     "metadata": {},
     "output_type": "display_data"
    }
   ],
   "source": [
    "temp.data.new"
   ]
  },
  {
   "cell_type": "code",
   "execution_count": null,
   "metadata": {},
   "outputs": [],
   "source": []
  }
 ],
 "metadata": {
  "kernelspec": {
   "display_name": "R",
   "language": "R",
   "name": "ir"
  },
  "language_info": {
   "codemirror_mode": "r",
   "file_extension": ".r",
   "mimetype": "text/x-r-source",
   "name": "R",
   "pygments_lexer": "r",
   "version": "3.6.0"
  }
 },
 "nbformat": 4,
 "nbformat_minor": 4
}
